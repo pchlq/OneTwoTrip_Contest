{
 "cells": [
  {
   "cell_type": "code",
   "execution_count": null,
   "metadata": {},
   "outputs": [],
   "source": [
    "# import os\n",
    "# os.environ['USER'] = 'root'\n",
    "# os.system('pip install ../input/xlearn/xlearn/xlearn-0.40a1/')"
   ]
  },
  {
   "cell_type": "code",
   "execution_count": 6,
   "metadata": {
    "ExecuteTime": {
     "end_time": "2019-12-16T19:41:37.472435Z",
     "start_time": "2019-12-16T19:41:37.469380Z"
    }
   },
   "outputs": [
    {
     "name": "stdout",
     "output_type": "stream",
     "text": [
      "The watermark extension is already loaded. To reload it, use:\n",
      "  %reload_ext watermark\n"
     ]
    }
   ],
   "source": [
    "%load_ext watermark"
   ]
  },
  {
   "cell_type": "code",
   "execution_count": 9,
   "metadata": {
    "ExecuteTime": {
     "end_time": "2019-12-16T19:42:30.676142Z",
     "start_time": "2019-12-16T19:42:30.617756Z"
    }
   },
   "outputs": [
    {
     "name": "stdout",
     "output_type": "stream",
     "text": [
      "CPython 3.6.9\n",
      "IPython 7.9.0\n",
      "\n",
      "numpy 1.15.4\n",
      "scipy 1.3.3\n",
      "pandas 0.23.4\n",
      "matplotlib 3.0.2\n",
      "statsmodels not installed\n",
      "sklearn 0.0\n",
      "xlearn 0.40a1\n",
      "\n",
      "compiler   : GCC 7.3.0\n",
      "system     : Linux\n",
      "release    : 5.3.0-15.1-liquorix-amd64\n",
      "machine    : x86_64\n",
      "processor  : x86_64\n",
      "CPU cores  : 4\n",
      "interpreter: 64bit\n",
      "Git hash   :\n"
     ]
    }
   ],
   "source": [
    "%watermark -v -m -p numpy,scipy,pandas,matplotlib,statsmodels,sklearn,xlearn -g"
   ]
  },
  {
   "cell_type": "code",
   "execution_count": 2,
   "metadata": {
    "ExecuteTime": {
     "end_time": "2019-12-16T21:36:08.649900Z",
     "start_time": "2019-12-16T21:36:07.969180Z"
    }
   },
   "outputs": [
    {
     "name": "stdout",
     "output_type": "stream",
     "text": [
      "Populating the interactive namespace from numpy and matplotlib\n"
     ]
    }
   ],
   "source": [
    "import gc\n",
    "import pandas as pd\n",
    "import numpy as np\n",
    "from contextlib import contextmanager\n",
    "from sklearn.metrics import roc_auc_score\n",
    "from sklearn.model_selection import cross_val_score, train_test_split, ShuffleSplit, StratifiedKFold\n",
    "import matplotlib.pyplot as plt\n",
    "import seaborn as sns\n",
    "from scipy.stats import rankdata\n",
    "from sklearn.preprocessing import MinMaxScaler, Binarizer\n",
    "import xlearn as xl\n",
    "\n",
    "import warnings\n",
    "warnings.filterwarnings('ignore')\n",
    "\n",
    "%matplotlib inline\n",
    "%pylab inline\n",
    "\n",
    "pd.set_option('display.max_columns', 80)\n",
    "\n",
    "def downcast_dtypes(df):\n",
    "    '''\n",
    "        Changes column types in the dataframe:         \n",
    "                `float64` type to `float32`\n",
    "                `int64`   type to `int32`\n",
    "    '''\n",
    "    \n",
    "    # Select columns to downcast\n",
    "    float_cols = [c for c in df if df[c].dtype == \"float64\"]\n",
    "    int_cols =   [c for c in df if df[c].dtype == \"int64\"]\n",
    "    \n",
    "    # Downcast\n",
    "    df[float_cols] = df[float_cols].astype(np.float32)\n",
    "    df[int_cols]   = df[int_cols].astype(np.int32)\n",
    "    \n",
    "    return df\n",
    "\n",
    "\n",
    "SEED = 17"
   ]
  },
  {
   "cell_type": "code",
   "execution_count": 3,
   "metadata": {
    "ExecuteTime": {
     "end_time": "2019-12-16T21:36:12.971723Z",
     "start_time": "2019-12-16T21:36:11.512583Z"
    }
   },
   "outputs": [],
   "source": [
    "df_train = pd.read_csv('onetwotrip_challenge_train.csv')\n",
    "df = downcast_dtypes(df_train)\n",
    "del df_train\n",
    "gc.collect()\n",
    "\n",
    "cols_to_rename = {'field0': 'days_from_last',\n",
    "                 'field2': 'month_buy',\n",
    "                 'field3': 'month_depart',\n",
    "                 'field4': 'order_of_buy',\n",
    "                 'field9': 'ticket_child_1y',\n",
    "                 'field11': 'hour_depart',\n",
    "                 'field15': 'total_tickets',\n",
    "                 'field16': 'days_before_depart',\n",
    "                 'field18': 'dow_buy',\n",
    "                 'field20': 'dow_depart',\n",
    "                 'field21': 'year',\n",
    "                 'field24': 'ticket_adult',\n",
    "                 'field28': 'ticket_child_4y',\n",
    "                 'field29': 'quarter'};\n",
    "\n",
    "df.rename(columns=cols_to_rename, inplace=True)"
   ]
  },
  {
   "cell_type": "code",
   "execution_count": 4,
   "metadata": {
    "ExecuteTime": {
     "end_time": "2019-12-16T21:36:14.022625Z",
     "start_time": "2019-12-16T21:36:13.896956Z"
    }
   },
   "outputs": [],
   "source": [
    "train, test = train_test_split(df.drop(['orderid', 'userid'], axis=1), stratify=df.goal1, random_state=SEED)"
   ]
  },
  {
   "cell_type": "code",
   "execution_count": 5,
   "metadata": {
    "ExecuteTime": {
     "end_time": "2019-12-16T21:36:16.007158Z",
     "start_time": "2019-12-16T21:36:16.001204Z"
    }
   },
   "outputs": [],
   "source": [
    "ytest = test.goal1\n",
    "Xtest = test.drop('goal1', axis=1).copy()"
   ]
  },
  {
   "cell_type": "code",
   "execution_count": 6,
   "metadata": {
    "ExecuteTime": {
     "end_time": "2019-12-16T21:36:17.713493Z",
     "start_time": "2019-12-16T21:36:17.705570Z"
    }
   },
   "outputs": [],
   "source": [
    "def convert_to_ffm(df, type, numerics, categories, features):\n",
    "    currentcode = len(numerics)\n",
    "    catdict = {}\n",
    "    catcodes = {}\n",
    "    \n",
    "    # Flagging categorical and numerical fields\n",
    "    for x in numerics:\n",
    "         catdict[x] = 0\n",
    "    for x in categories:\n",
    "         catdict[x] = 1\n",
    "    \n",
    "    nrows = df.shape[0]\n",
    "    ncolumns = len(features)\n",
    "    with open(str(type) + \"_ffm.txt\", \"w\") as text_file:\n",
    "    \n",
    "    # Looping over rows to convert each row to libffm format\n",
    "        for n, r in enumerate(range(nrows)):\n",
    "            datastring = \"\"\n",
    "            datarow = df.iloc[r].to_dict()\n",
    "            datastring += str(int(datarow['goal1'])) # Set Target Variable here\n",
    "             \n",
    "            # For numerical fields, we are creating a dummy field here\n",
    "            for i, x in enumerate(catdict.keys()):\n",
    "                    if(catdict[x]==0):\n",
    "                        datastring = datastring + \" \"+str(i)+\":\"+ str(i)+\":\"+ str(datarow[x])\n",
    "                    else:\n",
    "            \n",
    "            # For a new field appearing in a training example\n",
    "                         if(x not in catcodes):\n",
    "                             catcodes[x] = {}\n",
    "                             currentcode +=1\n",
    "                             catcodes[x][datarow[x]] = currentcode #encoding the feature\n",
    "\n",
    "            # For already encoded fields\n",
    "                         elif(datarow[x] not in catcodes[x]):\n",
    "                             currentcode +=1\n",
    "                             catcodes[x][datarow[x]] = currentcode #encoding the feature\n",
    "                     \n",
    "                         code = catcodes[x][datarow[x]]\n",
    "                         datastring = datastring + \" \"+str(i)+\":\"+ str(int(code))+\":1\"\n",
    "\n",
    "            datastring += '\\n'\n",
    "            text_file.write(datastring)"
   ]
  },
  {
   "cell_type": "code",
   "execution_count": 7,
   "metadata": {
    "ExecuteTime": {
     "end_time": "2019-12-16T21:36:22.107954Z",
     "start_time": "2019-12-16T21:36:22.104751Z"
    }
   },
   "outputs": [],
   "source": [
    "cat_names = ['field5', 'field7', 'field8','field10', 'field19', 'year', 'indicator_goal21', \n",
    "             'indicator_goal22', 'indicator_goal23', 'indicator_goal24', 'indicator_goal25']\n",
    "\n",
    "cont_names = ['days_from_last', 'order_of_buy', 'field1', 'field6', 'field12', 'field13', 'field14', \n",
    "              'total_tickets', 'days_before_depart', 'field17', 'field22', 'field25', 'field26', \n",
    "              'ticket_child_4y', 'ticket_child_1y', 'ticket_adult']"
   ]
  },
  {
   "cell_type": "code",
   "execution_count": 8,
   "metadata": {
    "ExecuteTime": {
     "end_time": "2019-12-16T21:37:55.687764Z",
     "start_time": "2019-12-16T21:37:16.109386Z"
    }
   },
   "outputs": [],
   "source": [
    "convert_to_ffm(df=train, type='train', numerics=cont_names, categories=cat_names, \n",
    "               features=train.drop('goal1', axis=1).columns.tolist())\n",
    "\n",
    "convert_to_ffm(df=test, type='test', numerics=cont_names, categories=cat_names, \n",
    "               features=test.drop('goal1', axis=1).columns.tolist())"
   ]
  },
  {
   "cell_type": "code",
   "execution_count": 9,
   "metadata": {
    "ExecuteTime": {
     "end_time": "2019-12-16T21:38:58.605192Z",
     "start_time": "2019-12-16T21:38:20.769223Z"
    }
   },
   "outputs": [],
   "source": [
    "ffm_model = xl.create_ffm()\n",
    "\n",
    "ffm_model.setTrain(\"train_ffm.txt\")\n",
    "param = {'task':'binary', 'lr':0.2, 'lambda':0.002, 'metric': 'auc'}\n",
    "\n",
    "# ffm_model.cv(param)\n",
    "\n",
    "# Start to train\n",
    "# The trained model will be stored in model.out\n",
    "ffm_model.fit(param, './model.out')"
   ]
  },
  {
   "cell_type": "code",
   "execution_count": null,
   "metadata": {
    "ExecuteTime": {
     "start_time": "2019-12-16T21:39:35.896Z"
    }
   },
   "outputs": [],
   "source": [
    "# Prediction task\n",
    "ffm_model.setTest(\"valid_ffm.txt\") # Test data\n",
    "ffm_model.setSigmoid() # Convert output to 0-1\n",
    "\n",
    "# Start to predict\n",
    "# The output result will be stored in output.txt\n",
    "ffm_model.predict(\"./model.out\", \"./output.txt\")"
   ]
  }
 ],
 "metadata": {
  "kernelspec": {
   "display_name": "Python 3",
   "language": "python",
   "name": "python3"
  },
  "language_info": {
   "codemirror_mode": {
    "name": "ipython",
    "version": 3
   },
   "file_extension": ".py",
   "mimetype": "text/x-python",
   "name": "python",
   "nbconvert_exporter": "python",
   "pygments_lexer": "ipython3",
   "version": "3.6.9"
  },
  "toc": {
   "base_numbering": 1,
   "nav_menu": {},
   "number_sections": true,
   "sideBar": true,
   "skip_h1_title": false,
   "title_cell": "Table of Contents",
   "title_sidebar": "Contents",
   "toc_cell": false,
   "toc_position": {},
   "toc_section_display": true,
   "toc_window_display": false
  }
 },
 "nbformat": 4,
 "nbformat_minor": 2
}
