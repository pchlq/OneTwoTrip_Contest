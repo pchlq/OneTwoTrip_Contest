{
 "cells": [
  {
   "cell_type": "markdown",
   "metadata": {
    "colab_type": "text",
    "id": "T4XxRW9AZ9Je"
   },
   "source": [
    "# \n",
    "Task 2\n",
    "\n"
   ]
  },
  {
   "cell_type": "markdown",
   "metadata": {
    "colab_type": "text",
    "id": "SvjhSKDWgNxG"
   },
   "source": [
    "# Import packages"
   ]
  },
  {
   "cell_type": "code",
   "execution_count": 0,
   "metadata": {
    "colab": {},
    "colab_type": "code",
    "id": "R-hMc2qxezty"
   },
   "outputs": [],
   "source": [
    "from fastai import *\n",
    "from fastai.tabular import *\n",
    "from fastai.callbacks import SaveModelCallback"
   ]
  },
  {
   "cell_type": "code",
   "execution_count": 0,
   "metadata": {
    "colab": {},
    "colab_type": "code",
    "id": "J49kyneygZAZ"
   },
   "outputs": [],
   "source": [
    "import pandas as pd\n",
    "import itertools\n",
    "from sklearn.metrics import roc_auc_score, roc_curve\n",
    "from sklearn.model_selection import cross_val_score, train_test_split, ShuffleSplit, StratifiedKFold\n",
    "import numpy as np\n",
    "from scipy import stats \n",
    "from scipy.special import boxcox1p\n",
    "import re\n",
    "import matplotlib.pyplot as plt\n",
    "import seaborn as sns\n",
    "\n",
    "from scipy.stats import rankdata\n",
    "from sklearn.preprocessing import MinMaxScaler, Binarizer\n",
    "\n",
    "pd.set_option('display.max_columns', None)"
   ]
  },
  {
   "cell_type": "markdown",
   "metadata": {
    "colab_type": "text",
    "id": "8XrNUPdAgBwD"
   },
   "source": [
    "# Functions"
   ]
  },
  {
   "cell_type": "code",
   "execution_count": 0,
   "metadata": {
    "colab": {},
    "colab_type": "code",
    "id": "kZVcAFhvez9Y"
   },
   "outputs": [],
   "source": [
    "def downcast_dtypes(df):\n",
    "    '''\n",
    "        Changes column types in the dataframe:         \n",
    "                `float64` type to `float32`\n",
    "                `int64`   type to `int32`\n",
    "    '''\n",
    "    \n",
    "    # Select columns to downcast\n",
    "    float_cols = [c for c in df if df[c].dtype == \"float64\"]\n",
    "    int_cols =   [c for c in df if df[c].dtype == \"int64\"]\n",
    "    \n",
    "    # Downcast\n",
    "    df[float_cols] = df[float_cols].astype(np.float32)\n",
    "    df[int_cols]   = df[int_cols].astype(np.int32)\n",
    "    \n",
    "    return df\n",
    "\n",
    "def make_real_feature(df, name, group_col='userid'):\n",
    "    \"\"\"\n",
    "    вычисление разных статистик\n",
    "    \"\"\"\n",
    "    tmp = df.groupby(group_col)[name].agg({np.mean, max, min, np.median, sum, np.var}).fillna(-1)\n",
    "    tmp.columns = [name + '_' + str(x) for x in tmp.columns]\n",
    "    tmp = tmp.reset_index()\n",
    "    return (tmp[tmp.columns[tmp.nunique()>1]])\n",
    "\n",
    "def make_harmonic_features(df, column):\n",
    "    \"\"\"\n",
    "    преобразование периодических признаков\n",
    "    \"\"\"\n",
    "    for col in column:\n",
    "        period = df[col].nunique()\n",
    "        value = df[col].copy()\n",
    "        value *= 2 * np.pi / period\n",
    "        df[col + '_cos'] = np.cos(value)\n",
    "        df[col + '_sin'] = np.sin(value)\n",
    "    return (df)\n",
    "\n",
    "SEED=17"
   ]
  },
  {
   "cell_type": "code",
   "execution_count": 130,
   "metadata": {
    "colab": {
     "base_uri": "https://localhost:8080/",
     "height": 34
    },
    "colab_type": "code",
    "id": "-3-EOpN4gJFY",
    "outputId": "b92e3a76-ff53-454f-f4d3-59550e3a93c2"
   },
   "outputs": [
    {
     "data": {
      "text/plain": [
       "(196056, 43)"
      ]
     },
     "execution_count": 130,
     "metadata": {
      "tags": []
     },
     "output_type": "execute_result"
    }
   ],
   "source": [
    "df_train = pd.read_csv('onetwotrip_challenge_train.csv')\n",
    "df = downcast_dtypes(df_train)\n",
    "del df_train\n",
    "gc.collect()\n",
    "\n",
    "cols_to_rename = {'field0': 'days_from_last',\n",
    "                 'field2': 'month_buy',\n",
    "                 'field3': 'month_depart',\n",
    "                 'field4': 'order_of_buy',\n",
    "                 'field9': 'ticket_child_1y',\n",
    "                 'field11': 'hour_depart',\n",
    "                 'field15': 'total_tickets',\n",
    "                 'field16': 'days_before_depart',\n",
    "                 'field18': 'dow_buy',\n",
    "                 'field20': 'dow_depart',\n",
    "                 'field21': 'year',\n",
    "                 'field24': 'ticket_adult',\n",
    "                 'field28': 'ticket_child_4y',\n",
    "                 'field29': 'quarter'};\n",
    "\n",
    "df.rename(columns=cols_to_rename, inplace=True)\n",
    "df.shape"
   ]
  },
  {
   "cell_type": "markdown",
   "metadata": {
    "colab_type": "text",
    "id": "2nE2DmQw8Csu"
   },
   "source": [
    "PREPROCESSING"
   ]
  },
  {
   "cell_type": "code",
   "execution_count": 131,
   "metadata": {
    "colab": {
     "base_uri": "https://localhost:8080/",
     "height": 34
    },
    "colab_type": "code",
    "id": "woT3tUej68v7",
    "outputId": "3d446e32-5936-4ac2-92ae-311d1ef74950"
   },
   "outputs": [
    {
     "data": {
      "text/plain": [
       "(196056, 47)"
      ]
     },
     "execution_count": 131,
     "metadata": {
      "tags": []
     },
     "output_type": "execute_result"
    }
   ],
   "source": [
    "df['unq'] = df.userid.map(df.groupby('userid').size())\n",
    "df['order_of_buy_invert'] = df.unq-df.order_of_buy\n",
    "\n",
    "df['diff_month'] = (df.month_depart - df.month_buy)\n",
    "df['diff_hour'] = df.field23 - df.hour_depart\n",
    "df.shape"
   ]
  },
  {
   "cell_type": "code",
   "execution_count": 132,
   "metadata": {
    "colab": {
     "base_uri": "https://localhost:8080/",
     "height": 34
    },
    "colab_type": "code",
    "id": "BaStyF0viOju",
    "outputId": "05852c82-e1be-4f52-aede-bbb21e820385"
   },
   "outputs": [
    {
     "data": {
      "text/plain": [
       "(196056, 63)"
      ]
     },
     "execution_count": 132,
     "metadata": {
      "tags": []
     },
     "output_type": "execute_result"
    }
   ],
   "source": [
    "periodical_feats = ['month_buy', 'month_depart', \n",
    "                    'hour_depart', 'dow_buy', 'dow_depart', 'quarter', 'field27', 'field23']\n",
    "\n",
    "df_new = make_harmonic_features(df, periodical_feats).copy()\n",
    "\n",
    "# to_drop = ['orderid', 'userid', 'goal21', 'goal22', 'goal23', 'goal24', 'goal25']# + periodical_feats\n",
    "\n",
    "# df_new.drop(columns=to_drop, axis=1, inplace=True)\n",
    "\n",
    "# проверка на пропущенные значения\n",
    "assert df_new.isnull().sum().sum()==0\n",
    "\n",
    "# оптимизация типа значений\n",
    "df_train = downcast_dtypes(df_new)\n",
    "del df_new\n",
    "gc.collect()\n",
    "\n",
    "df_train.shape"
   ]
  },
  {
   "cell_type": "markdown",
   "metadata": {
    "colab_type": "text",
    "id": "sBUo-aFnmlQu"
   },
   "source": [
    "# Train test split"
   ]
  },
  {
   "cell_type": "code",
   "execution_count": 133,
   "metadata": {
    "colab": {
     "base_uri": "https://localhost:8080/",
     "height": 51
    },
    "colab_type": "code",
    "id": "nKJhBE5_mWCp",
    "outputId": "bcfc48de-2965-4492-c600-f130f1213630"
   },
   "outputs": [
    {
     "name": "stdout",
     "output_type": "stream",
     "text": [
      "shape train: (147042, 63), shape test: (49014, 63)\n",
      "percent of target: train=0.022143333197317774,        test=0.02213653241930877\n"
     ]
    }
   ],
   "source": [
    "train, test = train_test_split(df_train, stratify=df_train['goal1'], random_state=SEED)\n",
    "\n",
    "print(f\"shape train: {train.shape}, shape test: {test.shape}\")\n",
    "print(f\"percent of target: train={train.goal1.sum()/len(train)},\\\n",
    "        test={test.goal1.sum()/len(test)}\")"
   ]
  },
  {
   "cell_type": "code",
   "execution_count": 0,
   "metadata": {
    "colab": {},
    "colab_type": "code",
    "id": "aGppYwl-oaNZ"
   },
   "outputs": [],
   "source": [
    "# подготовка для теста\n",
    "drop_col_test = ['goal1']\n",
    "y_test = test.goal1.copy()\n",
    "X_test = test.drop(columns=drop_col_test, axis=1)"
   ]
  },
  {
   "cell_type": "code",
   "execution_count": 91,
   "metadata": {
    "colab": {
     "base_uri": "https://localhost:8080/",
     "height": 34
    },
    "colab_type": "code",
    "id": "0IDt71y47tCY",
    "outputId": "39307776-43eb-417b-98ed-4c52ab0e14b3"
   },
   "outputs": [
    {
     "data": {
      "text/plain": [
       "143.595703125"
      ]
     },
     "execution_count": 91,
     "metadata": {
      "tags": []
     },
     "output_type": "execute_result"
    }
   ],
   "source": [
    "len(train)/1024"
   ]
  },
  {
   "cell_type": "markdown",
   "metadata": {
    "colab_type": "text",
    "id": "QG6TmMFjo61h"
   },
   "source": [
    "# fastai model"
   ]
  },
  {
   "cell_type": "code",
   "execution_count": 0,
   "metadata": {
    "colab": {},
    "colab_type": "code",
    "id": "AGW8sQ9joqZt"
   },
   "outputs": [],
   "source": [
    "cols_cos_sin = list(filter(lambda x: ('cos' in x) | ('sin' in x) , train.columns))\n",
    "\n",
    "procs = [Categorify, Normalize]\n",
    "cat_names = ['field5', 'field7', 'field8','field10', 'field19', 'year', 'indicator_goal21', \n",
    "             'indicator_goal22', 'indicator_goal23', 'indicator_goal24', 'indicator_goal25'] + periodical_feats\n",
    "\n",
    "cont_names = ['days_from_last', 'order_of_buy', 'field1', 'field6', 'field12', 'field13', 'field14', \n",
    "              'total_tickets', 'days_before_depart', 'field17', 'field22', 'field25', 'field26', \n",
    "              'ticket_child_4y', 'ticket_child_1y', 'ticket_adult', 'unq', 'order_of_buy_invert',\n",
    "              'diff_month', 'diff_hour'] + cols_cos_sin\n",
    "\n",
    "dep_var = 'goal1'"
   ]
  },
  {
   "cell_type": "code",
   "execution_count": 115,
   "metadata": {
    "colab": {
     "base_uri": "https://localhost:8080/",
     "height": 71
    },
    "colab_type": "code",
    "id": "lOqBN740oqpG",
    "outputId": "d22aca35-c27d-410c-f530-700528e1b6c2"
   },
   "outputs": [
    {
     "name": "stdout",
     "output_type": "stream",
     "text": [
      "Continuous feats:  ['days_from_last', 'order_of_buy', 'field1', 'field6', 'field12', 'field13', 'field14', 'total_tickets', 'days_before_depart', 'field17', 'field22', 'field25', 'field26', 'ticket_child_4y', 'ticket_child_1y', 'ticket_adult', 'unq', 'order_of_buy_invert', 'diff_month', 'diff_hour', 'month_buy_cos', 'month_buy_sin', 'month_depart_cos', 'month_depart_sin', 'hour_depart_cos', 'hour_depart_sin', 'dow_buy_cos', 'dow_buy_sin', 'dow_depart_cos', 'dow_depart_sin', 'quarter_cos', 'quarter_sin', 'field27_cos', 'field27_sin', 'field23_cos', 'field23_sin']\n",
      "Categorical feats:  ['field5', 'field7', 'field8', 'field10', 'field19', 'year', 'indicator_goal21', 'indicator_goal22', 'indicator_goal23', 'indicator_goal24', 'indicator_goal25']\n"
     ]
    }
   ],
   "source": [
    "data = (TabularList.from_df(train, procs=procs, cont_names=cont_names, cat_names=cat_names)\n",
    "        .split_by_idx(valid_idx=range(int(len(train)*0.9), len(train)))\n",
    "        .label_from_df(cols=dep_var)\n",
    "        .add_test(TabularList.from_df(X_test, cat_names=cat_names, cont_names=cont_names, procs=procs))\n",
    "        .databunch(bs=2500))\n",
    "\n",
    "print('Continuous feats: ', data.train_ds.cont_names)\n",
    "print('Categorical feats: ', data.train_ds.cat_names)"
   ]
  },
  {
   "cell_type": "code",
   "execution_count": 0,
   "metadata": {
    "colab": {},
    "colab_type": "code",
    "id": "392ZxZ5eoqyy"
   },
   "outputs": [],
   "source": [
    "assert len(data.train_ds.cont_names) == len(data.test_ds.cont_names)\n",
    "assert len(data.train_ds.cat_names) == len(data.test_ds.cat_names)"
   ]
  },
  {
   "cell_type": "code",
   "execution_count": 0,
   "metadata": {
    "colab": {},
    "colab_type": "code",
    "id": "_yke_gvboq6Y"
   },
   "outputs": [],
   "source": [
    "learn = tabular_learner(data, layers=[1000, 500], metrics=AUROC(), callback_fns=[ShowGraph, SaveModelCallback])"
   ]
  },
  {
   "cell_type": "code",
   "execution_count": 118,
   "metadata": {
    "colab": {
     "base_uri": "https://localhost:8080/",
     "height": 726
    },
    "colab_type": "code",
    "id": "FTGfLtOtqkRV",
    "outputId": "520e4ee3-60f8-43e6-ab27-5356d1cc7fbd"
   },
   "outputs": [
    {
     "data": {
      "text/html": [
       "<table border=\"1\" class=\"dataframe\">\n",
       "  <thead>\n",
       "    <tr style=\"text-align: left;\">\n",
       "      <th>epoch</th>\n",
       "      <th>train_loss</th>\n",
       "      <th>valid_loss</th>\n",
       "      <th>auroc</th>\n",
       "      <th>time</th>\n",
       "    </tr>\n",
       "  </thead>\n",
       "  <tbody>\n",
       "    <tr>\n",
       "      <td>0</td>\n",
       "      <td>0.447765</td>\n",
       "      <td>0.103888</td>\n",
       "      <td>0.603560</td>\n",
       "      <td>00:08</td>\n",
       "    </tr>\n",
       "    <tr>\n",
       "      <td>1</td>\n",
       "      <td>0.212858</td>\n",
       "      <td>0.103404</td>\n",
       "      <td>0.607568</td>\n",
       "      <td>00:08</td>\n",
       "    </tr>\n",
       "    <tr>\n",
       "      <td>2</td>\n",
       "      <td>0.150471</td>\n",
       "      <td>0.100290</td>\n",
       "      <td>0.616982</td>\n",
       "      <td>00:08</td>\n",
       "    </tr>\n",
       "    <tr>\n",
       "      <td>3</td>\n",
       "      <td>0.121062</td>\n",
       "      <td>0.099441</td>\n",
       "      <td>0.660209</td>\n",
       "      <td>00:07</td>\n",
       "    </tr>\n",
       "    <tr>\n",
       "      <td>4</td>\n",
       "      <td>0.110760</td>\n",
       "      <td>0.098148</td>\n",
       "      <td>0.649432</td>\n",
       "      <td>00:07</td>\n",
       "    </tr>\n",
       "    <tr>\n",
       "      <td>5</td>\n",
       "      <td>0.106038</td>\n",
       "      <td>0.100045</td>\n",
       "      <td>0.665972</td>\n",
       "      <td>00:08</td>\n",
       "    </tr>\n",
       "    <tr>\n",
       "      <td>6</td>\n",
       "      <td>0.105000</td>\n",
       "      <td>0.100001</td>\n",
       "      <td>0.658934</td>\n",
       "      <td>00:07</td>\n",
       "    </tr>\n",
       "    <tr>\n",
       "      <td>7</td>\n",
       "      <td>0.104038</td>\n",
       "      <td>0.098883</td>\n",
       "      <td>0.657229</td>\n",
       "      <td>00:07</td>\n",
       "    </tr>\n",
       "    <tr>\n",
       "      <td>8</td>\n",
       "      <td>0.100899</td>\n",
       "      <td>0.098003</td>\n",
       "      <td>0.664068</td>\n",
       "      <td>00:07</td>\n",
       "    </tr>\n",
       "    <tr>\n",
       "      <td>9</td>\n",
       "      <td>0.098589</td>\n",
       "      <td>0.097969</td>\n",
       "      <td>0.667600</td>\n",
       "      <td>00:07</td>\n",
       "    </tr>\n",
       "  </tbody>\n",
       "</table>"
      ],
      "text/plain": [
       "<IPython.core.display.HTML object>"
      ]
     },
     "metadata": {
      "tags": []
     },
     "output_type": "display_data"
    },
    {
     "data": {
      "image/png": "[encoded data removed]",
      "text/plain": [
       "<Figure size 432x288 with 1 Axes>"
      ]
     },
     "metadata": {
      "tags": []
     },
     "output_type": "display_data"
    },
    {
     "name": "stdout",
     "output_type": "stream",
     "text": [
      "Better model found at epoch 0 with valid_loss value: 0.10388781130313873.\n",
      "Better model found at epoch 1 with valid_loss value: 0.10340363532304764.\n",
      "Better model found at epoch 2 with valid_loss value: 0.10029014945030212.\n",
      "Better model found at epoch 3 with valid_loss value: 0.09944100677967072.\n",
      "Better model found at epoch 4 with valid_loss value: 0.09814808517694473.\n",
      "Better model found at epoch 8 with valid_loss value: 0.0980026051402092.\n",
      "Better model found at epoch 9 with valid_loss value: 0.09796871989965439.\n"
     ]
    }
   ],
   "source": [
    "learn.fit_one_cycle(10, 2.5e-2)"
   ]
  },
  {
   "cell_type": "code",
   "execution_count": 119,
   "metadata": {
    "colab": {
     "base_uri": "https://localhost:8080/",
     "height": 296
    },
    "colab_type": "code",
    "id": "qiH4fB8mqkX5",
    "outputId": "f5900866-3f5a-4401-a070-14b6f82f7fd1"
   },
   "outputs": [
    {
     "data": {
      "text/html": [],
      "text/plain": [
       "<IPython.core.display.HTML object>"
      ]
     },
     "metadata": {
      "tags": []
     },
     "output_type": "display_data"
    },
    {
     "name": "stdout",
     "output_type": "stream",
     "text": [
      "LR Finder is complete, type {learner_name}.recorder.plot() to see the graph.\n"
     ]
    },
    {
     "data": {
      "image/png": "[encoded data removed]",
      "text/plain": [
       "<Figure size 432x288 with 1 Axes>"
      ]
     },
     "metadata": {
      "tags": []
     },
     "output_type": "display_data"
    }
   ],
   "source": [
    "learn.lr_find()\n",
    "learn.recorder.plot()"
   ]
  },
  {
   "cell_type": "code",
   "execution_count": 120,
   "metadata": {
    "colab": {
     "base_uri": "https://localhost:8080/",
     "height": 34
    },
    "colab_type": "code",
    "id": "4uuq-Rz_t5R5",
    "outputId": "779525a0-d647-45f6-e8b6-0d6a1579c74f"
   },
   "outputs": [
    {
     "data": {
      "text/html": [],
      "text/plain": [
       "<IPython.core.display.HTML object>"
      ]
     },
     "metadata": {
      "tags": []
     },
     "output_type": "display_data"
    },
    {
     "name": "stdout",
     "output_type": "stream",
     "text": [
      "AUC tensor(0.6676)\n"
     ]
    }
   ],
   "source": [
    "def auc_score(y_score, y_true):\n",
    "    return torch.tensor(roc_auc_score(y_true,y_score[:,1]))\n",
    "    \n",
    "probs, val_labels = learn.get_preds(ds_type=DatasetType.Valid) \n",
    "# print('Error Rate', error_rate(probs, val_labels))\n",
    "print('AUC', auc_score(probs,val_labels))"
   ]
  },
  {
   "cell_type": "code",
   "execution_count": 121,
   "metadata": {
    "colab": {
     "base_uri": "https://localhost:8080/",
     "height": 311
    },
    "colab_type": "code",
    "id": "gOYiTP2duUWj",
    "outputId": "5dfaf46c-6694-46c1-d8a2-532a39858532"
   },
   "outputs": [
    {
     "data": {
      "text/html": [],
      "text/plain": [
       "<IPython.core.display.HTML object>"
      ]
     },
     "metadata": {
      "tags": []
     },
     "output_type": "display_data"
    },
    {
     "data": {
      "image/png": "[encoded data removed]",
      "text/plain": [
       "<Figure size 432x288 with 1 Axes>"
      ]
     },
     "metadata": {
      "tags": []
     },
     "output_type": "display_data"
    }
   ],
   "source": [
    "interp = ClassificationInterpretation.from_learner(learn)\n",
    "interp.plot_confusion_matrix(title='Confusion matrix')"
   ]
  },
  {
   "cell_type": "code",
   "execution_count": 122,
   "metadata": {
    "colab": {
     "base_uri": "https://localhost:8080/",
     "height": 1000
    },
    "colab_type": "code",
    "id": "ei6mIopJrrna",
    "outputId": "427d5747-300c-4533-b102-51797742a53c"
   },
   "outputs": [
    {
     "data": {
      "text/html": [
       "<table border=\"1\" class=\"dataframe\">\n",
       "  <thead>\n",
       "    <tr style=\"text-align: left;\">\n",
       "      <th>epoch</th>\n",
       "      <th>train_loss</th>\n",
       "      <th>valid_loss</th>\n",
       "      <th>auroc</th>\n",
       "      <th>time</th>\n",
       "    </tr>\n",
       "  </thead>\n",
       "  <tbody>\n",
       "    <tr>\n",
       "      <td>0</td>\n",
       "      <td>0.096750</td>\n",
       "      <td>0.097950</td>\n",
       "      <td>0.667752</td>\n",
       "      <td>00:08</td>\n",
       "    </tr>\n",
       "    <tr>\n",
       "      <td>1</td>\n",
       "      <td>0.097321</td>\n",
       "      <td>0.097946</td>\n",
       "      <td>0.667915</td>\n",
       "      <td>00:08</td>\n",
       "    </tr>\n",
       "    <tr>\n",
       "      <td>2</td>\n",
       "      <td>0.097346</td>\n",
       "      <td>0.098035</td>\n",
       "      <td>0.667824</td>\n",
       "      <td>00:07</td>\n",
       "    </tr>\n",
       "    <tr>\n",
       "      <td>3</td>\n",
       "      <td>0.097163</td>\n",
       "      <td>0.097912</td>\n",
       "      <td>0.667758</td>\n",
       "      <td>00:08</td>\n",
       "    </tr>\n",
       "    <tr>\n",
       "      <td>4</td>\n",
       "      <td>0.099367</td>\n",
       "      <td>0.097913</td>\n",
       "      <td>0.667768</td>\n",
       "      <td>00:07</td>\n",
       "    </tr>\n",
       "    <tr>\n",
       "      <td>5</td>\n",
       "      <td>0.098003</td>\n",
       "      <td>0.098671</td>\n",
       "      <td>0.667365</td>\n",
       "      <td>00:07</td>\n",
       "    </tr>\n",
       "    <tr>\n",
       "      <td>6</td>\n",
       "      <td>0.097584</td>\n",
       "      <td>0.098145</td>\n",
       "      <td>0.667285</td>\n",
       "      <td>00:07</td>\n",
       "    </tr>\n",
       "    <tr>\n",
       "      <td>7</td>\n",
       "      <td>0.097518</td>\n",
       "      <td>0.099240</td>\n",
       "      <td>0.667017</td>\n",
       "      <td>00:08</td>\n",
       "    </tr>\n",
       "    <tr>\n",
       "      <td>8</td>\n",
       "      <td>0.096974</td>\n",
       "      <td>0.099537</td>\n",
       "      <td>0.667297</td>\n",
       "      <td>00:08</td>\n",
       "    </tr>\n",
       "    <tr>\n",
       "      <td>9</td>\n",
       "      <td>0.097216</td>\n",
       "      <td>0.098157</td>\n",
       "      <td>0.667445</td>\n",
       "      <td>00:07</td>\n",
       "    </tr>\n",
       "    <tr>\n",
       "      <td>10</td>\n",
       "      <td>0.096938</td>\n",
       "      <td>0.099673</td>\n",
       "      <td>0.667803</td>\n",
       "      <td>00:07</td>\n",
       "    </tr>\n",
       "    <tr>\n",
       "      <td>11</td>\n",
       "      <td>0.097499</td>\n",
       "      <td>0.099596</td>\n",
       "      <td>0.667469</td>\n",
       "      <td>00:08</td>\n",
       "    </tr>\n",
       "    <tr>\n",
       "      <td>12</td>\n",
       "      <td>0.097506</td>\n",
       "      <td>0.098039</td>\n",
       "      <td>0.667560</td>\n",
       "      <td>00:07</td>\n",
       "    </tr>\n",
       "    <tr>\n",
       "      <td>13</td>\n",
       "      <td>0.097051</td>\n",
       "      <td>0.099963</td>\n",
       "      <td>0.667508</td>\n",
       "      <td>00:07</td>\n",
       "    </tr>\n",
       "    <tr>\n",
       "      <td>14</td>\n",
       "      <td>0.097270</td>\n",
       "      <td>0.099324</td>\n",
       "      <td>0.667227</td>\n",
       "      <td>00:07</td>\n",
       "    </tr>\n",
       "    <tr>\n",
       "      <td>15</td>\n",
       "      <td>0.098058</td>\n",
       "      <td>0.098007</td>\n",
       "      <td>0.667532</td>\n",
       "      <td>00:07</td>\n",
       "    </tr>\n",
       "    <tr>\n",
       "      <td>16</td>\n",
       "      <td>0.098462</td>\n",
       "      <td>0.097987</td>\n",
       "      <td>0.667252</td>\n",
       "      <td>00:07</td>\n",
       "    </tr>\n",
       "    <tr>\n",
       "      <td>17</td>\n",
       "      <td>0.097212</td>\n",
       "      <td>0.097963</td>\n",
       "      <td>0.667530</td>\n",
       "      <td>00:08</td>\n",
       "    </tr>\n",
       "    <tr>\n",
       "      <td>18</td>\n",
       "      <td>0.097302</td>\n",
       "      <td>0.098066</td>\n",
       "      <td>0.667352</td>\n",
       "      <td>00:07</td>\n",
       "    </tr>\n",
       "    <tr>\n",
       "      <td>19</td>\n",
       "      <td>0.097126</td>\n",
       "      <td>0.098013</td>\n",
       "      <td>0.667258</td>\n",
       "      <td>00:08</td>\n",
       "    </tr>\n",
       "  </tbody>\n",
       "</table>"
      ],
      "text/plain": [
       "<IPython.core.display.HTML object>"
      ]
     },
     "metadata": {
      "tags": []
     },
     "output_type": "display_data"
    },
    {
     "data": {
      "image/png": "[encoded data removed]",
      "text/plain": [
       "<Figure size 432x288 with 1 Axes>"
      ]
     },
     "metadata": {
      "tags": []
     },
     "output_type": "display_data"
    },
    {
     "name": "stdout",
     "output_type": "stream",
     "text": [
      "Better model found at epoch 0 with valid_loss value: 0.09794967621564865.\n",
      "Better model found at epoch 1 with valid_loss value: 0.09794627130031586.\n",
      "Better model found at epoch 3 with valid_loss value: 0.0979115292429924.\n"
     ]
    },
    {
     "data": {
      "image/png": "[encoded data removed]",
      "text/plain": [
       "<Figure size 432x288 with 1 Axes>"
      ]
     },
     "metadata": {
      "tags": []
     },
     "output_type": "display_data"
    }
   ],
   "source": [
    "learn.unfreeze()\n",
    "learn.fit_one_cycle(20, max_lr=slice(1e-06))\n",
    "\n",
    "# Analyse our model\n",
    "learn.model\n",
    "learn.recorder.plot_losses()"
   ]
  },
  {
   "cell_type": "code",
   "execution_count": 123,
   "metadata": {
    "colab": {
     "base_uri": "https://localhost:8080/",
     "height": 34
    },
    "colab_type": "code",
    "id": "_i40_Ynvrrw0",
    "outputId": "f343b4bb-eac6-471e-d112-2750be7f8e59"
   },
   "outputs": [
    {
     "data": {
      "text/html": [],
      "text/plain": [
       "<IPython.core.display.HTML object>"
      ]
     },
     "metadata": {
      "tags": []
     },
     "output_type": "display_data"
    },
    {
     "name": "stdout",
     "output_type": "stream",
     "text": [
      "AUC tensor(0.6678)\n"
     ]
    }
   ],
   "source": [
    "preds, val_labels = learn.get_preds(ds_type=DatasetType.Valid)\n",
    "print('AUC', auc_score(preds, val_labels))"
   ]
  },
  {
   "cell_type": "code",
   "execution_count": 124,
   "metadata": {
    "colab": {
     "base_uri": "https://localhost:8080/",
     "height": 311
    },
    "colab_type": "code",
    "id": "zY5grZAAzw6t",
    "outputId": "24df920b-46bb-491a-8dee-355bef7d4d82"
   },
   "outputs": [
    {
     "data": {
      "text/html": [],
      "text/plain": [
       "<IPython.core.display.HTML object>"
      ]
     },
     "metadata": {
      "tags": []
     },
     "output_type": "display_data"
    },
    {
     "data": {
      "image/png": "[encoded data removed]",
      "text/plain": [
       "<Figure size 432x288 with 1 Axes>"
      ]
     },
     "metadata": {
      "tags": []
     },
     "output_type": "display_data"
    }
   ],
   "source": [
    "interp = ClassificationInterpretation.from_learner(learn)\n",
    "interp.plot_confusion_matrix(title='Confusion matrix')"
   ]
  },
  {
   "cell_type": "code",
   "execution_count": 97,
   "metadata": {
    "colab": {
     "base_uri": "https://localhost:8080/",
     "height": 34
    },
    "colab_type": "code",
    "id": "43dsXVZUrrzm",
    "outputId": "d9f3079b-58e5-442e-830b-5a9f3f97c8cf"
   },
   "outputs": [
    {
     "data": {
      "text/plain": [
       "torch.return_types.max(values=tensor([0.9937, 0.9942, 0.9733,  ..., 0.9976, 0.9875, 0.9896]), indices=tensor([0, 0, 0,  ..., 0, 0, 0]))"
      ]
     },
     "execution_count": 97,
     "metadata": {
      "tags": []
     },
     "output_type": "execute_result"
    }
   ],
   "source": [
    "preds.max(1)"
   ]
  },
  {
   "cell_type": "code",
   "execution_count": 0,
   "metadata": {
    "colab": {},
    "colab_type": "code",
    "id": "W_9sdu1Grr2U"
   },
   "outputs": [],
   "source": []
  },
  {
   "cell_type": "code",
   "execution_count": 0,
   "metadata": {
    "colab": {},
    "colab_type": "code",
    "id": "bGvQjAYZrr5A"
   },
   "outputs": [],
   "source": []
  },
  {
   "cell_type": "code",
   "execution_count": 0,
   "metadata": {
    "colab": {},
    "colab_type": "code",
    "id": "8pZZ1O4Xrr_f"
   },
   "outputs": [],
   "source": []
  },
  {
   "cell_type": "code",
   "execution_count": 0,
   "metadata": {
    "colab": {},
    "colab_type": "code",
    "id": "LZijE0HpqkbI"
   },
   "outputs": [],
   "source": []
  },
  {
   "cell_type": "code",
   "execution_count": 0,
   "metadata": {
    "colab": {
     "base_uri": "https://localhost:8080/",
     "height": 51
    },
    "colab_type": "code",
    "id": "Mvk9zpSl687K",
    "outputId": "b9e9dbfd-8696-494c-d218-6a384898e716"
   },
   "outputs": [
    {
     "name": "stdout",
     "output_type": "stream",
     "text": [
      "Size of train:  (196056, 43)\n",
      "Size of test:  (455011, 37)\n"
     ]
    }
   ],
   "source": [
    "# dt_train = {'orderid': np.uint32, 'userid': object, 'field0': np.uint16, \n",
    "#          'field1': np.float32, 'field2': 'category', 'field3': 'category' , \n",
    "#          'field4': np.uint16, 'field5': 'category', 'field6': np.uint16, \n",
    "#          'field7': 'category', 'field8': 'category', 'field9': 'category', \n",
    "#          'field10': 'category', 'field11': 'category', 'field12': np.uint16, \n",
    "#          'field13': np.uint16, 'field14': np.float16, 'field15': np.uint8, \n",
    "#          'field16': np.uint16, 'field17': np.uint16, 'field18': 'category',\n",
    "#          'field19': np.uint16, 'field20': 'category', 'field21': 'category',\n",
    "#          'field22': np.uint16, 'field23': 'category', 'field24': np.uint16,\n",
    "#          'field25': np.uint16, 'field26': np.uint16, 'field27': 'category',\n",
    "#          'field28': np.uint16, 'field29': 'category', 'indicator_goal21': 'category',\n",
    "#          'indicator_goal22': 'category', 'indicator_goal23': 'category', 'indicator_goal24': 'category',\n",
    "#          'indicator_goal25': 'category', 'goal21': 'category', 'goal22': 'category', 'goal23': 'category',\n",
    "#          'goal24': 'category', 'goal25': 'category', 'goal1': 'category'}\n",
    "\n",
    "# dt_test = dict(itertools.islice(dt_train.items(), 37))\n",
    "\n",
    "# df = pd.read_csv('onetwotrip_challenge_train.csv', usecols=dt_train.keys(), dtype=dt_train)\n",
    "# dft = pd.read_csv('onetwotrip_challenge_test.csv', usecols=dt_test.keys(), dtype=dt_test)\n",
    "\n",
    "# th=df.shape[0]\n",
    "# print('Size of train: ', df.shape)\n",
    "# print('Size of test: ', dft.shape)"
   ]
  },
  {
   "cell_type": "code",
   "execution_count": 0,
   "metadata": {
    "colab": {
     "base_uri": "https://localhost:8080/",
     "height": 34
    },
    "colab_type": "code",
    "id": "ruwxygP1689w",
    "outputId": "24d71d98-9bf2-4df8-b469-e7d21ceafaa5"
   },
   "outputs": [
    {
     "data": {
      "text/plain": [
       "(651067, 37)"
      ]
     },
     "execution_count": 20,
     "metadata": {
      "tags": []
     },
     "output_type": "execute_result"
    }
   ],
   "source": [
    "dfall = pd.concat([df[dft.columns], dft], axis=0)\n",
    "del dft\n",
    "dfall.shape"
   ]
  },
  {
   "cell_type": "code",
   "execution_count": 0,
   "metadata": {
    "colab": {},
    "colab_type": "code",
    "id": "8k04ZkIX69C0"
   },
   "outputs": [],
   "source": [
    "# Categorical\n",
    "\n",
    "# frequency encoding\n",
    "fencoding = dfall.groupby('userid').size()\n",
    "# fencoding = (fencoding - fencoding.min()) / (fencoding.max()-fencoding.min())\n",
    "dfall['user_enc'] = dfall.userid.map(fencoding)\n",
    "\n",
    "# конкатенация\n",
    "# dfall['f11_27'] = dfall['field11'].astype('str') + '_' + dfall['field27'].astype('str')\n",
    "# dfall['f11_27'] = dfall['f11_27'].astype('category').cat.codes\n",
    "\n",
    "# бинаризируем периоды\n",
    "bin_d={'field11': ['1', '2', '3', '4', '5', '6', '7'], \n",
    "        'field3': ['2', '3', '4', '5'],\n",
    "        'field19': ['1', '2', '3', '4', '5'],\n",
    "        'field2': ['1', '2', '3', '4', '5'], \n",
    "        'field27': ['1', '3']}"
   ]
  },
  {
   "cell_type": "code",
   "execution_count": 0,
   "metadata": {
    "colab": {
     "base_uri": "https://localhost:8080/",
     "height": 85
    },
    "colab_type": "code",
    "id": "IMYpFUZa69Ft",
    "outputId": "ad5ecd6e-a0ae-413c-9580-9d1ad7cc20db"
   },
   "outputs": [
    {
     "name": "stdout",
     "output_type": "stream",
     "text": [
      "\n",
      "Skew in numerical features: \n",
      "\n",
      "There are 0 skewed numerical features to Box Cox transform Index([], dtype='object')\n"
     ]
    }
   ],
   "source": [
    "# Real numbers\n",
    "\n",
    "# бинаризируем от нуля\n",
    "binarizer = Binarizer().fit(dfall[['field1', 'field14']])\n",
    "xbin=binarizer.transform(dfall[['field1', 'field14']])\n",
    "dfall.join(pd.DataFrame(xbin.astype('int'), columns=['bin_1', 'bin_14']))\n",
    "\n",
    "\n",
    "# Box Cox Transformation of (highly) skewed features\n",
    "num_col = dfall.select_dtypes('float').columns\n",
    "skewed_feats = dfall[num_col].apply(lambda x: stats.skew(x)).sort_values(ascending=False)\n",
    "print(\"\\nSkew in numerical features: \\n\")\n",
    "skewness = pd.DataFrame({'Skew': skewed_feats})\n",
    "skewness = skewness[abs(skewness) > 0.75]\n",
    "print(f\"There are {skewness.shape[0]} skewed numerical features to Box Cox transform {skewness.index}\")\n",
    "skewed_features = skewness.index\n",
    "lam = 0.15\n",
    "for feat in skewed_features:\n",
    "    dfall[feat] = boxcox1p(dfall[feat], lam)"
   ]
  },
  {
   "cell_type": "code",
   "execution_count": 0,
   "metadata": {
    "colab": {},
    "colab_type": "code",
    "id": "4fpqaPdy69IQ"
   },
   "outputs": [],
   "source": [
    "# Normalize count of available indicators\n",
    "dfall['indicator_cnt'] = dfall[list(filter(lambda x: 'indicator' in x, dfall.columns))]\\\n",
    "                         .apply(lambda x: np.sum(x.astype(np.uint8)), axis=1).astype(np.uint8)"
   ]
  },
  {
   "cell_type": "code",
   "execution_count": 0,
   "metadata": {
    "colab": {},
    "colab_type": "code",
    "id": "pU1Nz1mv69Nm"
   },
   "outputs": [],
   "source": [
    "# Train test split\n",
    "train = dfall[:th].copy()\n",
    "test = dfall[th:].copy()\n",
    "\n",
    "del dfall"
   ]
  },
  {
   "cell_type": "code",
   "execution_count": 0,
   "metadata": {
    "colab": {},
    "colab_type": "code",
    "id": "rKwCXKecBxSh"
   },
   "outputs": [],
   "source": [
    "train = train.join(df.goal1)"
   ]
  },
  {
   "cell_type": "code",
   "execution_count": 0,
   "metadata": {
    "colab": {},
    "colab_type": "code",
    "id": "rV0kgIuV69Qq"
   },
   "outputs": [],
   "source": []
  },
  {
   "cell_type": "code",
   "execution_count": 0,
   "metadata": {
    "colab": {},
    "colab_type": "code",
    "id": "PZi_T_oi69TQ"
   },
   "outputs": [],
   "source": []
  },
  {
   "cell_type": "code",
   "execution_count": 0,
   "metadata": {
    "colab": {},
    "colab_type": "code",
    "id": "T4DG79tb69WZ"
   },
   "outputs": [],
   "source": [
    "\n"
   ]
  },
  {
   "cell_type": "code",
   "execution_count": 0,
   "metadata": {
    "colab": {},
    "colab_type": "code",
    "id": "NYLi2x0J69ZP"
   },
   "outputs": [],
   "source": []
  },
  {
   "cell_type": "markdown",
   "metadata": {
    "colab_type": "text",
    "id": "HZnGp6WbdwiO"
   },
   "source": [
    "# Import"
   ]
  },
  {
   "cell_type": "code",
   "execution_count": 126,
   "metadata": {
    "colab": {
     "base_uri": "https://localhost:8080/",
     "height": 340
    },
    "colab_type": "code",
    "id": "s8a6EBnMd6qg",
    "outputId": "ee08d391-db12-4358-dae6-0af5d92757ef"
   },
   "outputs": [
    {
     "name": "stdout",
     "output_type": "stream",
     "text": [
      "Collecting h2o\n",
      "\u001b[?25l  Downloading https://files.pythonhosted.org/packages/75/4a/6fd8e7f60c8b5401852a73fc48bccf8a97e7a65d1d748bd1ecc7abcf3bd2/h2o-3.26.0.11.tar.gz (123.7MB)\n",
      "\u001b[K     |████████████████████████████████| 123.7MB 96kB/s \n",
      "\u001b[?25hRequirement already satisfied, skipping upgrade: requests in /usr/local/lib/python3.6/dist-packages (from h2o) (2.21.0)\n",
      "Requirement already satisfied, skipping upgrade: tabulate in /usr/local/lib/python3.6/dist-packages (from h2o) (0.8.6)\n",
      "Requirement already satisfied, skipping upgrade: future in /usr/local/lib/python3.6/dist-packages (from h2o) (0.16.0)\n",
      "Collecting colorama>=0.3.8\n",
      "  Downloading https://files.pythonhosted.org/packages/c9/dc/45cdef1b4d119eb96316b3117e6d5708a08029992b2fee2c143c7a0a5cc5/colorama-0.4.3-py2.py3-none-any.whl\n",
      "Requirement already satisfied, skipping upgrade: chardet<3.1.0,>=3.0.2 in /usr/local/lib/python3.6/dist-packages (from requests->h2o) (3.0.4)\n",
      "Requirement already satisfied, skipping upgrade: idna<2.9,>=2.5 in /usr/local/lib/python3.6/dist-packages (from requests->h2o) (2.8)\n",
      "Requirement already satisfied, skipping upgrade: certifi>=2017.4.17 in /usr/local/lib/python3.6/dist-packages (from requests->h2o) (2019.11.28)\n",
      "Requirement already satisfied, skipping upgrade: urllib3<1.25,>=1.21.1 in /usr/local/lib/python3.6/dist-packages (from requests->h2o) (1.24.3)\n",
      "Building wheels for collected packages: h2o\n",
      "  Building wheel for h2o (setup.py) ... \u001b[?25l\u001b[?25hdone\n",
      "  Created wheel for h2o: filename=h2o-3.26.0.11-py2.py3-none-any.whl size=123721708 sha256=954234042c7eb2c44e855fef17013c22dad302835e2f9034007dcbe63a09f8a7\n",
      "  Stored in directory: /root/.cache/pip/wheels/71/e6/ed/fb9be80ae2eb0bef9deada74fc370b2532f578d8b00bc1a8fb\n",
      "Successfully built h2o\n",
      "Installing collected packages: colorama, h2o\n",
      "Successfully installed colorama-0.4.3 h2o-3.26.0.11\n"
     ]
    }
   ],
   "source": [
    "!pip install -U h2o"
   ]
  },
  {
   "cell_type": "code",
   "execution_count": 0,
   "metadata": {
    "ExecuteTime": {
     "end_time": "2019-11-25T19:39:27.492153Z",
     "start_time": "2019-11-25T19:39:27.487127Z"
    },
    "colab": {},
    "colab_type": "code",
    "id": "-9juI-m0YPR4"
   },
   "outputs": [],
   "source": [
    "import h2o\n",
    "from h2o.automl import H2OAutoML"
   ]
  },
  {
   "cell_type": "code",
   "execution_count": 0,
   "metadata": {
    "colab": {},
    "colab_type": "code",
    "id": "KjUeN3G3o5yx"
   },
   "outputs": [],
   "source": [
    "# h2o.cluster().show_status()"
   ]
  },
  {
   "cell_type": "code",
   "execution_count": 129,
   "metadata": {
    "ExecuteTime": {
     "end_time": "2019-11-25T19:40:30.905674Z",
     "start_time": "2019-11-25T19:40:27.567130Z"
    },
    "colab": {
     "base_uri": "https://localhost:8080/",
     "height": 528
    },
    "colab_type": "code",
    "id": "tLc1YpmFYPR8",
    "outputId": "85140831-2489-47b4-b3c9-7ed9ad138e3e"
   },
   "outputs": [
    {
     "name": "stdout",
     "output_type": "stream",
     "text": [
      "Checking whether there is an H2O instance running at http://localhost:54321 ..... not found.\n",
      "Attempting to start a local H2O server...\n",
      "  Java Version: openjdk version \"11.0.4\" 2019-07-16; OpenJDK Runtime Environment (build 11.0.4+11-post-Ubuntu-1ubuntu218.04.3); OpenJDK 64-Bit Server VM (build 11.0.4+11-post-Ubuntu-1ubuntu218.04.3, mixed mode, sharing)\n",
      "  Starting server from /usr/local/lib/python3.6/dist-packages/h2o/backend/bin/h2o.jar\n",
      "  Ice root: /tmp/tmpkiwdptia\n",
      "  JVM stdout: /tmp/tmpkiwdptia/h2o_unknownUser_started_from_python.out\n",
      "  JVM stderr: /tmp/tmpkiwdptia/h2o_unknownUser_started_from_python.err\n",
      "  Server is running at http://127.0.0.1:54321\n",
      "Connecting to H2O server at http://127.0.0.1:54321 ... successful.\n"
     ]
    },
    {
     "data": {
      "text/html": [
       "<div style=\"overflow:auto\"><table style=\"width:50%\"><tr><td>H2O cluster uptime:</td>\n",
       "<td>02 secs</td></tr>\n",
       "<tr><td>H2O cluster timezone:</td>\n",
       "<td>Etc/UTC</td></tr>\n",
       "<tr><td>H2O data parsing timezone:</td>\n",
       "<td>UTC</td></tr>\n",
       "<tr><td>H2O cluster version:</td>\n",
       "<td>3.26.0.11</td></tr>\n",
       "<tr><td>H2O cluster version age:</td>\n",
       "<td>9 days </td></tr>\n",
       "<tr><td>H2O cluster name:</td>\n",
       "<td>H2O_from_python_unknownUser_6nsvue</td></tr>\n",
       "<tr><td>H2O cluster total nodes:</td>\n",
       "<td>1</td></tr>\n",
       "<tr><td>H2O cluster free memory:</td>\n",
       "<td>2.938 Gb</td></tr>\n",
       "<tr><td>H2O cluster total cores:</td>\n",
       "<td>2</td></tr>\n",
       "<tr><td>H2O cluster allowed cores:</td>\n",
       "<td>2</td></tr>\n",
       "<tr><td>H2O cluster status:</td>\n",
       "<td>accepting new members, healthy</td></tr>\n",
       "<tr><td>H2O connection url:</td>\n",
       "<td>http://127.0.0.1:54321</td></tr>\n",
       "<tr><td>H2O connection proxy:</td>\n",
       "<td>{'http': None, 'https': None}</td></tr>\n",
       "<tr><td>H2O internal security:</td>\n",
       "<td>False</td></tr>\n",
       "<tr><td>H2O API Extensions:</td>\n",
       "<td>Amazon S3, XGBoost, Algos, AutoML, Core V3, TargetEncoder, Core V4</td></tr>\n",
       "<tr><td>Python version:</td>\n",
       "<td>3.6.9 final</td></tr></table></div>"
      ],
      "text/plain": [
       "--------------------------  ------------------------------------------------------------------\n",
       "H2O cluster uptime:         02 secs\n",
       "H2O cluster timezone:       Etc/UTC\n",
       "H2O data parsing timezone:  UTC\n",
       "H2O cluster version:        3.26.0.11\n",
       "H2O cluster version age:    9 days\n",
       "H2O cluster name:           H2O_from_python_unknownUser_6nsvue\n",
       "H2O cluster total nodes:    1\n",
       "H2O cluster free memory:    2.938 Gb\n",
       "H2O cluster total cores:    2\n",
       "H2O cluster allowed cores:  2\n",
       "H2O cluster status:         accepting new members, healthy\n",
       "H2O connection url:         http://127.0.0.1:54321\n",
       "H2O connection proxy:       {'http': None, 'https': None}\n",
       "H2O internal security:      False\n",
       "H2O API Extensions:         Amazon S3, XGBoost, Algos, AutoML, Core V3, TargetEncoder, Core V4\n",
       "Python version:             3.6.9 final\n",
       "--------------------------  ------------------------------------------------------------------"
      ]
     },
     "metadata": {
      "tags": []
     },
     "output_type": "display_data"
    }
   ],
   "source": [
    "h2o.init()"
   ]
  },
  {
   "cell_type": "code",
   "execution_count": 0,
   "metadata": {
    "ExecuteTime": {
     "end_time": "2019-11-25T19:44:40.044231Z",
     "start_time": "2019-11-25T19:44:32.349592Z"
    },
    "colab": {
     "base_uri": "https://localhost:8080/",
     "height": 51
    },
    "colab_type": "code",
    "id": "G4UHhcBwYPSA",
    "outputId": "0d3345a2-4d2c-4eb7-d500-383886cc6f43"
   },
   "outputs": [
    {
     "name": "stdout",
     "output_type": "stream",
     "text": [
      "Parse progress: |█████████████████████████████████████████████████████████| 100%\n",
      "Parse progress: |█████████████████████████████████████████████████████████| 100%\n"
     ]
    }
   ],
   "source": [
    "# train = h2o.import_file('onetwotrip_challenge_train.csv')\n",
    "# test = h2o.import_file('ottrip/onetwotrip_challenge_test.csv')\n",
    "\n",
    "# train = h2o.import_file('train1.csv')\n",
    "# test = h2o.import_file('test1.csv')"
   ]
  },
  {
   "cell_type": "code",
   "execution_count": 0,
   "metadata": {
    "ExecuteTime": {
     "end_time": "2019-11-25T19:45:03.459343Z",
     "start_time": "2019-11-25T19:45:03.302360Z"
    },
    "colab": {
     "base_uri": "https://localhost:8080/",
     "height": 270
    },
    "colab_type": "code",
    "id": "SgPJ6Z0iYPSC",
    "outputId": "c80fcf69-ab23-4b77-ba1a-002b20343c9e",
    "scrolled": true
   },
   "outputs": [
    {
     "data": {
      "text/html": [
       "<table>\n",
       "<thead>\n",
       "<tr><th style=\"text-align: right;\">  field0</th><th style=\"text-align: right;\">     field1</th><th style=\"text-align: right;\">  field2</th><th style=\"text-align: right;\">  field3</th><th style=\"text-align: right;\">  field4</th><th style=\"text-align: right;\">  field5</th><th style=\"text-align: right;\">  field6</th><th style=\"text-align: right;\">  field7</th><th style=\"text-align: right;\">  field8</th><th style=\"text-align: right;\">  field9</th><th style=\"text-align: right;\">  field10</th><th style=\"text-align: right;\">  field11</th><th style=\"text-align: right;\">  field12</th><th style=\"text-align: right;\">  field13</th><th style=\"text-align: right;\">  field14</th><th style=\"text-align: right;\">  field15</th><th style=\"text-align: right;\">  field16</th><th style=\"text-align: right;\">  field17</th><th style=\"text-align: right;\">  field18</th><th style=\"text-align: right;\">  field19</th><th style=\"text-align: right;\">  field20</th><th style=\"text-align: right;\">  field21</th><th style=\"text-align: right;\">  field22</th><th style=\"text-align: right;\">  field23</th><th style=\"text-align: right;\">  field24</th><th style=\"text-align: right;\">  field25</th><th style=\"text-align: right;\">  field26</th><th style=\"text-align: right;\">  field27</th><th style=\"text-align: right;\">  field28</th><th style=\"text-align: right;\">  field29</th><th style=\"text-align: right;\">  indicator_goal21</th><th style=\"text-align: right;\">  indicator_goal22</th><th style=\"text-align: right;\">  indicator_goal23</th><th style=\"text-align: right;\">  indicator_goal24</th><th style=\"text-align: right;\">  indicator_goal25</th><th style=\"text-align: right;\">  user_enc</th><th style=\"text-align: right;\">  f11_27</th><th style=\"text-align: right;\">  f_11</th><th style=\"text-align: right;\">  f_3</th><th style=\"text-align: right;\">  f_19</th><th style=\"text-align: right;\">  f_2</th><th style=\"text-align: right;\">  f_27</th><th style=\"text-align: right;\">  indicator_cnt</th><th style=\"text-align: right;\">  goal1</th></tr>\n",
       "</thead>\n",
       "<tbody>\n",
       "<tr><td style=\"text-align: right;\">       0</td><td style=\"text-align: right;\">-0.626508  </td><td style=\"text-align: right;\">      11</td><td style=\"text-align: right;\">      12</td><td style=\"text-align: right;\">       1</td><td style=\"text-align: right;\">       1</td><td style=\"text-align: right;\">       0</td><td style=\"text-align: right;\">       1</td><td style=\"text-align: right;\">       1</td><td style=\"text-align: right;\">       0</td><td style=\"text-align: right;\">        0</td><td style=\"text-align: right;\">        9</td><td style=\"text-align: right;\">        5</td><td style=\"text-align: right;\">       20</td><td style=\"text-align: right;\"> -0.661  </td><td style=\"text-align: right;\">        1</td><td style=\"text-align: right;\">        4</td><td style=\"text-align: right;\">        1</td><td style=\"text-align: right;\">        4</td><td style=\"text-align: right;\">        1</td><td style=\"text-align: right;\">        1</td><td style=\"text-align: right;\">        1</td><td style=\"text-align: right;\">        1</td><td style=\"text-align: right;\">       15</td><td style=\"text-align: right;\">        1</td><td style=\"text-align: right;\">        1</td><td style=\"text-align: right;\">        2</td><td style=\"text-align: right;\">        1</td><td style=\"text-align: right;\">        0</td><td style=\"text-align: right;\">        4</td><td style=\"text-align: right;\">                 1</td><td style=\"text-align: right;\">                 1</td><td style=\"text-align: right;\">                 0</td><td style=\"text-align: right;\">                 1</td><td style=\"text-align: right;\">                 1</td><td style=\"text-align: right;\">  0.624448</td><td style=\"text-align: right;\">     161</td><td style=\"text-align: right;\">     0</td><td style=\"text-align: right;\">    0</td><td style=\"text-align: right;\">     0</td><td style=\"text-align: right;\">    0</td><td style=\"text-align: right;\">     1</td><td style=\"text-align: right;\">            0.8</td><td style=\"text-align: right;\">      0</td></tr>\n",
       "<tr><td style=\"text-align: right;\">     144</td><td style=\"text-align: right;\">-0.393794  </td><td style=\"text-align: right;\">       5</td><td style=\"text-align: right;\">       7</td><td style=\"text-align: right;\">       2</td><td style=\"text-align: right;\">       0</td><td style=\"text-align: right;\">       0</td><td style=\"text-align: right;\">       2</td><td style=\"text-align: right;\">       1</td><td style=\"text-align: right;\">       0</td><td style=\"text-align: right;\">        0</td><td style=\"text-align: right;\">       21</td><td style=\"text-align: right;\">      125</td><td style=\"text-align: right;\">        3</td><td style=\"text-align: right;\"> -0.101  </td><td style=\"text-align: right;\">        1</td><td style=\"text-align: right;\">       57</td><td style=\"text-align: right;\">        1</td><td style=\"text-align: right;\">        5</td><td style=\"text-align: right;\">        1</td><td style=\"text-align: right;\">        6</td><td style=\"text-align: right;\">        2</td><td style=\"text-align: right;\">      121</td><td style=\"text-align: right;\">       15</td><td style=\"text-align: right;\">        1</td><td style=\"text-align: right;\">       41</td><td style=\"text-align: right;\">        3</td><td style=\"text-align: right;\">        1</td><td style=\"text-align: right;\">        0</td><td style=\"text-align: right;\">        2</td><td style=\"text-align: right;\">                 1</td><td style=\"text-align: right;\">                 1</td><td style=\"text-align: right;\">                 0</td><td style=\"text-align: right;\">                 1</td><td style=\"text-align: right;\">                 0</td><td style=\"text-align: right;\">  0.624936</td><td style=\"text-align: right;\">      91</td><td style=\"text-align: right;\">     0</td><td style=\"text-align: right;\">    0</td><td style=\"text-align: right;\">     0</td><td style=\"text-align: right;\">    1</td><td style=\"text-align: right;\">     1</td><td style=\"text-align: right;\">            0.6</td><td style=\"text-align: right;\">      0</td></tr>\n",
       "<tr><td style=\"text-align: right;\">     134</td><td style=\"text-align: right;\">-0.548937  </td><td style=\"text-align: right;\">       2</td><td style=\"text-align: right;\">       3</td><td style=\"text-align: right;\">       2</td><td style=\"text-align: right;\">       0</td><td style=\"text-align: right;\">       0</td><td style=\"text-align: right;\">       1</td><td style=\"text-align: right;\">       1</td><td style=\"text-align: right;\">       0</td><td style=\"text-align: right;\">        1</td><td style=\"text-align: right;\">        7</td><td style=\"text-align: right;\">        4</td><td style=\"text-align: right;\">        3</td><td style=\"text-align: right;\"> -0.661  </td><td style=\"text-align: right;\">        1</td><td style=\"text-align: right;\">        4</td><td style=\"text-align: right;\">        1</td><td style=\"text-align: right;\">        2</td><td style=\"text-align: right;\">        3</td><td style=\"text-align: right;\">        6</td><td style=\"text-align: right;\">        2</td><td style=\"text-align: right;\">       17</td><td style=\"text-align: right;\">       14</td><td style=\"text-align: right;\">        1</td><td style=\"text-align: right;\">        1</td><td style=\"text-align: right;\">       11</td><td style=\"text-align: right;\">        7</td><td style=\"text-align: right;\">        0</td><td style=\"text-align: right;\">        1</td><td style=\"text-align: right;\">                 1</td><td style=\"text-align: right;\">                 1</td><td style=\"text-align: right;\">                 0</td><td style=\"text-align: right;\">                 1</td><td style=\"text-align: right;\">                 1</td><td style=\"text-align: right;\">  0.624936</td><td style=\"text-align: right;\">     153</td><td style=\"text-align: right;\">     1</td><td style=\"text-align: right;\">    1</td><td style=\"text-align: right;\">     0</td><td style=\"text-align: right;\">    1</td><td style=\"text-align: right;\">     0</td><td style=\"text-align: right;\">            0.8</td><td style=\"text-align: right;\">      0</td></tr>\n",
       "<tr><td style=\"text-align: right;\">       0</td><td style=\"text-align: right;\">-0.238651  </td><td style=\"text-align: right;\">      10</td><td style=\"text-align: right;\">      11</td><td style=\"text-align: right;\">       1</td><td style=\"text-align: right;\">       1</td><td style=\"text-align: right;\">       3</td><td style=\"text-align: right;\">       2</td><td style=\"text-align: right;\">       1</td><td style=\"text-align: right;\">       0</td><td style=\"text-align: right;\">        0</td><td style=\"text-align: right;\">       19</td><td style=\"text-align: right;\">       12</td><td style=\"text-align: right;\">        3</td><td style=\"text-align: right;\"> -0.5215 </td><td style=\"text-align: right;\">        2</td><td style=\"text-align: right;\">       22</td><td style=\"text-align: right;\">        1</td><td style=\"text-align: right;\">        3</td><td style=\"text-align: right;\">        3</td><td style=\"text-align: right;\">        4</td><td style=\"text-align: right;\">        1</td><td style=\"text-align: right;\">       46</td><td style=\"text-align: right;\">       12</td><td style=\"text-align: right;\">        2</td><td style=\"text-align: right;\">       18</td><td style=\"text-align: right;\">        1</td><td style=\"text-align: right;\">        1</td><td style=\"text-align: right;\">        0</td><td style=\"text-align: right;\">        4</td><td style=\"text-align: right;\">                 1</td><td style=\"text-align: right;\">                 1</td><td style=\"text-align: right;\">                 0</td><td style=\"text-align: right;\">                 1</td><td style=\"text-align: right;\">                 1</td><td style=\"text-align: right;\">  0.625423</td><td style=\"text-align: right;\">      70</td><td style=\"text-align: right;\">     0</td><td style=\"text-align: right;\">    0</td><td style=\"text-align: right;\">     0</td><td style=\"text-align: right;\">    0</td><td style=\"text-align: right;\">     1</td><td style=\"text-align: right;\">            0.8</td><td style=\"text-align: right;\">      0</td></tr>\n",
       "<tr><td style=\"text-align: right;\">       0</td><td style=\"text-align: right;\">-0.704079  </td><td style=\"text-align: right;\">       8</td><td style=\"text-align: right;\">      11</td><td style=\"text-align: right;\">       1</td><td style=\"text-align: right;\">       1</td><td style=\"text-align: right;\">       0</td><td style=\"text-align: right;\">       1</td><td style=\"text-align: right;\">       1</td><td style=\"text-align: right;\">       0</td><td style=\"text-align: right;\">        1</td><td style=\"text-align: right;\">       16</td><td style=\"text-align: right;\">        4</td><td style=\"text-align: right;\">        3</td><td style=\"text-align: right;\"> -0.8013 </td><td style=\"text-align: right;\">        1</td><td style=\"text-align: right;\">      100</td><td style=\"text-align: right;\">        1</td><td style=\"text-align: right;\">        6</td><td style=\"text-align: right;\">        1</td><td style=\"text-align: right;\">        1</td><td style=\"text-align: right;\">        1</td><td style=\"text-align: right;\">       17</td><td style=\"text-align: right;\">       22</td><td style=\"text-align: right;\">        1</td><td style=\"text-align: right;\">        1</td><td style=\"text-align: right;\">        1</td><td style=\"text-align: right;\">        1</td><td style=\"text-align: right;\">        0</td><td style=\"text-align: right;\">        3</td><td style=\"text-align: right;\">                 1</td><td style=\"text-align: right;\">                 1</td><td style=\"text-align: right;\">                 0</td><td style=\"text-align: right;\">                 0</td><td style=\"text-align: right;\">                 1</td><td style=\"text-align: right;\">  0.624448</td><td style=\"text-align: right;\">      49</td><td style=\"text-align: right;\">     0</td><td style=\"text-align: right;\">    0</td><td style=\"text-align: right;\">     0</td><td style=\"text-align: right;\">    0</td><td style=\"text-align: right;\">     1</td><td style=\"text-align: right;\">            0.6</td><td style=\"text-align: right;\">      0</td></tr>\n",
       "<tr><td style=\"text-align: right;\">       0</td><td style=\"text-align: right;\">-0.316223  </td><td style=\"text-align: right;\">       9</td><td style=\"text-align: right;\">       9</td><td style=\"text-align: right;\">       1</td><td style=\"text-align: right;\">       1</td><td style=\"text-align: right;\">       0</td><td style=\"text-align: right;\">       1</td><td style=\"text-align: right;\">       1</td><td style=\"text-align: right;\">       0</td><td style=\"text-align: right;\">        0</td><td style=\"text-align: right;\">       10</td><td style=\"text-align: right;\">        5</td><td style=\"text-align: right;\">       62</td><td style=\"text-align: right;\"> -0.5215 </td><td style=\"text-align: right;\">        2</td><td style=\"text-align: right;\">        0</td><td style=\"text-align: right;\">        1</td><td style=\"text-align: right;\">        6</td><td style=\"text-align: right;\">        5</td><td style=\"text-align: right;\">        6</td><td style=\"text-align: right;\">        1</td><td style=\"text-align: right;\">        1</td><td style=\"text-align: right;\">       17</td><td style=\"text-align: right;\">        1</td><td style=\"text-align: right;\">        1</td><td style=\"text-align: right;\">        1</td><td style=\"text-align: right;\">        1</td><td style=\"text-align: right;\">        1</td><td style=\"text-align: right;\">        3</td><td style=\"text-align: right;\">                 1</td><td style=\"text-align: right;\">                 1</td><td style=\"text-align: right;\">                 0</td><td style=\"text-align: right;\">                 0</td><td style=\"text-align: right;\">                 0</td><td style=\"text-align: right;\">  0.625423</td><td style=\"text-align: right;\">       7</td><td style=\"text-align: right;\">     0</td><td style=\"text-align: right;\">    0</td><td style=\"text-align: right;\">     0</td><td style=\"text-align: right;\">    0</td><td style=\"text-align: right;\">     1</td><td style=\"text-align: right;\">            0.4</td><td style=\"text-align: right;\">      0</td></tr>\n",
       "<tr><td style=\"text-align: right;\">       0</td><td style=\"text-align: right;\"> 0.0716341 </td><td style=\"text-align: right;\">      10</td><td style=\"text-align: right;\">      10</td><td style=\"text-align: right;\">       1</td><td style=\"text-align: right;\">       1</td><td style=\"text-align: right;\">       0</td><td style=\"text-align: right;\">       1</td><td style=\"text-align: right;\">       1</td><td style=\"text-align: right;\">       0</td><td style=\"text-align: right;\">        0</td><td style=\"text-align: right;\">        7</td><td style=\"text-align: right;\">        3</td><td style=\"text-align: right;\">        2</td><td style=\"text-align: right;\">  0.599  </td><td style=\"text-align: right;\">        1</td><td style=\"text-align: right;\">        6</td><td style=\"text-align: right;\">        1</td><td style=\"text-align: right;\">        4</td><td style=\"text-align: right;\">        2</td><td style=\"text-align: right;\">        3</td><td style=\"text-align: right;\">        1</td><td style=\"text-align: right;\">       22</td><td style=\"text-align: right;\">        5</td><td style=\"text-align: right;\">        1</td><td style=\"text-align: right;\">        1</td><td style=\"text-align: right;\">        1</td><td style=\"text-align: right;\">        1</td><td style=\"text-align: right;\">        0</td><td style=\"text-align: right;\">        4</td><td style=\"text-align: right;\">                 1</td><td style=\"text-align: right;\">                 1</td><td style=\"text-align: right;\">                 1</td><td style=\"text-align: right;\">                 1</td><td style=\"text-align: right;\">                 1</td><td style=\"text-align: right;\">  0.624448</td><td style=\"text-align: right;\">     147</td><td style=\"text-align: right;\">     1</td><td style=\"text-align: right;\">    0</td><td style=\"text-align: right;\">     0</td><td style=\"text-align: right;\">    0</td><td style=\"text-align: right;\">     1</td><td style=\"text-align: right;\">            1  </td><td style=\"text-align: right;\">      0</td></tr>\n",
       "<tr><td style=\"text-align: right;\">       0</td><td style=\"text-align: right;\">-0.238651  </td><td style=\"text-align: right;\">      10</td><td style=\"text-align: right;\">      11</td><td style=\"text-align: right;\">       1</td><td style=\"text-align: right;\">       1</td><td style=\"text-align: right;\">       1</td><td style=\"text-align: right;\">       1</td><td style=\"text-align: right;\">       1</td><td style=\"text-align: right;\">       0</td><td style=\"text-align: right;\">        1</td><td style=\"text-align: right;\">       10</td><td style=\"text-align: right;\">        9</td><td style=\"text-align: right;\">        4</td><td style=\"text-align: right;\">  0.03903</td><td style=\"text-align: right;\">        1</td><td style=\"text-align: right;\">       22</td><td style=\"text-align: right;\">        1</td><td style=\"text-align: right;\">        5</td><td style=\"text-align: right;\">        2</td><td style=\"text-align: right;\">        6</td><td style=\"text-align: right;\">        1</td><td style=\"text-align: right;\">       44</td><td style=\"text-align: right;\">       21</td><td style=\"text-align: right;\">        1</td><td style=\"text-align: right;\">        1</td><td style=\"text-align: right;\">        7</td><td style=\"text-align: right;\">        5</td><td style=\"text-align: right;\">        0</td><td style=\"text-align: right;\">        4</td><td style=\"text-align: right;\">                 1</td><td style=\"text-align: right;\">                 1</td><td style=\"text-align: right;\">                 1</td><td style=\"text-align: right;\">                 1</td><td style=\"text-align: right;\">                 0</td><td style=\"text-align: right;\">  0.624448</td><td style=\"text-align: right;\">      11</td><td style=\"text-align: right;\">     0</td><td style=\"text-align: right;\">    0</td><td style=\"text-align: right;\">     0</td><td style=\"text-align: right;\">    0</td><td style=\"text-align: right;\">     0</td><td style=\"text-align: right;\">            0.8</td><td style=\"text-align: right;\">      0</td></tr>\n",
       "<tr><td style=\"text-align: right;\">       0</td><td style=\"text-align: right;\">-0.00593723</td><td style=\"text-align: right;\">       8</td><td style=\"text-align: right;\">       8</td><td style=\"text-align: right;\">       1</td><td style=\"text-align: right;\">       1</td><td style=\"text-align: right;\">       0</td><td style=\"text-align: right;\">       1</td><td style=\"text-align: right;\">       1</td><td style=\"text-align: right;\">       0</td><td style=\"text-align: right;\">        1</td><td style=\"text-align: right;\">       14</td><td style=\"text-align: right;\">        9</td><td style=\"text-align: right;\">        3</td><td style=\"text-align: right;\"> -0.2411 </td><td style=\"text-align: right;\">        2</td><td style=\"text-align: right;\">        1</td><td style=\"text-align: right;\">        1</td><td style=\"text-align: right;\">        1</td><td style=\"text-align: right;\">        1</td><td style=\"text-align: right;\">        2</td><td style=\"text-align: right;\">        1</td><td style=\"text-align: right;\">       21</td><td style=\"text-align: right;\">        9</td><td style=\"text-align: right;\">        2</td><td style=\"text-align: right;\">        1</td><td style=\"text-align: right;\">        1</td><td style=\"text-align: right;\">        1</td><td style=\"text-align: right;\">        0</td><td style=\"text-align: right;\">        3</td><td style=\"text-align: right;\">                 1</td><td style=\"text-align: right;\">                 1</td><td style=\"text-align: right;\">                 1</td><td style=\"text-align: right;\">                 0</td><td style=\"text-align: right;\">                 1</td><td style=\"text-align: right;\">  0.624936</td><td style=\"text-align: right;\">      35</td><td style=\"text-align: right;\">     0</td><td style=\"text-align: right;\">    0</td><td style=\"text-align: right;\">     0</td><td style=\"text-align: right;\">    0</td><td style=\"text-align: right;\">     1</td><td style=\"text-align: right;\">            0.8</td><td style=\"text-align: right;\">      0</td></tr>\n",
       "<tr><td style=\"text-align: right;\">     156</td><td style=\"text-align: right;\"> 1.62306   </td><td style=\"text-align: right;\">       2</td><td style=\"text-align: right;\">       2</td><td style=\"text-align: right;\">       3</td><td style=\"text-align: right;\">       0</td><td style=\"text-align: right;\">       6</td><td style=\"text-align: right;\">       2</td><td style=\"text-align: right;\">       0</td><td style=\"text-align: right;\">       0</td><td style=\"text-align: right;\">        1</td><td style=\"text-align: right;\">       19</td><td style=\"text-align: right;\">        9</td><td style=\"text-align: right;\">       92</td><td style=\"text-align: right;\">  1.159  </td><td style=\"text-align: right;\">        2</td><td style=\"text-align: right;\">        2</td><td style=\"text-align: right;\">        1</td><td style=\"text-align: right;\">        5</td><td style=\"text-align: right;\">        2</td><td style=\"text-align: right;\">        7</td><td style=\"text-align: right;\">        2</td><td style=\"text-align: right;\">       46</td><td style=\"text-align: right;\">       12</td><td style=\"text-align: right;\">        2</td><td style=\"text-align: right;\">       18</td><td style=\"text-align: right;\">       12</td><td style=\"text-align: right;\">        3</td><td style=\"text-align: right;\">        0</td><td style=\"text-align: right;\">        1</td><td style=\"text-align: right;\">                 1</td><td style=\"text-align: right;\">                 1</td><td style=\"text-align: right;\">                 0</td><td style=\"text-align: right;\">                 0</td><td style=\"text-align: right;\">                 0</td><td style=\"text-align: right;\">  0.625423</td><td style=\"text-align: right;\">      72</td><td style=\"text-align: right;\">     0</td><td style=\"text-align: right;\">    1</td><td style=\"text-align: right;\">     0</td><td style=\"text-align: right;\">    1</td><td style=\"text-align: right;\">     1</td><td style=\"text-align: right;\">            0.4</td><td style=\"text-align: right;\">      0</td></tr>\n",
       "</tbody>\n",
       "</table>"
      ]
     },
     "metadata": {
      "tags": []
     },
     "output_type": "display_data"
    },
    {
     "data": {
      "text/plain": []
     },
     "execution_count": 6,
     "metadata": {
      "tags": []
     },
     "output_type": "execute_result"
    }
   ],
   "source": [
    "train.head()"
   ]
  },
  {
   "cell_type": "markdown",
   "metadata": {
    "colab_type": "text",
    "id": "gxL7Rcn7QSat"
   },
   "source": []
  },
  {
   "cell_type": "markdown",
   "metadata": {
    "colab_type": "text",
    "id": "fSxhAoLnQSLs"
   },
   "source": []
  },
  {
   "cell_type": "code",
   "execution_count": 0,
   "metadata": {
    "colab": {},
    "colab_type": "code",
    "id": "_PDOX1L6UJHp"
   },
   "outputs": [],
   "source": []
  },
  {
   "cell_type": "code",
   "execution_count": 0,
   "metadata": {
    "colab": {},
    "colab_type": "code",
    "id": "py6HoiSpTodk"
   },
   "outputs": [],
   "source": []
  },
  {
   "cell_type": "code",
   "execution_count": 0,
   "metadata": {
    "colab": {},
    "colab_type": "code",
    "id": "pLokvkPfTogg"
   },
   "outputs": [],
   "source": []
  },
  {
   "cell_type": "code",
   "execution_count": 0,
   "metadata": {
    "colab": {},
    "colab_type": "code",
    "id": "Yr8ZKTwqTomL"
   },
   "outputs": [],
   "source": [
    "# y = \"class\"  2\n",
    "# x = data.names\n",
    "# x.remove(y)\n",
    "# train, test = data.split_frame([0.8])\n",
    "\n",
    "# m = h2o.estimators.deeplearning.H2ODeepLearningEstimator() \n",
    "# m.train(x, y, train)\n",
    "# p = m.predict(test) "
   ]
  },
  {
   "cell_type": "markdown",
   "metadata": {
    "colab_type": "text",
    "id": "gIMAbjwZTpub"
   },
   "source": [
    "# Train\n"
   ]
  },
  {
   "cell_type": "code",
   "execution_count": 136,
   "metadata": {
    "colab": {
     "base_uri": "https://localhost:8080/",
     "height": 34
    },
    "colab_type": "code",
    "id": "--tUqUVOD0TH",
    "outputId": "1a6ece42-f373-41c3-973b-778cc64fe737"
   },
   "outputs": [
    {
     "data": {
      "text/plain": [
       "['orderid', 'userid', 'goal21', 'goal22', 'goal23', 'goal24', 'goal25']"
      ]
     },
     "execution_count": 136,
     "metadata": {
      "tags": []
     },
     "output_type": "execute_result"
    }
   ],
   "source": [
    "to_drop_test = ['orderid', 'userid', 'goal21', 'goal22', 'goal23', 'goal24', 'goal25', 'goal1']\n",
    "to_drop"
   ]
  },
  {
   "cell_type": "code",
   "execution_count": 144,
   "metadata": {
    "colab": {
     "base_uri": "https://localhost:8080/",
     "height": 51
    },
    "colab_type": "code",
    "id": "LsHX8CLiToot",
    "outputId": "a296105d-4773-45c5-f58c-94f370bdda3a"
   },
   "outputs": [
    {
     "name": "stdout",
     "output_type": "stream",
     "text": [
      "Parse progress: |█████████████████████████████████████████████████████████| 100%\n",
      "Parse progress: |█████████████████████████████████████████████████████████| 100%\n"
     ]
    }
   ],
   "source": [
    "#drop order from test set\n",
    "\n",
    "# train = train.drop(['orderid', 'userid'],axis =1)\n",
    "# test = test.drop(['orderid', 'userid'],axis =1)\n",
    "\n",
    "htrain = h2o.H2OFrame(train)\n",
    "htest = h2o.H2OFrame(test)\n",
    "orderid = htest['orderid']\n",
    "\n",
    "htrain = htrain.drop(to_drop, axis =1)\n",
    "htest = htest.drop(to_drop, axis =1)\n",
    "\n",
    "# orderid = np.arange(test.shape[0])"
   ]
  },
  {
   "cell_type": "code",
   "execution_count": 0,
   "metadata": {
    "ExecuteTime": {
     "end_time": "2019-11-25T19:47:49.842599Z",
     "start_time": "2019-11-25T19:47:49.839405Z"
    },
    "colab": {},
    "colab_type": "code",
    "id": "A0UrI56kYPSF"
   },
   "outputs": [],
   "source": [
    "# Identify predictors and response\n",
    "x = htrain.columns\n",
    "y = 'goal1'\n",
    "x.remove(y)\n",
    "\n",
    "# tr, val = train.split_frame(ratios=[0.8], seed = 17)"
   ]
  },
  {
   "cell_type": "code",
   "execution_count": 0,
   "metadata": {
    "ExecuteTime": {
     "end_time": "2019-11-25T19:49:09.560170Z",
     "start_time": "2019-11-25T19:49:09.554761Z"
    },
    "colab": {},
    "colab_type": "code",
    "id": "H6y04sjjYPSH"
   },
   "outputs": [],
   "source": [
    "#for binary classification, lables should be a factor\n",
    "htrain[y] = htrain[y].asfactor()"
   ]
  },
  {
   "cell_type": "code",
   "execution_count": 140,
   "metadata": {
    "ExecuteTime": {
     "end_time": "2019-11-25T21:00:06.505001Z",
     "start_time": "2019-11-25T21:00:06.475560Z"
    },
    "colab": {
     "base_uri": "https://localhost:8080/",
     "height": 34
    },
    "colab_type": "code",
    "id": "dQ0VVCOgYPSJ",
    "outputId": "c1fd38d5-19a8-4fc7-a89f-c05530eb8bc3"
   },
   "outputs": [
    {
     "name": "stdout",
     "output_type": "stream",
     "text": [
      "AutoML progress: |████████████████████████████████████████████████████████| 100%\n"
     ]
    }
   ],
   "source": [
    "# Run AutoML for 10 base models (limited to 1 hour max runtime by default)\n",
    "aml = H2OAutoML(max_models=15, balance_classes=True, stopping_metric=\"AUC\",\n",
    "                stopping_rounds = 3, stopping_tolerance = 1e-2, seed=17)\n",
    "\n",
    "aml.train(x=x, y=y, training_frame=htrain)"
   ]
  },
  {
   "cell_type": "code",
   "execution_count": 141,
   "metadata": {
    "colab": {
     "base_uri": "https://localhost:8080/",
     "height": 376
    },
    "colab_type": "code",
    "id": "b3lFOkkgTmIK",
    "outputId": "762a1160-40ee-4908-d4d1-147da0e83552"
   },
   "outputs": [
    {
     "data": {
      "text/html": [
       "<table>\n",
       "<thead>\n",
       "<tr><th>model_id                                           </th><th style=\"text-align: right;\">     auc</th><th style=\"text-align: right;\">  logloss</th><th style=\"text-align: right;\">  mean_per_class_error</th><th style=\"text-align: right;\">    rmse</th><th style=\"text-align: right;\">      mse</th></tr>\n",
       "</thead>\n",
       "<tbody>\n",
       "<tr><td>StackedEnsemble_AllModels_AutoML_20191215_194137   </td><td style=\"text-align: right;\">0.679715</td><td style=\"text-align: right;\"> 0.102126</td><td style=\"text-align: right;\">              0.441938</td><td style=\"text-align: right;\">0.146323</td><td style=\"text-align: right;\">0.0214106</td></tr>\n",
       "<tr><td>StackedEnsemble_BestOfFamily_AutoML_20191215_194137</td><td style=\"text-align: right;\">0.678074</td><td style=\"text-align: right;\"> 0.102789</td><td style=\"text-align: right;\">              0.44682 </td><td style=\"text-align: right;\">0.147125</td><td style=\"text-align: right;\">0.0216457</td></tr>\n",
       "<tr><td>GBM_1_AutoML_20191215_194137                       </td><td style=\"text-align: right;\">0.669343</td><td style=\"text-align: right;\"> 0.102557</td><td style=\"text-align: right;\">              0.442296</td><td style=\"text-align: right;\">0.146525</td><td style=\"text-align: right;\">0.0214696</td></tr>\n",
       "<tr><td>GLM_grid_1_AutoML_20191215_194137_model_1          </td><td style=\"text-align: right;\">0.666976</td><td style=\"text-align: right;\"> 0.102501</td><td style=\"text-align: right;\">              0.426608</td><td style=\"text-align: right;\">0.146594</td><td style=\"text-align: right;\">0.0214898</td></tr>\n",
       "<tr><td>GBM_2_AutoML_20191215_194137                       </td><td style=\"text-align: right;\">0.659478</td><td style=\"text-align: right;\"> 0.103343</td><td style=\"text-align: right;\">              0.431614</td><td style=\"text-align: right;\">0.146632</td><td style=\"text-align: right;\">0.0215011</td></tr>\n",
       "<tr><td>XGBoost_2_AutoML_20191215_194137                   </td><td style=\"text-align: right;\">0.648696</td><td style=\"text-align: right;\"> 0.110019</td><td style=\"text-align: right;\">              0.429386</td><td style=\"text-align: right;\">0.148213</td><td style=\"text-align: right;\">0.0219671</td></tr>\n",
       "<tr><td>GBM_3_AutoML_20191215_194137                       </td><td style=\"text-align: right;\">0.641689</td><td style=\"text-align: right;\"> 0.104755</td><td style=\"text-align: right;\">              0.441221</td><td style=\"text-align: right;\">0.146788</td><td style=\"text-align: right;\">0.0215468</td></tr>\n",
       "<tr><td>DeepLearning_1_AutoML_20191215_194137              </td><td style=\"text-align: right;\">0.633407</td><td style=\"text-align: right;\"> 0.107395</td><td style=\"text-align: right;\">              0.451013</td><td style=\"text-align: right;\">0.149155</td><td style=\"text-align: right;\">0.0222472</td></tr>\n",
       "<tr><td>GBM_5_AutoML_20191215_194137                       </td><td style=\"text-align: right;\">0.63173 </td><td style=\"text-align: right;\"> 0.115813</td><td style=\"text-align: right;\">              0.455336</td><td style=\"text-align: right;\">0.147514</td><td style=\"text-align: right;\">0.0217605</td></tr>\n",
       "<tr><td>XGBoost_1_AutoML_20191215_194137                   </td><td style=\"text-align: right;\">0.629181</td><td style=\"text-align: right;\"> 0.111391</td><td style=\"text-align: right;\">              0.444162</td><td style=\"text-align: right;\">0.148661</td><td style=\"text-align: right;\">0.0221001</td></tr>\n",
       "<tr><td>XGBoost_3_AutoML_20191215_194137                   </td><td style=\"text-align: right;\">0.623977</td><td style=\"text-align: right;\"> 0.110352</td><td style=\"text-align: right;\">              0.435254</td><td style=\"text-align: right;\">0.148272</td><td style=\"text-align: right;\">0.0219847</td></tr>\n",
       "<tr><td>GBM_grid_1_AutoML_20191215_194137_model_1          </td><td style=\"text-align: right;\">0.622592</td><td style=\"text-align: right;\"> 0.105775</td><td style=\"text-align: right;\">              0.451269</td><td style=\"text-align: right;\">0.147076</td><td style=\"text-align: right;\">0.0216314</td></tr>\n",
       "<tr><td>GBM_4_AutoML_20191215_194137                       </td><td style=\"text-align: right;\">0.619011</td><td style=\"text-align: right;\"> 0.109528</td><td style=\"text-align: right;\">              0.445719</td><td style=\"text-align: right;\">0.14718 </td><td style=\"text-align: right;\">0.0216619</td></tr>\n",
       "<tr><td>DRF_1_AutoML_20191215_194137                       </td><td style=\"text-align: right;\">0.600051</td><td style=\"text-align: right;\"> 0.131179</td><td style=\"text-align: right;\">              0.462961</td><td style=\"text-align: right;\">0.147902</td><td style=\"text-align: right;\">0.021875 </td></tr>\n",
       "<tr><td>XRT_1_AutoML_20191215_194137                       </td><td style=\"text-align: right;\">0.5986  </td><td style=\"text-align: right;\"> 0.130533</td><td style=\"text-align: right;\">              0.448378</td><td style=\"text-align: right;\">0.147932</td><td style=\"text-align: right;\">0.0218838</td></tr>\n",
       "<tr><td>XGBoost_grid_1_AutoML_20191215_194137_model_1      </td><td style=\"text-align: right;\">0.578452</td><td style=\"text-align: right;\"> 0.435276</td><td style=\"text-align: right;\">              0.463159</td><td style=\"text-align: right;\">0.36209 </td><td style=\"text-align: right;\">0.131109 </td></tr>\n",
       "</tbody>\n",
       "</table>"
      ]
     },
     "metadata": {
      "tags": []
     },
     "output_type": "display_data"
    },
    {
     "data": {
      "text/plain": []
     },
     "execution_count": 141,
     "metadata": {
      "tags": []
     },
     "output_type": "execute_result"
    }
   ],
   "source": [
    "# View the AutoML Leaderboard 3\n",
    "lb = aml.leaderboard\n",
    "lb.head(rows=lb.nrows)  # Print all rows instead of default (10 rows)"
   ]
  },
  {
   "cell_type": "code",
   "execution_count": 0,
   "metadata": {
    "colab": {
     "base_uri": "https://localhost:8080/",
     "height": 292
    },
    "colab_type": "code",
    "id": "FyWf__7BF3o7",
    "outputId": "6475b43c-2a6a-41ab-b9c1-22fb21769886"
   },
   "outputs": [
    {
     "data": {
      "text/html": [
       "<table>\n",
       "<thead>\n",
       "<tr><th>model_id                                           </th><th style=\"text-align: right;\">     auc</th><th style=\"text-align: right;\">  logloss</th><th style=\"text-align: right;\">  mean_per_class_error</th><th style=\"text-align: right;\">    rmse</th><th style=\"text-align: right;\">      mse</th></tr>\n",
       "</thead>\n",
       "<tbody>\n",
       "<tr><td>StackedEnsemble_AllModels_AutoML_20191128_172451   </td><td style=\"text-align: right;\">0.688571</td><td style=\"text-align: right;\"> 0.101435</td><td style=\"text-align: right;\">              0.440677</td><td style=\"text-align: right;\">0.146118</td><td style=\"text-align: right;\">0.0213504</td></tr>\n",
       "<tr><td>StackedEnsemble_BestOfFamily_AutoML_20191128_172451</td><td style=\"text-align: right;\">0.685537</td><td style=\"text-align: right;\"> 0.102533</td><td style=\"text-align: right;\">              0.440102</td><td style=\"text-align: right;\">0.147244</td><td style=\"text-align: right;\">0.0216809</td></tr>\n",
       "<tr><td>GBM_1_AutoML_20191128_172451                       </td><td style=\"text-align: right;\">0.679623</td><td style=\"text-align: right;\"> 0.101854</td><td style=\"text-align: right;\">              0.434642</td><td style=\"text-align: right;\">0.146395</td><td style=\"text-align: right;\">0.0214315</td></tr>\n",
       "<tr><td>GBM_2_AutoML_20191128_172451                       </td><td style=\"text-align: right;\">0.672138</td><td style=\"text-align: right;\"> 0.102329</td><td style=\"text-align: right;\">              0.442158</td><td style=\"text-align: right;\">0.146453</td><td style=\"text-align: right;\">0.0214486</td></tr>\n",
       "<tr><td>XGBoost_2_AutoML_20191128_172451                   </td><td style=\"text-align: right;\">0.665167</td><td style=\"text-align: right;\"> 0.11091 </td><td style=\"text-align: right;\">              0.433676</td><td style=\"text-align: right;\">0.148333</td><td style=\"text-align: right;\">0.0220027</td></tr>\n",
       "<tr><td>GLM_grid_1_AutoML_20191128_172451_model_1          </td><td style=\"text-align: right;\">0.663965</td><td style=\"text-align: right;\"> 0.10261 </td><td style=\"text-align: right;\">              0.452335</td><td style=\"text-align: right;\">0.146607</td><td style=\"text-align: right;\">0.0214936</td></tr>\n",
       "<tr><td>GBM_3_AutoML_20191128_172451                       </td><td style=\"text-align: right;\">0.658926</td><td style=\"text-align: right;\"> 0.103419</td><td style=\"text-align: right;\">              0.441393</td><td style=\"text-align: right;\">0.146615</td><td style=\"text-align: right;\">0.0214961</td></tr>\n",
       "<tr><td>XGBoost_1_AutoML_20191128_172451                   </td><td style=\"text-align: right;\">0.65433 </td><td style=\"text-align: right;\"> 0.108549</td><td style=\"text-align: right;\">              0.429707</td><td style=\"text-align: right;\">0.147716</td><td style=\"text-align: right;\">0.0218199</td></tr>\n",
       "<tr><td>XGBoost_3_AutoML_20191128_172451                   </td><td style=\"text-align: right;\">0.640755</td><td style=\"text-align: right;\"> 0.113909</td><td style=\"text-align: right;\">              0.446131</td><td style=\"text-align: right;\">0.149118</td><td style=\"text-align: right;\">0.0222362</td></tr>\n",
       "<tr><td>GBM_5_AutoML_20191128_172451                       </td><td style=\"text-align: right;\">0.638805</td><td style=\"text-align: right;\"> 0.112572</td><td style=\"text-align: right;\">              0.451043</td><td style=\"text-align: right;\">0.147286</td><td style=\"text-align: right;\">0.0216931</td></tr>\n",
       "<tr><td>GBM_4_AutoML_20191128_172451                       </td><td style=\"text-align: right;\">0.631456</td><td style=\"text-align: right;\"> 0.106646</td><td style=\"text-align: right;\">              0.446925</td><td style=\"text-align: right;\">0.146915</td><td style=\"text-align: right;\">0.021584 </td></tr>\n",
       "<tr><td>DRF_1_AutoML_20191128_172451                       </td><td style=\"text-align: right;\">0.611928</td><td style=\"text-align: right;\"> 0.126497</td><td style=\"text-align: right;\">              0.462205</td><td style=\"text-align: right;\">0.147695</td><td style=\"text-align: right;\">0.0218138</td></tr>\n",
       "</tbody>\n",
       "</table>"
      ]
     },
     "metadata": {
      "tags": []
     },
     "output_type": "display_data"
    },
    {
     "data": {
      "text/plain": []
     },
     "execution_count": 40,
     "metadata": {
      "tags": []
     },
     "output_type": "execute_result"
    }
   ],
   "source": [
    "# View the AutoML Leaderboard 3\n",
    "lb = aml.leaderboard\n",
    "lb.head(rows=lb.nrows)  # Print all rows instead of default (10 rows)\n"
   ]
  },
  {
   "cell_type": "code",
   "execution_count": 0,
   "metadata": {
    "ExecuteTime": {
     "end_time": "2019-11-25T20:59:33.468782Z",
     "start_time": "2019-11-25T20:59:33.432852Z"
    },
    "colab": {
     "base_uri": "https://localhost:8080/",
     "height": 292
    },
    "colab_type": "code",
    "id": "WZDYn0CYYPSM",
    "outputId": "3c7e096b-2f17-4e74-d377-13a318112541"
   },
   "outputs": [
    {
     "data": {
      "text/html": [
       "<table>\n",
       "<thead>\n",
       "<tr><th>model_id                                           </th><th style=\"text-align: right;\">     auc</th><th style=\"text-align: right;\">  logloss</th><th style=\"text-align: right;\">  mean_per_class_error</th><th style=\"text-align: right;\">    rmse</th><th style=\"text-align: right;\">      mse</th></tr>\n",
       "</thead>\n",
       "<tbody>\n",
       "<tr><td>StackedEnsemble_AllModels_AutoML_20191128_143349   </td><td style=\"text-align: right;\">0.686405</td><td style=\"text-align: right;\"> 0.101468</td><td style=\"text-align: right;\">              0.437202</td><td style=\"text-align: right;\">0.146087</td><td style=\"text-align: right;\">0.0213413</td></tr>\n",
       "<tr><td>StackedEnsemble_BestOfFamily_AutoML_20191128_143349</td><td style=\"text-align: right;\">0.683421</td><td style=\"text-align: right;\"> 0.102518</td><td style=\"text-align: right;\">              0.444828</td><td style=\"text-align: right;\">0.147211</td><td style=\"text-align: right;\">0.0216712</td></tr>\n",
       "<tr><td>GBM_1_AutoML_20191128_143349                       </td><td style=\"text-align: right;\">0.677035</td><td style=\"text-align: right;\"> 0.101985</td><td style=\"text-align: right;\">              0.434636</td><td style=\"text-align: right;\">0.146411</td><td style=\"text-align: right;\">0.0214361</td></tr>\n",
       "<tr><td>GBM_2_AutoML_20191128_143349                       </td><td style=\"text-align: right;\">0.667827</td><td style=\"text-align: right;\"> 0.102598</td><td style=\"text-align: right;\">              0.44845 </td><td style=\"text-align: right;\">0.146485</td><td style=\"text-align: right;\">0.0214578</td></tr>\n",
       "<tr><td>XGBoost_1_AutoML_20191128_143349                   </td><td style=\"text-align: right;\">0.666506</td><td style=\"text-align: right;\"> 0.106287</td><td style=\"text-align: right;\">              0.435643</td><td style=\"text-align: right;\">0.147122</td><td style=\"text-align: right;\">0.021645 </td></tr>\n",
       "<tr><td>GLM_grid_1_AutoML_20191128_143349_model_1          </td><td style=\"text-align: right;\">0.664816</td><td style=\"text-align: right;\"> 0.102574</td><td style=\"text-align: right;\">              0.424277</td><td style=\"text-align: right;\">0.146605</td><td style=\"text-align: right;\">0.0214931</td></tr>\n",
       "<tr><td>XGBoost_3_AutoML_20191128_143349                   </td><td style=\"text-align: right;\">0.66184 </td><td style=\"text-align: right;\"> 0.116138</td><td style=\"text-align: right;\">              0.43981 </td><td style=\"text-align: right;\">0.149741</td><td style=\"text-align: right;\">0.0224222</td></tr>\n",
       "<tr><td>XGBoost_2_AutoML_20191128_143349                   </td><td style=\"text-align: right;\">0.659864</td><td style=\"text-align: right;\"> 0.105736</td><td style=\"text-align: right;\">              0.424704</td><td style=\"text-align: right;\">0.147065</td><td style=\"text-align: right;\">0.021628 </td></tr>\n",
       "<tr><td>GBM_3_AutoML_20191128_143349                       </td><td style=\"text-align: right;\">0.659488</td><td style=\"text-align: right;\"> 0.103359</td><td style=\"text-align: right;\">              0.445164</td><td style=\"text-align: right;\">0.146587</td><td style=\"text-align: right;\">0.0214879</td></tr>\n",
       "<tr><td>GBM_5_AutoML_20191128_143349                       </td><td style=\"text-align: right;\">0.637727</td><td style=\"text-align: right;\"> 0.112533</td><td style=\"text-align: right;\">              0.444634</td><td style=\"text-align: right;\">0.147284</td><td style=\"text-align: right;\">0.0216925</td></tr>\n",
       "<tr><td>GBM_4_AutoML_20191128_143349                       </td><td style=\"text-align: right;\">0.627078</td><td style=\"text-align: right;\"> 0.106955</td><td style=\"text-align: right;\">              0.456701</td><td style=\"text-align: right;\">0.146946</td><td style=\"text-align: right;\">0.0215932</td></tr>\n",
       "<tr><td>DRF_1_AutoML_20191128_143349                       </td><td style=\"text-align: right;\">0.602705</td><td style=\"text-align: right;\"> 0.124839</td><td style=\"text-align: right;\">              0.467116</td><td style=\"text-align: right;\">0.147698</td><td style=\"text-align: right;\">0.0218146</td></tr>\n",
       "</tbody>\n",
       "</table>"
      ]
     },
     "metadata": {
      "tags": []
     },
     "output_type": "display_data"
    },
    {
     "data": {
      "text/plain": []
     },
     "execution_count": 11,
     "metadata": {
      "tags": []
     },
     "output_type": "execute_result"
    }
   ],
   "source": [
    "# View the AutoML Leaderboard 2\n",
    "lb = aml.leaderboard\n",
    "lb.head(rows=lb.nrows)  # Print all rows instead of default (10 rows)"
   ]
  },
  {
   "cell_type": "code",
   "execution_count": 142,
   "metadata": {
    "colab": {
     "base_uri": "https://localhost:8080/",
     "height": 1000
    },
    "colab_type": "code",
    "id": "nkKMeJZPYPSO",
    "outputId": "6683e4d4-934e-486f-b4e9-9bb2b6f55180"
   },
   "outputs": [
    {
     "name": "stdout",
     "output_type": "stream",
     "text": [
      "Model Details\n",
      "=============\n",
      "H2OStackedEnsembleEstimator :  Stacked Ensemble\n",
      "Model Key:  StackedEnsemble_AllModels_AutoML_20191215_194137\n",
      "\n",
      "No model summary for this model\n",
      "\n",
      "ModelMetricsBinomialGLM: stackedensemble\n",
      "** Reported on train data. **\n",
      "\n",
      "MSE: 0.008683724386372164\n",
      "RMSE: 0.0931865032414682\n",
      "LogLoss: 0.044665593186255584\n",
      "Null degrees of freedom: 147041\n",
      "Residual degrees of freedom: 147031\n",
      "Null deviance: 31251.508071701413\n",
      "Residual deviance: 13135.436306586787\n",
      "AIC: 13157.436306586787\n",
      "AUC: 0.9941518480866887\n",
      "pr_auc: 0.8781432419347044\n",
      "Gini: 0.9883036961733773\n",
      "\n",
      "Confusion Matrix (Act/Pred) for max f1 @ threshold = 0.1539531668746573: \n"
     ]
    },
    {
     "data": {
      "text/html": [
       "<div>\n",
       "<style scoped>\n",
       "    .dataframe tbody tr th:only-of-type {\n",
       "        vertical-align: middle;\n",
       "    }\n",
       "\n",
       "    .dataframe tbody tr th {\n",
       "        vertical-align: top;\n",
       "    }\n",
       "\n",
       "    .dataframe thead th {\n",
       "        text-align: right;\n",
       "    }\n",
       "</style>\n",
       "<table border=\"1\" class=\"dataframe\">\n",
       "  <thead>\n",
       "    <tr style=\"text-align: right;\">\n",
       "      <th></th>\n",
       "      <th></th>\n",
       "      <th>0</th>\n",
       "      <th>1</th>\n",
       "      <th>Error</th>\n",
       "      <th>Rate</th>\n",
       "    </tr>\n",
       "  </thead>\n",
       "  <tbody>\n",
       "    <tr>\n",
       "      <th>0</th>\n",
       "      <td>0</td>\n",
       "      <td>143583.0</td>\n",
       "      <td>203.0</td>\n",
       "      <td>0.0014</td>\n",
       "      <td>(203.0/143786.0)</td>\n",
       "    </tr>\n",
       "    <tr>\n",
       "      <th>1</th>\n",
       "      <td>1</td>\n",
       "      <td>741.0</td>\n",
       "      <td>2515.0</td>\n",
       "      <td>0.2276</td>\n",
       "      <td>(741.0/3256.0)</td>\n",
       "    </tr>\n",
       "    <tr>\n",
       "      <th>2</th>\n",
       "      <td>Total</td>\n",
       "      <td>144324.0</td>\n",
       "      <td>2718.0</td>\n",
       "      <td>0.0064</td>\n",
       "      <td>(944.0/147042.0)</td>\n",
       "    </tr>\n",
       "  </tbody>\n",
       "</table>\n",
       "</div>"
      ],
      "text/plain": [
       "                 0       1   Error               Rate\n",
       "0      0  143583.0   203.0  0.0014   (203.0/143786.0)\n",
       "1      1     741.0  2515.0  0.2276     (741.0/3256.0)\n",
       "2  Total  144324.0  2718.0  0.0064   (944.0/147042.0)"
      ]
     },
     "metadata": {
      "tags": []
     },
     "output_type": "display_data"
    },
    {
     "name": "stdout",
     "output_type": "stream",
     "text": [
      "\n",
      "Maximum Metrics: Maximum metrics at their respective thresholds\n"
     ]
    },
    {
     "data": {
      "text/html": [
       "<div>\n",
       "<style scoped>\n",
       "    .dataframe tbody tr th:only-of-type {\n",
       "        vertical-align: middle;\n",
       "    }\n",
       "\n",
       "    .dataframe tbody tr th {\n",
       "        vertical-align: top;\n",
       "    }\n",
       "\n",
       "    .dataframe thead th {\n",
       "        text-align: right;\n",
       "    }\n",
       "</style>\n",
       "<table border=\"1\" class=\"dataframe\">\n",
       "  <thead>\n",
       "    <tr style=\"text-align: right;\">\n",
       "      <th></th>\n",
       "      <th>metric</th>\n",
       "      <th>threshold</th>\n",
       "      <th>value</th>\n",
       "      <th>idx</th>\n",
       "    </tr>\n",
       "  </thead>\n",
       "  <tbody>\n",
       "    <tr>\n",
       "      <th>0</th>\n",
       "      <td>max f1</td>\n",
       "      <td>0.153953</td>\n",
       "      <td>0.841982</td>\n",
       "      <td>222.0</td>\n",
       "    </tr>\n",
       "    <tr>\n",
       "      <th>1</th>\n",
       "      <td>max f2</td>\n",
       "      <td>0.094794</td>\n",
       "      <td>0.829455</td>\n",
       "      <td>252.0</td>\n",
       "    </tr>\n",
       "    <tr>\n",
       "      <th>2</th>\n",
       "      <td>max f0point5</td>\n",
       "      <td>0.205946</td>\n",
       "      <td>0.904822</td>\n",
       "      <td>204.0</td>\n",
       "    </tr>\n",
       "    <tr>\n",
       "      <th>3</th>\n",
       "      <td>max accuracy</td>\n",
       "      <td>0.168241</td>\n",
       "      <td>0.993607</td>\n",
       "      <td>216.0</td>\n",
       "    </tr>\n",
       "    <tr>\n",
       "      <th>4</th>\n",
       "      <td>max precision</td>\n",
       "      <td>0.999755</td>\n",
       "      <td>1.000000</td>\n",
       "      <td>0.0</td>\n",
       "    </tr>\n",
       "    <tr>\n",
       "      <th>5</th>\n",
       "      <td>max recall</td>\n",
       "      <td>0.022026</td>\n",
       "      <td>1.000000</td>\n",
       "      <td>349.0</td>\n",
       "    </tr>\n",
       "    <tr>\n",
       "      <th>6</th>\n",
       "      <td>max specificity</td>\n",
       "      <td>0.999755</td>\n",
       "      <td>1.000000</td>\n",
       "      <td>0.0</td>\n",
       "    </tr>\n",
       "    <tr>\n",
       "      <th>7</th>\n",
       "      <td>max absolute_mcc</td>\n",
       "      <td>0.153953</td>\n",
       "      <td>0.842298</td>\n",
       "      <td>222.0</td>\n",
       "    </tr>\n",
       "    <tr>\n",
       "      <th>8</th>\n",
       "      <td>max min_per_class_accuracy</td>\n",
       "      <td>0.046847</td>\n",
       "      <td>0.956695</td>\n",
       "      <td>298.0</td>\n",
       "    </tr>\n",
       "    <tr>\n",
       "      <th>9</th>\n",
       "      <td>max mean_per_class_accuracy</td>\n",
       "      <td>0.046118</td>\n",
       "      <td>0.958195</td>\n",
       "      <td>299.0</td>\n",
       "    </tr>\n",
       "    <tr>\n",
       "      <th>10</th>\n",
       "      <td>max tns</td>\n",
       "      <td>0.999755</td>\n",
       "      <td>143786.000000</td>\n",
       "      <td>0.0</td>\n",
       "    </tr>\n",
       "    <tr>\n",
       "      <th>11</th>\n",
       "      <td>max fns</td>\n",
       "      <td>0.999755</td>\n",
       "      <td>3173.000000</td>\n",
       "      <td>0.0</td>\n",
       "    </tr>\n",
       "    <tr>\n",
       "      <th>12</th>\n",
       "      <td>max fps</td>\n",
       "      <td>0.011155</td>\n",
       "      <td>143786.000000</td>\n",
       "      <td>399.0</td>\n",
       "    </tr>\n",
       "    <tr>\n",
       "      <th>13</th>\n",
       "      <td>max tps</td>\n",
       "      <td>0.022026</td>\n",
       "      <td>3256.000000</td>\n",
       "      <td>349.0</td>\n",
       "    </tr>\n",
       "    <tr>\n",
       "      <th>14</th>\n",
       "      <td>max tnr</td>\n",
       "      <td>0.999755</td>\n",
       "      <td>1.000000</td>\n",
       "      <td>0.0</td>\n",
       "    </tr>\n",
       "    <tr>\n",
       "      <th>15</th>\n",
       "      <td>max fnr</td>\n",
       "      <td>0.999755</td>\n",
       "      <td>0.974509</td>\n",
       "      <td>0.0</td>\n",
       "    </tr>\n",
       "    <tr>\n",
       "      <th>16</th>\n",
       "      <td>max fpr</td>\n",
       "      <td>0.011155</td>\n",
       "      <td>1.000000</td>\n",
       "      <td>399.0</td>\n",
       "    </tr>\n",
       "    <tr>\n",
       "      <th>17</th>\n",
       "      <td>max tpr</td>\n",
       "      <td>0.022026</td>\n",
       "      <td>1.000000</td>\n",
       "      <td>349.0</td>\n",
       "    </tr>\n",
       "  </tbody>\n",
       "</table>\n",
       "</div>"
      ],
      "text/plain": [
       "                         metric  threshold          value    idx\n",
       "0                        max f1   0.153953       0.841982  222.0\n",
       "1                        max f2   0.094794       0.829455  252.0\n",
       "2                  max f0point5   0.205946       0.904822  204.0\n",
       "3                  max accuracy   0.168241       0.993607  216.0\n",
       "4                 max precision   0.999755       1.000000    0.0\n",
       "5                    max recall   0.022026       1.000000  349.0\n",
       "6               max specificity   0.999755       1.000000    0.0\n",
       "7              max absolute_mcc   0.153953       0.842298  222.0\n",
       "8    max min_per_class_accuracy   0.046847       0.956695  298.0\n",
       "9   max mean_per_class_accuracy   0.046118       0.958195  299.0\n",
       "10                      max tns   0.999755  143786.000000    0.0\n",
       "11                      max fns   0.999755    3173.000000    0.0\n",
       "12                      max fps   0.011155  143786.000000  399.0\n",
       "13                      max tps   0.022026    3256.000000  349.0\n",
       "14                      max tnr   0.999755       1.000000    0.0\n",
       "15                      max fnr   0.999755       0.974509    0.0\n",
       "16                      max fpr   0.011155       1.000000  399.0\n",
       "17                      max tpr   0.022026       1.000000  349.0"
      ]
     },
     "metadata": {
      "tags": []
     },
     "output_type": "display_data"
    },
    {
     "name": "stdout",
     "output_type": "stream",
     "text": [
      "\n",
      "Gains/Lift Table: Avg response rate:  2.21 %, avg score:  3.21 %\n"
     ]
    },
    {
     "data": {
      "text/html": [
       "<div>\n",
       "<style scoped>\n",
       "    .dataframe tbody tr th:only-of-type {\n",
       "        vertical-align: middle;\n",
       "    }\n",
       "\n",
       "    .dataframe tbody tr th {\n",
       "        vertical-align: top;\n",
       "    }\n",
       "\n",
       "    .dataframe thead th {\n",
       "        text-align: right;\n",
       "    }\n",
       "</style>\n",
       "<table border=\"1\" class=\"dataframe\">\n",
       "  <thead>\n",
       "    <tr style=\"text-align: right;\">\n",
       "      <th></th>\n",
       "      <th></th>\n",
       "      <th>group</th>\n",
       "      <th>cumulative_data_fraction</th>\n",
       "      <th>lower_threshold</th>\n",
       "      <th>lift</th>\n",
       "      <th>cumulative_lift</th>\n",
       "      <th>response_rate</th>\n",
       "      <th>score</th>\n",
       "      <th>cumulative_response_rate</th>\n",
       "      <th>cumulative_score</th>\n",
       "      <th>capture_rate</th>\n",
       "      <th>cumulative_capture_rate</th>\n",
       "      <th>gain</th>\n",
       "      <th>cumulative_gain</th>\n",
       "    </tr>\n",
       "  </thead>\n",
       "  <tbody>\n",
       "    <tr>\n",
       "      <th>0</th>\n",
       "      <td></td>\n",
       "      <td>1</td>\n",
       "      <td>0.010004</td>\n",
       "      <td>0.547158</td>\n",
       "      <td>45.098919</td>\n",
       "      <td>45.098919</td>\n",
       "      <td>0.998640</td>\n",
       "      <td>0.848817</td>\n",
       "      <td>0.998640</td>\n",
       "      <td>0.848817</td>\n",
       "      <td>0.451167</td>\n",
       "      <td>0.451167</td>\n",
       "      <td>4409.891857</td>\n",
       "      <td>4409.891857</td>\n",
       "    </tr>\n",
       "    <tr>\n",
       "      <th>1</th>\n",
       "      <td></td>\n",
       "      <td>2</td>\n",
       "      <td>0.020001</td>\n",
       "      <td>0.130242</td>\n",
       "      <td>34.469305</td>\n",
       "      <td>39.785919</td>\n",
       "      <td>0.763265</td>\n",
       "      <td>0.280687</td>\n",
       "      <td>0.880993</td>\n",
       "      <td>0.564849</td>\n",
       "      <td>0.344595</td>\n",
       "      <td>0.795762</td>\n",
       "      <td>3346.930502</td>\n",
       "      <td>3878.591894</td>\n",
       "    </tr>\n",
       "    <tr>\n",
       "      <th>2</th>\n",
       "      <td></td>\n",
       "      <td>3</td>\n",
       "      <td>0.030005</td>\n",
       "      <td>0.078417</td>\n",
       "      <td>8.718920</td>\n",
       "      <td>29.427905</td>\n",
       "      <td>0.193066</td>\n",
       "      <td>0.098158</td>\n",
       "      <td>0.651632</td>\n",
       "      <td>0.409250</td>\n",
       "      <td>0.087224</td>\n",
       "      <td>0.882985</td>\n",
       "      <td>771.891959</td>\n",
       "      <td>2842.790533</td>\n",
       "    </tr>\n",
       "    <tr>\n",
       "      <th>3</th>\n",
       "      <td></td>\n",
       "      <td>4</td>\n",
       "      <td>0.040002</td>\n",
       "      <td>0.061918</td>\n",
       "      <td>3.963048</td>\n",
       "      <td>23.063856</td>\n",
       "      <td>0.087755</td>\n",
       "      <td>0.069042</td>\n",
       "      <td>0.510711</td>\n",
       "      <td>0.324227</td>\n",
       "      <td>0.039619</td>\n",
       "      <td>0.922604</td>\n",
       "      <td>296.304844</td>\n",
       "      <td>2206.385575</td>\n",
       "    </tr>\n",
       "    <tr>\n",
       "      <th>4</th>\n",
       "      <td></td>\n",
       "      <td>5</td>\n",
       "      <td>0.050006</td>\n",
       "      <td>0.052997</td>\n",
       "      <td>1.934127</td>\n",
       "      <td>18.836760</td>\n",
       "      <td>0.042828</td>\n",
       "      <td>0.057111</td>\n",
       "      <td>0.417109</td>\n",
       "      <td>0.270789</td>\n",
       "      <td>0.019349</td>\n",
       "      <td>0.941953</td>\n",
       "      <td>93.412653</td>\n",
       "      <td>1783.676046</td>\n",
       "    </tr>\n",
       "    <tr>\n",
       "      <th>5</th>\n",
       "      <td></td>\n",
       "      <td>6</td>\n",
       "      <td>0.100005</td>\n",
       "      <td>0.035601</td>\n",
       "      <td>0.841535</td>\n",
       "      <td>9.839759</td>\n",
       "      <td>0.018634</td>\n",
       "      <td>0.042499</td>\n",
       "      <td>0.217885</td>\n",
       "      <td>0.156652</td>\n",
       "      <td>0.042076</td>\n",
       "      <td>0.984029</td>\n",
       "      <td>-15.846521</td>\n",
       "      <td>883.975950</td>\n",
       "    </tr>\n",
       "    <tr>\n",
       "      <th>6</th>\n",
       "      <td></td>\n",
       "      <td>7</td>\n",
       "      <td>0.150005</td>\n",
       "      <td>0.029070</td>\n",
       "      <td>0.214991</td>\n",
       "      <td>6.631649</td>\n",
       "      <td>0.004761</td>\n",
       "      <td>0.031973</td>\n",
       "      <td>0.146847</td>\n",
       "      <td>0.115094</td>\n",
       "      <td>0.010749</td>\n",
       "      <td>0.994779</td>\n",
       "      <td>-78.500936</td>\n",
       "      <td>563.164866</td>\n",
       "    </tr>\n",
       "    <tr>\n",
       "      <th>7</th>\n",
       "      <td></td>\n",
       "      <td>8</td>\n",
       "      <td>0.200004</td>\n",
       "      <td>0.025522</td>\n",
       "      <td>0.055283</td>\n",
       "      <td>4.987613</td>\n",
       "      <td>0.001224</td>\n",
       "      <td>0.027135</td>\n",
       "      <td>0.110442</td>\n",
       "      <td>0.093105</td>\n",
       "      <td>0.002764</td>\n",
       "      <td>0.997543</td>\n",
       "      <td>-94.471669</td>\n",
       "      <td>398.761323</td>\n",
       "    </tr>\n",
       "    <tr>\n",
       "      <th>8</th>\n",
       "      <td></td>\n",
       "      <td>9</td>\n",
       "      <td>0.300003</td>\n",
       "      <td>0.021600</td>\n",
       "      <td>0.024570</td>\n",
       "      <td>3.333303</td>\n",
       "      <td>0.000544</td>\n",
       "      <td>0.023336</td>\n",
       "      <td>0.073810</td>\n",
       "      <td>0.069849</td>\n",
       "      <td>0.002457</td>\n",
       "      <td>1.000000</td>\n",
       "      <td>-97.542964</td>\n",
       "      <td>233.330311</td>\n",
       "    </tr>\n",
       "    <tr>\n",
       "      <th>9</th>\n",
       "      <td></td>\n",
       "      <td>10</td>\n",
       "      <td>0.400001</td>\n",
       "      <td>0.019262</td>\n",
       "      <td>0.000000</td>\n",
       "      <td>2.499991</td>\n",
       "      <td>0.000000</td>\n",
       "      <td>0.020347</td>\n",
       "      <td>0.055358</td>\n",
       "      <td>0.057474</td>\n",
       "      <td>0.000000</td>\n",
       "      <td>1.000000</td>\n",
       "      <td>-100.000000</td>\n",
       "      <td>149.999150</td>\n",
       "    </tr>\n",
       "    <tr>\n",
       "      <th>10</th>\n",
       "      <td></td>\n",
       "      <td>11</td>\n",
       "      <td>0.500000</td>\n",
       "      <td>0.017553</td>\n",
       "      <td>0.000000</td>\n",
       "      <td>2.000000</td>\n",
       "      <td>0.000000</td>\n",
       "      <td>0.018372</td>\n",
       "      <td>0.044287</td>\n",
       "      <td>0.049654</td>\n",
       "      <td>0.000000</td>\n",
       "      <td>1.000000</td>\n",
       "      <td>-100.000000</td>\n",
       "      <td>100.000000</td>\n",
       "    </tr>\n",
       "    <tr>\n",
       "      <th>11</th>\n",
       "      <td></td>\n",
       "      <td>12</td>\n",
       "      <td>0.599999</td>\n",
       "      <td>0.016209</td>\n",
       "      <td>0.000000</td>\n",
       "      <td>1.666670</td>\n",
       "      <td>0.000000</td>\n",
       "      <td>0.016856</td>\n",
       "      <td>0.036906</td>\n",
       "      <td>0.044187</td>\n",
       "      <td>0.000000</td>\n",
       "      <td>1.000000</td>\n",
       "      <td>-100.000000</td>\n",
       "      <td>66.667044</td>\n",
       "    </tr>\n",
       "    <tr>\n",
       "      <th>12</th>\n",
       "      <td></td>\n",
       "      <td>13</td>\n",
       "      <td>0.699997</td>\n",
       "      <td>0.015082</td>\n",
       "      <td>0.000000</td>\n",
       "      <td>1.428577</td>\n",
       "      <td>0.000000</td>\n",
       "      <td>0.015628</td>\n",
       "      <td>0.031633</td>\n",
       "      <td>0.040108</td>\n",
       "      <td>0.000000</td>\n",
       "      <td>1.000000</td>\n",
       "      <td>-100.000000</td>\n",
       "      <td>42.857698</td>\n",
       "    </tr>\n",
       "    <tr>\n",
       "      <th>13</th>\n",
       "      <td></td>\n",
       "      <td>14</td>\n",
       "      <td>0.799996</td>\n",
       "      <td>0.014036</td>\n",
       "      <td>0.000000</td>\n",
       "      <td>1.250006</td>\n",
       "      <td>0.000000</td>\n",
       "      <td>0.014562</td>\n",
       "      <td>0.027679</td>\n",
       "      <td>0.036915</td>\n",
       "      <td>0.000000</td>\n",
       "      <td>1.000000</td>\n",
       "      <td>-100.000000</td>\n",
       "      <td>25.000638</td>\n",
       "    </tr>\n",
       "    <tr>\n",
       "      <th>14</th>\n",
       "      <td></td>\n",
       "      <td>15</td>\n",
       "      <td>0.899995</td>\n",
       "      <td>0.012919</td>\n",
       "      <td>0.000000</td>\n",
       "      <td>1.111118</td>\n",
       "      <td>0.000000</td>\n",
       "      <td>0.013487</td>\n",
       "      <td>0.024604</td>\n",
       "      <td>0.034311</td>\n",
       "      <td>0.000000</td>\n",
       "      <td>1.000000</td>\n",
       "      <td>-100.000000</td>\n",
       "      <td>11.111783</td>\n",
       "    </tr>\n",
       "    <tr>\n",
       "      <th>15</th>\n",
       "      <td></td>\n",
       "      <td>16</td>\n",
       "      <td>1.000000</td>\n",
       "      <td>0.010614</td>\n",
       "      <td>0.000000</td>\n",
       "      <td>1.000000</td>\n",
       "      <td>0.000000</td>\n",
       "      <td>0.012208</td>\n",
       "      <td>0.022143</td>\n",
       "      <td>0.032101</td>\n",
       "      <td>0.000000</td>\n",
       "      <td>1.000000</td>\n",
       "      <td>-100.000000</td>\n",
       "      <td>0.000000</td>\n",
       "    </tr>\n",
       "  </tbody>\n",
       "</table>\n",
       "</div>"
      ],
      "text/plain": [
       "      group  cumulative_data_fraction  lower_threshold       lift  \\\n",
       "0         1                  0.010004         0.547158  45.098919   \n",
       "1         2                  0.020001         0.130242  34.469305   \n",
       "2         3                  0.030005         0.078417   8.718920   \n",
       "3         4                  0.040002         0.061918   3.963048   \n",
       "4         5                  0.050006         0.052997   1.934127   \n",
       "5         6                  0.100005         0.035601   0.841535   \n",
       "6         7                  0.150005         0.029070   0.214991   \n",
       "7         8                  0.200004         0.025522   0.055283   \n",
       "8         9                  0.300003         0.021600   0.024570   \n",
       "9        10                  0.400001         0.019262   0.000000   \n",
       "10       11                  0.500000         0.017553   0.000000   \n",
       "11       12                  0.599999         0.016209   0.000000   \n",
       "12       13                  0.699997         0.015082   0.000000   \n",
       "13       14                  0.799996         0.014036   0.000000   \n",
       "14       15                  0.899995         0.012919   0.000000   \n",
       "15       16                  1.000000         0.010614   0.000000   \n",
       "\n",
       "    cumulative_lift  response_rate     score  cumulative_response_rate  \\\n",
       "0         45.098919       0.998640  0.848817                  0.998640   \n",
       "1         39.785919       0.763265  0.280687                  0.880993   \n",
       "2         29.427905       0.193066  0.098158                  0.651632   \n",
       "3         23.063856       0.087755  0.069042                  0.510711   \n",
       "4         18.836760       0.042828  0.057111                  0.417109   \n",
       "5          9.839759       0.018634  0.042499                  0.217885   \n",
       "6          6.631649       0.004761  0.031973                  0.146847   \n",
       "7          4.987613       0.001224  0.027135                  0.110442   \n",
       "8          3.333303       0.000544  0.023336                  0.073810   \n",
       "9          2.499991       0.000000  0.020347                  0.055358   \n",
       "10         2.000000       0.000000  0.018372                  0.044287   \n",
       "11         1.666670       0.000000  0.016856                  0.036906   \n",
       "12         1.428577       0.000000  0.015628                  0.031633   \n",
       "13         1.250006       0.000000  0.014562                  0.027679   \n",
       "14         1.111118       0.000000  0.013487                  0.024604   \n",
       "15         1.000000       0.000000  0.012208                  0.022143   \n",
       "\n",
       "    cumulative_score  capture_rate  cumulative_capture_rate         gain  \\\n",
       "0           0.848817      0.451167                 0.451167  4409.891857   \n",
       "1           0.564849      0.344595                 0.795762  3346.930502   \n",
       "2           0.409250      0.087224                 0.882985   771.891959   \n",
       "3           0.324227      0.039619                 0.922604   296.304844   \n",
       "4           0.270789      0.019349                 0.941953    93.412653   \n",
       "5           0.156652      0.042076                 0.984029   -15.846521   \n",
       "6           0.115094      0.010749                 0.994779   -78.500936   \n",
       "7           0.093105      0.002764                 0.997543   -94.471669   \n",
       "8           0.069849      0.002457                 1.000000   -97.542964   \n",
       "9           0.057474      0.000000                 1.000000  -100.000000   \n",
       "10          0.049654      0.000000                 1.000000  -100.000000   \n",
       "11          0.044187      0.000000                 1.000000  -100.000000   \n",
       "12          0.040108      0.000000                 1.000000  -100.000000   \n",
       "13          0.036915      0.000000                 1.000000  -100.000000   \n",
       "14          0.034311      0.000000                 1.000000  -100.000000   \n",
       "15          0.032101      0.000000                 1.000000  -100.000000   \n",
       "\n",
       "    cumulative_gain  \n",
       "0       4409.891857  \n",
       "1       3878.591894  \n",
       "2       2842.790533  \n",
       "3       2206.385575  \n",
       "4       1783.676046  \n",
       "5        883.975950  \n",
       "6        563.164866  \n",
       "7        398.761323  \n",
       "8        233.330311  \n",
       "9        149.999150  \n",
       "10       100.000000  \n",
       "11        66.667044  \n",
       "12        42.857698  \n",
       "13        25.000638  \n",
       "14        11.111783  \n",
       "15         0.000000  "
      ]
     },
     "metadata": {
      "tags": []
     },
     "output_type": "display_data"
    },
    {
     "name": "stdout",
     "output_type": "stream",
     "text": [
      "\n",
      "\n",
      "ModelMetricsBinomialGLM: stackedensemble\n",
      "** Reported on cross-validation data. **\n",
      "\n",
      "MSE: 0.02141056383402092\n",
      "RMSE: 0.14632349036986822\n",
      "LogLoss: 0.10212630895949855\n",
      "Null degrees of freedom: 147041\n",
      "Residual degrees of freedom: 147031\n",
      "Null deviance: 31253.273261839444\n",
      "Residual deviance: 30033.713444045166\n",
      "AIC: 30055.713444045166\n",
      "AUC: 0.6797154918681876\n",
      "pr_auc: 0.05266070162341076\n",
      "Gini: 0.35943098373637516\n",
      "\n",
      "Confusion Matrix (Act/Pred) for max f1 @ threshold = 0.04397771521810446: \n"
     ]
    },
    {
     "data": {
      "text/html": [
       "<div>\n",
       "<style scoped>\n",
       "    .dataframe tbody tr th:only-of-type {\n",
       "        vertical-align: middle;\n",
       "    }\n",
       "\n",
       "    .dataframe tbody tr th {\n",
       "        vertical-align: top;\n",
       "    }\n",
       "\n",
       "    .dataframe thead th {\n",
       "        text-align: right;\n",
       "    }\n",
       "</style>\n",
       "<table border=\"1\" class=\"dataframe\">\n",
       "  <thead>\n",
       "    <tr style=\"text-align: right;\">\n",
       "      <th></th>\n",
       "      <th></th>\n",
       "      <th>0</th>\n",
       "      <th>1</th>\n",
       "      <th>Error</th>\n",
       "      <th>Rate</th>\n",
       "    </tr>\n",
       "  </thead>\n",
       "  <tbody>\n",
       "    <tr>\n",
       "      <th>0</th>\n",
       "      <td>0</td>\n",
       "      <td>136504.0</td>\n",
       "      <td>7282.0</td>\n",
       "      <td>0.0506</td>\n",
       "      <td>(7282.0/143786.0)</td>\n",
       "    </tr>\n",
       "    <tr>\n",
       "      <th>1</th>\n",
       "      <td>1</td>\n",
       "      <td>2713.0</td>\n",
       "      <td>543.0</td>\n",
       "      <td>0.8332</td>\n",
       "      <td>(2713.0/3256.0)</td>\n",
       "    </tr>\n",
       "    <tr>\n",
       "      <th>2</th>\n",
       "      <td>Total</td>\n",
       "      <td>139217.0</td>\n",
       "      <td>7825.0</td>\n",
       "      <td>0.068</td>\n",
       "      <td>(9995.0/147042.0)</td>\n",
       "    </tr>\n",
       "  </tbody>\n",
       "</table>\n",
       "</div>"
      ],
      "text/plain": [
       "                 0       1   Error                Rate\n",
       "0      0  136504.0  7282.0  0.0506   (7282.0/143786.0)\n",
       "1      1    2713.0   543.0  0.8332     (2713.0/3256.0)\n",
       "2  Total  139217.0  7825.0   0.068   (9995.0/147042.0)"
      ]
     },
     "metadata": {
      "tags": []
     },
     "output_type": "display_data"
    },
    {
     "name": "stdout",
     "output_type": "stream",
     "text": [
      "\n",
      "Maximum Metrics: Maximum metrics at their respective thresholds\n"
     ]
    },
    {
     "data": {
      "text/html": [
       "<div>\n",
       "<style scoped>\n",
       "    .dataframe tbody tr th:only-of-type {\n",
       "        vertical-align: middle;\n",
       "    }\n",
       "\n",
       "    .dataframe tbody tr th {\n",
       "        vertical-align: top;\n",
       "    }\n",
       "\n",
       "    .dataframe thead th {\n",
       "        text-align: right;\n",
       "    }\n",
       "</style>\n",
       "<table border=\"1\" class=\"dataframe\">\n",
       "  <thead>\n",
       "    <tr style=\"text-align: right;\">\n",
       "      <th></th>\n",
       "      <th>metric</th>\n",
       "      <th>threshold</th>\n",
       "      <th>value</th>\n",
       "      <th>idx</th>\n",
       "    </tr>\n",
       "  </thead>\n",
       "  <tbody>\n",
       "    <tr>\n",
       "      <th>0</th>\n",
       "      <td>max f1</td>\n",
       "      <td>0.043978</td>\n",
       "      <td>0.098006</td>\n",
       "      <td>219.0</td>\n",
       "    </tr>\n",
       "    <tr>\n",
       "      <th>1</th>\n",
       "      <td>max f2</td>\n",
       "      <td>0.025579</td>\n",
       "      <td>0.161852</td>\n",
       "      <td>289.0</td>\n",
       "    </tr>\n",
       "    <tr>\n",
       "      <th>2</th>\n",
       "      <td>max f0point5</td>\n",
       "      <td>0.056371</td>\n",
       "      <td>0.084874</td>\n",
       "      <td>188.0</td>\n",
       "    </tr>\n",
       "    <tr>\n",
       "      <th>3</th>\n",
       "      <td>max accuracy</td>\n",
       "      <td>0.751359</td>\n",
       "      <td>0.977938</td>\n",
       "      <td>12.0</td>\n",
       "    </tr>\n",
       "    <tr>\n",
       "      <th>4</th>\n",
       "      <td>max precision</td>\n",
       "      <td>0.999344</td>\n",
       "      <td>1.000000</td>\n",
       "      <td>0.0</td>\n",
       "    </tr>\n",
       "    <tr>\n",
       "      <th>5</th>\n",
       "      <td>max recall</td>\n",
       "      <td>0.010759</td>\n",
       "      <td>1.000000</td>\n",
       "      <td>398.0</td>\n",
       "    </tr>\n",
       "    <tr>\n",
       "      <th>6</th>\n",
       "      <td>max specificity</td>\n",
       "      <td>0.999344</td>\n",
       "      <td>1.000000</td>\n",
       "      <td>0.0</td>\n",
       "    </tr>\n",
       "    <tr>\n",
       "      <th>7</th>\n",
       "      <td>max absolute_mcc</td>\n",
       "      <td>0.032499</td>\n",
       "      <td>0.083443</td>\n",
       "      <td>257.0</td>\n",
       "    </tr>\n",
       "    <tr>\n",
       "      <th>8</th>\n",
       "      <td>max min_per_class_accuracy</td>\n",
       "      <td>0.019950</td>\n",
       "      <td>0.627457</td>\n",
       "      <td>323.0</td>\n",
       "    </tr>\n",
       "    <tr>\n",
       "      <th>9</th>\n",
       "      <td>max mean_per_class_accuracy</td>\n",
       "      <td>0.019446</td>\n",
       "      <td>0.630638</td>\n",
       "      <td>327.0</td>\n",
       "    </tr>\n",
       "    <tr>\n",
       "      <th>10</th>\n",
       "      <td>max tns</td>\n",
       "      <td>0.999344</td>\n",
       "      <td>143786.000000</td>\n",
       "      <td>0.0</td>\n",
       "    </tr>\n",
       "    <tr>\n",
       "      <th>11</th>\n",
       "      <td>max fns</td>\n",
       "      <td>0.999344</td>\n",
       "      <td>3252.000000</td>\n",
       "      <td>0.0</td>\n",
       "    </tr>\n",
       "    <tr>\n",
       "      <th>12</th>\n",
       "      <td>max fps</td>\n",
       "      <td>0.010412</td>\n",
       "      <td>143786.000000</td>\n",
       "      <td>399.0</td>\n",
       "    </tr>\n",
       "    <tr>\n",
       "      <th>13</th>\n",
       "      <td>max tps</td>\n",
       "      <td>0.010759</td>\n",
       "      <td>3256.000000</td>\n",
       "      <td>398.0</td>\n",
       "    </tr>\n",
       "    <tr>\n",
       "      <th>14</th>\n",
       "      <td>max tnr</td>\n",
       "      <td>0.999344</td>\n",
       "      <td>1.000000</td>\n",
       "      <td>0.0</td>\n",
       "    </tr>\n",
       "    <tr>\n",
       "      <th>15</th>\n",
       "      <td>max fnr</td>\n",
       "      <td>0.999344</td>\n",
       "      <td>0.998771</td>\n",
       "      <td>0.0</td>\n",
       "    </tr>\n",
       "    <tr>\n",
       "      <th>16</th>\n",
       "      <td>max fpr</td>\n",
       "      <td>0.010412</td>\n",
       "      <td>1.000000</td>\n",
       "      <td>399.0</td>\n",
       "    </tr>\n",
       "    <tr>\n",
       "      <th>17</th>\n",
       "      <td>max tpr</td>\n",
       "      <td>0.010759</td>\n",
       "      <td>1.000000</td>\n",
       "      <td>398.0</td>\n",
       "    </tr>\n",
       "  </tbody>\n",
       "</table>\n",
       "</div>"
      ],
      "text/plain": [
       "                         metric  threshold          value    idx\n",
       "0                        max f1   0.043978       0.098006  219.0\n",
       "1                        max f2   0.025579       0.161852  289.0\n",
       "2                  max f0point5   0.056371       0.084874  188.0\n",
       "3                  max accuracy   0.751359       0.977938   12.0\n",
       "4                 max precision   0.999344       1.000000    0.0\n",
       "5                    max recall   0.010759       1.000000  398.0\n",
       "6               max specificity   0.999344       1.000000    0.0\n",
       "7              max absolute_mcc   0.032499       0.083443  257.0\n",
       "8    max min_per_class_accuracy   0.019950       0.627457  323.0\n",
       "9   max mean_per_class_accuracy   0.019446       0.630638  327.0\n",
       "10                      max tns   0.999344  143786.000000    0.0\n",
       "11                      max fns   0.999344    3252.000000    0.0\n",
       "12                      max fps   0.010412  143786.000000  399.0\n",
       "13                      max tps   0.010759    3256.000000  398.0\n",
       "14                      max tnr   0.999344       1.000000    0.0\n",
       "15                      max fnr   0.999344       0.998771    0.0\n",
       "16                      max fpr   0.010412       1.000000  399.0\n",
       "17                      max tpr   0.010759       1.000000  398.0"
      ]
     },
     "metadata": {
      "tags": []
     },
     "output_type": "display_data"
    },
    {
     "name": "stdout",
     "output_type": "stream",
     "text": [
      "\n",
      "Gains/Lift Table: Avg response rate:  2.21 %, avg score:  2.21 %\n"
     ]
    },
    {
     "data": {
      "text/html": [
       "<div>\n",
       "<style scoped>\n",
       "    .dataframe tbody tr th:only-of-type {\n",
       "        vertical-align: middle;\n",
       "    }\n",
       "\n",
       "    .dataframe tbody tr th {\n",
       "        vertical-align: top;\n",
       "    }\n",
       "\n",
       "    .dataframe thead th {\n",
       "        text-align: right;\n",
       "    }\n",
       "</style>\n",
       "<table border=\"1\" class=\"dataframe\">\n",
       "  <thead>\n",
       "    <tr style=\"text-align: right;\">\n",
       "      <th></th>\n",
       "      <th></th>\n",
       "      <th>group</th>\n",
       "      <th>cumulative_data_fraction</th>\n",
       "      <th>lower_threshold</th>\n",
       "      <th>lift</th>\n",
       "      <th>cumulative_lift</th>\n",
       "      <th>response_rate</th>\n",
       "      <th>score</th>\n",
       "      <th>cumulative_response_rate</th>\n",
       "      <th>cumulative_score</th>\n",
       "      <th>capture_rate</th>\n",
       "      <th>cumulative_capture_rate</th>\n",
       "      <th>gain</th>\n",
       "      <th>cumulative_gain</th>\n",
       "    </tr>\n",
       "  </thead>\n",
       "  <tbody>\n",
       "    <tr>\n",
       "      <th>0</th>\n",
       "      <td></td>\n",
       "      <td>1</td>\n",
       "      <td>0.010004</td>\n",
       "      <td>0.087424</td>\n",
       "      <td>4.113856</td>\n",
       "      <td>4.113856</td>\n",
       "      <td>0.091094</td>\n",
       "      <td>0.144696</td>\n",
       "      <td>0.091094</td>\n",
       "      <td>0.144696</td>\n",
       "      <td>0.041155</td>\n",
       "      <td>0.041155</td>\n",
       "      <td>311.385642</td>\n",
       "      <td>311.385642</td>\n",
       "    </tr>\n",
       "    <tr>\n",
       "      <th>1</th>\n",
       "      <td></td>\n",
       "      <td>2</td>\n",
       "      <td>0.020001</td>\n",
       "      <td>0.065587</td>\n",
       "      <td>3.502229</td>\n",
       "      <td>3.808147</td>\n",
       "      <td>0.077551</td>\n",
       "      <td>0.074758</td>\n",
       "      <td>0.084325</td>\n",
       "      <td>0.109739</td>\n",
       "      <td>0.035012</td>\n",
       "      <td>0.076167</td>\n",
       "      <td>250.222885</td>\n",
       "      <td>280.814662</td>\n",
       "    </tr>\n",
       "    <tr>\n",
       "      <th>2</th>\n",
       "      <td></td>\n",
       "      <td>3</td>\n",
       "      <td>0.030005</td>\n",
       "      <td>0.055725</td>\n",
       "      <td>3.223544</td>\n",
       "      <td>3.613235</td>\n",
       "      <td>0.071380</td>\n",
       "      <td>0.060280</td>\n",
       "      <td>0.080009</td>\n",
       "      <td>0.093249</td>\n",
       "      <td>0.032248</td>\n",
       "      <td>0.108415</td>\n",
       "      <td>222.354421</td>\n",
       "      <td>261.323498</td>\n",
       "    </tr>\n",
       "    <tr>\n",
       "      <th>3</th>\n",
       "      <td></td>\n",
       "      <td>4</td>\n",
       "      <td>0.040002</td>\n",
       "      <td>0.049500</td>\n",
       "      <td>2.365541</td>\n",
       "      <td>3.301417</td>\n",
       "      <td>0.052381</td>\n",
       "      <td>0.052401</td>\n",
       "      <td>0.073104</td>\n",
       "      <td>0.083040</td>\n",
       "      <td>0.023649</td>\n",
       "      <td>0.132064</td>\n",
       "      <td>136.554054</td>\n",
       "      <td>230.141743</td>\n",
       "    </tr>\n",
       "    <tr>\n",
       "      <th>4</th>\n",
       "      <td></td>\n",
       "      <td>5</td>\n",
       "      <td>0.050006</td>\n",
       "      <td>0.044952</td>\n",
       "      <td>2.486734</td>\n",
       "      <td>3.138436</td>\n",
       "      <td>0.055065</td>\n",
       "      <td>0.047098</td>\n",
       "      <td>0.069495</td>\n",
       "      <td>0.075850</td>\n",
       "      <td>0.024877</td>\n",
       "      <td>0.156941</td>\n",
       "      <td>148.673411</td>\n",
       "      <td>213.843645</td>\n",
       "    </tr>\n",
       "    <tr>\n",
       "      <th>5</th>\n",
       "      <td></td>\n",
       "      <td>6</td>\n",
       "      <td>0.100005</td>\n",
       "      <td>0.033641</td>\n",
       "      <td>2.137621</td>\n",
       "      <td>2.638063</td>\n",
       "      <td>0.047334</td>\n",
       "      <td>0.038405</td>\n",
       "      <td>0.058416</td>\n",
       "      <td>0.057128</td>\n",
       "      <td>0.106880</td>\n",
       "      <td>0.263821</td>\n",
       "      <td>113.762121</td>\n",
       "      <td>163.806286</td>\n",
       "    </tr>\n",
       "    <tr>\n",
       "      <th>6</th>\n",
       "      <td></td>\n",
       "      <td>7</td>\n",
       "      <td>0.150005</td>\n",
       "      <td>0.028403</td>\n",
       "      <td>1.627786</td>\n",
       "      <td>2.301319</td>\n",
       "      <td>0.036045</td>\n",
       "      <td>0.030740</td>\n",
       "      <td>0.050959</td>\n",
       "      <td>0.048333</td>\n",
       "      <td>0.081388</td>\n",
       "      <td>0.345209</td>\n",
       "      <td>62.778627</td>\n",
       "      <td>130.131926</td>\n",
       "    </tr>\n",
       "    <tr>\n",
       "      <th>7</th>\n",
       "      <td></td>\n",
       "      <td>8</td>\n",
       "      <td>0.200004</td>\n",
       "      <td>0.025316</td>\n",
       "      <td>1.468079</td>\n",
       "      <td>2.093016</td>\n",
       "      <td>0.032508</td>\n",
       "      <td>0.026743</td>\n",
       "      <td>0.046346</td>\n",
       "      <td>0.042936</td>\n",
       "      <td>0.073403</td>\n",
       "      <td>0.418612</td>\n",
       "      <td>46.807894</td>\n",
       "      <td>109.301627</td>\n",
       "    </tr>\n",
       "    <tr>\n",
       "      <th>8</th>\n",
       "      <td></td>\n",
       "      <td>9</td>\n",
       "      <td>0.300003</td>\n",
       "      <td>0.021709</td>\n",
       "      <td>1.280730</td>\n",
       "      <td>1.822260</td>\n",
       "      <td>0.028360</td>\n",
       "      <td>0.023353</td>\n",
       "      <td>0.040351</td>\n",
       "      <td>0.036408</td>\n",
       "      <td>0.128071</td>\n",
       "      <td>0.546683</td>\n",
       "      <td>28.072995</td>\n",
       "      <td>82.226030</td>\n",
       "    </tr>\n",
       "    <tr>\n",
       "      <th>9</th>\n",
       "      <td></td>\n",
       "      <td>10</td>\n",
       "      <td>0.400001</td>\n",
       "      <td>0.019382</td>\n",
       "      <td>1.090310</td>\n",
       "      <td>1.639276</td>\n",
       "      <td>0.024143</td>\n",
       "      <td>0.020473</td>\n",
       "      <td>0.036299</td>\n",
       "      <td>0.032425</td>\n",
       "      <td>0.109029</td>\n",
       "      <td>0.655713</td>\n",
       "      <td>9.030967</td>\n",
       "      <td>63.927575</td>\n",
       "    </tr>\n",
       "    <tr>\n",
       "      <th>10</th>\n",
       "      <td></td>\n",
       "      <td>11</td>\n",
       "      <td>0.500000</td>\n",
       "      <td>0.017695</td>\n",
       "      <td>0.884533</td>\n",
       "      <td>1.488329</td>\n",
       "      <td>0.019587</td>\n",
       "      <td>0.018502</td>\n",
       "      <td>0.032957</td>\n",
       "      <td>0.029640</td>\n",
       "      <td>0.088452</td>\n",
       "      <td>0.744165</td>\n",
       "      <td>-11.546708</td>\n",
       "      <td>48.832924</td>\n",
       "    </tr>\n",
       "    <tr>\n",
       "      <th>11</th>\n",
       "      <td></td>\n",
       "      <td>12</td>\n",
       "      <td>0.599999</td>\n",
       "      <td>0.016381</td>\n",
       "      <td>0.730968</td>\n",
       "      <td>1.362104</td>\n",
       "      <td>0.016186</td>\n",
       "      <td>0.017014</td>\n",
       "      <td>0.030162</td>\n",
       "      <td>0.027536</td>\n",
       "      <td>0.073096</td>\n",
       "      <td>0.817260</td>\n",
       "      <td>-26.903183</td>\n",
       "      <td>36.210382</td>\n",
       "    </tr>\n",
       "    <tr>\n",
       "      <th>12</th>\n",
       "      <td></td>\n",
       "      <td>13</td>\n",
       "      <td>0.699997</td>\n",
       "      <td>0.015232</td>\n",
       "      <td>0.654186</td>\n",
       "      <td>1.260974</td>\n",
       "      <td>0.014486</td>\n",
       "      <td>0.015794</td>\n",
       "      <td>0.027922</td>\n",
       "      <td>0.025858</td>\n",
       "      <td>0.065418</td>\n",
       "      <td>0.882678</td>\n",
       "      <td>-34.581420</td>\n",
       "      <td>26.097366</td>\n",
       "    </tr>\n",
       "    <tr>\n",
       "      <th>13</th>\n",
       "      <td></td>\n",
       "      <td>14</td>\n",
       "      <td>0.799996</td>\n",
       "      <td>0.014150</td>\n",
       "      <td>0.506764</td>\n",
       "      <td>1.166698</td>\n",
       "      <td>0.011221</td>\n",
       "      <td>0.014691</td>\n",
       "      <td>0.025835</td>\n",
       "      <td>0.024463</td>\n",
       "      <td>0.050676</td>\n",
       "      <td>0.933354</td>\n",
       "      <td>-49.323635</td>\n",
       "      <td>16.669821</td>\n",
       "    </tr>\n",
       "    <tr>\n",
       "      <th>14</th>\n",
       "      <td></td>\n",
       "      <td>15</td>\n",
       "      <td>0.899995</td>\n",
       "      <td>0.013001</td>\n",
       "      <td>0.377769</td>\n",
       "      <td>1.079040</td>\n",
       "      <td>0.008365</td>\n",
       "      <td>0.013594</td>\n",
       "      <td>0.023894</td>\n",
       "      <td>0.023255</td>\n",
       "      <td>0.037776</td>\n",
       "      <td>0.971130</td>\n",
       "      <td>-62.223073</td>\n",
       "      <td>7.904010</td>\n",
       "    </tr>\n",
       "    <tr>\n",
       "      <th>15</th>\n",
       "      <td></td>\n",
       "      <td>16</td>\n",
       "      <td>1.000000</td>\n",
       "      <td>0.009826</td>\n",
       "      <td>0.288682</td>\n",
       "      <td>1.000000</td>\n",
       "      <td>0.006392</td>\n",
       "      <td>0.012136</td>\n",
       "      <td>0.022143</td>\n",
       "      <td>0.022143</td>\n",
       "      <td>0.028870</td>\n",
       "      <td>1.000000</td>\n",
       "      <td>-71.131792</td>\n",
       "      <td>0.000000</td>\n",
       "    </tr>\n",
       "  </tbody>\n",
       "</table>\n",
       "</div>"
      ],
      "text/plain": [
       "      group  cumulative_data_fraction  lower_threshold      lift  \\\n",
       "0         1                  0.010004         0.087424  4.113856   \n",
       "1         2                  0.020001         0.065587  3.502229   \n",
       "2         3                  0.030005         0.055725  3.223544   \n",
       "3         4                  0.040002         0.049500  2.365541   \n",
       "4         5                  0.050006         0.044952  2.486734   \n",
       "5         6                  0.100005         0.033641  2.137621   \n",
       "6         7                  0.150005         0.028403  1.627786   \n",
       "7         8                  0.200004         0.025316  1.468079   \n",
       "8         9                  0.300003         0.021709  1.280730   \n",
       "9        10                  0.400001         0.019382  1.090310   \n",
       "10       11                  0.500000         0.017695  0.884533   \n",
       "11       12                  0.599999         0.016381  0.730968   \n",
       "12       13                  0.699997         0.015232  0.654186   \n",
       "13       14                  0.799996         0.014150  0.506764   \n",
       "14       15                  0.899995         0.013001  0.377769   \n",
       "15       16                  1.000000         0.009826  0.288682   \n",
       "\n",
       "    cumulative_lift  response_rate     score  cumulative_response_rate  \\\n",
       "0          4.113856       0.091094  0.144696                  0.091094   \n",
       "1          3.808147       0.077551  0.074758                  0.084325   \n",
       "2          3.613235       0.071380  0.060280                  0.080009   \n",
       "3          3.301417       0.052381  0.052401                  0.073104   \n",
       "4          3.138436       0.055065  0.047098                  0.069495   \n",
       "5          2.638063       0.047334  0.038405                  0.058416   \n",
       "6          2.301319       0.036045  0.030740                  0.050959   \n",
       "7          2.093016       0.032508  0.026743                  0.046346   \n",
       "8          1.822260       0.028360  0.023353                  0.040351   \n",
       "9          1.639276       0.024143  0.020473                  0.036299   \n",
       "10         1.488329       0.019587  0.018502                  0.032957   \n",
       "11         1.362104       0.016186  0.017014                  0.030162   \n",
       "12         1.260974       0.014486  0.015794                  0.027922   \n",
       "13         1.166698       0.011221  0.014691                  0.025835   \n",
       "14         1.079040       0.008365  0.013594                  0.023894   \n",
       "15         1.000000       0.006392  0.012136                  0.022143   \n",
       "\n",
       "    cumulative_score  capture_rate  cumulative_capture_rate        gain  \\\n",
       "0           0.144696      0.041155                 0.041155  311.385642   \n",
       "1           0.109739      0.035012                 0.076167  250.222885   \n",
       "2           0.093249      0.032248                 0.108415  222.354421   \n",
       "3           0.083040      0.023649                 0.132064  136.554054   \n",
       "4           0.075850      0.024877                 0.156941  148.673411   \n",
       "5           0.057128      0.106880                 0.263821  113.762121   \n",
       "6           0.048333      0.081388                 0.345209   62.778627   \n",
       "7           0.042936      0.073403                 0.418612   46.807894   \n",
       "8           0.036408      0.128071                 0.546683   28.072995   \n",
       "9           0.032425      0.109029                 0.655713    9.030967   \n",
       "10          0.029640      0.088452                 0.744165  -11.546708   \n",
       "11          0.027536      0.073096                 0.817260  -26.903183   \n",
       "12          0.025858      0.065418                 0.882678  -34.581420   \n",
       "13          0.024463      0.050676                 0.933354  -49.323635   \n",
       "14          0.023255      0.037776                 0.971130  -62.223073   \n",
       "15          0.022143      0.028870                 1.000000  -71.131792   \n",
       "\n",
       "    cumulative_gain  \n",
       "0        311.385642  \n",
       "1        280.814662  \n",
       "2        261.323498  \n",
       "3        230.141743  \n",
       "4        213.843645  \n",
       "5        163.806286  \n",
       "6        130.131926  \n",
       "7        109.301627  \n",
       "8         82.226030  \n",
       "9         63.927575  \n",
       "10        48.832924  \n",
       "11        36.210382  \n",
       "12        26.097366  \n",
       "13        16.669821  \n",
       "14         7.904010  \n",
       "15         0.000000  "
      ]
     },
     "metadata": {
      "tags": []
     },
     "output_type": "display_data"
    },
    {
     "name": "stdout",
     "output_type": "stream",
     "text": [
      "\n"
     ]
    },
    {
     "data": {
      "text/plain": []
     },
     "execution_count": 142,
     "metadata": {
      "tags": []
     },
     "output_type": "execute_result"
    }
   ],
   "source": [
    "# The leader model is stored here\n",
    "aml.leader"
   ]
  },
  {
   "cell_type": "code",
   "execution_count": 0,
   "metadata": {
    "colab": {
     "base_uri": "https://localhost:8080/",
     "height": 34
    },
    "colab_type": "code",
    "id": "QUbpsOzWYPSQ",
    "outputId": "82acc4eb-2562-4dd0-c56a-5751d0f3e45f"
   },
   "outputs": [
    {
     "name": "stdout",
     "output_type": "stream",
     "text": [
      "stackedensemble prediction progress: |████████████████████████████████████| 100%\n"
     ]
    }
   ],
   "source": [
    "# If you need to generate predictions on a test set, you can make\n",
    "# predictions directly on the `\"H2OAutoML\"` object, or on the leader\n",
    "# model object directly\n",
    "# preds = aml.predict(val)\n",
    "# # or:\n",
    "# preds_leader = aml.leader.predict(val)"
   ]
  },
  {
   "cell_type": "code",
   "execution_count": 0,
   "metadata": {
    "colab": {},
    "colab_type": "code",
    "id": "3BZlIkuxUS_V"
   },
   "outputs": [],
   "source": [
    "xtest = htest.columns\n",
    "ytest = 'goal1'\n",
    "xtest.remove(ytest)"
   ]
  },
  {
   "cell_type": "code",
   "execution_count": 148,
   "metadata": {
    "colab": {
     "base_uri": "https://localhost:8080/",
     "height": 302
    },
    "colab_type": "code",
    "id": "PnJSTirAVYuD",
    "outputId": "d41e1dcd-9688-4f8b-b397-43bb675e5df3"
   },
   "outputs": [
    {
     "ename": "ValueError",
     "evalue": "ignored",
     "output_type": "error",
     "traceback": [
      "\u001b[0;31m---------------------------------------------------------------------------\u001b[0m",
      "\u001b[0;31mValueError\u001b[0m                                Traceback (most recent call last)",
      "\u001b[0;32m<ipython-input-148-01fa4f0405d0>\u001b[0m in \u001b[0;36m<module>\u001b[0;34m()\u001b[0m\n\u001b[0;32m----> 1\u001b[0;31m \u001b[0mpred\u001b[0m \u001b[0;34m=\u001b[0m \u001b[0maml\u001b[0m\u001b[0;34m.\u001b[0m\u001b[0mleader\u001b[0m\u001b[0;34m.\u001b[0m\u001b[0mpredict\u001b[0m\u001b[0;34m(\u001b[0m\u001b[0mxtest\u001b[0m\u001b[0;34m)\u001b[0m\u001b[0;34m\u001b[0m\u001b[0;34m\u001b[0m\u001b[0m\n\u001b[0m",
      "\u001b[0;32m/usr/local/lib/python3.6/dist-packages/h2o/model/model_base.py\u001b[0m in \u001b[0;36mpredict\u001b[0;34m(self, test_data, custom_metric, custom_metric_func)\u001b[0m\n\u001b[1;32m    226\u001b[0m                              \"The argument 'eval_func_ref' cannot be specified when eval_func is specified, \")\n\u001b[1;32m    227\u001b[0m             \u001b[0meval_func_ref\u001b[0m \u001b[0;34m=\u001b[0m \u001b[0mh2o\u001b[0m\u001b[0;34m.\u001b[0m\u001b[0mupload_custom_metric\u001b[0m\u001b[0;34m(\u001b[0m\u001b[0mcustom_metric\u001b[0m\u001b[0;34m)\u001b[0m\u001b[0;34m\u001b[0m\u001b[0;34m\u001b[0m\u001b[0m\n\u001b[0;32m--> 228\u001b[0;31m         \u001b[0;32mif\u001b[0m \u001b[0;32mnot\u001b[0m \u001b[0misinstance\u001b[0m\u001b[0;34m(\u001b[0m\u001b[0mtest_data\u001b[0m\u001b[0;34m,\u001b[0m \u001b[0mh2o\u001b[0m\u001b[0;34m.\u001b[0m\u001b[0mH2OFrame\u001b[0m\u001b[0;34m)\u001b[0m\u001b[0;34m:\u001b[0m \u001b[0;32mraise\u001b[0m \u001b[0mValueError\u001b[0m\u001b[0;34m(\u001b[0m\u001b[0;34m\"test_data must be an instance of H2OFrame\"\u001b[0m\u001b[0;34m)\u001b[0m\u001b[0;34m\u001b[0m\u001b[0;34m\u001b[0m\u001b[0m\n\u001b[0m\u001b[1;32m    229\u001b[0m         j = H2OJob(h2o.api(\"POST /4/Predictions/models/%s/frames/%s\" % (self.model_id, test_data.frame_id), data = {'custom_metric_func': custom_metric_func}),\n\u001b[1;32m    230\u001b[0m                    self._model_json[\"algo\"] + \" prediction\")\n",
      "\u001b[0;31mValueError\u001b[0m: test_data must be an instance of H2OFrame"
     ]
    }
   ],
   "source": [
    "pred = aml.leader.predict(xtest)"
   ]
  },
  {
   "cell_type": "code",
   "execution_count": 0,
   "metadata": {
    "colab": {
     "base_uri": "https://localhost:8080/",
     "height": 34
    },
    "colab_type": "code",
    "id": "7l8veqEUYPSU",
    "outputId": "62bbc3db-9e41-4177-c75d-783b1c8dea69"
   },
   "outputs": [
    {
     "name": "stdout",
     "output_type": "stream",
     "text": [
      "stackedensemble prediction progress: |████████████████████████████████████| 100%\n"
     ]
    }
   ],
   "source": [
    "pred = aml.leader.predict(htest)"
   ]
  },
  {
   "cell_type": "code",
   "execution_count": 0,
   "metadata": {
    "colab": {
     "base_uri": "https://localhost:8080/",
     "height": 250
    },
    "colab_type": "code",
    "id": "nuTCG5E6YPSW",
    "outputId": "5dfb82d5-d760-4446-b9f6-902d7d204395"
   },
   "outputs": [
    {
     "data": {
      "text/html": [
       "<table>\n",
       "<thead>\n",
       "<tr><th style=\"text-align: right;\">  predict</th><th style=\"text-align: right;\">      p0</th><th style=\"text-align: right;\">       p1</th></tr>\n",
       "</thead>\n",
       "<tbody>\n",
       "<tr><td style=\"text-align: right;\">        0</td><td style=\"text-align: right;\">0.987795</td><td style=\"text-align: right;\">0.0122049</td></tr>\n",
       "<tr><td style=\"text-align: right;\">        0</td><td style=\"text-align: right;\">0.987919</td><td style=\"text-align: right;\">0.0120808</td></tr>\n",
       "<tr><td style=\"text-align: right;\">        0</td><td style=\"text-align: right;\">0.971605</td><td style=\"text-align: right;\">0.0283948</td></tr>\n",
       "<tr><td style=\"text-align: right;\">        0</td><td style=\"text-align: right;\">0.975712</td><td style=\"text-align: right;\">0.0242881</td></tr>\n",
       "<tr><td style=\"text-align: right;\">        0</td><td style=\"text-align: right;\">0.989408</td><td style=\"text-align: right;\">0.0105924</td></tr>\n",
       "<tr><td style=\"text-align: right;\">        0</td><td style=\"text-align: right;\">0.986147</td><td style=\"text-align: right;\">0.0138534</td></tr>\n",
       "<tr><td style=\"text-align: right;\">        0</td><td style=\"text-align: right;\">0.986612</td><td style=\"text-align: right;\">0.0133883</td></tr>\n",
       "<tr><td style=\"text-align: right;\">        0</td><td style=\"text-align: right;\">0.982519</td><td style=\"text-align: right;\">0.0174815</td></tr>\n",
       "<tr><td style=\"text-align: right;\">        0</td><td style=\"text-align: right;\">0.97643 </td><td style=\"text-align: right;\">0.0235699</td></tr>\n",
       "<tr><td style=\"text-align: right;\">        0</td><td style=\"text-align: right;\">0.984704</td><td style=\"text-align: right;\">0.0152955</td></tr>\n",
       "</tbody>\n",
       "</table>"
      ]
     },
     "metadata": {
      "tags": []
     },
     "output_type": "display_data"
    },
    {
     "data": {
      "text/plain": []
     },
     "execution_count": 14,
     "metadata": {
      "tags": []
     },
     "output_type": "execute_result"
    }
   ],
   "source": [
    "pred"
   ]
  },
  {
   "cell_type": "code",
   "execution_count": 0,
   "metadata": {
    "colab": {},
    "colab_type": "code",
    "id": "8gEboytjYPSY"
   },
   "outputs": [],
   "source": [
    "pred_df = pred.as_data_frame()\n",
    "pred_res = pred_df.p1\n",
    "orderid_df = orderid.as_data_frame()\n",
    "# orderid_df = pd.DataFrame({'orderid': orderid})\n",
    "res = pd.concat([orderid_df,pred_res],axis=1, ignore_index = True)\n",
    "res.columns = ['orderid','proba']\n"
   ]
  },
  {
   "cell_type": "code",
   "execution_count": 0,
   "metadata": {
    "colab": {},
    "colab_type": "code",
    "id": "bJXllhwkWmQg"
   },
   "outputs": [],
   "source": [
    "res.to_csv('pred_2.csv', index=False)"
   ]
  },
  {
   "cell_type": "code",
   "execution_count": 0,
   "metadata": {
    "colab": {
     "base_uri": "https://localhost:8080/",
     "height": 419
    },
    "colab_type": "code",
    "id": "HcZ2qgnWWmOL",
    "outputId": "89224cb4-55b3-4351-9c78-387323c85768"
   },
   "outputs": [
    {
     "data": {
      "text/html": [
       "<div>\n",
       "<style scoped>\n",
       "    .dataframe tbody tr th:only-of-type {\n",
       "        vertical-align: middle;\n",
       "    }\n",
       "\n",
       "    .dataframe tbody tr th {\n",
       "        vertical-align: top;\n",
       "    }\n",
       "\n",
       "    .dataframe thead th {\n",
       "        text-align: right;\n",
       "    }\n",
       "</style>\n",
       "<table border=\"1\" class=\"dataframe\">\n",
       "  <thead>\n",
       "    <tr style=\"text-align: right;\">\n",
       "      <th></th>\n",
       "      <th>orderid</th>\n",
       "      <th>proba</th>\n",
       "    </tr>\n",
       "  </thead>\n",
       "  <tbody>\n",
       "    <tr>\n",
       "      <th>0</th>\n",
       "      <td>0</td>\n",
       "      <td>0.012205</td>\n",
       "    </tr>\n",
       "    <tr>\n",
       "      <th>1</th>\n",
       "      <td>1</td>\n",
       "      <td>0.012081</td>\n",
       "    </tr>\n",
       "    <tr>\n",
       "      <th>2</th>\n",
       "      <td>2</td>\n",
       "      <td>0.028395</td>\n",
       "    </tr>\n",
       "    <tr>\n",
       "      <th>3</th>\n",
       "      <td>3</td>\n",
       "      <td>0.024288</td>\n",
       "    </tr>\n",
       "    <tr>\n",
       "      <th>4</th>\n",
       "      <td>4</td>\n",
       "      <td>0.010592</td>\n",
       "    </tr>\n",
       "    <tr>\n",
       "      <th>...</th>\n",
       "      <td>...</td>\n",
       "      <td>...</td>\n",
       "    </tr>\n",
       "    <tr>\n",
       "      <th>455006</th>\n",
       "      <td>455006</td>\n",
       "      <td>0.053199</td>\n",
       "    </tr>\n",
       "    <tr>\n",
       "      <th>455007</th>\n",
       "      <td>455007</td>\n",
       "      <td>0.020995</td>\n",
       "    </tr>\n",
       "    <tr>\n",
       "      <th>455008</th>\n",
       "      <td>455008</td>\n",
       "      <td>0.016173</td>\n",
       "    </tr>\n",
       "    <tr>\n",
       "      <th>455009</th>\n",
       "      <td>455009</td>\n",
       "      <td>0.040752</td>\n",
       "    </tr>\n",
       "    <tr>\n",
       "      <th>455010</th>\n",
       "      <td>455010</td>\n",
       "      <td>0.013956</td>\n",
       "    </tr>\n",
       "  </tbody>\n",
       "</table>\n",
       "<p>455011 rows × 2 columns</p>\n",
       "</div>"
      ],
      "text/plain": [
       "        orderid     proba\n",
       "0             0  0.012205\n",
       "1             1  0.012081\n",
       "2             2  0.028395\n",
       "3             3  0.024288\n",
       "4             4  0.010592\n",
       "...         ...       ...\n",
       "455006   455006  0.053199\n",
       "455007   455007  0.020995\n",
       "455008   455008  0.016173\n",
       "455009   455009  0.040752\n",
       "455010   455010  0.013956\n",
       "\n",
       "[455011 rows x 2 columns]"
      ]
     },
     "execution_count": 16,
     "metadata": {
      "tags": []
     },
     "output_type": "execute_result"
    }
   ],
   "source": [
    "res"
   ]
  }
 ],
 "metadata": {
  "accelerator": "GPU",
  "colab": {
   "collapsed_sections": [],
   "name": "h2o_fastai.ipynb",
   "provenance": [],
   "toc_visible": true
  },
  "kernelspec": {
   "display_name": "Python 3",
   "language": "python",
   "name": "python3"
  },
  "language_info": {
   "codemirror_mode": {
    "name": "ipython",
    "version": 3
   },
   "file_extension": ".py",
   "mimetype": "text/x-python",
   "name": "python",
   "nbconvert_exporter": "python",
   "pygments_lexer": "ipython3",
   "version": "3.7.4"
  },
  "toc": {
   "base_numbering": 1,
   "nav_menu": {},
   "number_sections": true,
   "sideBar": true,
   "skip_h1_title": false,
   "title_cell": "Table of Contents",
   "title_sidebar": "Contents",
   "toc_cell": false,
   "toc_position": {},
   "toc_section_display": true,
   "toc_window_display": false
  }
 },
 "nbformat": 4,
 "nbformat_minor": 1
}
