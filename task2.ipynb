{
  "nbformat": 4,
  "nbformat_minor": 0,
  "metadata": {
    "accelerator": "GPU",
    "colab": {
      "name": "task2.ipynb",
      "provenance": [],
      "collapsed_sections": [
        "VLkab5VAX9Om",
        "7BmhSd8qoa5c",
        "5KRCYYbrS1go",
        "Gdo2978WS1gy",
        "m1Fg9uEJS1hB",
        "BBvJoqcANyRm"
      ],
      "toc_visible": true
    },
    "kernelspec": {
      "name": "python3",
      "display_name": "Python 3"
    },
    "language_info": {
      "codemirror_mode": {
        "name": "ipython",
        "version": 3
      },
      "file_extension": ".py",
      "mimetype": "text/x-python",
      "name": "python",
      "nbconvert_exporter": "python",
      "pygments_lexer": "ipython3",
      "version": "3.7.4"
    },
    "toc": {
      "base_numbering": 1,
      "nav_menu": {},
      "number_sections": true,
      "sideBar": true,
      "skip_h1_title": false,
      "title_cell": "Table of Contents",
      "title_sidebar": "Contents",
      "toc_cell": false,
      "toc_position": {
        "height": "calc(100% - 180px)",
        "left": "10px",
        "top": "150px",
        "width": "370.6px"
      },
      "toc_section_display": true,
      "toc_window_display": true
    },
    "widgets": {
      "application/vnd.jupyter.widget-state+json": {
        "ea43701c0cb44697bb180648cc97de18": {
          "model_module": "@jupyter-widgets/controls",
          "model_name": "HBoxModel",
          "state": {
            "_dom_classes": [],
            "_model_module": "@jupyter-widgets/controls",
            "_model_module_version": "1.5.0",
            "_model_name": "HBoxModel",
            "_view_count": null,
            "_view_module": "@jupyter-widgets/controls",
            "_view_module_version": "1.5.0",
            "_view_name": "HBoxView",
            "box_style": "",
            "children": [
              "IPY_MODEL_79059ecd6a994b658cc0b0d6136df72a",
              "IPY_MODEL_80bf60894cef4be8a2e43d3c0605fa60"
            ],
            "layout": "IPY_MODEL_ff945c11c1fb438aa4089d39938616ba"
          }
        },
        "ff945c11c1fb438aa4089d39938616ba": {
          "model_module": "@jupyter-widgets/base",
          "model_name": "LayoutModel",
          "state": {
            "_model_module": "@jupyter-widgets/base",
            "_model_module_version": "1.2.0",
            "_model_name": "LayoutModel",
            "_view_count": null,
            "_view_module": "@jupyter-widgets/base",
            "_view_module_version": "1.2.0",
            "_view_name": "LayoutView",
            "align_content": null,
            "align_items": null,
            "align_self": null,
            "border": null,
            "bottom": null,
            "display": null,
            "flex": null,
            "flex_flow": null,
            "grid_area": null,
            "grid_auto_columns": null,
            "grid_auto_flow": null,
            "grid_auto_rows": null,
            "grid_column": null,
            "grid_gap": null,
            "grid_row": null,
            "grid_template_areas": null,
            "grid_template_columns": null,
            "grid_template_rows": null,
            "height": null,
            "justify_content": null,
            "justify_items": null,
            "left": null,
            "margin": null,
            "max_height": null,
            "max_width": null,
            "min_height": null,
            "min_width": null,
            "object_fit": null,
            "object_position": null,
            "order": null,
            "overflow": null,
            "overflow_x": null,
            "overflow_y": null,
            "padding": null,
            "right": null,
            "top": null,
            "visibility": null,
            "width": null
          }
        },
        "79059ecd6a994b658cc0b0d6136df72a": {
          "model_module": "@jupyter-widgets/controls",
          "model_name": "FloatProgressModel",
          "state": {
            "_dom_classes": [],
            "_model_module": "@jupyter-widgets/controls",
            "_model_module_version": "1.5.0",
            "_model_name": "FloatProgressModel",
            "_view_count": null,
            "_view_module": "@jupyter-widgets/controls",
            "_view_module_version": "1.5.0",
            "_view_name": "ProgressView",
            "bar_style": "",
            "description": "Optimization Progress: ",
            "description_tooltip": null,
            "layout": "IPY_MODEL_5934a5a7d55644108e5993725f83ce95",
            "max": 20,
            "min": 0,
            "orientation": "horizontal",
            "style": "IPY_MODEL_a5df86d604604d9d8dfb6a9a927588b3",
            "value": 20
          }
        },
        "80bf60894cef4be8a2e43d3c0605fa60": {
          "model_module": "@jupyter-widgets/controls",
          "model_name": "HTMLModel",
          "state": {
            "_dom_classes": [],
            "_model_module": "@jupyter-widgets/controls",
            "_model_module_version": "1.5.0",
            "_model_name": "HTMLModel",
            "_view_count": null,
            "_view_module": "@jupyter-widgets/controls",
            "_view_module_version": "1.5.0",
            "_view_name": "HTMLView",
            "description": "",
            "description_tooltip": null,
            "layout": "IPY_MODEL_21cf21b8ae344c1cb39688f484935ea7",
            "placeholder": "​",
            "style": "IPY_MODEL_a4f7266640a24787a3deccb699bb2367",
            "value": " 51/? [1:01:34&lt;00:00, 141.04s/pipeline]"
          }
        },
        "a5df86d604604d9d8dfb6a9a927588b3": {
          "model_module": "@jupyter-widgets/controls",
          "model_name": "ProgressStyleModel",
          "state": {
            "_model_module": "@jupyter-widgets/controls",
            "_model_module_version": "1.5.0",
            "_model_name": "ProgressStyleModel",
            "_view_count": null,
            "_view_module": "@jupyter-widgets/base",
            "_view_module_version": "1.2.0",
            "_view_name": "StyleView",
            "bar_color": null,
            "description_width": "initial"
          }
        },
        "5934a5a7d55644108e5993725f83ce95": {
          "model_module": "@jupyter-widgets/base",
          "model_name": "LayoutModel",
          "state": {
            "_model_module": "@jupyter-widgets/base",
            "_model_module_version": "1.2.0",
            "_model_name": "LayoutModel",
            "_view_count": null,
            "_view_module": "@jupyter-widgets/base",
            "_view_module_version": "1.2.0",
            "_view_name": "LayoutView",
            "align_content": null,
            "align_items": null,
            "align_self": null,
            "border": null,
            "bottom": null,
            "display": null,
            "flex": null,
            "flex_flow": null,
            "grid_area": null,
            "grid_auto_columns": null,
            "grid_auto_flow": null,
            "grid_auto_rows": null,
            "grid_column": null,
            "grid_gap": null,
            "grid_row": null,
            "grid_template_areas": null,
            "grid_template_columns": null,
            "grid_template_rows": null,
            "height": null,
            "justify_content": null,
            "justify_items": null,
            "left": null,
            "margin": null,
            "max_height": null,
            "max_width": null,
            "min_height": null,
            "min_width": null,
            "object_fit": null,
            "object_position": null,
            "order": null,
            "overflow": null,
            "overflow_x": null,
            "overflow_y": null,
            "padding": null,
            "right": null,
            "top": null,
            "visibility": null,
            "width": null
          }
        },
        "a4f7266640a24787a3deccb699bb2367": {
          "model_module": "@jupyter-widgets/controls",
          "model_name": "DescriptionStyleModel",
          "state": {
            "_model_module": "@jupyter-widgets/controls",
            "_model_module_version": "1.5.0",
            "_model_name": "DescriptionStyleModel",
            "_view_count": null,
            "_view_module": "@jupyter-widgets/base",
            "_view_module_version": "1.2.0",
            "_view_name": "StyleView",
            "description_width": ""
          }
        },
        "21cf21b8ae344c1cb39688f484935ea7": {
          "model_module": "@jupyter-widgets/base",
          "model_name": "LayoutModel",
          "state": {
            "_model_module": "@jupyter-widgets/base",
            "_model_module_version": "1.2.0",
            "_model_name": "LayoutModel",
            "_view_count": null,
            "_view_module": "@jupyter-widgets/base",
            "_view_module_version": "1.2.0",
            "_view_name": "LayoutView",
            "align_content": null,
            "align_items": null,
            "align_self": null,
            "border": null,
            "bottom": null,
            "display": null,
            "flex": null,
            "flex_flow": null,
            "grid_area": null,
            "grid_auto_columns": null,
            "grid_auto_flow": null,
            "grid_auto_rows": null,
            "grid_column": null,
            "grid_gap": null,
            "grid_row": null,
            "grid_template_areas": null,
            "grid_template_columns": null,
            "grid_template_rows": null,
            "height": null,
            "justify_content": null,
            "justify_items": null,
            "left": null,
            "margin": null,
            "max_height": null,
            "max_width": null,
            "min_height": null,
            "min_width": null,
            "object_fit": null,
            "object_position": null,
            "order": null,
            "overflow": null,
            "overflow_x": null,
            "overflow_y": null,
            "padding": null,
            "right": null,
            "top": null,
            "visibility": null,
            "width": null
          }
        },
        "4effa211e0e04927b762555779af5773": {
          "model_module": "@jupyter-widgets/controls",
          "model_name": "HBoxModel",
          "state": {
            "_dom_classes": [],
            "_model_module": "@jupyter-widgets/controls",
            "_model_module_version": "1.5.0",
            "_model_name": "HBoxModel",
            "_view_count": null,
            "_view_module": "@jupyter-widgets/controls",
            "_view_module_version": "1.5.0",
            "_view_name": "HBoxView",
            "box_style": "",
            "children": [
              "IPY_MODEL_06f127a8ab964bd1bfef336ed5d9a458",
              "IPY_MODEL_05ae147f4a82477e90d63fc0bd2efd23"
            ],
            "layout": "IPY_MODEL_a4220273ab5e42219b88ad4170ca48ba"
          }
        },
        "a4220273ab5e42219b88ad4170ca48ba": {
          "model_module": "@jupyter-widgets/base",
          "model_name": "LayoutModel",
          "state": {
            "_model_module": "@jupyter-widgets/base",
            "_model_module_version": "1.2.0",
            "_model_name": "LayoutModel",
            "_view_count": null,
            "_view_module": "@jupyter-widgets/base",
            "_view_module_version": "1.2.0",
            "_view_name": "LayoutView",
            "align_content": null,
            "align_items": null,
            "align_self": null,
            "border": null,
            "bottom": null,
            "display": null,
            "flex": null,
            "flex_flow": null,
            "grid_area": null,
            "grid_auto_columns": null,
            "grid_auto_flow": null,
            "grid_auto_rows": null,
            "grid_column": null,
            "grid_gap": null,
            "grid_row": null,
            "grid_template_areas": null,
            "grid_template_columns": null,
            "grid_template_rows": null,
            "height": null,
            "justify_content": null,
            "justify_items": null,
            "left": null,
            "margin": null,
            "max_height": null,
            "max_width": null,
            "min_height": null,
            "min_width": null,
            "object_fit": null,
            "object_position": null,
            "order": null,
            "overflow": null,
            "overflow_x": null,
            "overflow_y": null,
            "padding": null,
            "right": null,
            "top": null,
            "visibility": null,
            "width": null
          }
        },
        "06f127a8ab964bd1bfef336ed5d9a458": {
          "model_module": "@jupyter-widgets/controls",
          "model_name": "FloatProgressModel",
          "state": {
            "_dom_classes": [],
            "_model_module": "@jupyter-widgets/controls",
            "_model_module_version": "1.5.0",
            "_model_name": "FloatProgressModel",
            "_view_count": null,
            "_view_module": "@jupyter-widgets/controls",
            "_view_module_version": "1.5.0",
            "_view_name": "ProgressView",
            "bar_style": "danger",
            "description": "Optimization Progress:  45%",
            "description_tooltip": null,
            "layout": "IPY_MODEL_2328471642d7471e897fa85036e67472",
            "max": 20,
            "min": 0,
            "orientation": "horizontal",
            "style": "IPY_MODEL_24b7a6d00bf8451b8da0fe935ca30650",
            "value": 9
          }
        },
        "05ae147f4a82477e90d63fc0bd2efd23": {
          "model_module": "@jupyter-widgets/controls",
          "model_name": "HTMLModel",
          "state": {
            "_dom_classes": [],
            "_model_module": "@jupyter-widgets/controls",
            "_model_module_version": "1.5.0",
            "_model_name": "HTMLModel",
            "_view_count": null,
            "_view_module": "@jupyter-widgets/controls",
            "_view_module_version": "1.5.0",
            "_view_name": "HTMLView",
            "description": "",
            "description_tooltip": null,
            "layout": "IPY_MODEL_5e5a6186682c492dbc290c9f7370412b",
            "placeholder": "​",
            "style": "IPY_MODEL_5b0d5656ba644f68b428f2a28e12cc3e",
            "value": " 9/20 [05:04&lt;11:10, 60.99s/pipeline]"
          }
        },
        "24b7a6d00bf8451b8da0fe935ca30650": {
          "model_module": "@jupyter-widgets/controls",
          "model_name": "ProgressStyleModel",
          "state": {
            "_model_module": "@jupyter-widgets/controls",
            "_model_module_version": "1.5.0",
            "_model_name": "ProgressStyleModel",
            "_view_count": null,
            "_view_module": "@jupyter-widgets/base",
            "_view_module_version": "1.2.0",
            "_view_name": "StyleView",
            "bar_color": null,
            "description_width": "initial"
          }
        },
        "2328471642d7471e897fa85036e67472": {
          "model_module": "@jupyter-widgets/base",
          "model_name": "LayoutModel",
          "state": {
            "_model_module": "@jupyter-widgets/base",
            "_model_module_version": "1.2.0",
            "_model_name": "LayoutModel",
            "_view_count": null,
            "_view_module": "@jupyter-widgets/base",
            "_view_module_version": "1.2.0",
            "_view_name": "LayoutView",
            "align_content": null,
            "align_items": null,
            "align_self": null,
            "border": null,
            "bottom": null,
            "display": null,
            "flex": null,
            "flex_flow": null,
            "grid_area": null,
            "grid_auto_columns": null,
            "grid_auto_flow": null,
            "grid_auto_rows": null,
            "grid_column": null,
            "grid_gap": null,
            "grid_row": null,
            "grid_template_areas": null,
            "grid_template_columns": null,
            "grid_template_rows": null,
            "height": null,
            "justify_content": null,
            "justify_items": null,
            "left": null,
            "margin": null,
            "max_height": null,
            "max_width": null,
            "min_height": null,
            "min_width": null,
            "object_fit": null,
            "object_position": null,
            "order": null,
            "overflow": null,
            "overflow_x": null,
            "overflow_y": null,
            "padding": null,
            "right": null,
            "top": null,
            "visibility": null,
            "width": null
          }
        },
        "5b0d5656ba644f68b428f2a28e12cc3e": {
          "model_module": "@jupyter-widgets/controls",
          "model_name": "DescriptionStyleModel",
          "state": {
            "_model_module": "@jupyter-widgets/controls",
            "_model_module_version": "1.5.0",
            "_model_name": "DescriptionStyleModel",
            "_view_count": null,
            "_view_module": "@jupyter-widgets/base",
            "_view_module_version": "1.2.0",
            "_view_name": "StyleView",
            "description_width": ""
          }
        },
        "5e5a6186682c492dbc290c9f7370412b": {
          "model_module": "@jupyter-widgets/base",
          "model_name": "LayoutModel",
          "state": {
            "_model_module": "@jupyter-widgets/base",
            "_model_module_version": "1.2.0",
            "_model_name": "LayoutModel",
            "_view_count": null,
            "_view_module": "@jupyter-widgets/base",
            "_view_module_version": "1.2.0",
            "_view_name": "LayoutView",
            "align_content": null,
            "align_items": null,
            "align_self": null,
            "border": null,
            "bottom": null,
            "display": null,
            "flex": null,
            "flex_flow": null,
            "grid_area": null,
            "grid_auto_columns": null,
            "grid_auto_flow": null,
            "grid_auto_rows": null,
            "grid_column": null,
            "grid_gap": null,
            "grid_row": null,
            "grid_template_areas": null,
            "grid_template_columns": null,
            "grid_template_rows": null,
            "height": null,
            "justify_content": null,
            "justify_items": null,
            "left": null,
            "margin": null,
            "max_height": null,
            "max_width": null,
            "min_height": null,
            "min_width": null,
            "object_fit": null,
            "object_position": null,
            "order": null,
            "overflow": null,
            "overflow_x": null,
            "overflow_y": null,
            "padding": null,
            "right": null,
            "top": null,
            "visibility": null,
            "width": null
          }
        },
        "81f55b507d084ed888cd3ad4219c6093": {
          "model_module": "@jupyter-widgets/controls",
          "model_name": "HBoxModel",
          "state": {
            "_dom_classes": [],
            "_model_module": "@jupyter-widgets/controls",
            "_model_module_version": "1.5.0",
            "_model_name": "HBoxModel",
            "_view_count": null,
            "_view_module": "@jupyter-widgets/controls",
            "_view_module_version": "1.5.0",
            "_view_name": "HBoxView",
            "box_style": "",
            "children": [
              "IPY_MODEL_915409f20fa84b02966d3a519a564276",
              "IPY_MODEL_2fb378c35df04c079be611e5df985ec9"
            ],
            "layout": "IPY_MODEL_57823476d44c49c883619e583c433378"
          }
        },
        "57823476d44c49c883619e583c433378": {
          "model_module": "@jupyter-widgets/base",
          "model_name": "LayoutModel",
          "state": {
            "_model_module": "@jupyter-widgets/base",
            "_model_module_version": "1.2.0",
            "_model_name": "LayoutModel",
            "_view_count": null,
            "_view_module": "@jupyter-widgets/base",
            "_view_module_version": "1.2.0",
            "_view_name": "LayoutView",
            "align_content": null,
            "align_items": null,
            "align_self": null,
            "border": null,
            "bottom": null,
            "display": null,
            "flex": null,
            "flex_flow": null,
            "grid_area": null,
            "grid_auto_columns": null,
            "grid_auto_flow": null,
            "grid_auto_rows": null,
            "grid_column": null,
            "grid_gap": null,
            "grid_row": null,
            "grid_template_areas": null,
            "grid_template_columns": null,
            "grid_template_rows": null,
            "height": null,
            "justify_content": null,
            "justify_items": null,
            "left": null,
            "margin": null,
            "max_height": null,
            "max_width": null,
            "min_height": null,
            "min_width": null,
            "object_fit": null,
            "object_position": null,
            "order": null,
            "overflow": null,
            "overflow_x": null,
            "overflow_y": null,
            "padding": null,
            "right": null,
            "top": null,
            "visibility": null,
            "width": null
          }
        },
        "915409f20fa84b02966d3a519a564276": {
          "model_module": "@jupyter-widgets/controls",
          "model_name": "FloatProgressModel",
          "state": {
            "_dom_classes": [],
            "_model_module": "@jupyter-widgets/controls",
            "_model_module_version": "1.5.0",
            "_model_name": "FloatProgressModel",
            "_view_count": null,
            "_view_module": "@jupyter-widgets/controls",
            "_view_module_version": "1.5.0",
            "_view_name": "ProgressView",
            "bar_style": "",
            "description": "Optimization Progress: ",
            "description_tooltip": null,
            "layout": "IPY_MODEL_7121e8647a6745deb573eea2f9a754be",
            "max": 15,
            "min": 0,
            "orientation": "horizontal",
            "style": "IPY_MODEL_c05d9070741e4b2286692364f41bb507",
            "value": 15
          }
        },
        "2fb378c35df04c079be611e5df985ec9": {
          "model_module": "@jupyter-widgets/controls",
          "model_name": "HTMLModel",
          "state": {
            "_dom_classes": [],
            "_model_module": "@jupyter-widgets/controls",
            "_model_module_version": "1.5.0",
            "_model_name": "HTMLModel",
            "_view_count": null,
            "_view_module": "@jupyter-widgets/controls",
            "_view_module_version": "1.5.0",
            "_view_name": "HTMLView",
            "description": "",
            "description_tooltip": null,
            "layout": "IPY_MODEL_f578a356739e4c1ab0bd19d1c42a8ebd",
            "placeholder": "​",
            "style": "IPY_MODEL_11c4801327544003a1a504d0ac38eb88",
            "value": " 18/? [28:21&lt;00:00, 162.27s/pipeline]"
          }
        },
        "c05d9070741e4b2286692364f41bb507": {
          "model_module": "@jupyter-widgets/controls",
          "model_name": "ProgressStyleModel",
          "state": {
            "_model_module": "@jupyter-widgets/controls",
            "_model_module_version": "1.5.0",
            "_model_name": "ProgressStyleModel",
            "_view_count": null,
            "_view_module": "@jupyter-widgets/base",
            "_view_module_version": "1.2.0",
            "_view_name": "StyleView",
            "bar_color": null,
            "description_width": "initial"
          }
        },
        "7121e8647a6745deb573eea2f9a754be": {
          "model_module": "@jupyter-widgets/base",
          "model_name": "LayoutModel",
          "state": {
            "_model_module": "@jupyter-widgets/base",
            "_model_module_version": "1.2.0",
            "_model_name": "LayoutModel",
            "_view_count": null,
            "_view_module": "@jupyter-widgets/base",
            "_view_module_version": "1.2.0",
            "_view_name": "LayoutView",
            "align_content": null,
            "align_items": null,
            "align_self": null,
            "border": null,
            "bottom": null,
            "display": null,
            "flex": null,
            "flex_flow": null,
            "grid_area": null,
            "grid_auto_columns": null,
            "grid_auto_flow": null,
            "grid_auto_rows": null,
            "grid_column": null,
            "grid_gap": null,
            "grid_row": null,
            "grid_template_areas": null,
            "grid_template_columns": null,
            "grid_template_rows": null,
            "height": null,
            "justify_content": null,
            "justify_items": null,
            "left": null,
            "margin": null,
            "max_height": null,
            "max_width": null,
            "min_height": null,
            "min_width": null,
            "object_fit": null,
            "object_position": null,
            "order": null,
            "overflow": null,
            "overflow_x": null,
            "overflow_y": null,
            "padding": null,
            "right": null,
            "top": null,
            "visibility": null,
            "width": null
          }
        },
        "11c4801327544003a1a504d0ac38eb88": {
          "model_module": "@jupyter-widgets/controls",
          "model_name": "DescriptionStyleModel",
          "state": {
            "_model_module": "@jupyter-widgets/controls",
            "_model_module_version": "1.5.0",
            "_model_name": "DescriptionStyleModel",
            "_view_count": null,
            "_view_module": "@jupyter-widgets/base",
            "_view_module_version": "1.2.0",
            "_view_name": "StyleView",
            "description_width": ""
          }
        },
        "f578a356739e4c1ab0bd19d1c42a8ebd": {
          "model_module": "@jupyter-widgets/base",
          "model_name": "LayoutModel",
          "state": {
            "_model_module": "@jupyter-widgets/base",
            "_model_module_version": "1.2.0",
            "_model_name": "LayoutModel",
            "_view_count": null,
            "_view_module": "@jupyter-widgets/base",
            "_view_module_version": "1.2.0",
            "_view_name": "LayoutView",
            "align_content": null,
            "align_items": null,
            "align_self": null,
            "border": null,
            "bottom": null,
            "display": null,
            "flex": null,
            "flex_flow": null,
            "grid_area": null,
            "grid_auto_columns": null,
            "grid_auto_flow": null,
            "grid_auto_rows": null,
            "grid_column": null,
            "grid_gap": null,
            "grid_row": null,
            "grid_template_areas": null,
            "grid_template_columns": null,
            "grid_template_rows": null,
            "height": null,
            "justify_content": null,
            "justify_items": null,
            "left": null,
            "margin": null,
            "max_height": null,
            "max_width": null,
            "min_height": null,
            "min_width": null,
            "object_fit": null,
            "object_position": null,
            "order": null,
            "overflow": null,
            "overflow_x": null,
            "overflow_y": null,
            "padding": null,
            "right": null,
            "top": null,
            "visibility": null,
            "width": null
          }
        },
        "7b55cb4e6e214210b10c8029c1865087": {
          "model_module": "@jupyter-widgets/controls",
          "model_name": "HBoxModel",
          "state": {
            "_dom_classes": [],
            "_model_module": "@jupyter-widgets/controls",
            "_model_module_version": "1.5.0",
            "_model_name": "HBoxModel",
            "_view_count": null,
            "_view_module": "@jupyter-widgets/controls",
            "_view_module_version": "1.5.0",
            "_view_name": "HBoxView",
            "box_style": "",
            "children": [
              "IPY_MODEL_d19909032ea44b1e9b2ccbf2acd256f9",
              "IPY_MODEL_eaaf7ef0f7454176a9559d18405d25d8"
            ],
            "layout": "IPY_MODEL_8021ab09e40c4923b4890f4bcd0c6c36"
          }
        },
        "8021ab09e40c4923b4890f4bcd0c6c36": {
          "model_module": "@jupyter-widgets/base",
          "model_name": "LayoutModel",
          "state": {
            "_model_module": "@jupyter-widgets/base",
            "_model_module_version": "1.2.0",
            "_model_name": "LayoutModel",
            "_view_count": null,
            "_view_module": "@jupyter-widgets/base",
            "_view_module_version": "1.2.0",
            "_view_name": "LayoutView",
            "align_content": null,
            "align_items": null,
            "align_self": null,
            "border": null,
            "bottom": null,
            "display": null,
            "flex": null,
            "flex_flow": null,
            "grid_area": null,
            "grid_auto_columns": null,
            "grid_auto_flow": null,
            "grid_auto_rows": null,
            "grid_column": null,
            "grid_gap": null,
            "grid_row": null,
            "grid_template_areas": null,
            "grid_template_columns": null,
            "grid_template_rows": null,
            "height": null,
            "justify_content": null,
            "justify_items": null,
            "left": null,
            "margin": null,
            "max_height": null,
            "max_width": null,
            "min_height": null,
            "min_width": null,
            "object_fit": null,
            "object_position": null,
            "order": null,
            "overflow": null,
            "overflow_x": null,
            "overflow_y": null,
            "padding": null,
            "right": null,
            "top": null,
            "visibility": null,
            "width": null
          }
        },
        "d19909032ea44b1e9b2ccbf2acd256f9": {
          "model_module": "@jupyter-widgets/controls",
          "model_name": "IntProgressModel",
          "state": {
            "_dom_classes": [],
            "_model_module": "@jupyter-widgets/controls",
            "_model_module_version": "1.5.0",
            "_model_name": "IntProgressModel",
            "_view_count": null,
            "_view_module": "@jupyter-widgets/controls",
            "_view_module_version": "1.5.0",
            "_view_name": "ProgressView",
            "bar_style": "success",
            "description": "",
            "description_tooltip": null,
            "layout": "IPY_MODEL_4be778b54d034273b954ca424f864fdf",
            "max": 69,
            "min": 0,
            "orientation": "horizontal",
            "style": "IPY_MODEL_81aaed88c6d249c7b803fd9fcf34a50f",
            "value": 69
          }
        },
        "eaaf7ef0f7454176a9559d18405d25d8": {
          "model_module": "@jupyter-widgets/controls",
          "model_name": "HTMLModel",
          "state": {
            "_dom_classes": [],
            "_model_module": "@jupyter-widgets/controls",
            "_model_module_version": "1.5.0",
            "_model_name": "HTMLModel",
            "_view_count": null,
            "_view_module": "@jupyter-widgets/controls",
            "_view_module_version": "1.5.0",
            "_view_name": "HTMLView",
            "description": "",
            "description_tooltip": null,
            "layout": "IPY_MODEL_d5d51edef6384783bfeb29ab6114b362",
            "placeholder": "​",
            "style": "IPY_MODEL_30fb1cd6d6114199a86e03c9bfcf35d3",
            "value": "100% 69/69 [09:49&lt;00:00,  1.36it/s]"
          }
        },
        "81aaed88c6d249c7b803fd9fcf34a50f": {
          "model_module": "@jupyter-widgets/controls",
          "model_name": "ProgressStyleModel",
          "state": {
            "_model_module": "@jupyter-widgets/controls",
            "_model_module_version": "1.5.0",
            "_model_name": "ProgressStyleModel",
            "_view_count": null,
            "_view_module": "@jupyter-widgets/base",
            "_view_module_version": "1.2.0",
            "_view_name": "StyleView",
            "bar_color": null,
            "description_width": ""
          }
        },
        "4be778b54d034273b954ca424f864fdf": {
          "model_module": "@jupyter-widgets/base",
          "model_name": "LayoutModel",
          "state": {
            "_model_module": "@jupyter-widgets/base",
            "_model_module_version": "1.2.0",
            "_model_name": "LayoutModel",
            "_view_count": null,
            "_view_module": "@jupyter-widgets/base",
            "_view_module_version": "1.2.0",
            "_view_name": "LayoutView",
            "align_content": null,
            "align_items": null,
            "align_self": null,
            "border": null,
            "bottom": null,
            "display": null,
            "flex": null,
            "flex_flow": null,
            "grid_area": null,
            "grid_auto_columns": null,
            "grid_auto_flow": null,
            "grid_auto_rows": null,
            "grid_column": null,
            "grid_gap": null,
            "grid_row": null,
            "grid_template_areas": null,
            "grid_template_columns": null,
            "grid_template_rows": null,
            "height": null,
            "justify_content": null,
            "justify_items": null,
            "left": null,
            "margin": null,
            "max_height": null,
            "max_width": null,
            "min_height": null,
            "min_width": null,
            "object_fit": null,
            "object_position": null,
            "order": null,
            "overflow": null,
            "overflow_x": null,
            "overflow_y": null,
            "padding": null,
            "right": null,
            "top": null,
            "visibility": null,
            "width": null
          }
        },
        "30fb1cd6d6114199a86e03c9bfcf35d3": {
          "model_module": "@jupyter-widgets/controls",
          "model_name": "DescriptionStyleModel",
          "state": {
            "_model_module": "@jupyter-widgets/controls",
            "_model_module_version": "1.5.0",
            "_model_name": "DescriptionStyleModel",
            "_view_count": null,
            "_view_module": "@jupyter-widgets/base",
            "_view_module_version": "1.2.0",
            "_view_name": "StyleView",
            "description_width": ""
          }
        },
        "d5d51edef6384783bfeb29ab6114b362": {
          "model_module": "@jupyter-widgets/base",
          "model_name": "LayoutModel",
          "state": {
            "_model_module": "@jupyter-widgets/base",
            "_model_module_version": "1.2.0",
            "_model_name": "LayoutModel",
            "_view_count": null,
            "_view_module": "@jupyter-widgets/base",
            "_view_module_version": "1.2.0",
            "_view_name": "LayoutView",
            "align_content": null,
            "align_items": null,
            "align_self": null,
            "border": null,
            "bottom": null,
            "display": null,
            "flex": null,
            "flex_flow": null,
            "grid_area": null,
            "grid_auto_columns": null,
            "grid_auto_flow": null,
            "grid_auto_rows": null,
            "grid_column": null,
            "grid_gap": null,
            "grid_row": null,
            "grid_template_areas": null,
            "grid_template_columns": null,
            "grid_template_rows": null,
            "height": null,
            "justify_content": null,
            "justify_items": null,
            "left": null,
            "margin": null,
            "max_height": null,
            "max_width": null,
            "min_height": null,
            "min_width": null,
            "object_fit": null,
            "object_position": null,
            "order": null,
            "overflow": null,
            "overflow_x": null,
            "overflow_y": null,
            "padding": null,
            "right": null,
            "top": null,
            "visibility": null,
            "width": null
          }
        },
        "1f70548058bb414ab4166dd4739c03fe": {
          "model_module": "@jupyter-widgets/controls",
          "model_name": "HBoxModel",
          "state": {
            "_dom_classes": [],
            "_model_module": "@jupyter-widgets/controls",
            "_model_module_version": "1.5.0",
            "_model_name": "HBoxModel",
            "_view_count": null,
            "_view_module": "@jupyter-widgets/controls",
            "_view_module_version": "1.5.0",
            "_view_name": "HBoxView",
            "box_style": "",
            "children": [
              "IPY_MODEL_18cc61da82a148f3b093a3aaab5f8973",
              "IPY_MODEL_5b686f8fd05a47bc834fbc022640d9f2"
            ],
            "layout": "IPY_MODEL_0343c1400abf49febf308ab4b3717f2e"
          }
        },
        "0343c1400abf49febf308ab4b3717f2e": {
          "model_module": "@jupyter-widgets/base",
          "model_name": "LayoutModel",
          "state": {
            "_model_module": "@jupyter-widgets/base",
            "_model_module_version": "1.2.0",
            "_model_name": "LayoutModel",
            "_view_count": null,
            "_view_module": "@jupyter-widgets/base",
            "_view_module_version": "1.2.0",
            "_view_name": "LayoutView",
            "align_content": null,
            "align_items": null,
            "align_self": null,
            "border": null,
            "bottom": null,
            "display": null,
            "flex": null,
            "flex_flow": null,
            "grid_area": null,
            "grid_auto_columns": null,
            "grid_auto_flow": null,
            "grid_auto_rows": null,
            "grid_column": null,
            "grid_gap": null,
            "grid_row": null,
            "grid_template_areas": null,
            "grid_template_columns": null,
            "grid_template_rows": null,
            "height": null,
            "justify_content": null,
            "justify_items": null,
            "left": null,
            "margin": null,
            "max_height": null,
            "max_width": null,
            "min_height": null,
            "min_width": null,
            "object_fit": null,
            "object_position": null,
            "order": null,
            "overflow": null,
            "overflow_x": null,
            "overflow_y": null,
            "padding": null,
            "right": null,
            "top": null,
            "visibility": null,
            "width": null
          }
        },
        "18cc61da82a148f3b093a3aaab5f8973": {
          "model_module": "@jupyter-widgets/controls",
          "model_name": "IntProgressModel",
          "state": {
            "_dom_classes": [],
            "_model_module": "@jupyter-widgets/controls",
            "_model_module_version": "1.5.0",
            "_model_name": "IntProgressModel",
            "_view_count": null,
            "_view_module": "@jupyter-widgets/controls",
            "_view_module_version": "1.5.0",
            "_view_name": "ProgressView",
            "bar_style": "success",
            "description": "",
            "description_tooltip": null,
            "layout": "IPY_MODEL_b32a2c3c452b4d3c90643e00a3a04745",
            "max": 1,
            "min": 0,
            "orientation": "horizontal",
            "style": "IPY_MODEL_b30b87d5800d4113ba59566efe260ddc",
            "value": 1
          }
        },
        "5b686f8fd05a47bc834fbc022640d9f2": {
          "model_module": "@jupyter-widgets/controls",
          "model_name": "HTMLModel",
          "state": {
            "_dom_classes": [],
            "_model_module": "@jupyter-widgets/controls",
            "_model_module_version": "1.5.0",
            "_model_name": "HTMLModel",
            "_view_count": null,
            "_view_module": "@jupyter-widgets/controls",
            "_view_module_version": "1.5.0",
            "_view_name": "HTMLView",
            "description": "",
            "description_tooltip": null,
            "layout": "IPY_MODEL_f09cbf553401488297ad4b6a15ed7c9b",
            "placeholder": "​",
            "style": "IPY_MODEL_8e72d7fcc2ca44ab8d7d4ec647beb9ee",
            "value": "21171it [02:33, 137.64it/s]"
          }
        },
        "b30b87d5800d4113ba59566efe260ddc": {
          "model_module": "@jupyter-widgets/controls",
          "model_name": "ProgressStyleModel",
          "state": {
            "_model_module": "@jupyter-widgets/controls",
            "_model_module_version": "1.5.0",
            "_model_name": "ProgressStyleModel",
            "_view_count": null,
            "_view_module": "@jupyter-widgets/base",
            "_view_module_version": "1.2.0",
            "_view_name": "StyleView",
            "bar_color": null,
            "description_width": ""
          }
        },
        "b32a2c3c452b4d3c90643e00a3a04745": {
          "model_module": "@jupyter-widgets/base",
          "model_name": "LayoutModel",
          "state": {
            "_model_module": "@jupyter-widgets/base",
            "_model_module_version": "1.2.0",
            "_model_name": "LayoutModel",
            "_view_count": null,
            "_view_module": "@jupyter-widgets/base",
            "_view_module_version": "1.2.0",
            "_view_name": "LayoutView",
            "align_content": null,
            "align_items": null,
            "align_self": null,
            "border": null,
            "bottom": null,
            "display": null,
            "flex": null,
            "flex_flow": null,
            "grid_area": null,
            "grid_auto_columns": null,
            "grid_auto_flow": null,
            "grid_auto_rows": null,
            "grid_column": null,
            "grid_gap": null,
            "grid_row": null,
            "grid_template_areas": null,
            "grid_template_columns": null,
            "grid_template_rows": null,
            "height": null,
            "justify_content": null,
            "justify_items": null,
            "left": null,
            "margin": null,
            "max_height": null,
            "max_width": null,
            "min_height": null,
            "min_width": null,
            "object_fit": null,
            "object_position": null,
            "order": null,
            "overflow": null,
            "overflow_x": null,
            "overflow_y": null,
            "padding": null,
            "right": null,
            "top": null,
            "visibility": null,
            "width": null
          }
        },
        "8e72d7fcc2ca44ab8d7d4ec647beb9ee": {
          "model_module": "@jupyter-widgets/controls",
          "model_name": "DescriptionStyleModel",
          "state": {
            "_model_module": "@jupyter-widgets/controls",
            "_model_module_version": "1.5.0",
            "_model_name": "DescriptionStyleModel",
            "_view_count": null,
            "_view_module": "@jupyter-widgets/base",
            "_view_module_version": "1.2.0",
            "_view_name": "StyleView",
            "description_width": ""
          }
        },
        "f09cbf553401488297ad4b6a15ed7c9b": {
          "model_module": "@jupyter-widgets/base",
          "model_name": "LayoutModel",
          "state": {
            "_model_module": "@jupyter-widgets/base",
            "_model_module_version": "1.2.0",
            "_model_name": "LayoutModel",
            "_view_count": null,
            "_view_module": "@jupyter-widgets/base",
            "_view_module_version": "1.2.0",
            "_view_name": "LayoutView",
            "align_content": null,
            "align_items": null,
            "align_self": null,
            "border": null,
            "bottom": null,
            "display": null,
            "flex": null,
            "flex_flow": null,
            "grid_area": null,
            "grid_auto_columns": null,
            "grid_auto_flow": null,
            "grid_auto_rows": null,
            "grid_column": null,
            "grid_gap": null,
            "grid_row": null,
            "grid_template_areas": null,
            "grid_template_columns": null,
            "grid_template_rows": null,
            "height": null,
            "justify_content": null,
            "justify_items": null,
            "left": null,
            "margin": null,
            "max_height": null,
            "max_width": null,
            "min_height": null,
            "min_width": null,
            "object_fit": null,
            "object_position": null,
            "order": null,
            "overflow": null,
            "overflow_x": null,
            "overflow_y": null,
            "padding": null,
            "right": null,
            "top": null,
            "visibility": null,
            "width": null
          }
        },
        "52065473e5ef4f9898259c3f0d7e5540": {
          "model_module": "@jupyter-widgets/controls",
          "model_name": "HBoxModel",
          "state": {
            "_dom_classes": [],
            "_model_module": "@jupyter-widgets/controls",
            "_model_module_version": "1.5.0",
            "_model_name": "HBoxModel",
            "_view_count": null,
            "_view_module": "@jupyter-widgets/controls",
            "_view_module_version": "1.5.0",
            "_view_name": "HBoxView",
            "box_style": "",
            "children": [
              "IPY_MODEL_38bc71f00e584dd0bf2591684fa6b80e",
              "IPY_MODEL_4cb8f2270a284f37ac5968db89867d49"
            ],
            "layout": "IPY_MODEL_9cc0da105f3f4ec6920da3306cc78f30"
          }
        },
        "9cc0da105f3f4ec6920da3306cc78f30": {
          "model_module": "@jupyter-widgets/base",
          "model_name": "LayoutModel",
          "state": {
            "_model_module": "@jupyter-widgets/base",
            "_model_module_version": "1.2.0",
            "_model_name": "LayoutModel",
            "_view_count": null,
            "_view_module": "@jupyter-widgets/base",
            "_view_module_version": "1.2.0",
            "_view_name": "LayoutView",
            "align_content": null,
            "align_items": null,
            "align_self": null,
            "border": null,
            "bottom": null,
            "display": null,
            "flex": null,
            "flex_flow": null,
            "grid_area": null,
            "grid_auto_columns": null,
            "grid_auto_flow": null,
            "grid_auto_rows": null,
            "grid_column": null,
            "grid_gap": null,
            "grid_row": null,
            "grid_template_areas": null,
            "grid_template_columns": null,
            "grid_template_rows": null,
            "height": null,
            "justify_content": null,
            "justify_items": null,
            "left": null,
            "margin": null,
            "max_height": null,
            "max_width": null,
            "min_height": null,
            "min_width": null,
            "object_fit": null,
            "object_position": null,
            "order": null,
            "overflow": null,
            "overflow_x": null,
            "overflow_y": null,
            "padding": null,
            "right": null,
            "top": null,
            "visibility": null,
            "width": null
          }
        },
        "38bc71f00e584dd0bf2591684fa6b80e": {
          "model_module": "@jupyter-widgets/controls",
          "model_name": "IntProgressModel",
          "state": {
            "_dom_classes": [],
            "_model_module": "@jupyter-widgets/controls",
            "_model_module_version": "1.5.0",
            "_model_name": "IntProgressModel",
            "_view_count": null,
            "_view_module": "@jupyter-widgets/controls",
            "_view_module_version": "1.5.0",
            "_view_name": "ProgressView",
            "bar_style": "success",
            "description": "",
            "description_tooltip": null,
            "layout": "IPY_MODEL_59273e2a60ee45d7a37ec08f60c5f518",
            "max": 1,
            "min": 0,
            "orientation": "horizontal",
            "style": "IPY_MODEL_84efdf6a11f9474bb45ba2a7f3ec431a",
            "value": 1
          }
        },
        "4cb8f2270a284f37ac5968db89867d49": {
          "model_module": "@jupyter-widgets/controls",
          "model_name": "HTMLModel",
          "state": {
            "_dom_classes": [],
            "_model_module": "@jupyter-widgets/controls",
            "_model_module_version": "1.5.0",
            "_model_name": "HTMLModel",
            "_view_count": null,
            "_view_module": "@jupyter-widgets/controls",
            "_view_module_version": "1.5.0",
            "_view_name": "HTMLView",
            "description": "",
            "description_tooltip": null,
            "layout": "IPY_MODEL_111b92ab2e434d71afff6fb6c117c6e8",
            "placeholder": "​",
            "style": "IPY_MODEL_da11b212d65940b78f0613e88bcbd437",
            "value": "900it [00:06, 131.93it/s]"
          }
        }
      }
    }
  },
  "cells": [
    {
      "cell_type": "code",
      "metadata": {
        "ExecuteTime": {
          "end_time": "2019-12-20T10:22:05.733772Z",
          "start_time": "2019-12-20T10:22:05.512051Z"
        },
        "colab_type": "code",
        "id": "hwiGUg9YS1eP",
        "outputId": "20079281-ca3c-44f8-d202-101af7444f01",
        "colab": {}
      },
      "source": [
        "!python -V"
      ],
      "execution_count": 0,
      "outputs": [
        {
          "output_type": "stream",
          "text": [
            "Python 3.7.4\r\n"
          ],
          "name": "stdout"
        }
      ]
    },
    {
      "cell_type": "code",
      "metadata": {
        "colab_type": "code",
        "id": "HwAvKWGq-_Fg",
        "colab": {}
      },
      "source": [
        "# !pip install feature-engine\n",
        "# !pip install optuna\n",
        "# # !pip install featexp\n",
        "# !pip install catboost"
      ],
      "execution_count": 0,
      "outputs": []
    },
    {
      "cell_type": "code",
      "metadata": {
        "colab_type": "code",
        "id": "jtGc_k3YS1eg",
        "colab": {}
      },
      "source": [
        "# https://yashuseth.blog/2018/07/22/pytorch-neural-network-for-tabular-data-with-categorical-embeddings/\n",
        "# https://www.kaggle.com/chriszou/titanic-with-pytorch-nn-solution\n",
        "# https://towardsdatascience.com/tabular-data-analysis-with-deep-neural-nets-d39e10efb6e0"
      ],
      "execution_count": 0,
      "outputs": []
    },
    {
      "cell_type": "code",
      "metadata": {
        "colab_type": "code",
        "id": "fHSUJqMpmhh_",
        "colab": {}
      },
      "source": [
        "from featexp import get_univariate_plots\n",
        "from featexp import univariate_plotter\n",
        "from featexp import get_trend_stats"
      ],
      "execution_count": 0,
      "outputs": []
    },
    {
      "cell_type": "markdown",
      "metadata": {
        "colab_type": "text",
        "id": "v7HbhKJlS1en"
      },
      "source": [
        "# Load packages"
      ]
    },
    {
      "cell_type": "code",
      "metadata": {
        "ExecuteTime": {
          "end_time": "2019-12-23T08:05:34.195354Z",
          "start_time": "2019-12-23T08:05:32.186030Z"
        },
        "colab_type": "code",
        "id": "jtU15JXkS1eo",
        "outputId": "84ebfddf-7f7e-402a-b0bf-376a1838de24",
        "colab": {
          "base_uri": "https://localhost:8080/",
          "height": 34
        }
      },
      "source": [
        "# from __future__ import division, print_function\n",
        "import gc\n",
        "import os\n",
        "import pathlib\n",
        "import re\n",
        "import pandas as pd\n",
        "import numpy as np\n",
        "from numpy.linalg import svd\n",
        "from numba import jit\n",
        "import itertools\n",
        "from copy import deepcopy\n",
        "from contextlib import contextmanager\n",
        "from collections import namedtuple\n",
        "from sklearn_pandas import DataFrameMapper\n",
        "from sklearn.pipeline import Pipeline as pipe\n",
        "from feature_engine import categorical_encoders as ce\n",
        "from feature_engine import discretisers as dsc\n",
        "import concurrent.futures\n",
        "\n",
        "from sklearn.feature_selection import RFE\n",
        "from sklearn.metrics import roc_auc_score, roc_curve, confusion_matrix\n",
        "from sklearn import metrics\n",
        "from sklearn.model_selection import (cross_val_score, train_test_split, ShuffleSplit, StratifiedKFold, KFold,\n",
        "                                    learning_curve, TimeSeriesSplit, RepeatedKFold)\n",
        "\n",
        "from sklearn.ensemble import (RandomForestClassifier, GradientBoostingClassifier, AdaBoostClassifier,\n",
        "                             VotingClassifier, ExtraTreesClassifier)\n",
        "\n",
        "from sklearn.linear_model import LogisticRegression\n",
        "from sklearn.svm import LinearSVC\n",
        "\n",
        "from scipy import stats \n",
        "from scipy.special import boxcox1p\n",
        "\n",
        "from scipy.stats import rankdata\n",
        "from sklearn.preprocessing import (MinMaxScaler, Binarizer, StandardScaler, OneHotEncoder,\n",
        "                                  Normalizer, RobustScaler, OrdinalEncoder, LabelEncoder)\n",
        "import lightgbm as lgb\n",
        "from catboost import CatBoostClassifier\n",
        "from lightgbm import LGBMClassifier, plot_importance, plot_metric\n",
        "import xgboost as xgb\n",
        "\n",
        "import matplotlib.pyplot as plt\n",
        "import seaborn as sns\n",
        "%matplotlib inline\n",
        "%pylab inline\n",
        "\n",
        "pd.set_option('display.max_columns', 130)\n",
        "\n",
        "import warnings\n",
        "warnings.filterwarnings(\"ignore\")"
      ],
      "execution_count": 0,
      "outputs": [
        {
          "output_type": "stream",
          "text": [
            "Populating the interactive namespace from numpy and matplotlib\n"
          ],
          "name": "stdout"
        }
      ]
    },
    {
      "cell_type": "code",
      "metadata": {
        "colab_type": "code",
        "id": "kBrA3QpBWbZP",
        "colab": {}
      },
      "source": [
        "colab_path = '/content/drive/My Drive/'\n",
        "pickle.dump(mapper_fit, open('fitted_mapper.pkl', 'wb'))\n",
        "# mapper_fit = pickle.load(open('fitted_mapper.pkl', 'rb'))"
      ],
      "execution_count": 0,
      "outputs": []
    },
    {
      "cell_type": "code",
      "metadata": {
        "id": "aIGhxBy217zh",
        "colab_type": "code",
        "colab": {}
      },
      "source": [
        "colab_path = '/content/drive/My Drive/'\n",
        "# with open( os.path.join(colab_path,'list_dict.json'), 'w') as fp:\n",
        "#     json.dump(list_dicts, fp)"
      ],
      "execution_count": 0,
      "outputs": []
    },
    {
      "cell_type": "code",
      "metadata": {
        "colab_type": "code",
        "id": "btaGImoaTSjP",
        "outputId": "2e63ebc5-317a-4d31-ef6a-12584eed2dad",
        "colab": {
          "base_uri": "https://localhost:8080/",
          "height": 122
        }
      },
      "source": [
        "from google.colab import drive\n",
        "drive.mount('/content/drive')"
      ],
      "execution_count": 0,
      "outputs": [
        {
          "output_type": "stream",
          "text": [
            "Go to this URL in a browser: https://accounts.google.com/o/oauth2/auth?client_id=947318989803-6bn6qk8qdgf4n4g3pfee6491hc0brc4i.apps.googleusercontent.com&redirect_uri=urn%3aietf%3awg%3aoauth%3a2.0%3aoob&response_type=code&scope=email%20https%3a%2f%2fwww.googleapis.com%2fauth%2fdocs.test%20https%3a%2f%2fwww.googleapis.com%2fauth%2fdrive%20https%3a%2f%2fwww.googleapis.com%2fauth%2fdrive.photos.readonly%20https%3a%2f%2fwww.googleapis.com%2fauth%2fpeopleapi.readonly\n",
            "\n",
            "Enter your authorization code:\n",
            "··········\n",
            "Mounted at /content/drive\n"
          ],
          "name": "stdout"
        }
      ]
    },
    {
      "cell_type": "code",
      "metadata": {
        "id": "qhHqD4HFC_v_",
        "colab_type": "code",
        "colab": {}
      },
      "source": [
        "colab_train_path = pathlib.Path('/content/drive/My Drive/ott_train')\n",
        "Xtrain = pd.read_pickle(colab_train_path/'train.pkl')\n",
        "Xtest = pd.read_pickle(colab_train_path/'test.pkl')\n",
        "targets = pd.read_pickle(colab_train_path/'targets.pkl')"
      ],
      "execution_count": 0,
      "outputs": []
    },
    {
      "cell_type": "code",
      "metadata": {
        "id": "_0OZzCEHFEFD",
        "colab_type": "code",
        "colab": {}
      },
      "source": [
        "Y = targets['goal24']"
      ],
      "execution_count": 0,
      "outputs": []
    },
    {
      "cell_type": "markdown",
      "metadata": {
        "colab_type": "text",
        "id": "FfClAEGNS1et"
      },
      "source": [
        "# Functions"
      ]
    },
    {
      "cell_type": "code",
      "metadata": {
        "ExecuteTime": {
          "end_time": "2019-12-23T08:05:37.106354Z",
          "start_time": "2019-12-23T08:05:37.084994Z"
        },
        "colab_type": "code",
        "id": "N_hbRcCpS1eu",
        "colab": {}
      },
      "source": [
        "def reduce_mem_usage(df, verbose=True):\n",
        "    numerics = ['int16', 'int32', 'int64', 'float16', 'float32', 'float64']\n",
        "    start_mem = df.memory_usage().sum() / 1024**2\n",
        "    for col in df.columns:\n",
        "        col_type = df[col].dtypes\n",
        "        if col_type in numerics:\n",
        "            c_min = df[col].min()\n",
        "            c_max = df[col].max()\n",
        "            if str(col_type)[:3] == 'int':\n",
        "                if c_min > np.iinfo(np.int8).min and c_max < np.iinfo(np.int8).max:\n",
        "                    df[col] = df[col].astype(np.int8)\n",
        "                elif c_min > np.iinfo(np.int16).min and c_max < np.iinfo(np.int16).max:\n",
        "                    df[col] = df[col].astype(np.int16)\n",
        "                elif c_min > np.iinfo(np.int32).min and c_max < np.iinfo(np.int32).max:\n",
        "                    df[col] = df[col].astype(np.int32)\n",
        "                elif c_min > np.iinfo(np.int64).min and c_max < np.iinfo(np.int64).max:\n",
        "                    df[col] = df[col].astype(np.int64)\n",
        "            else:\n",
        "                c_prec = df[col].apply(lambda x: np.finfo(x).precision).max()\n",
        "                if c_min > np.finfo(np.float16).min and c_max < np.finfo(np.float16).max and c_prec == np.finfo(np.float16).precision:\n",
        "                    df[col] = df[col].astype(np.float16)\n",
        "                elif c_min > np.finfo(np.float32).min and c_max < np.finfo(np.float32).max and c_prec == np.finfo(np.float32).precision:\n",
        "                    df[col] = df[col].astype(np.float32)\n",
        "                else:\n",
        "                    df[col] = df[col].astype(np.float64)\n",
        "    end_mem = df.memory_usage().sum() / 1024**2\n",
        "    if verbose: print('Mem. usage decreased to {:5.2f} Mb ({:.1f}% reduction)'.format(end_mem, 100 * (start_mem - end_mem) / start_mem))\n",
        "    return df\n",
        "\n",
        "@jit\n",
        "def fast_auc(y_true, y_prob):\n",
        "    \"\"\"\n",
        "    fast roc_auc computation: https://www.kaggle.com/c/microsoft-malware-prediction/discussion/76013\n",
        "    \"\"\"\n",
        "    y_true = np.asarray(y_true)\n",
        "    y_true = y_true[np.argsort(y_prob)]\n",
        "    nfalse = 0\n",
        "    auc = 0\n",
        "    n = len(y_true)\n",
        "    for i in range(n):\n",
        "        y_i = y_true[i]\n",
        "        nfalse += (1 - y_i)\n",
        "        auc += y_i * nfalse\n",
        "    auc /= (nfalse * (n - nfalse))\n",
        "    return auc\n",
        "\n",
        "def eval_auc(y_true, y_pred):\n",
        "    \"\"\"\n",
        "    Fast auc eval function for lgb.\n",
        "    \"\"\"\n",
        "    return 'auc', fast_auc(y_true, y_pred), True\n",
        "\n",
        "\n",
        "def train_model_classification(X, X_test, y, params, folds, model_type='lgb', eval_metric='auc', \n",
        "                               columns=None, plot_feature_importance=False, model=None,\n",
        "                               verbose=10000, early_stopping_rounds=200, n_estimators=50000):\n",
        "    \"\"\"\n",
        "    A function to train a variety of regression models.\n",
        "    Returns dictionary with oof predictions, test predictions, scores and, if necessary, feature importances.\n",
        "    \n",
        "    :params: X - training data, can be pd.DataFrame or np.ndarray (after normalizing)\n",
        "    :params: X_test - test data, can be pd.DataFrame or np.ndarray (after normalizing)\n",
        "    :params: y - target\n",
        "    :params: folds - folds to split data\n",
        "    :params: model_type - type of model to use\n",
        "    :params: eval_metric - metric to use\n",
        "    :params: columns - columns to use. If None - use all columns\n",
        "    :params: plot_feature_importance - whether to plot feature importance of LGB\n",
        "    :params: model - sklearn model, works only for \"sklearn\" model type\n",
        "    \n",
        "    \"\"\"\n",
        "    columns = X.columns if columns == None else columns\n",
        "    X_test = X_test[columns]\n",
        "    \n",
        "    # to set up scoring parameters\n",
        "    metrics_dict = {'auc': {'lgb_metric_name': eval_auc,\n",
        "                        'catboost_metric_name': 'AUC',\n",
        "                        'sklearn_scoring_function': metrics.roc_auc_score},\n",
        "                    }\n",
        "    \n",
        "    result_dict = {}\n",
        "    \n",
        "    # out-of-fold predictions on train data\n",
        "    oof = np.zeros((len(X), len(set(y.values))))\n",
        "    \n",
        "    # averaged predictions on train data\n",
        "    prediction = np.zeros((len(X_test), oof.shape[1]))\n",
        "    \n",
        "    # list of scores on folds\n",
        "    scores = []\n",
        "    feature_importance = pd.DataFrame()\n",
        "    \n",
        "    # split and train on folds\n",
        "    for fold_n, (train_index, valid_index) in enumerate(folds.split(X)):\n",
        "        print(f'Fold {fold_n + 1} started at {time.ctime()}')\n",
        "        if type(X) == np.ndarray:\n",
        "            X_train, X_valid = X[columns][train_index], X[columns][valid_index]\n",
        "            y_train, y_valid = y[train_index], y[valid_index]\n",
        "        else:\n",
        "            X_train, X_valid = X[columns].iloc[train_index], X[columns].iloc[valid_index]\n",
        "            y_train, y_valid = y.iloc[train_index], y.iloc[valid_index]\n",
        "            \n",
        "        if model_type == 'lgb':\n",
        "            model = lgb.LGBMClassifier(**params, n_estimators=n_estimators, n_jobs = -1)\n",
        "            model.fit(X_train, y_train, \n",
        "                    eval_set=[(X_train, y_train), (X_valid, y_valid)], eval_metric=metrics_dict[eval_metric]['lgb_metric_name'],\n",
        "                    verbose=verbose, early_stopping_rounds=early_stopping_rounds)\n",
        "            \n",
        "            y_pred_valid = model.predict_proba(X_valid)\n",
        "            y_pred = model.predict_proba(X_test, num_iteration=model.best_iteration_)\n",
        "            \n",
        "        if model_type == 'xgb':\n",
        "            train_data = xgb.DMatrix(data=X_train, label=y_train, feature_names=X.columns)\n",
        "            valid_data = xgb.DMatrix(data=X_valid, label=y_valid, feature_names=X.columns)\n",
        "\n",
        "            watchlist = [(train_data, 'train'), (valid_data, 'valid_data')]\n",
        "            model = xgb.train(dtrain=train_data, num_boost_round=n_estimators, evals=watchlist, \n",
        "                              early_stopping_rounds=early_stopping_rounds, verbose_eval=verbose, params=params)\n",
        "            \n",
        "            y_pred_valid = model.predict_proba(xgb.DMatrix(X_valid, feature_names=X.columns), ntree_limit=model.best_ntree_limit)\n",
        "            y_pred = model.predict_proba(xgb.DMatrix(X_test, feature_names=X.columns), ntree_limit=model.best_ntree_limit)\n",
        "        \n",
        "        if model_type == 'sklearn':\n",
        "            model = model\n",
        "            model.fit(X_train, y_train)\n",
        "            \n",
        "            y_pred_valid = model.predict_proba(X_valid).reshape(-1,)\n",
        "            score = metrics_dict[eval_metric]['sklearn_scoring_function'](y_valid, y_pred_valid)\n",
        "            print(f'Fold {fold_n}. {eval_metric}: {score:.4f}.')\n",
        "            print('')\n",
        "            \n",
        "            y_pred = model.predict_proba(X_test)\n",
        "        \n",
        "        if model_type == 'cat':\n",
        "            model = CatBoostClassifier(iterations=n_estimators, eval_metric=metrics_dict[eval_metric]['catboost_metric_name'], **params)\n",
        "                                      #loss_function='CrossEntropy') #  metrics_dict[eval_metric]['catboost_metric_name'])\n",
        "            model.fit(X_train, y_train, eval_set=(X_valid, y_valid), cat_features=cats_indices, plot=True, use_best_model=True, verbose=False) # cats_indices\n",
        "\n",
        "            y_pred_valid = model.predict_proba(X_valid)\n",
        "            y_pred = model.predict_proba(X_test)\n",
        "        \n",
        "        oof[valid_index] = y_pred_valid\n",
        "        scores.append(metrics_dict[eval_metric]['sklearn_scoring_function'](y_valid, y_pred_valid[:, 1]))\n",
        "\n",
        "        prediction += y_pred    \n",
        "        \n",
        "        if model_type == 'lgb' and plot_feature_importance:\n",
        "            # feature importance\n",
        "            fold_importance = pd.DataFrame()\n",
        "            fold_importance[\"feature\"] = columns\n",
        "            fold_importance[\"importance\"] = model.feature_importances_\n",
        "            fold_importance[\"fold\"] = fold_n + 1\n",
        "            feature_importance = pd.concat([feature_importance, fold_importance], axis=0)\n",
        "\n",
        "    prediction /= folds.n_splits\n",
        "    \n",
        "    print('CV mean score: {0:.4f}, std: {1:.4f}.'.format(np.mean(scores), np.std(scores)))\n",
        "    \n",
        "    result_dict['oof'] = oof\n",
        "    result_dict['prediction'] = prediction\n",
        "    result_dict['scores'] = scores\n",
        "    \n",
        "    if model_type == 'lgb':\n",
        "        if plot_feature_importance:\n",
        "            feature_importance[\"importance\"] /= folds.n_splits\n",
        "            cols = feature_importance[[\"feature\", \"importance\"]].groupby(\"feature\").mean().sort_values(\n",
        "                by=\"importance\", ascending=False)[:50].index\n",
        "\n",
        "            best_features = feature_importance.loc[feature_importance.feature.isin(cols)]\n",
        "\n",
        "            plt.figure(figsize=(16, 12));\n",
        "            sns.barplot(x=\"importance\", y=\"feature\", data=best_features.sort_values(by=\"importance\", ascending=False));\n",
        "            plt.title('LGB Features (avg over folds)');\n",
        "            \n",
        "            result_dict['feature_importance'] = feature_importance\n",
        "        \n",
        "    return result_dict\n",
        "\n",
        "def make_harmonic_features(df, column):\n",
        "    for col in column:\n",
        "        period = df[col].nunique()\n",
        "        value = df[col].copy()\n",
        "        value *= 2 * np.pi / period\n",
        "        df[col + '_cos'] = np.cos(value, dtype='float32')\n",
        "        df[col + '_sin'] = np.sin(value, dtype='float32')\n",
        "    return (df)\n",
        "\n",
        "def make_conj(data, feat1, feat2):\n",
        "    \"\"\"\n",
        "    inplace\n",
        "    \"\"\"\n",
        "    new_name = feat1 + '_' + feat2\n",
        "    data[new_name] = data[feat1].astype(str)+ '_' + data[feat2].astype(str)\n",
        "    data[new_name] = LabelEncoder().fit_transform(data[new_name])\n",
        "    \n",
        "\n",
        "# по значениям другого категориального признака\n",
        "def code_factor(data, cat_feature, cat_feature2):\n",
        "    ct = pd.crosstab(data[cat_feature], data[cat_feature2])\n",
        "    u, _, _ = svd(ct.values)\n",
        "    coder = dict(zip(ct.index, u[:, 0])) # если кодирование первой компонентой\n",
        "    return (data[cat_feature].map(coder))\n",
        "\n",
        "def make_real_feature(df, name, group_col='userid'):\n",
        "    \"\"\"\n",
        "    вычисление разных статистик\n",
        "    \"\"\"\n",
        "    tmp = df.groupby(group_col)[name].agg({np.mean, max, min, np.median, sum, np.std}).fillna(-1)\n",
        "    tmp.columns = [name + '_' + str(x) for x in tmp.columns]\n",
        "    tmp = tmp.reset_index()\n",
        "    return (tmp[tmp.columns[tmp.nunique()>1]])\n",
        "\n",
        "\n",
        "# Load dataset\n",
        "def load_ottrip(train=True):\n",
        "\n",
        "  cols_to_rename = {'field0': 'ndays_from_last',\n",
        "                 'field2': 'month_buy',\n",
        "                 'field3': 'month_depart',\n",
        "                 'field4': 'order_of_buy',\n",
        "                 'field9': 'ticket_child_1y',\n",
        "                 'field11': 'hour_of_buy',\n",
        "                 'field15': 'total_tickets',\n",
        "                 'field16': 'days_before_depart',\n",
        "                 'field18': 'dow_buy',\n",
        "                 'field20': 'dow_depart',\n",
        "                 'field21': 'year',\n",
        "                 'field23': 'hour_depart',\n",
        "                 'field24': 'ticket_adult',\n",
        "                 'field28': 'ticket_child_4y',\n",
        "                 'field29': 'quarter'}\n",
        "\n",
        "  for k, v in cols_to_rename.items():\n",
        "    cols_to_rename[k] = v.upper() \n",
        "\n",
        "  train_file = 'onetwotrip_challenge_train.csv'\n",
        "  test_file = 'onetwotrip_challenge_test.csv'\n",
        "  f = train_file if train else test_file\n",
        "  colab_path = '/content/drive/My Drive/'\n",
        "  data = pd.read_csv(os.path.join(colab_path , f))\n",
        "  data.rename(columns=cols_to_rename, inplace=True)\n",
        "\n",
        "  data['YEAR']=(data.YEAR == 1).astype(uint16)\n",
        "  data['field7']=(data.field7 == 1).astype(uint16)\n",
        "  data['userid'] = LabelEncoder().fit_transform(data.userid)\n",
        "  data['USR_CNT'] = data.userid.map(data.groupby('userid').size())\n",
        "  indicator_cols=list(filter(lambda x: 'indicat' in x, data.columns))\n",
        "  data['INDICATOR_CNT'] = data[indicator_cols].apply(lambda x: np.sum(x.astype(uint8))/5, axis=1).astype(np.float16)\n",
        "  data = reduce_mem_usage(data)\n",
        "  print(data.shape)\n",
        "\n",
        "  return data\n",
        "\n",
        "def load_ottrip_without_userid_encoding(train=True):\n",
        "\n",
        "  cols_to_rename = {'field0': 'ndays_from_last',\n",
        "                 'field2': 'month_buy',\n",
        "                 'field3': 'month_depart',\n",
        "                 'field4': 'order_of_buy',\n",
        "                 'field9': 'ticket_child_1y',\n",
        "                 'field11': 'hour_of_buy',\n",
        "                 'field15': 'total_tickets',\n",
        "                 'field16': 'days_before_depart',\n",
        "                 'field18': 'dow_buy',\n",
        "                 'field20': 'dow_depart',\n",
        "                 'field21': 'year',\n",
        "                 'field23': 'hour_depart',\n",
        "                 'field24': 'ticket_adult',\n",
        "                 'field28': 'ticket_child_4y',\n",
        "                 'field29': 'quarter'}\n",
        "\n",
        "  for k, v in cols_to_rename.items():\n",
        "    cols_to_rename[k] = v.upper() \n",
        "\n",
        "  train_file = 'onetwotrip_challenge_train.csv'\n",
        "  test_file = 'onetwotrip_challenge_test.csv'\n",
        "  f = train_file if train else test_file\n",
        "  colab_path = '/content/drive/My Drive/'\n",
        "  data = pd.read_csv(os.path.join(colab_path , f))\n",
        "  data.rename(columns=cols_to_rename, inplace=True)\n",
        "\n",
        "  data['YEAR']=(data.YEAR == 1).astype(uint16)\n",
        "  data['field7']=(data.field7 == 1).astype(uint16)\n",
        "  indicator_cols=list(filter(lambda x: 'indicat' in x, data.columns))\n",
        "  data['INDICATOR_CNT'] = data[indicator_cols].apply(lambda x: np.sum(x.astype(uint8))/5, axis=1).astype(np.float16)\n",
        "  data = reduce_mem_usage(data)\n",
        "  print(data.shape)\n",
        "\n",
        "  return data\n",
        "\n",
        "\n",
        "def drop_corr_cols(df, upper_tresh=0.9):\n",
        "  corr_matrix = df.corr().abs()\n",
        "  upper = corr_matrix.where(np.triu(np.ones(corr_matrix.shape), k=1).astype(np.bool))\n",
        "  to_drop = [column for column in upper.columns if any(upper[column] > upper_tresh)]\n",
        "\n",
        "  return to_drop\n",
        "\n",
        "colab_subm_path = '/content/drive/My Drive/ottrip_subm/'\n",
        "colab_path = '/content/drive/My Drive/'\n",
        "\n",
        "SEED = 17\n",
        "TEST_SIZE = 0.3\n",
        "SPLITS = 10\n",
        "\n",
        "# ==== cv strategy ====\n",
        "shuffle_split = ShuffleSplit(n_splits=SPLITS, test_size=TEST_SIZE, random_state=SEED)\n",
        "skf = StratifiedKFold(n_splits=SPLITS, shuffle=True, random_state=SEED)"
      ],
      "execution_count": 0,
      "outputs": []
    },
    {
      "cell_type": "markdown",
      "metadata": {
        "colab_type": "text",
        "id": "R-EB1K4fS1ey"
      },
      "source": [
        "# Load Data\n"
      ]
    },
    {
      "cell_type": "code",
      "metadata": {
        "ExecuteTime": {
          "end_time": "2019-12-23T08:05:52.378220Z",
          "start_time": "2019-12-23T08:05:51.504294Z"
        },
        "colab_type": "code",
        "id": "P9r92wtlS1ez",
        "outputId": "9374ca59-bb49-49f3-9dc5-f4ba90f8286b",
        "colab": {
          "base_uri": "https://localhost:8080/",
          "height": 253
        }
      },
      "source": [
        "df = load_ottrip()\n",
        "\n",
        "df.head()"
      ],
      "execution_count": 0,
      "outputs": [
        {
          "output_type": "stream",
          "text": [
            "Mem. usage decreased to 15.71 Mb (75.4% reduction)\n",
            "(196056, 45)\n"
          ],
          "name": "stdout"
        },
        {
          "output_type": "execute_result",
          "data": {
            "text/html": [
              "<div>\n",
              "<style scoped>\n",
              "    .dataframe tbody tr th:only-of-type {\n",
              "        vertical-align: middle;\n",
              "    }\n",
              "\n",
              "    .dataframe tbody tr th {\n",
              "        vertical-align: top;\n",
              "    }\n",
              "\n",
              "    .dataframe thead th {\n",
              "        text-align: right;\n",
              "    }\n",
              "</style>\n",
              "<table border=\"1\" class=\"dataframe\">\n",
              "  <thead>\n",
              "    <tr style=\"text-align: right;\">\n",
              "      <th></th>\n",
              "      <th>orderid</th>\n",
              "      <th>userid</th>\n",
              "      <th>NDAYS_FROM_LAST</th>\n",
              "      <th>field1</th>\n",
              "      <th>MONTH_BUY</th>\n",
              "      <th>MONTH_DEPART</th>\n",
              "      <th>ORDER_OF_BUY</th>\n",
              "      <th>field5</th>\n",
              "      <th>field6</th>\n",
              "      <th>field7</th>\n",
              "      <th>field8</th>\n",
              "      <th>TICKET_CHILD_1Y</th>\n",
              "      <th>field10</th>\n",
              "      <th>HOUR_OF_BUY</th>\n",
              "      <th>field12</th>\n",
              "      <th>field13</th>\n",
              "      <th>field14</th>\n",
              "      <th>TOTAL_TICKETS</th>\n",
              "      <th>DAYS_BEFORE_DEPART</th>\n",
              "      <th>field17</th>\n",
              "      <th>DOW_BUY</th>\n",
              "      <th>field19</th>\n",
              "      <th>DOW_DEPART</th>\n",
              "      <th>YEAR</th>\n",
              "      <th>field22</th>\n",
              "      <th>HOUR_DEPART</th>\n",
              "      <th>TICKET_ADULT</th>\n",
              "      <th>field25</th>\n",
              "      <th>field26</th>\n",
              "      <th>field27</th>\n",
              "      <th>TICKET_CHILD_4Y</th>\n",
              "      <th>QUARTER</th>\n",
              "      <th>indicator_goal21</th>\n",
              "      <th>indicator_goal22</th>\n",
              "      <th>indicator_goal23</th>\n",
              "      <th>indicator_goal24</th>\n",
              "      <th>indicator_goal25</th>\n",
              "      <th>goal21</th>\n",
              "      <th>goal22</th>\n",
              "      <th>goal23</th>\n",
              "      <th>goal24</th>\n",
              "      <th>goal25</th>\n",
              "      <th>goal1</th>\n",
              "      <th>USR_CNT</th>\n",
              "      <th>INDICATOR_CNT</th>\n",
              "    </tr>\n",
              "  </thead>\n",
              "  <tbody>\n",
              "    <tr>\n",
              "      <th>0</th>\n",
              "      <td>0</td>\n",
              "      <td>7458</td>\n",
              "      <td>0</td>\n",
              "      <td>-0.626508</td>\n",
              "      <td>11</td>\n",
              "      <td>12</td>\n",
              "      <td>1</td>\n",
              "      <td>1</td>\n",
              "      <td>0</td>\n",
              "      <td>1</td>\n",
              "      <td>1</td>\n",
              "      <td>0</td>\n",
              "      <td>0</td>\n",
              "      <td>9</td>\n",
              "      <td>5</td>\n",
              "      <td>20</td>\n",
              "      <td>-0.661308</td>\n",
              "      <td>1</td>\n",
              "      <td>4</td>\n",
              "      <td>1</td>\n",
              "      <td>4</td>\n",
              "      <td>1</td>\n",
              "      <td>1</td>\n",
              "      <td>1</td>\n",
              "      <td>1</td>\n",
              "      <td>15</td>\n",
              "      <td>1</td>\n",
              "      <td>1</td>\n",
              "      <td>2</td>\n",
              "      <td>1</td>\n",
              "      <td>0</td>\n",
              "      <td>4</td>\n",
              "      <td>1</td>\n",
              "      <td>1</td>\n",
              "      <td>0</td>\n",
              "      <td>1</td>\n",
              "      <td>1</td>\n",
              "      <td>0</td>\n",
              "      <td>1</td>\n",
              "      <td>0</td>\n",
              "      <td>0</td>\n",
              "      <td>0</td>\n",
              "      <td>0</td>\n",
              "      <td>1</td>\n",
              "      <td>0.799805</td>\n",
              "    </tr>\n",
              "    <tr>\n",
              "      <th>1</th>\n",
              "      <td>1</td>\n",
              "      <td>33232</td>\n",
              "      <td>144</td>\n",
              "      <td>-0.393794</td>\n",
              "      <td>5</td>\n",
              "      <td>7</td>\n",
              "      <td>2</td>\n",
              "      <td>0</td>\n",
              "      <td>0</td>\n",
              "      <td>0</td>\n",
              "      <td>1</td>\n",
              "      <td>0</td>\n",
              "      <td>0</td>\n",
              "      <td>21</td>\n",
              "      <td>125</td>\n",
              "      <td>3</td>\n",
              "      <td>-0.101043</td>\n",
              "      <td>1</td>\n",
              "      <td>57</td>\n",
              "      <td>1</td>\n",
              "      <td>5</td>\n",
              "      <td>1</td>\n",
              "      <td>6</td>\n",
              "      <td>0</td>\n",
              "      <td>121</td>\n",
              "      <td>15</td>\n",
              "      <td>1</td>\n",
              "      <td>41</td>\n",
              "      <td>3</td>\n",
              "      <td>1</td>\n",
              "      <td>0</td>\n",
              "      <td>2</td>\n",
              "      <td>1</td>\n",
              "      <td>1</td>\n",
              "      <td>0</td>\n",
              "      <td>1</td>\n",
              "      <td>0</td>\n",
              "      <td>0</td>\n",
              "      <td>0</td>\n",
              "      <td>0</td>\n",
              "      <td>0</td>\n",
              "      <td>0</td>\n",
              "      <td>0</td>\n",
              "      <td>2</td>\n",
              "      <td>0.600098</td>\n",
              "    </tr>\n",
              "    <tr>\n",
              "      <th>2</th>\n",
              "      <td>2</td>\n",
              "      <td>83136</td>\n",
              "      <td>134</td>\n",
              "      <td>-0.548937</td>\n",
              "      <td>2</td>\n",
              "      <td>3</td>\n",
              "      <td>2</td>\n",
              "      <td>0</td>\n",
              "      <td>0</td>\n",
              "      <td>1</td>\n",
              "      <td>1</td>\n",
              "      <td>0</td>\n",
              "      <td>1</td>\n",
              "      <td>7</td>\n",
              "      <td>4</td>\n",
              "      <td>3</td>\n",
              "      <td>-0.661308</td>\n",
              "      <td>1</td>\n",
              "      <td>4</td>\n",
              "      <td>1</td>\n",
              "      <td>2</td>\n",
              "      <td>3</td>\n",
              "      <td>6</td>\n",
              "      <td>0</td>\n",
              "      <td>17</td>\n",
              "      <td>14</td>\n",
              "      <td>1</td>\n",
              "      <td>1</td>\n",
              "      <td>11</td>\n",
              "      <td>7</td>\n",
              "      <td>0</td>\n",
              "      <td>1</td>\n",
              "      <td>1</td>\n",
              "      <td>1</td>\n",
              "      <td>0</td>\n",
              "      <td>1</td>\n",
              "      <td>1</td>\n",
              "      <td>0</td>\n",
              "      <td>0</td>\n",
              "      <td>0</td>\n",
              "      <td>0</td>\n",
              "      <td>0</td>\n",
              "      <td>0</td>\n",
              "      <td>2</td>\n",
              "      <td>0.799805</td>\n",
              "    </tr>\n",
              "    <tr>\n",
              "      <th>3</th>\n",
              "      <td>3</td>\n",
              "      <td>1583</td>\n",
              "      <td>0</td>\n",
              "      <td>-0.238651</td>\n",
              "      <td>10</td>\n",
              "      <td>11</td>\n",
              "      <td>1</td>\n",
              "      <td>1</td>\n",
              "      <td>3</td>\n",
              "      <td>0</td>\n",
              "      <td>1</td>\n",
              "      <td>0</td>\n",
              "      <td>0</td>\n",
              "      <td>19</td>\n",
              "      <td>12</td>\n",
              "      <td>3</td>\n",
              "      <td>-0.521242</td>\n",
              "      <td>2</td>\n",
              "      <td>22</td>\n",
              "      <td>1</td>\n",
              "      <td>3</td>\n",
              "      <td>3</td>\n",
              "      <td>4</td>\n",
              "      <td>1</td>\n",
              "      <td>46</td>\n",
              "      <td>12</td>\n",
              "      <td>2</td>\n",
              "      <td>18</td>\n",
              "      <td>1</td>\n",
              "      <td>1</td>\n",
              "      <td>0</td>\n",
              "      <td>4</td>\n",
              "      <td>1</td>\n",
              "      <td>1</td>\n",
              "      <td>0</td>\n",
              "      <td>1</td>\n",
              "      <td>1</td>\n",
              "      <td>0</td>\n",
              "      <td>0</td>\n",
              "      <td>0</td>\n",
              "      <td>0</td>\n",
              "      <td>0</td>\n",
              "      <td>0</td>\n",
              "      <td>3</td>\n",
              "      <td>0.799805</td>\n",
              "    </tr>\n",
              "    <tr>\n",
              "      <th>4</th>\n",
              "      <td>4</td>\n",
              "      <td>93298</td>\n",
              "      <td>0</td>\n",
              "      <td>-0.704079</td>\n",
              "      <td>8</td>\n",
              "      <td>11</td>\n",
              "      <td>1</td>\n",
              "      <td>1</td>\n",
              "      <td>0</td>\n",
              "      <td>1</td>\n",
              "      <td>1</td>\n",
              "      <td>0</td>\n",
              "      <td>1</td>\n",
              "      <td>16</td>\n",
              "      <td>4</td>\n",
              "      <td>3</td>\n",
              "      <td>-0.801375</td>\n",
              "      <td>1</td>\n",
              "      <td>100</td>\n",
              "      <td>1</td>\n",
              "      <td>6</td>\n",
              "      <td>1</td>\n",
              "      <td>1</td>\n",
              "      <td>1</td>\n",
              "      <td>17</td>\n",
              "      <td>22</td>\n",
              "      <td>1</td>\n",
              "      <td>1</td>\n",
              "      <td>1</td>\n",
              "      <td>1</td>\n",
              "      <td>0</td>\n",
              "      <td>3</td>\n",
              "      <td>1</td>\n",
              "      <td>1</td>\n",
              "      <td>0</td>\n",
              "      <td>0</td>\n",
              "      <td>1</td>\n",
              "      <td>0</td>\n",
              "      <td>0</td>\n",
              "      <td>0</td>\n",
              "      <td>0</td>\n",
              "      <td>0</td>\n",
              "      <td>0</td>\n",
              "      <td>1</td>\n",
              "      <td>0.600098</td>\n",
              "    </tr>\n",
              "  </tbody>\n",
              "</table>\n",
              "</div>"
            ],
            "text/plain": [
              "   orderid  userid  NDAYS_FROM_LAST    field1  MONTH_BUY  MONTH_DEPART  \\\n",
              "0        0    7458                0 -0.626508         11            12   \n",
              "1        1   33232              144 -0.393794          5             7   \n",
              "2        2   83136              134 -0.548937          2             3   \n",
              "3        3    1583                0 -0.238651         10            11   \n",
              "4        4   93298                0 -0.704079          8            11   \n",
              "\n",
              "   ORDER_OF_BUY  field5  field6  field7  field8  TICKET_CHILD_1Y  field10  \\\n",
              "0             1       1       0       1       1                0        0   \n",
              "1             2       0       0       0       1                0        0   \n",
              "2             2       0       0       1       1                0        1   \n",
              "3             1       1       3       0       1                0        0   \n",
              "4             1       1       0       1       1                0        1   \n",
              "\n",
              "   HOUR_OF_BUY  field12  field13   field14  TOTAL_TICKETS  DAYS_BEFORE_DEPART  \\\n",
              "0            9        5       20 -0.661308              1                   4   \n",
              "1           21      125        3 -0.101043              1                  57   \n",
              "2            7        4        3 -0.661308              1                   4   \n",
              "3           19       12        3 -0.521242              2                  22   \n",
              "4           16        4        3 -0.801375              1                 100   \n",
              "\n",
              "   field17  DOW_BUY  field19  DOW_DEPART  YEAR  field22  HOUR_DEPART  \\\n",
              "0        1        4        1           1     1        1           15   \n",
              "1        1        5        1           6     0      121           15   \n",
              "2        1        2        3           6     0       17           14   \n",
              "3        1        3        3           4     1       46           12   \n",
              "4        1        6        1           1     1       17           22   \n",
              "\n",
              "   TICKET_ADULT  field25  field26  field27  TICKET_CHILD_4Y  QUARTER  \\\n",
              "0             1        1        2        1                0        4   \n",
              "1             1       41        3        1                0        2   \n",
              "2             1        1       11        7                0        1   \n",
              "3             2       18        1        1                0        4   \n",
              "4             1        1        1        1                0        3   \n",
              "\n",
              "   indicator_goal21  indicator_goal22  indicator_goal23  indicator_goal24  \\\n",
              "0                 1                 1                 0                 1   \n",
              "1                 1                 1                 0                 1   \n",
              "2                 1                 1                 0                 1   \n",
              "3                 1                 1                 0                 1   \n",
              "4                 1                 1                 0                 0   \n",
              "\n",
              "   indicator_goal25  goal21  goal22  goal23  goal24  goal25  goal1  USR_CNT  \\\n",
              "0                 1       0       1       0       0       0      0        1   \n",
              "1                 0       0       0       0       0       0      0        2   \n",
              "2                 1       0       0       0       0       0      0        2   \n",
              "3                 1       0       0       0       0       0      0        3   \n",
              "4                 1       0       0       0       0       0      0        1   \n",
              "\n",
              "   INDICATOR_CNT  \n",
              "0       0.799805  \n",
              "1       0.600098  \n",
              "2       0.799805  \n",
              "3       0.799805  \n",
              "4       0.600098  "
            ]
          },
          "metadata": {
            "tags": []
          },
          "execution_count": 5
        }
      ]
    },
    {
      "cell_type": "code",
      "metadata": {
        "colab_type": "code",
        "id": "ClTkX4aoZ8d7",
        "colab": {}
      },
      "source": [
        "indicator_cols=list(filter(lambda x: 'indicat' in x, df.columns))\n",
        "goals_cols=['goal21', 'goal22', 'goal23', 'goal24', 'goal25']\n",
        "cat_cols=['MONTH_BUY', 'MONTH_DEPART', 'field5', 'field7', 'field8',\n",
        " 'field10', 'DOW_BUY', 'DOW_DEPART', 'YEAR', 'HOUR_DEPART', 'field27', 'QUARTER']+indicator_cols+goals_cols\n",
        "\n",
        "to_harmonic_cols =['MONTH_BUY', 'MONTH_DEPART', 'HOUR_OF_BUY', 'HOUR_DEPART', 'DOW_BUY', \n",
        "                  'DOW_DEPART', 'QUARTER', 'field27']\n",
        "\n",
        "to_ohe_cols = ['MONTH_BUY', 'MONTH_DEPART', 'HOUR_OF_BUY', 'HOUR_DEPART', 'DOW_BUY', 'DOW_DEPART', 'QUARTER', 'field27']\n",
        "\n",
        "make_real_feats=['ORDER_OF_BUY', 'TICKET_CHILD_1Y', 'DAYS_BEFORE_DEPART',\n",
        "       'DIFF_HOUR_DEPART&HOUR_OF_BUY', 'DIFF_MONTH_DEPART&MONTH_BUY',\n",
        "       'field1', 'field12', 'field13', 'field14', 'field17', 'field19',\n",
        "       'field22', 'field25', 'field26', 'field6', 'INDICATOR_CNT', 'NDAYS_FROM_LAST',\n",
        "       'NDAYS_LAST_NEXT', 'TICKET_ADULT', 'TICKET_CHILD_4Y','TOTAL_TICKETS', 'USR_CNT', 'WEEKS_BEFORE_DEPART']"
      ],
      "execution_count": 0,
      "outputs": []
    },
    {
      "cell_type": "code",
      "metadata": {
        "colab_type": "code",
        "id": "OJDPdd9vxKPY",
        "outputId": "c97b9a0d-2813-4ed0-c886-bc1f87183402",
        "colab": {
          "base_uri": "https://localhost:8080/",
          "height": 253
        }
      },
      "source": [
        "df_test = load_ottrip(train=False)\n",
        "\n",
        "df_test.head()"
      ],
      "execution_count": 0,
      "outputs": [
        {
          "output_type": "stream",
          "text": [
            "Mem. usage decreased to 33.85 Mb (73.5% reduction)\n",
            "(455011, 39)\n"
          ],
          "name": "stdout"
        },
        {
          "output_type": "execute_result",
          "data": {
            "text/html": [
              "<div>\n",
              "<style scoped>\n",
              "    .dataframe tbody tr th:only-of-type {\n",
              "        vertical-align: middle;\n",
              "    }\n",
              "\n",
              "    .dataframe tbody tr th {\n",
              "        vertical-align: top;\n",
              "    }\n",
              "\n",
              "    .dataframe thead th {\n",
              "        text-align: right;\n",
              "    }\n",
              "</style>\n",
              "<table border=\"1\" class=\"dataframe\">\n",
              "  <thead>\n",
              "    <tr style=\"text-align: right;\">\n",
              "      <th></th>\n",
              "      <th>orderid</th>\n",
              "      <th>userid</th>\n",
              "      <th>NDAYS_FROM_LAST</th>\n",
              "      <th>field1</th>\n",
              "      <th>MONTH_BUY</th>\n",
              "      <th>MONTH_DEPART</th>\n",
              "      <th>ORDER_OF_BUY</th>\n",
              "      <th>field5</th>\n",
              "      <th>field6</th>\n",
              "      <th>field7</th>\n",
              "      <th>field8</th>\n",
              "      <th>TICKET_CHILD_1Y</th>\n",
              "      <th>field10</th>\n",
              "      <th>HOUR_OF_BUY</th>\n",
              "      <th>field12</th>\n",
              "      <th>field13</th>\n",
              "      <th>field14</th>\n",
              "      <th>TOTAL_TICKETS</th>\n",
              "      <th>DAYS_BEFORE_DEPART</th>\n",
              "      <th>field17</th>\n",
              "      <th>DOW_BUY</th>\n",
              "      <th>field19</th>\n",
              "      <th>DOW_DEPART</th>\n",
              "      <th>YEAR</th>\n",
              "      <th>field22</th>\n",
              "      <th>HOUR_DEPART</th>\n",
              "      <th>TICKET_ADULT</th>\n",
              "      <th>field25</th>\n",
              "      <th>field26</th>\n",
              "      <th>field27</th>\n",
              "      <th>TICKET_CHILD_4Y</th>\n",
              "      <th>QUARTER</th>\n",
              "      <th>indicator_goal21</th>\n",
              "      <th>indicator_goal22</th>\n",
              "      <th>indicator_goal23</th>\n",
              "      <th>indicator_goal24</th>\n",
              "      <th>indicator_goal25</th>\n",
              "      <th>USR_CNT</th>\n",
              "      <th>INDICATOR_CNT</th>\n",
              "    </tr>\n",
              "  </thead>\n",
              "  <tbody>\n",
              "    <tr>\n",
              "      <th>0</th>\n",
              "      <td>0</td>\n",
              "      <td>60209</td>\n",
              "      <td>0</td>\n",
              "      <td>-0.548937</td>\n",
              "      <td>10</td>\n",
              "      <td>10</td>\n",
              "      <td>1</td>\n",
              "      <td>1</td>\n",
              "      <td>0</td>\n",
              "      <td>1</td>\n",
              "      <td>1</td>\n",
              "      <td>0</td>\n",
              "      <td>1</td>\n",
              "      <td>23</td>\n",
              "      <td>2</td>\n",
              "      <td>23</td>\n",
              "      <td>-0.521242</td>\n",
              "      <td>1</td>\n",
              "      <td>1</td>\n",
              "      <td>1</td>\n",
              "      <td>2</td>\n",
              "      <td>2</td>\n",
              "      <td>3</td>\n",
              "      <td>1</td>\n",
              "      <td>20</td>\n",
              "      <td>15</td>\n",
              "      <td>1</td>\n",
              "      <td>1</td>\n",
              "      <td>1</td>\n",
              "      <td>1</td>\n",
              "      <td>0</td>\n",
              "      <td>4</td>\n",
              "      <td>1</td>\n",
              "      <td>1</td>\n",
              "      <td>0</td>\n",
              "      <td>0</td>\n",
              "      <td>1</td>\n",
              "      <td>2</td>\n",
              "      <td>0.600098</td>\n",
              "    </tr>\n",
              "    <tr>\n",
              "      <th>1</th>\n",
              "      <td>1</td>\n",
              "      <td>47274</td>\n",
              "      <td>82</td>\n",
              "      <td>-0.626508</td>\n",
              "      <td>3</td>\n",
              "      <td>4</td>\n",
              "      <td>3</td>\n",
              "      <td>0</td>\n",
              "      <td>0</td>\n",
              "      <td>1</td>\n",
              "      <td>1</td>\n",
              "      <td>0</td>\n",
              "      <td>1</td>\n",
              "      <td>14</td>\n",
              "      <td>4</td>\n",
              "      <td>3</td>\n",
              "      <td>-0.661308</td>\n",
              "      <td>1</td>\n",
              "      <td>19</td>\n",
              "      <td>1</td>\n",
              "      <td>6</td>\n",
              "      <td>1</td>\n",
              "      <td>4</td>\n",
              "      <td>0</td>\n",
              "      <td>17</td>\n",
              "      <td>14</td>\n",
              "      <td>1</td>\n",
              "      <td>1</td>\n",
              "      <td>1</td>\n",
              "      <td>1</td>\n",
              "      <td>0</td>\n",
              "      <td>1</td>\n",
              "      <td>1</td>\n",
              "      <td>1</td>\n",
              "      <td>0</td>\n",
              "      <td>1</td>\n",
              "      <td>1</td>\n",
              "      <td>3</td>\n",
              "      <td>0.799805</td>\n",
              "    </tr>\n",
              "    <tr>\n",
              "      <th>2</th>\n",
              "      <td>2</td>\n",
              "      <td>33843</td>\n",
              "      <td>0</td>\n",
              "      <td>-0.548937</td>\n",
              "      <td>6</td>\n",
              "      <td>8</td>\n",
              "      <td>1</td>\n",
              "      <td>1</td>\n",
              "      <td>0</td>\n",
              "      <td>0</td>\n",
              "      <td>1</td>\n",
              "      <td>0</td>\n",
              "      <td>1</td>\n",
              "      <td>13</td>\n",
              "      <td>4</td>\n",
              "      <td>3</td>\n",
              "      <td>-0.521242</td>\n",
              "      <td>1</td>\n",
              "      <td>39</td>\n",
              "      <td>1</td>\n",
              "      <td>1</td>\n",
              "      <td>1</td>\n",
              "      <td>5</td>\n",
              "      <td>1</td>\n",
              "      <td>101</td>\n",
              "      <td>8</td>\n",
              "      <td>1</td>\n",
              "      <td>35</td>\n",
              "      <td>1</td>\n",
              "      <td>1</td>\n",
              "      <td>0</td>\n",
              "      <td>2</td>\n",
              "      <td>1</td>\n",
              "      <td>0</td>\n",
              "      <td>0</td>\n",
              "      <td>1</td>\n",
              "      <td>1</td>\n",
              "      <td>2</td>\n",
              "      <td>0.600098</td>\n",
              "    </tr>\n",
              "    <tr>\n",
              "      <th>3</th>\n",
              "      <td>3</td>\n",
              "      <td>245314</td>\n",
              "      <td>6</td>\n",
              "      <td>0.304348</td>\n",
              "      <td>7</td>\n",
              "      <td>7</td>\n",
              "      <td>2</td>\n",
              "      <td>0</td>\n",
              "      <td>10</td>\n",
              "      <td>1</td>\n",
              "      <td>0</td>\n",
              "      <td>0</td>\n",
              "      <td>0</td>\n",
              "      <td>20</td>\n",
              "      <td>19</td>\n",
              "      <td>3</td>\n",
              "      <td>0.879422</td>\n",
              "      <td>1</td>\n",
              "      <td>18</td>\n",
              "      <td>1</td>\n",
              "      <td>4</td>\n",
              "      <td>1</td>\n",
              "      <td>1</td>\n",
              "      <td>1</td>\n",
              "      <td>16</td>\n",
              "      <td>16</td>\n",
              "      <td>1</td>\n",
              "      <td>1</td>\n",
              "      <td>3</td>\n",
              "      <td>1</td>\n",
              "      <td>0</td>\n",
              "      <td>3</td>\n",
              "      <td>1</td>\n",
              "      <td>1</td>\n",
              "      <td>0</td>\n",
              "      <td>1</td>\n",
              "      <td>1</td>\n",
              "      <td>2</td>\n",
              "      <td>0.799805</td>\n",
              "    </tr>\n",
              "    <tr>\n",
              "      <th>4</th>\n",
              "      <td>4</td>\n",
              "      <td>168484</td>\n",
              "      <td>115</td>\n",
              "      <td>-0.471365</td>\n",
              "      <td>3</td>\n",
              "      <td>3</td>\n",
              "      <td>2</td>\n",
              "      <td>0</td>\n",
              "      <td>0</td>\n",
              "      <td>1</td>\n",
              "      <td>1</td>\n",
              "      <td>0</td>\n",
              "      <td>1</td>\n",
              "      <td>20</td>\n",
              "      <td>4</td>\n",
              "      <td>5</td>\n",
              "      <td>-0.661308</td>\n",
              "      <td>2</td>\n",
              "      <td>8</td>\n",
              "      <td>1</td>\n",
              "      <td>2</td>\n",
              "      <td>1</td>\n",
              "      <td>3</td>\n",
              "      <td>0</td>\n",
              "      <td>1</td>\n",
              "      <td>13</td>\n",
              "      <td>2</td>\n",
              "      <td>1</td>\n",
              "      <td>1</td>\n",
              "      <td>1</td>\n",
              "      <td>0</td>\n",
              "      <td>1</td>\n",
              "      <td>1</td>\n",
              "      <td>1</td>\n",
              "      <td>0</td>\n",
              "      <td>1</td>\n",
              "      <td>1</td>\n",
              "      <td>2</td>\n",
              "      <td>0.799805</td>\n",
              "    </tr>\n",
              "  </tbody>\n",
              "</table>\n",
              "</div>"
            ],
            "text/plain": [
              "   orderid  userid  NDAYS_FROM_LAST    field1  MONTH_BUY  MONTH_DEPART  \\\n",
              "0        0   60209                0 -0.548937         10            10   \n",
              "1        1   47274               82 -0.626508          3             4   \n",
              "2        2   33843                0 -0.548937          6             8   \n",
              "3        3  245314                6  0.304348          7             7   \n",
              "4        4  168484              115 -0.471365          3             3   \n",
              "\n",
              "   ORDER_OF_BUY  field5  field6  field7  field8  TICKET_CHILD_1Y  field10  \\\n",
              "0             1       1       0       1       1                0        1   \n",
              "1             3       0       0       1       1                0        1   \n",
              "2             1       1       0       0       1                0        1   \n",
              "3             2       0      10       1       0                0        0   \n",
              "4             2       0       0       1       1                0        1   \n",
              "\n",
              "   HOUR_OF_BUY  field12  field13   field14  TOTAL_TICKETS  DAYS_BEFORE_DEPART  \\\n",
              "0           23        2       23 -0.521242              1                   1   \n",
              "1           14        4        3 -0.661308              1                  19   \n",
              "2           13        4        3 -0.521242              1                  39   \n",
              "3           20       19        3  0.879422              1                  18   \n",
              "4           20        4        5 -0.661308              2                   8   \n",
              "\n",
              "   field17  DOW_BUY  field19  DOW_DEPART  YEAR  field22  HOUR_DEPART  \\\n",
              "0        1        2        2           3     1       20           15   \n",
              "1        1        6        1           4     0       17           14   \n",
              "2        1        1        1           5     1      101            8   \n",
              "3        1        4        1           1     1       16           16   \n",
              "4        1        2        1           3     0        1           13   \n",
              "\n",
              "   TICKET_ADULT  field25  field26  field27  TICKET_CHILD_4Y  QUARTER  \\\n",
              "0             1        1        1        1                0        4   \n",
              "1             1        1        1        1                0        1   \n",
              "2             1       35        1        1                0        2   \n",
              "3             1        1        3        1                0        3   \n",
              "4             2        1        1        1                0        1   \n",
              "\n",
              "   indicator_goal21  indicator_goal22  indicator_goal23  indicator_goal24  \\\n",
              "0                 1                 1                 0                 0   \n",
              "1                 1                 1                 0                 1   \n",
              "2                 1                 0                 0                 1   \n",
              "3                 1                 1                 0                 1   \n",
              "4                 1                 1                 0                 1   \n",
              "\n",
              "   indicator_goal25  USR_CNT  INDICATOR_CNT  \n",
              "0                 1        2       0.600098  \n",
              "1                 1        3       0.799805  \n",
              "2                 1        2       0.600098  \n",
              "3                 1        2       0.799805  \n",
              "4                 1        2       0.799805  "
            ]
          },
          "metadata": {
            "tags": []
          },
          "execution_count": 7
        }
      ]
    },
    {
      "cell_type": "markdown",
      "metadata": {
        "id": "kYTamCQ6Faz0",
        "colab_type": "text"
      },
      "source": [
        "# SUBM 2"
      ]
    },
    {
      "cell_type": "markdown",
      "metadata": {
        "colab_type": "text",
        "id": "p3w5YPcnbMGL"
      },
      "source": [
        "## subm2 base 0.715428"
      ]
    },
    {
      "cell_type": "code",
      "metadata": {
        "colab_type": "code",
        "id": "uAP2JUkEbbHA",
        "colab": {}
      },
      "source": [
        "# Load dataset\n",
        "def load_ottrip(train=True):\n",
        "\n",
        "  cols_to_rename = {'field0': 'ndays_from_last',\n",
        "                 'field2': 'month_buy',\n",
        "                 'field3': 'month_depart',\n",
        "                 'field4': 'order_of_buy',\n",
        "                 'field9': 'ticket_child_1y',\n",
        "                 'field11': 'hour_of_buy',\n",
        "                 'field15': 'total_tickets',\n",
        "                 'field16': 'days_before_depart',\n",
        "                 'field18': 'dow_buy',\n",
        "                 'field20': 'dow_depart',\n",
        "                 'field21': 'year',\n",
        "                 'field23': 'hour_depart',\n",
        "                 'field24': 'ticket_adult',\n",
        "                 'field28': 'ticket_child_4y',\n",
        "                 'field29': 'quarter'}\n",
        "\n",
        "  for k, v in cols_to_rename.items():\n",
        "    cols_to_rename[k] = v.upper() \n",
        "\n",
        "  train_file = 'onetwotrip_challenge_train.csv'\n",
        "  test_file = 'onetwotrip_challenge_test.csv'\n",
        "  f = train_file if train else test_file\n",
        "  colab_path = '/content/drive/My Drive/'\n",
        "  data = pd.read_csv(os.path.join(colab_path , f))\n",
        "  data.rename(columns=cols_to_rename, inplace=True)\n",
        "\n",
        "  data['YEAR']=(data.YEAR == 1).astype(uint16)\n",
        "  data['field7']=(data.field7 == 1).astype(uint16)\n",
        "  data = reduce_mem_usage(data)\n",
        "  print(data.shape)\n",
        "\n",
        "  return data"
      ],
      "execution_count": 0,
      "outputs": []
    },
    {
      "cell_type": "code",
      "metadata": {
        "colab_type": "code",
        "id": "8cY6SPVqbbP_",
        "colab": {}
      },
      "source": [
        "df = load_ottrip()\n",
        "df_test = load_ottrip(train=False)\n",
        "df_test['USR_CNT'] = df_test.userid.map(df_test.groupby('userid').size())\n",
        "df_test['INDICATOR_CNT'] = df_test[indicator_cols].apply(lambda x: np.sum(x.astype(uint8))/5, axis=1).astype(np.float16\n",
        "                                                                                                             \n",
        "to_scale = ['NDAYS_FROM_LAST', 'ORDER_OF_BUY', 'field6', 'TICKET_CHILD_1Y',\n",
        "           'field12', 'field13', 'TOTAL_TICKETS', 'DAYS_BEFORE_DEPART', 'field17', 'field19',\n",
        "           'field22', 'TICKET_ADULT', 'field25', 'field26', 'TICKET_CHILD_4Y', 'USR_CNT']\n",
        "\n",
        "df_copy = df.copy()\n",
        "df_test_copy = df_test.copy()\n",
        "scaler = RobustScaler().fit(df_copy[to_scale])\n",
        "df_copy[to_scale] = scaler.transform(df_copy[to_scale])\n",
        "df_test_copy[to_scale] = scaler.transform(df_test_copy[to_scale])                                                                                                             "
      ],
      "execution_count": 0,
      "outputs": []
    },
    {
      "cell_type": "code",
      "metadata": {
        "colab_type": "code",
        "id": "uYHx8l5rbbYM",
        "colab": {}
      },
      "source": [
        "df_train=df_copy.drop(['orderid', 'userid', 'goal1'], axis=1)\n",
        "df_test=df_test_copy.drop(['orderid', 'userid'], axis=1)\n",
        "\n",
        "n_fold = 10\n",
        "folds = KFold(n_splits=n_fold, shuffle=True, random_state=11)\n",
        "list_goals = []\n",
        "\n",
        "for cycle, goal in enumerate(['goal25', 'goal23', 'goal24', 'goal22', 'goal21']):\n",
        "\n",
        "  print(f\"\\nstart training process... cycle =====> {cycle+1}\")\n",
        " \n",
        "  X = df_train.drop( np.setdiff1d(goals_cols, list_goals).tolist(), axis=1)\n",
        "  Y = df_train[goal]\n",
        "\n",
        "  used_goals = list(filter(lambda x: 'goal' in x and 'indicator' not in x, X.columns))\n",
        "\n",
        "  print(f\"use goal columns =====> {used_goals} to predict ====> {goal}\\n\")\n",
        "\n",
        "  res_dict=train_model_classification(X=X, X_test=df_test, y=Y, params=params, folds=folds, model_type='lgb', eval_metric='auc', \n",
        "                               columns=None, plot_feature_importance=False, model=None,\n",
        "                               verbose=10000, early_stopping_rounds=200, n_estimators=50000)\n",
        "\n",
        "  list_goals.append(goal)\n",
        "\n",
        "  df_test[goal] = res_dict['prediction'][:, 1]\n",
        "\n",
        "  test_goals = list(filter(lambda x: 'goal' in x and 'indicator' not in x, df_test.columns))\n",
        "  print(f\"\\ntest set contains: {test_goals}\")\n",
        "\n",
        "  if cycle == 4:\n",
        "    probas = pd.concat([df_test['goal21'], df_test['goal22'], df_test['goal23'], \n",
        "                        df_test['goal24'], df_test['goal25']], axis=1)\n",
        "    \n",
        "    colab_path = '/content/drive/My Drive/'\n",
        "    \n",
        "    probas.to_csv( os.path.join(colab_path,'sub2.csv') )\n",
        "    print(\"process completed successfully!\")"
      ],
      "execution_count": 0,
      "outputs": []
    },
    {
      "cell_type": "markdown",
      "metadata": {
        "id": "-mEWzdaOcaHG",
        "colab_type": "text"
      },
      "source": [
        "## 2_1  0.71597"
      ]
    },
    {
      "cell_type": "code",
      "metadata": {
        "id": "Tsn96dzXcn0h",
        "colab_type": "code",
        "outputId": "a32d8ea7-e433-4a16-e740-c45d47b380fc",
        "colab": {
          "base_uri": "https://localhost:8080/",
          "height": 54
        }
      },
      "source": [
        "print(X.columns.tolist(), end=', ')"
      ],
      "execution_count": 0,
      "outputs": [
        {
          "output_type": "stream",
          "text": [
            "['NDAYS_FROM_LAST', 'field1', 'MONTH_BUY', 'MONTH_DEPART', 'ORDER_OF_BUY', 'field5', 'field6', 'field7', 'field8', 'TICKET_CHILD_1Y', 'field10', 'HOUR_OF_BUY', 'field12', 'field13', 'field14', 'TOTAL_TICKETS', 'DAYS_BEFORE_DEPART', 'field17', 'DOW_BUY', 'field19', 'DOW_DEPART', 'YEAR', 'field22', 'HOUR_DEPART', 'TICKET_ADULT', 'field25', 'field26', 'field27', 'TICKET_CHILD_4Y', 'indicator_goal21', 'indicator_goal22', 'indicator_goal23', 'indicator_goal24', 'indicator_goal25', 'INDICATOR_CNT', 'USR_CNT', 'DIFF_H', 'DIFF_M', 'CHILD', 'f14_id_median', 'f1_id_median', 'f1_id_std', 'f14_id_std', 'f26_id_median', 'f27_id_median', 'f26_id_std', 'f27_id_std', 'DAYS_BEFORE_DEPART_id_median', 'DAYS_BEFORE_DEPART_id_std', 'NDAYS_FROM_LAST_id_median', 'NDAYS_FROM_LAST_id_std', 'ORDER_OF_BUY_id_median', 'ORDER_OF_BUY_id_std', 'field13_id_median', 'field13_id_std', 'field26_id_median', 'field26_id_std', 'field19_id_median', 'field19_id_std', 'field1_sem', 'field14_sem', 'field26_sem', 'field27_sem', 'field12_sem', 'NDAYS_FROM_LAST_sem', 'field13_sem', 'field22_sem', 'field25_sem', 'field1_field14', 'field26_field27'], "
          ],
          "name": "stdout"
        }
      ]
    },
    {
      "cell_type": "code",
      "metadata": {
        "id": "FeAEqjNqhJ8a",
        "colab_type": "code",
        "colab": {}
      },
      "source": [
        "params_ = {'boosting': 'gbdt',\n",
        "          'objective':'binary',\n",
        "          'metric': 'auc',\n",
        "          'learning_rate': 0.01, # 0.003! #0.005 #0.006 \n",
        "          'num_leaves': 110, #110 #100 #150 large, but over-fitting\n",
        "          'max_bin': 66,  #60 #50 # large,but slower,over-fitting\n",
        "          'max_depth': 10, # deal with over-fitting\n",
        "          'min_data_in_leaf': 30, # deal with over-fitting\n",
        "          'min_child_samples': 20,\n",
        "          'feature_fraction': 0.5,#0.5 #0.6 #0.8\n",
        "          'bagging_fraction': 0.8,\n",
        "          'bagging_freq': 40,#5  \n",
        "          'bagging_seed': 11,\n",
        "          'lambda_l1': 2,#1.3! #5 #1.2 #1\n",
        "          'lambda_l2': 0.1,\n",
        "           'random_state': SEED\n",
        "         }"
      ],
      "execution_count": 0,
      "outputs": []
    },
    {
      "cell_type": "code",
      "metadata": {
        "id": "qbObq_Wtg6VQ",
        "colab_type": "code",
        "outputId": "042bce90-5240-411f-e3ce-34071f7ae139",
        "colab": {
          "base_uri": "https://localhost:8080/",
          "height": 1000
        }
      },
      "source": [
        "df_train = pd.concat([X, train[goals_cols]], axis=1)\n",
        "df_test = X_test\n",
        "\n",
        "n_fold = 10\n",
        "folds = KFold(n_splits=n_fold, shuffle=True, random_state=11)\n",
        "list_goals = []\n",
        "\n",
        "for cycle, goal in enumerate(['goal25', 'goal23', 'goal24', 'goal22', 'goal21']):\n",
        "\n",
        "  print(f\"\\nstart training process... cycle =====> {cycle+1}\")\n",
        " \n",
        "  X = df_train.drop( np.setdiff1d(goals_cols, list_goals).tolist(), axis=1)\n",
        "  Y = df_train[goal]\n",
        "\n",
        "  used_goals = list(filter(lambda x: 'goal' in x and 'indicator' not in x, X.columns))\n",
        "\n",
        "  print(f\"use goal columns =====> {used_goals} to predict ====> {goal}\\n\")\n",
        "\n",
        "  res_dict=train_model_classification(X=X, X_test=df_test, y=Y, params=params_, folds=folds, model_type='lgb', eval_metric='auc', \n",
        "                               columns=None, plot_feature_importance=False, model=None,\n",
        "                               verbose=10000, early_stopping_rounds=200, n_estimators=50000)\n",
        "\n",
        "  list_goals.append(goal)\n",
        "\n",
        "  df_test[goal] = res_dict['prediction'][:, 1]\n",
        "\n",
        "  test_goals = list(filter(lambda x: 'goal' in x and 'indicator' not in x, df_test.columns))\n",
        "  print(f\"\\ntest set contains: {test_goals}\")\n",
        "\n",
        "  if cycle == 4:\n",
        "    probas = pd.concat([df_test['goal21'], df_test['goal22'], df_test['goal23'], \n",
        "                        df_test['goal24'], df_test['goal25']], axis=1)\n",
        "    \n",
        "    colab_path = '/content/drive/My Drive/ottrip_subm/'\n",
        "    \n",
        "    probas.to_csv( os.path.join(colab_path,'sub2_1_base.csv') )\n",
        "    print(\"process completed successfully!\")"
      ],
      "execution_count": 0,
      "outputs": [
        {
          "output_type": "stream",
          "text": [
            "\n",
            "start training process... cycle =====> 1\n",
            "use goal columns =====> [] to predict ====> goal25\n",
            "\n",
            "Fold 1 started at Tue Jan 14 19:25:38 2020\n",
            "Training until validation scores don't improve for 200 rounds.\n",
            "Early stopping, best iteration is:\n",
            "[815]\ttraining's auc: 0.988935\ttraining's auc: 0.988935\tvalid_1's auc: 0.944226\tvalid_1's auc: 0.944226\n",
            "Fold 2 started at Tue Jan 14 19:27:49 2020\n",
            "Training until validation scores don't improve for 200 rounds.\n",
            "Early stopping, best iteration is:\n",
            "[749]\ttraining's auc: 0.987901\ttraining's auc: 0.987901\tvalid_1's auc: 0.935809\tvalid_1's auc: 0.935809\n",
            "Fold 3 started at Tue Jan 14 19:29:51 2020\n",
            "Training until validation scores don't improve for 200 rounds.\n",
            "Early stopping, best iteration is:\n",
            "[665]\ttraining's auc: 0.985204\ttraining's auc: 0.985204\tvalid_1's auc: 0.94876\tvalid_1's auc: 0.94876\n",
            "Fold 4 started at Tue Jan 14 19:31:39 2020\n",
            "Training until validation scores don't improve for 200 rounds.\n",
            "Early stopping, best iteration is:\n",
            "[758]\ttraining's auc: 0.987402\ttraining's auc: 0.987402\tvalid_1's auc: 0.940902\tvalid_1's auc: 0.940902\n",
            "Fold 5 started at Tue Jan 14 19:33:42 2020\n",
            "Training until validation scores don't improve for 200 rounds.\n",
            "Early stopping, best iteration is:\n",
            "[495]\ttraining's auc: 0.980649\ttraining's auc: 0.980649\tvalid_1's auc: 0.941284\tvalid_1's auc: 0.941284\n",
            "Fold 6 started at Tue Jan 14 19:35:06 2020\n",
            "Training until validation scores don't improve for 200 rounds.\n",
            "Early stopping, best iteration is:\n",
            "[565]\ttraining's auc: 0.983686\ttraining's auc: 0.983686\tvalid_1's auc: 0.945014\tvalid_1's auc: 0.945014\n",
            "Fold 7 started at Tue Jan 14 19:36:41 2020\n",
            "Training until validation scores don't improve for 200 rounds.\n",
            "Early stopping, best iteration is:\n",
            "[787]\ttraining's auc: 0.989016\ttraining's auc: 0.989016\tvalid_1's auc: 0.945871\tvalid_1's auc: 0.945871\n",
            "Fold 8 started at Tue Jan 14 19:38:49 2020\n",
            "Training until validation scores don't improve for 200 rounds.\n",
            "Early stopping, best iteration is:\n",
            "[678]\ttraining's auc: 0.986283\ttraining's auc: 0.986283\tvalid_1's auc: 0.942487\tvalid_1's auc: 0.942487\n",
            "Fold 9 started at Tue Jan 14 19:40:40 2020\n",
            "Training until validation scores don't improve for 200 rounds.\n",
            "Early stopping, best iteration is:\n",
            "[893]\ttraining's auc: 0.990123\ttraining's auc: 0.990123\tvalid_1's auc: 0.94537\tvalid_1's auc: 0.94537\n",
            "Fold 10 started at Tue Jan 14 19:43:03 2020\n",
            "Training until validation scores don't improve for 200 rounds.\n",
            "Early stopping, best iteration is:\n",
            "[750]\ttraining's auc: 0.987532\ttraining's auc: 0.987532\tvalid_1's auc: 0.946862\tvalid_1's auc: 0.946862\n",
            "CV mean score: 0.9437, std: 0.0035.\n",
            "\n",
            "test set contains: ['goal25']\n",
            "\n",
            "start training process... cycle =====> 2\n",
            "use goal columns =====> ['goal25'] to predict ====> goal23\n",
            "\n",
            "Fold 1 started at Tue Jan 14 19:45:03 2020\n",
            "Training until validation scores don't improve for 200 rounds.\n",
            "Early stopping, best iteration is:\n",
            "[1391]\ttraining's auc: 0.98452\ttraining's auc: 0.98452\tvalid_1's auc: 0.91049\tvalid_1's auc: 0.91049\n",
            "Fold 2 started at Tue Jan 14 19:48:23 2020\n",
            "Training until validation scores don't improve for 200 rounds.\n",
            "Early stopping, best iteration is:\n",
            "[2337]\ttraining's auc: 0.993798\ttraining's auc: 0.993798\tvalid_1's auc: 0.910553\tvalid_1's auc: 0.910553\n",
            "Fold 3 started at Tue Jan 14 19:54:01 2020\n",
            "Training until validation scores don't improve for 200 rounds.\n",
            "Early stopping, best iteration is:\n",
            "[2191]\ttraining's auc: 0.992811\ttraining's auc: 0.992811\tvalid_1's auc: 0.906348\tvalid_1's auc: 0.906348\n",
            "Fold 4 started at Tue Jan 14 19:59:18 2020\n",
            "Training until validation scores don't improve for 200 rounds.\n",
            "Early stopping, best iteration is:\n",
            "[1606]\ttraining's auc: 0.988085\ttraining's auc: 0.988085\tvalid_1's auc: 0.912401\tvalid_1's auc: 0.912401\n",
            "Fold 5 started at Tue Jan 14 20:03:13 2020\n",
            "Training until validation scores don't improve for 200 rounds.\n",
            "Early stopping, best iteration is:\n",
            "[1583]\ttraining's auc: 0.987141\ttraining's auc: 0.987141\tvalid_1's auc: 0.90994\tvalid_1's auc: 0.90994\n",
            "Fold 6 started at Tue Jan 14 20:07:06 2020\n",
            "Training until validation scores don't improve for 200 rounds.\n",
            "Early stopping, best iteration is:\n",
            "[2565]\ttraining's auc: 0.994782\ttraining's auc: 0.994782\tvalid_1's auc: 0.910294\tvalid_1's auc: 0.910294\n",
            "Fold 7 started at Tue Jan 14 20:13:18 2020\n",
            "Training until validation scores don't improve for 200 rounds.\n",
            "Early stopping, best iteration is:\n",
            "[1200]\ttraining's auc: 0.982124\ttraining's auc: 0.982124\tvalid_1's auc: 0.910238\tvalid_1's auc: 0.910238\n",
            "Fold 8 started at Tue Jan 14 20:16:17 2020\n",
            "Training until validation scores don't improve for 200 rounds.\n",
            "Early stopping, best iteration is:\n",
            "[1649]\ttraining's auc: 0.988571\ttraining's auc: 0.988571\tvalid_1's auc: 0.910844\tvalid_1's auc: 0.910844\n",
            "Fold 9 started at Tue Jan 14 20:20:20 2020\n",
            "Training until validation scores don't improve for 200 rounds.\n",
            "Early stopping, best iteration is:\n",
            "[2189]\ttraining's auc: 0.992948\ttraining's auc: 0.992948\tvalid_1's auc: 0.909751\tvalid_1's auc: 0.909751\n",
            "Fold 10 started at Tue Jan 14 20:25:46 2020\n",
            "Training until validation scores don't improve for 200 rounds.\n",
            "Early stopping, best iteration is:\n",
            "[1241]\ttraining's auc: 0.98203\ttraining's auc: 0.98203\tvalid_1's auc: 0.90673\tvalid_1's auc: 0.90673\n",
            "CV mean score: 0.9098, std: 0.0018.\n",
            "\n",
            "test set contains: ['goal25', 'goal23']\n",
            "\n",
            "start training process... cycle =====> 3\n",
            "use goal columns =====> ['goal23', 'goal25'] to predict ====> goal24\n",
            "\n",
            "Fold 1 started at Tue Jan 14 20:28:49 2020\n",
            "Training until validation scores don't improve for 200 rounds.\n",
            "Early stopping, best iteration is:\n",
            "[964]\ttraining's auc: 0.966993\ttraining's auc: 0.966993\tvalid_1's auc: 0.824\tvalid_1's auc: 0.824\n",
            "Fold 2 started at Tue Jan 14 20:31:25 2020\n",
            "Training until validation scores don't improve for 200 rounds.\n",
            "Early stopping, best iteration is:\n",
            "[1426]\ttraining's auc: 0.981845\ttraining's auc: 0.981845\tvalid_1's auc: 0.82987\tvalid_1's auc: 0.82987\n",
            "Fold 3 started at Tue Jan 14 20:35:10 2020\n",
            "Training until validation scores don't improve for 200 rounds.\n",
            "Early stopping, best iteration is:\n",
            "[1733]\ttraining's auc: 0.987518\ttraining's auc: 0.987518\tvalid_1's auc: 0.824625\tvalid_1's auc: 0.824625\n",
            "Fold 4 started at Tue Jan 14 20:39:43 2020\n",
            "Training until validation scores don't improve for 200 rounds.\n",
            "Early stopping, best iteration is:\n",
            "[920]\ttraining's auc: 0.966081\ttraining's auc: 0.966081\tvalid_1's auc: 0.826031\tvalid_1's auc: 0.826031\n",
            "Fold 5 started at Tue Jan 14 20:42:13 2020\n",
            "Training until validation scores don't improve for 200 rounds.\n",
            "Early stopping, best iteration is:\n",
            "[753]\ttraining's auc: 0.958387\ttraining's auc: 0.958387\tvalid_1's auc: 0.816691\tvalid_1's auc: 0.816691\n",
            "Fold 6 started at Tue Jan 14 20:44:17 2020\n",
            "Training until validation scores don't improve for 200 rounds.\n",
            "Early stopping, best iteration is:\n",
            "[481]\ttraining's auc: 0.94063\ttraining's auc: 0.94063\tvalid_1's auc: 0.830516\tvalid_1's auc: 0.830516\n",
            "Fold 7 started at Tue Jan 14 20:45:41 2020\n",
            "Training until validation scores don't improve for 200 rounds.\n",
            "Early stopping, best iteration is:\n",
            "[774]\ttraining's auc: 0.959204\ttraining's auc: 0.959204\tvalid_1's auc: 0.823829\tvalid_1's auc: 0.823829\n",
            "Fold 8 started at Tue Jan 14 20:47:49 2020\n",
            "Training until validation scores don't improve for 200 rounds.\n",
            "Early stopping, best iteration is:\n",
            "[1524]\ttraining's auc: 0.985088\ttraining's auc: 0.985088\tvalid_1's auc: 0.81918\tvalid_1's auc: 0.81918\n",
            "Fold 9 started at Tue Jan 14 20:51:48 2020\n",
            "Training until validation scores don't improve for 200 rounds.\n",
            "Early stopping, best iteration is:\n",
            "[2196]\ttraining's auc: 0.992739\ttraining's auc: 0.992739\tvalid_1's auc: 0.818771\tvalid_1's auc: 0.818771\n",
            "Fold 10 started at Tue Jan 14 20:57:28 2020\n",
            "Training until validation scores don't improve for 200 rounds.\n",
            "Early stopping, best iteration is:\n",
            "[1268]\ttraining's auc: 0.977635\ttraining's auc: 0.977635\tvalid_1's auc: 0.834817\tvalid_1's auc: 0.834817\n",
            "CV mean score: 0.8248, std: 0.0054.\n",
            "\n",
            "test set contains: ['goal25', 'goal23', 'goal24']\n",
            "\n",
            "start training process... cycle =====> 4\n",
            "use goal columns =====> ['goal23', 'goal24', 'goal25'] to predict ====> goal22\n",
            "\n",
            "Fold 1 started at Tue Jan 14 21:00:49 2020\n",
            "Training until validation scores don't improve for 200 rounds.\n",
            "Early stopping, best iteration is:\n",
            "[3841]\ttraining's auc: 0.92221\ttraining's auc: 0.92221\tvalid_1's auc: 0.769098\tvalid_1's auc: 0.769098\n",
            "Fold 2 started at Tue Jan 14 21:09:42 2020\n",
            "Training until validation scores don't improve for 200 rounds.\n",
            "Early stopping, best iteration is:\n",
            "[4801]\ttraining's auc: 0.938737\ttraining's auc: 0.938737\tvalid_1's auc: 0.756391\tvalid_1's auc: 0.756391\n",
            "Fold 3 started at Tue Jan 14 21:20:33 2020\n",
            "Training until validation scores don't improve for 200 rounds.\n",
            "Early stopping, best iteration is:\n",
            "[2881]\ttraining's auc: 0.89963\ttraining's auc: 0.89963\tvalid_1's auc: 0.766357\tvalid_1's auc: 0.766357\n",
            "Fold 4 started at Tue Jan 14 21:27:21 2020\n",
            "Training until validation scores don't improve for 200 rounds.\n",
            "Early stopping, best iteration is:\n",
            "[3868]\ttraining's auc: 0.923914\ttraining's auc: 0.923914\tvalid_1's auc: 0.762964\tvalid_1's auc: 0.762964\n",
            "Fold 5 started at Tue Jan 14 21:36:22 2020\n",
            "Training until validation scores don't improve for 200 rounds.\n",
            "Early stopping, best iteration is:\n",
            "[4017]\ttraining's auc: 0.924617\ttraining's auc: 0.924617\tvalid_1's auc: 0.767582\tvalid_1's auc: 0.767582\n",
            "Fold 6 started at Tue Jan 14 21:45:44 2020\n",
            "Training until validation scores don't improve for 200 rounds.\n",
            "Early stopping, best iteration is:\n",
            "[3242]\ttraining's auc: 0.909611\ttraining's auc: 0.909611\tvalid_1's auc: 0.778128\tvalid_1's auc: 0.778128\n",
            "Fold 7 started at Tue Jan 14 21:53:21 2020\n",
            "Training until validation scores don't improve for 200 rounds.\n",
            "Early stopping, best iteration is:\n",
            "[2588]\ttraining's auc: 0.891143\ttraining's auc: 0.891143\tvalid_1's auc: 0.774169\tvalid_1's auc: 0.774169\n",
            "Fold 8 started at Tue Jan 14 21:59:44 2020\n",
            "Training until validation scores don't improve for 200 rounds.\n",
            "Early stopping, best iteration is:\n",
            "[3841]\ttraining's auc: 0.922906\ttraining's auc: 0.922906\tvalid_1's auc: 0.768996\tvalid_1's auc: 0.768996\n",
            "Fold 9 started at Tue Jan 14 22:08:47 2020\n",
            "Training until validation scores don't improve for 200 rounds.\n",
            "Early stopping, best iteration is:\n",
            "[3272]\ttraining's auc: 0.909471\ttraining's auc: 0.909471\tvalid_1's auc: 0.767506\tvalid_1's auc: 0.767506\n",
            "Fold 10 started at Tue Jan 14 22:16:33 2020\n",
            "Training until validation scores don't improve for 200 rounds.\n",
            "Early stopping, best iteration is:\n",
            "[4239]\ttraining's auc: 0.930463\ttraining's auc: 0.930463\tvalid_1's auc: 0.770578\tvalid_1's auc: 0.770578\n",
            "CV mean score: 0.7682, std: 0.0056.\n",
            "\n",
            "test set contains: ['goal25', 'goal23', 'goal24', 'goal22']\n",
            "\n",
            "start training process... cycle =====> 5\n",
            "use goal columns =====> ['goal22', 'goal23', 'goal24', 'goal25'] to predict ====> goal21\n",
            "\n",
            "Fold 1 started at Tue Jan 14 22:26:40 2020\n",
            "Training until validation scores don't improve for 200 rounds.\n",
            "Early stopping, best iteration is:\n",
            "[2170]\ttraining's auc: 0.970381\ttraining's auc: 0.970381\tvalid_1's auc: 0.824595\tvalid_1's auc: 0.824595\n",
            "Fold 2 started at Tue Jan 14 22:32:23 2020\n",
            "Training until validation scores don't improve for 200 rounds.\n",
            "Early stopping, best iteration is:\n",
            "[1808]\ttraining's auc: 0.962165\ttraining's auc: 0.962165\tvalid_1's auc: 0.835584\tvalid_1's auc: 0.835584\n",
            "Fold 3 started at Tue Jan 14 22:37:15 2020\n",
            "Training until validation scores don't improve for 200 rounds.\n",
            "Early stopping, best iteration is:\n",
            "[1316]\ttraining's auc: 0.947603\ttraining's auc: 0.947603\tvalid_1's auc: 0.83923\tvalid_1's auc: 0.83923\n",
            "Fold 4 started at Tue Jan 14 22:40:53 2020\n",
            "Training until validation scores don't improve for 200 rounds.\n",
            "Early stopping, best iteration is:\n",
            "[1692]\ttraining's auc: 0.959489\ttraining's auc: 0.959489\tvalid_1's auc: 0.831043\tvalid_1's auc: 0.831043\n",
            "Fold 5 started at Tue Jan 14 22:45:26 2020\n",
            "Training until validation scores don't improve for 200 rounds.\n",
            "Early stopping, best iteration is:\n",
            "[1598]\ttraining's auc: 0.956484\ttraining's auc: 0.956484\tvalid_1's auc: 0.831113\tvalid_1's auc: 0.831113\n",
            "Fold 6 started at Tue Jan 14 22:49:46 2020\n",
            "Training until validation scores don't improve for 200 rounds.\n",
            "Early stopping, best iteration is:\n",
            "[1463]\ttraining's auc: 0.953117\ttraining's auc: 0.953117\tvalid_1's auc: 0.833033\tvalid_1's auc: 0.833033\n",
            "Fold 7 started at Tue Jan 14 22:53:44 2020\n",
            "Training until validation scores don't improve for 200 rounds.\n",
            "Early stopping, best iteration is:\n",
            "[1524]\ttraining's auc: 0.953878\ttraining's auc: 0.953878\tvalid_1's auc: 0.841195\tvalid_1's auc: 0.841195\n",
            "Fold 8 started at Tue Jan 14 22:57:52 2020\n",
            "Training until validation scores don't improve for 200 rounds.\n",
            "Early stopping, best iteration is:\n",
            "[1789]\ttraining's auc: 0.96221\ttraining's auc: 0.96221\tvalid_1's auc: 0.838827\tvalid_1's auc: 0.838827\n",
            "Fold 9 started at Tue Jan 14 23:02:39 2020\n",
            "Training until validation scores don't improve for 200 rounds.\n",
            "Early stopping, best iteration is:\n",
            "[1127]\ttraining's auc: 0.93942\ttraining's auc: 0.93942\tvalid_1's auc: 0.811093\tvalid_1's auc: 0.811093\n",
            "Fold 10 started at Tue Jan 14 23:05:49 2020\n",
            "Training until validation scores don't improve for 200 rounds.\n",
            "Early stopping, best iteration is:\n",
            "[1404]\ttraining's auc: 0.951244\ttraining's auc: 0.951244\tvalid_1's auc: 0.811583\tvalid_1's auc: 0.811583\n",
            "CV mean score: 0.8297, std: 0.0103.\n",
            "\n",
            "test set contains: ['goal25', 'goal23', 'goal24', 'goal22', 'goal21']\n",
            "process completed successfully!\n"
          ],
          "name": "stdout"
        }
      ]
    },
    {
      "cell_type": "code",
      "metadata": {
        "colab_type": "code",
        "id": "JCet-RK4bbg2",
        "colab": {}
      },
      "source": [
        "probas.reset_index(drop=True, inplace=True)\n",
        "probas.to_csv( os.path.join(colab_path,'sub2_1_base.csv') )"
      ],
      "execution_count": 0,
      "outputs": []
    },
    {
      "cell_type": "markdown",
      "metadata": {
        "id": "D8MAV2BnGfTN",
        "colab_type": "text"
      },
      "source": [
        "## 2.2 0.7416860\n"
      ]
    },
    {
      "cell_type": "code",
      "metadata": {
        "id": "PB-_K8jaHn84",
        "colab_type": "code",
        "colab": {}
      },
      "source": [
        "@contextmanager\n",
        "def timer(name):\n",
        "    t0 = time.time()\n",
        "    yield\n",
        "    print(f'[{name}] done in {time.time() - t0:.0f} s')\n",
        "\n",
        "to_scale = ['NDAYS_FROM_LAST', 'ORDER_OF_BUY', 'field12', 'field13', 'field17', 'DAYS_BEFORE_DEPART', 'field22', 'field25', 'field19', 'USR_CNT',\n",
        "            'field1_field14', 'field26_field27', 'field26']+['field1', 'field14', 'TICKET_CHILD_1Y', 'field27']\n",
        "drop_cols = ['orderid', 'userid', 'QUARTER']#, 'field1', 'field14', 'TICKET_CHILD_1Y', 'field26', 'field27'] #'indicator_goal21' 'indicator_goal22'\n",
        "\n",
        "def combining_ds_stratagy(scaling=StandardScaler(), cols_to_scale=to_scale, \n",
        "                          cols_to_drop=drop_cols):\n",
        "\n",
        "    train = load_ottrip_without_userid_encoding()\n",
        "    test = load_ottrip_without_userid_encoding(train=False)\n",
        "    # print(f\"Shape of raw data\\ntrain: {train.shape}, test: {test.shape}\")\n",
        "    print('='*5)\n",
        "\n",
        "    goals_cols=['goal21', 'goal22', 'goal23', 'goal24', 'goal25']\n",
        "    th = len(train)\n",
        "    df_all = pd.concat([train.drop(columns=goals_cols+['goal1'],axis=1), test])\n",
        "    print(f\"Shape of combined data: {df_all.shape}\")\n",
        "\n",
        "    # gen features\n",
        "    df_all['userid'] = LabelEncoder().fit_transform(df_all.userid)\n",
        "    df_all['USR_CNT'] = df_all.userid.map(df_all.groupby('userid').size())\n",
        "    df_all = feature_engineering(df_all)\n",
        "\n",
        "    # scaling\n",
        "    df_all[cols_to_scale] = scaling.fit_transform(df_all[cols_to_scale])\n",
        "    df_all = reduce_mem_usage(df_all, verbose=False)\n",
        "\n",
        "    # split df_all\n",
        "    X = df_all[:th].drop(cols_to_drop, axis=1)\n",
        "    X_test = df_all[th:].drop(cols_to_drop, axis=1)\n",
        "    X_test.reset_index(drop=True, inplace=True)\n",
        "    targets = train.loc[:, ['goal1']+goals_cols]\n",
        "\n",
        "    print('='*5)\n",
        "    print(f\"Shape of res data\\nX: {X.shape}, X_test: {X_test.shape}, targets: {targets.shape}\")\n",
        "\n",
        "    return X, X_test, targets"
      ],
      "execution_count": 0,
      "outputs": []
    },
    {
      "cell_type": "code",
      "metadata": {
        "id": "lcQSLoaoGmju",
        "colab_type": "code",
        "outputId": "e41d263a-2bbe-4c12-d135-019a9bac4da6",
        "colab": {
          "base_uri": "https://localhost:8080/",
          "height": 212
        }
      },
      "source": [
        "with timer('Prepare data to train'):\n",
        "    X, X_test, targets = combining_ds_stratagy()"
      ],
      "execution_count": 0,
      "outputs": [
        {
          "output_type": "stream",
          "text": [
            "Mem. usage decreased to 16.08 Mb (74.3% reduction)\n",
            "(196056, 44)\n",
            "Mem. usage decreased to 34.71 Mb (72.0% reduction)\n",
            "(455011, 38)\n",
            "=====\n",
            "Shape of combined data: (651067, 38)\n",
            "Mem. usage decreased to 201.17 Mb (8.2% reduction)\n",
            "=====\n",
            "Shape of res data\n",
            "X: (196056, 70), X_test: (455011, 70), targets: (196056, 6)\n",
            "[Prepare data to train] done in 230 s\n"
          ],
          "name": "stdout"
        }
      ]
    },
    {
      "cell_type": "code",
      "metadata": {
        "id": "BpCZ0j68GmQf",
        "colab_type": "code",
        "outputId": "40351d96-fb58-465a-ac7d-4476e41f0148",
        "colab": {
          "base_uri": "https://localhost:8080/",
          "height": 1000
        }
      },
      "source": [
        "df = pd.DataFrame()\n",
        "df_scores = pd.DataFrame(index=goals_cols, columns=['avg', 'std'])\n",
        "\n",
        "for col in goals_cols:\n",
        "\n",
        "    print(f'target: {col}')\n",
        "    Y = targets[col]\n",
        "\n",
        "    n_fold = 10\n",
        "    folds = KFold(n_splits=n_fold, shuffle=True, random_state=SEED)\n",
        "\n",
        "    res_dict=train_model_classification(X=X, X_test=X_test, y=Y, params=params_, folds=folds, model_type='lgb', eval_metric='auc', \n",
        "                                  columns=None, plot_feature_importance=False, model=None,\n",
        "                                  verbose=10000, early_stopping_rounds=200, n_estimators=1000)\n",
        "   \n",
        "    df[col] = res_dict['prediction'][:, 1]\n",
        "    df_scores.ix[col, 'avg'] = np.round(np.mean(res_dict['scores']), 4)\n",
        "    df_scores.ix[col, 'std'] = np.round(np.std(res_dict['scores']), 4)\n",
        "    \n",
        "    print(f'{col} completed!')\n",
        "    print('='*5)"
      ],
      "execution_count": 0,
      "outputs": [
        {
          "output_type": "stream",
          "text": [
            "target: goal21\n",
            "Fold 1 started at Wed Jan 15 09:30:56 2020\n",
            "Training until validation scores don't improve for 200 rounds.\n",
            "Did not meet early stopping. Best iteration is:\n",
            "[1000]\ttraining's auc: 0.918849\ttraining's auc: 0.918849\tvalid_1's auc: 0.751318\tvalid_1's auc: 0.751318\n",
            "Fold 2 started at Wed Jan 15 09:33:36 2020\n",
            "Training until validation scores don't improve for 200 rounds.\n",
            "Did not meet early stopping. Best iteration is:\n",
            "[1000]\ttraining's auc: 0.917567\ttraining's auc: 0.917567\tvalid_1's auc: 0.766854\tvalid_1's auc: 0.766854\n",
            "Fold 3 started at Wed Jan 15 09:36:16 2020\n",
            "Training until validation scores don't improve for 200 rounds.\n",
            "Did not meet early stopping. Best iteration is:\n",
            "[1000]\ttraining's auc: 0.916689\ttraining's auc: 0.916689\tvalid_1's auc: 0.763677\tvalid_1's auc: 0.763677\n",
            "Fold 4 started at Wed Jan 15 09:38:55 2020\n",
            "Training until validation scores don't improve for 200 rounds.\n",
            "Did not meet early stopping. Best iteration is:\n",
            "[1000]\ttraining's auc: 0.918827\ttraining's auc: 0.918827\tvalid_1's auc: 0.75965\tvalid_1's auc: 0.75965\n",
            "Fold 5 started at Wed Jan 15 09:41:33 2020\n",
            "Training until validation scores don't improve for 200 rounds.\n",
            "Did not meet early stopping. Best iteration is:\n",
            "[1000]\ttraining's auc: 0.918038\ttraining's auc: 0.918038\tvalid_1's auc: 0.753824\tvalid_1's auc: 0.753824\n",
            "Fold 6 started at Wed Jan 15 09:44:11 2020\n",
            "Training until validation scores don't improve for 200 rounds.\n",
            "Did not meet early stopping. Best iteration is:\n",
            "[1000]\ttraining's auc: 0.918727\ttraining's auc: 0.918727\tvalid_1's auc: 0.763667\tvalid_1's auc: 0.763667\n",
            "Fold 7 started at Wed Jan 15 09:46:47 2020\n",
            "Training until validation scores don't improve for 200 rounds.\n",
            "Did not meet early stopping. Best iteration is:\n",
            "[1000]\ttraining's auc: 0.919868\ttraining's auc: 0.919868\tvalid_1's auc: 0.760771\tvalid_1's auc: 0.760771\n",
            "Fold 8 started at Wed Jan 15 09:49:18 2020\n",
            "Training until validation scores don't improve for 200 rounds.\n",
            "Did not meet early stopping. Best iteration is:\n",
            "[1000]\ttraining's auc: 0.918037\ttraining's auc: 0.918037\tvalid_1's auc: 0.763736\tvalid_1's auc: 0.763736\n",
            "Fold 9 started at Wed Jan 15 09:51:49 2020\n",
            "Training until validation scores don't improve for 200 rounds.\n",
            "Did not meet early stopping. Best iteration is:\n",
            "[1000]\ttraining's auc: 0.91849\ttraining's auc: 0.91849\tvalid_1's auc: 0.758169\tvalid_1's auc: 0.758169\n",
            "Fold 10 started at Wed Jan 15 09:54:21 2020\n",
            "Training until validation scores don't improve for 200 rounds.\n",
            "Did not meet early stopping. Best iteration is:\n",
            "[1000]\ttraining's auc: 0.917749\ttraining's auc: 0.917749\tvalid_1's auc: 0.748472\tvalid_1's auc: 0.748472\n",
            "CV mean score: 0.7590, std: 0.0057.\n",
            "goal21 complited!\n",
            "=====\n",
            "target: goal22\n",
            "Fold 1 started at Wed Jan 15 09:56:52 2020\n",
            "Training until validation scores don't improve for 200 rounds.\n",
            "Did not meet early stopping. Best iteration is:\n",
            "[1000]\ttraining's auc: 0.818549\ttraining's auc: 0.818549\tvalid_1's auc: 0.735298\tvalid_1's auc: 0.735298\n",
            "Fold 2 started at Wed Jan 15 09:59:29 2020\n",
            "Training until validation scores don't improve for 200 rounds.\n",
            "Did not meet early stopping. Best iteration is:\n",
            "[1000]\ttraining's auc: 0.818205\ttraining's auc: 0.818205\tvalid_1's auc: 0.743852\tvalid_1's auc: 0.743852\n",
            "Fold 3 started at Wed Jan 15 10:02:08 2020\n",
            "Training until validation scores don't improve for 200 rounds.\n",
            "Did not meet early stopping. Best iteration is:\n",
            "[1000]\ttraining's auc: 0.817457\ttraining's auc: 0.817457\tvalid_1's auc: 0.745088\tvalid_1's auc: 0.745088\n",
            "Fold 4 started at Wed Jan 15 10:04:45 2020\n",
            "Training until validation scores don't improve for 200 rounds.\n",
            "Did not meet early stopping. Best iteration is:\n",
            "[1000]\ttraining's auc: 0.816523\ttraining's auc: 0.816523\tvalid_1's auc: 0.748391\tvalid_1's auc: 0.748391\n",
            "Fold 5 started at Wed Jan 15 10:07:22 2020\n",
            "Training until validation scores don't improve for 200 rounds.\n",
            "Did not meet early stopping. Best iteration is:\n",
            "[1000]\ttraining's auc: 0.817531\ttraining's auc: 0.817531\tvalid_1's auc: 0.747996\tvalid_1's auc: 0.747996\n",
            "Fold 6 started at Wed Jan 15 10:10:00 2020\n",
            "Training until validation scores don't improve for 200 rounds.\n",
            "Did not meet early stopping. Best iteration is:\n",
            "[1000]\ttraining's auc: 0.817653\ttraining's auc: 0.817653\tvalid_1's auc: 0.745523\tvalid_1's auc: 0.745523\n",
            "Fold 7 started at Wed Jan 15 10:12:38 2020\n",
            "Training until validation scores don't improve for 200 rounds.\n",
            "Did not meet early stopping. Best iteration is:\n",
            "[1000]\ttraining's auc: 0.816644\ttraining's auc: 0.816644\tvalid_1's auc: 0.74323\tvalid_1's auc: 0.74323\n",
            "Fold 8 started at Wed Jan 15 10:15:10 2020\n",
            "Training until validation scores don't improve for 200 rounds.\n",
            "Did not meet early stopping. Best iteration is:\n",
            "[1000]\ttraining's auc: 0.817463\ttraining's auc: 0.817463\tvalid_1's auc: 0.751808\tvalid_1's auc: 0.751808\n",
            "Fold 9 started at Wed Jan 15 10:17:42 2020\n",
            "Training until validation scores don't improve for 200 rounds.\n",
            "Did not meet early stopping. Best iteration is:\n",
            "[1000]\ttraining's auc: 0.817267\ttraining's auc: 0.817267\tvalid_1's auc: 0.748879\tvalid_1's auc: 0.748879\n",
            "Fold 10 started at Wed Jan 15 10:20:16 2020\n",
            "Training until validation scores don't improve for 200 rounds.\n",
            "Did not meet early stopping. Best iteration is:\n",
            "[1000]\ttraining's auc: 0.816541\ttraining's auc: 0.816541\tvalid_1's auc: 0.744877\tvalid_1's auc: 0.744877\n",
            "CV mean score: 0.7455, std: 0.0042.\n",
            "goal22 complited!\n",
            "=====\n",
            "target: goal23\n",
            "Fold 1 started at Wed Jan 15 10:22:48 2020\n",
            "Training until validation scores don't improve for 200 rounds.\n",
            "Did not meet early stopping. Best iteration is:\n",
            "[1000]\ttraining's auc: 0.978113\ttraining's auc: 0.978113\tvalid_1's auc: 0.911059\tvalid_1's auc: 0.911059\n",
            "Fold 2 started at Wed Jan 15 10:25:02 2020\n",
            "Training until validation scores don't improve for 200 rounds.\n",
            "Did not meet early stopping. Best iteration is:\n",
            "[1000]\ttraining's auc: 0.977881\ttraining's auc: 0.977881\tvalid_1's auc: 0.906149\tvalid_1's auc: 0.906149\n",
            "Fold 3 started at Wed Jan 15 10:27:17 2020\n",
            "Training until validation scores don't improve for 200 rounds.\n",
            "Did not meet early stopping. Best iteration is:\n",
            "[1000]\ttraining's auc: 0.977807\ttraining's auc: 0.977807\tvalid_1's auc: 0.913267\tvalid_1's auc: 0.913267\n",
            "Fold 4 started at Wed Jan 15 10:29:31 2020\n",
            "Training until validation scores don't improve for 200 rounds.\n",
            "Did not meet early stopping. Best iteration is:\n",
            "[1000]\ttraining's auc: 0.978083\ttraining's auc: 0.978083\tvalid_1's auc: 0.904428\tvalid_1's auc: 0.904428\n",
            "Fold 5 started at Wed Jan 15 10:31:45 2020\n",
            "Training until validation scores don't improve for 200 rounds.\n",
            "Did not meet early stopping. Best iteration is:\n",
            "[1000]\ttraining's auc: 0.977489\ttraining's auc: 0.977489\tvalid_1's auc: 0.907905\tvalid_1's auc: 0.907905\n",
            "Fold 6 started at Wed Jan 15 10:34:00 2020\n",
            "Training until validation scores don't improve for 200 rounds.\n",
            "Did not meet early stopping. Best iteration is:\n",
            "[1000]\ttraining's auc: 0.978147\ttraining's auc: 0.978147\tvalid_1's auc: 0.904981\tvalid_1's auc: 0.904981\n",
            "Fold 7 started at Wed Jan 15 10:36:15 2020\n",
            "Training until validation scores don't improve for 200 rounds.\n",
            "Did not meet early stopping. Best iteration is:\n",
            "[1000]\ttraining's auc: 0.97779\ttraining's auc: 0.97779\tvalid_1's auc: 0.902428\tvalid_1's auc: 0.902428\n",
            "Fold 8 started at Wed Jan 15 10:38:37 2020\n",
            "Training until validation scores don't improve for 200 rounds.\n",
            "Did not meet early stopping. Best iteration is:\n",
            "[1000]\ttraining's auc: 0.978271\ttraining's auc: 0.978271\tvalid_1's auc: 0.912812\tvalid_1's auc: 0.912812\n",
            "Fold 9 started at Wed Jan 15 10:40:57 2020\n",
            "Training until validation scores don't improve for 200 rounds.\n",
            "Did not meet early stopping. Best iteration is:\n",
            "[1000]\ttraining's auc: 0.978223\ttraining's auc: 0.978223\tvalid_1's auc: 0.909258\tvalid_1's auc: 0.909258\n",
            "Fold 10 started at Wed Jan 15 10:43:18 2020\n",
            "Training until validation scores don't improve for 200 rounds.\n",
            "Did not meet early stopping. Best iteration is:\n",
            "[1000]\ttraining's auc: 0.978523\ttraining's auc: 0.978523\tvalid_1's auc: 0.906876\tvalid_1's auc: 0.906876\n",
            "CV mean score: 0.9079, std: 0.0035.\n",
            "goal23 complited!\n",
            "=====\n",
            "target: goal24\n",
            "Fold 1 started at Wed Jan 15 10:45:39 2020\n",
            "Training until validation scores don't improve for 200 rounds.\n",
            "Early stopping, best iteration is:\n",
            "[626]\ttraining's auc: 0.95185\ttraining's auc: 0.95185\tvalid_1's auc: 0.822001\tvalid_1's auc: 0.822001\n",
            "Fold 2 started at Wed Jan 15 10:47:34 2020\n",
            "Training until validation scores don't improve for 200 rounds.\n",
            "Did not meet early stopping. Best iteration is:\n",
            "[1000]\ttraining's auc: 0.970492\ttraining's auc: 0.970492\tvalid_1's auc: 0.803772\tvalid_1's auc: 0.803772\n",
            "Fold 3 started at Wed Jan 15 10:50:06 2020\n",
            "Training until validation scores don't improve for 200 rounds.\n",
            "Did not meet early stopping. Best iteration is:\n",
            "[1000]\ttraining's auc: 0.970083\ttraining's auc: 0.970083\tvalid_1's auc: 0.827844\tvalid_1's auc: 0.827844\n",
            "Fold 4 started at Wed Jan 15 10:52:39 2020\n",
            "Training until validation scores don't improve for 200 rounds.\n",
            "Did not meet early stopping. Best iteration is:\n",
            "[1000]\ttraining's auc: 0.969266\ttraining's auc: 0.969266\tvalid_1's auc: 0.807955\tvalid_1's auc: 0.807955\n",
            "Fold 5 started at Wed Jan 15 10:55:10 2020\n",
            "Training until validation scores don't improve for 200 rounds.\n",
            "Did not meet early stopping. Best iteration is:\n",
            "[1000]\ttraining's auc: 0.969774\ttraining's auc: 0.969774\tvalid_1's auc: 0.823912\tvalid_1's auc: 0.823912\n",
            "Fold 6 started at Wed Jan 15 10:57:36 2020\n",
            "Training until validation scores don't improve for 200 rounds.\n",
            "Did not meet early stopping. Best iteration is:\n",
            "[1000]\ttraining's auc: 0.96952\ttraining's auc: 0.96952\tvalid_1's auc: 0.814929\tvalid_1's auc: 0.814929\n",
            "Fold 7 started at Wed Jan 15 11:00:04 2020\n",
            "Training until validation scores don't improve for 200 rounds.\n",
            "Did not meet early stopping. Best iteration is:\n",
            "[1000]\ttraining's auc: 0.970804\ttraining's auc: 0.970804\tvalid_1's auc: 0.820693\tvalid_1's auc: 0.820693\n",
            "Fold 8 started at Wed Jan 15 11:02:33 2020\n",
            "Training until validation scores don't improve for 200 rounds.\n",
            "Did not meet early stopping. Best iteration is:\n",
            "[1000]\ttraining's auc: 0.969317\ttraining's auc: 0.969317\tvalid_1's auc: 0.823492\tvalid_1's auc: 0.823492\n",
            "Fold 9 started at Wed Jan 15 11:05:04 2020\n",
            "Training until validation scores don't improve for 200 rounds.\n",
            "Did not meet early stopping. Best iteration is:\n",
            "[1000]\ttraining's auc: 0.971178\ttraining's auc: 0.971178\tvalid_1's auc: 0.817947\tvalid_1's auc: 0.817947\n",
            "Fold 10 started at Wed Jan 15 11:07:34 2020\n",
            "Training until validation scores don't improve for 200 rounds.\n",
            "Did not meet early stopping. Best iteration is:\n",
            "[1000]\ttraining's auc: 0.970829\ttraining's auc: 0.970829\tvalid_1's auc: 0.815943\tvalid_1's auc: 0.815943\n",
            "CV mean score: 0.8178, std: 0.0071.\n",
            "goal24 complited!\n",
            "=====\n",
            "target: goal25\n",
            "Fold 1 started at Wed Jan 15 11:10:05 2020\n",
            "Training until validation scores don't improve for 200 rounds.\n",
            "Early stopping, best iteration is:\n",
            "[762]\ttraining's auc: 0.98813\ttraining's auc: 0.98813\tvalid_1's auc: 0.938131\tvalid_1's auc: 0.938131\n",
            "Fold 2 started at Wed Jan 15 11:12:18 2020\n",
            "Training until validation scores don't improve for 200 rounds.\n",
            "Early stopping, best iteration is:\n",
            "[627]\ttraining's auc: 0.984605\ttraining's auc: 0.984605\tvalid_1's auc: 0.946175\tvalid_1's auc: 0.946175\n",
            "Fold 3 started at Wed Jan 15 11:14:12 2020\n",
            "Training until validation scores don't improve for 200 rounds.\n",
            "Did not meet early stopping. Best iteration is:\n",
            "[1000]\ttraining's auc: 0.991493\ttraining's auc: 0.991493\tvalid_1's auc: 0.940641\tvalid_1's auc: 0.940641\n",
            "Fold 4 started at Wed Jan 15 11:16:42 2020\n",
            "Training until validation scores don't improve for 200 rounds.\n",
            "Early stopping, best iteration is:\n",
            "[777]\ttraining's auc: 0.988583\ttraining's auc: 0.988583\tvalid_1's auc: 0.94569\tvalid_1's auc: 0.94569\n",
            "Fold 5 started at Wed Jan 15 11:19:00 2020\n",
            "Training until validation scores don't improve for 200 rounds.\n",
            "Did not meet early stopping. Best iteration is:\n",
            "[1000]\ttraining's auc: 0.991592\ttraining's auc: 0.991592\tvalid_1's auc: 0.937042\tvalid_1's auc: 0.937042\n",
            "Fold 6 started at Wed Jan 15 11:21:31 2020\n",
            "Training until validation scores don't improve for 200 rounds.\n",
            "Early stopping, best iteration is:\n",
            "[606]\ttraining's auc: 0.984175\ttraining's auc: 0.984175\tvalid_1's auc: 0.948221\tvalid_1's auc: 0.948221\n",
            "Fold 7 started at Wed Jan 15 11:23:23 2020\n",
            "Training until validation scores don't improve for 200 rounds.\n",
            "Early stopping, best iteration is:\n",
            "[761]\ttraining's auc: 0.987814\ttraining's auc: 0.987814\tvalid_1's auc: 0.951293\tvalid_1's auc: 0.951293\n",
            "Fold 8 started at Wed Jan 15 11:25:40 2020\n",
            "Training until validation scores don't improve for 200 rounds.\n",
            "Did not meet early stopping. Best iteration is:\n",
            "[1000]\ttraining's auc: 0.991917\ttraining's auc: 0.991917\tvalid_1's auc: 0.945462\tvalid_1's auc: 0.945462\n",
            "Fold 9 started at Wed Jan 15 11:28:11 2020\n",
            "Training until validation scores don't improve for 200 rounds.\n",
            "Did not meet early stopping. Best iteration is:\n",
            "[1000]\ttraining's auc: 0.991988\ttraining's auc: 0.991988\tvalid_1's auc: 0.936321\tvalid_1's auc: 0.936321\n",
            "Fold 10 started at Wed Jan 15 11:30:44 2020\n",
            "Training until validation scores don't improve for 200 rounds.\n",
            "Did not meet early stopping. Best iteration is:\n",
            "[1000]\ttraining's auc: 0.991888\ttraining's auc: 0.991888\tvalid_1's auc: 0.948025\tvalid_1's auc: 0.948025\n",
            "CV mean score: 0.9437, std: 0.0050.\n",
            "goal25 complited!\n",
            "=====\n"
          ],
          "name": "stdout"
        }
      ]
    },
    {
      "cell_type": "code",
      "metadata": {
        "id": "M7qJoc_hGmMj",
        "colab_type": "code",
        "outputId": "74767f15-9d55-48be-d786-0792285546d4",
        "colab": {
          "base_uri": "https://localhost:8080/",
          "height": 34
        }
      },
      "source": [
        "np.array(df_scores.avg).T@ np.array([0.28, 0.27, 0.09, 0.18, 0.18])"
      ],
      "execution_count": 0,
      "outputs": [
        {
          "output_type": "execute_result",
          "data": {
            "text/plain": [
              "0.812586"
            ]
          },
          "metadata": {
            "tags": []
          },
          "execution_count": 113
        }
      ]
    },
    {
      "cell_type": "code",
      "metadata": {
        "id": "wqPvx3SGdwuA",
        "colab_type": "code",
        "outputId": "f1085bd3-d1ad-4c91-9ff2-6ac80968dd78",
        "colab": {
          "base_uri": "https://localhost:8080/",
          "height": 197
        }
      },
      "source": [
        "df_scores"
      ],
      "execution_count": 0,
      "outputs": [
        {
          "output_type": "execute_result",
          "data": {
            "text/html": [
              "<div>\n",
              "<style scoped>\n",
              "    .dataframe tbody tr th:only-of-type {\n",
              "        vertical-align: middle;\n",
              "    }\n",
              "\n",
              "    .dataframe tbody tr th {\n",
              "        vertical-align: top;\n",
              "    }\n",
              "\n",
              "    .dataframe thead th {\n",
              "        text-align: right;\n",
              "    }\n",
              "</style>\n",
              "<table border=\"1\" class=\"dataframe\">\n",
              "  <thead>\n",
              "    <tr style=\"text-align: right;\">\n",
              "      <th></th>\n",
              "      <th>avg</th>\n",
              "      <th>std</th>\n",
              "    </tr>\n",
              "  </thead>\n",
              "  <tbody>\n",
              "    <tr>\n",
              "      <th>goal21</th>\n",
              "      <td>0.759</td>\n",
              "      <td>0.0057</td>\n",
              "    </tr>\n",
              "    <tr>\n",
              "      <th>goal22</th>\n",
              "      <td>0.7455</td>\n",
              "      <td>0.0042</td>\n",
              "    </tr>\n",
              "    <tr>\n",
              "      <th>goal23</th>\n",
              "      <td>0.9079</td>\n",
              "      <td>0.0035</td>\n",
              "    </tr>\n",
              "    <tr>\n",
              "      <th>goal24</th>\n",
              "      <td>0.8178</td>\n",
              "      <td>0.0071</td>\n",
              "    </tr>\n",
              "    <tr>\n",
              "      <th>goal25</th>\n",
              "      <td>0.9437</td>\n",
              "      <td>0.005</td>\n",
              "    </tr>\n",
              "  </tbody>\n",
              "</table>\n",
              "</div>"
            ],
            "text/plain": [
              "           avg     std\n",
              "goal21   0.759  0.0057\n",
              "goal22  0.7455  0.0042\n",
              "goal23  0.9079  0.0035\n",
              "goal24  0.8178  0.0071\n",
              "goal25  0.9437   0.005"
            ]
          },
          "metadata": {
            "tags": []
          },
          "execution_count": 111
        }
      ]
    },
    {
      "cell_type": "code",
      "metadata": {
        "id": "N_wk7isMfcGv",
        "colab_type": "code",
        "outputId": "f603798b-1549-4e51-d3c2-5dbd0058159d",
        "colab": {
          "base_uri": "https://localhost:8080/",
          "height": 406
        }
      },
      "source": [
        "df"
      ],
      "execution_count": 0,
      "outputs": [
        {
          "output_type": "execute_result",
          "data": {
            "text/html": [
              "<div>\n",
              "<style scoped>\n",
              "    .dataframe tbody tr th:only-of-type {\n",
              "        vertical-align: middle;\n",
              "    }\n",
              "\n",
              "    .dataframe tbody tr th {\n",
              "        vertical-align: top;\n",
              "    }\n",
              "\n",
              "    .dataframe thead th {\n",
              "        text-align: right;\n",
              "    }\n",
              "</style>\n",
              "<table border=\"1\" class=\"dataframe\">\n",
              "  <thead>\n",
              "    <tr style=\"text-align: right;\">\n",
              "      <th></th>\n",
              "      <th>goal21</th>\n",
              "      <th>goal22</th>\n",
              "      <th>goal23</th>\n",
              "      <th>goal24</th>\n",
              "      <th>goal25</th>\n",
              "    </tr>\n",
              "  </thead>\n",
              "  <tbody>\n",
              "    <tr>\n",
              "      <th>0</th>\n",
              "      <td>0.029837</td>\n",
              "      <td>0.169828</td>\n",
              "      <td>0.000192</td>\n",
              "      <td>0.000070</td>\n",
              "      <td>0.001767</td>\n",
              "    </tr>\n",
              "    <tr>\n",
              "      <th>1</th>\n",
              "      <td>0.007735</td>\n",
              "      <td>0.034065</td>\n",
              "      <td>0.000059</td>\n",
              "      <td>0.017248</td>\n",
              "      <td>0.008566</td>\n",
              "    </tr>\n",
              "    <tr>\n",
              "      <th>2</th>\n",
              "      <td>0.104764</td>\n",
              "      <td>0.002281</td>\n",
              "      <td>0.000054</td>\n",
              "      <td>0.206103</td>\n",
              "      <td>0.115626</td>\n",
              "    </tr>\n",
              "    <tr>\n",
              "      <th>3</th>\n",
              "      <td>0.044303</td>\n",
              "      <td>0.189240</td>\n",
              "      <td>0.000122</td>\n",
              "      <td>0.028805</td>\n",
              "      <td>0.002812</td>\n",
              "    </tr>\n",
              "    <tr>\n",
              "      <th>4</th>\n",
              "      <td>0.011501</td>\n",
              "      <td>0.059940</td>\n",
              "      <td>0.000062</td>\n",
              "      <td>0.009681</td>\n",
              "      <td>0.022574</td>\n",
              "    </tr>\n",
              "    <tr>\n",
              "      <th>...</th>\n",
              "      <td>...</td>\n",
              "      <td>...</td>\n",
              "      <td>...</td>\n",
              "      <td>...</td>\n",
              "      <td>...</td>\n",
              "    </tr>\n",
              "    <tr>\n",
              "      <th>455006</th>\n",
              "      <td>0.092496</td>\n",
              "      <td>0.217951</td>\n",
              "      <td>0.099113</td>\n",
              "      <td>0.026423</td>\n",
              "      <td>0.000124</td>\n",
              "    </tr>\n",
              "    <tr>\n",
              "      <th>455007</th>\n",
              "      <td>0.024383</td>\n",
              "      <td>0.150280</td>\n",
              "      <td>0.048058</td>\n",
              "      <td>0.016947</td>\n",
              "      <td>0.003121</td>\n",
              "    </tr>\n",
              "    <tr>\n",
              "      <th>455008</th>\n",
              "      <td>0.041138</td>\n",
              "      <td>0.236278</td>\n",
              "      <td>0.110432</td>\n",
              "      <td>0.000063</td>\n",
              "      <td>0.000152</td>\n",
              "    </tr>\n",
              "    <tr>\n",
              "      <th>455009</th>\n",
              "      <td>0.042838</td>\n",
              "      <td>0.182646</td>\n",
              "      <td>0.000047</td>\n",
              "      <td>0.091486</td>\n",
              "      <td>0.000463</td>\n",
              "    </tr>\n",
              "    <tr>\n",
              "      <th>455010</th>\n",
              "      <td>0.033454</td>\n",
              "      <td>0.302528</td>\n",
              "      <td>0.134798</td>\n",
              "      <td>0.022921</td>\n",
              "      <td>0.012702</td>\n",
              "    </tr>\n",
              "  </tbody>\n",
              "</table>\n",
              "<p>455011 rows × 5 columns</p>\n",
              "</div>"
            ],
            "text/plain": [
              "          goal21    goal22    goal23    goal24    goal25\n",
              "0       0.029837  0.169828  0.000192  0.000070  0.001767\n",
              "1       0.007735  0.034065  0.000059  0.017248  0.008566\n",
              "2       0.104764  0.002281  0.000054  0.206103  0.115626\n",
              "3       0.044303  0.189240  0.000122  0.028805  0.002812\n",
              "4       0.011501  0.059940  0.000062  0.009681  0.022574\n",
              "...          ...       ...       ...       ...       ...\n",
              "455006  0.092496  0.217951  0.099113  0.026423  0.000124\n",
              "455007  0.024383  0.150280  0.048058  0.016947  0.003121\n",
              "455008  0.041138  0.236278  0.110432  0.000063  0.000152\n",
              "455009  0.042838  0.182646  0.000047  0.091486  0.000463\n",
              "455010  0.033454  0.302528  0.134798  0.022921  0.012702\n",
              "\n",
              "[455011 rows x 5 columns]"
            ]
          },
          "metadata": {
            "tags": []
          },
          "execution_count": 114
        }
      ]
    },
    {
      "cell_type": "code",
      "metadata": {
        "id": "iXEuJ3JR0-V_",
        "colab_type": "code",
        "colab": {}
      },
      "source": [
        "df.to_csv( os.path.join(colab_subm_path,'subm2_2.csv') )"
      ],
      "execution_count": 0,
      "outputs": []
    },
    {
      "cell_type": "markdown",
      "metadata": {
        "id": "-kpwk1yeIjCD",
        "colab_type": "text"
      },
      "source": [
        "## 2.3"
      ]
    },
    {
      "cell_type": "code",
      "metadata": {
        "id": "ieMMjeEyIpM8",
        "colab_type": "code",
        "outputId": "609b555d-eb3e-41eb-f4f0-0118c308679a",
        "colab": {
          "base_uri": "https://localhost:8080/",
          "height": 204
        }
      },
      "source": [
        "with timer('Prepare data to train'):\n",
        "    X, X_test, targets = combining_ds_stratagy()"
      ],
      "execution_count": 0,
      "outputs": [
        {
          "output_type": "stream",
          "text": [
            "Mem. usage decreased to 16.08 Mb (74.3% reduction)\n",
            "(196056, 44)\n",
            "Mem. usage decreased to 34.71 Mb (72.0% reduction)\n",
            "(455011, 38)\n",
            "=====\n",
            "Shape of combined data: (651067, 38)\n",
            "Mem. usage decreased to 201.17 Mb (8.2% reduction)\n",
            "=====\n",
            "Shape of res data\n",
            "X: (196056, 70), X_test: (455011, 70), targets: (196056, 6)\n",
            "[Prepare data to train] done in 348 s\n"
          ],
          "name": "stdout"
        }
      ]
    },
    {
      "cell_type": "code",
      "metadata": {
        "id": "OcdqO-WdI4Yi",
        "colab_type": "code",
        "outputId": "69d7b82f-a3ea-403f-aae1-4308fb12cde1",
        "colab": {
          "base_uri": "https://localhost:8080/",
          "height": 1000
        }
      },
      "source": [
        "params_ = {'boosting': 'gbdt',\n",
        "          'objective':'binary',\n",
        "          'metric': 'auc',\n",
        "          'learning_rate': 0.01, # 0.003! #0.005 #0.006 \n",
        "          'num_leaves': 110, #110 #100 #150 large, but over-fitting\n",
        "          'max_bin': 66,  #60 #50 # large,but slower,over-fitting\n",
        "          'max_depth': 10, # deal with over-fitting\n",
        "          'min_data_in_leaf': 30, # deal with over-fitting\n",
        "          'min_child_samples': 20,\n",
        "          'feature_fraction': 0.5,#0.5 #0.6 #0.8\n",
        "          'bagging_fraction': 0.8,\n",
        "          'bagging_freq': 40,#5  \n",
        "          'bagging_seed': 11,\n",
        "          'lambda_l1': 2,#1.3! #5 #1.2 #1\n",
        "          'lambda_l2': 0.1,\n",
        "           'random_state': SEED\n",
        "         }\n",
        "\n",
        "goals_cols=['goal21', 'goal22', 'goal23', 'goal24', 'goal25']\n",
        "df_res = pd.DataFrame()\n",
        "df_scores = pd.DataFrame(index=goals_cols, columns=['avg', 'std'])\n",
        "\n",
        "for col in goals_cols:\n",
        "\n",
        "    print(f'target: {col}')\n",
        "    Y = targets[col]\n",
        "\n",
        "    n_fold = 10\n",
        "    folds = KFold(n_splits=n_fold, shuffle=True, random_state=SEED)\n",
        "\n",
        "    res_dict=train_model_classification(X=X, X_test=X_test, y=Y, params=params_, folds=folds, model_type='lgb', eval_metric='auc', \n",
        "                                  columns=None, plot_feature_importance=False, model=None,\n",
        "                                  verbose=10000, early_stopping_rounds=200, n_estimators=5000)\n",
        "  \n",
        "    df_res[col] = res_dict['prediction'][:, 1]\n",
        "    df_scores.ix[col, 'avg'] = np.round(np.mean(res_dict['scores']), 4)\n",
        "    df_scores.ix[col, 'std'] = np.round(np.std(res_dict['scores']), 4)\n",
        "    \n",
        "    print(f'{col} completed!')\n",
        "    print('='*5)\n",
        "\n",
        "df_res.to_csv( os.path.join(colab_subm_path, 'subm2_3.csv') )"
      ],
      "execution_count": 0,
      "outputs": [
        {
          "output_type": "stream",
          "text": [
            "target: goal21\n",
            "Fold 1 started at Wed Jan 15 15:19:33 2020\n",
            "Training until validation scores don't improve for 200 rounds.\n",
            "Early stopping, best iteration is:\n",
            "[1778]\ttraining's auc: 0.956298\ttraining's auc: 0.956298\tvalid_1's auc: 0.756079\tvalid_1's auc: 0.756079\n",
            "Fold 2 started at Wed Jan 15 15:24:59 2020\n",
            "Training until validation scores don't improve for 200 rounds.\n",
            "Early stopping, best iteration is:\n",
            "[1805]\ttraining's auc: 0.956598\ttraining's auc: 0.956598\tvalid_1's auc: 0.772257\tvalid_1's auc: 0.772257\n",
            "Fold 3 started at Wed Jan 15 15:30:27 2020\n",
            "Training until validation scores don't improve for 200 rounds.\n",
            "Early stopping, best iteration is:\n",
            "[1370]\ttraining's auc: 0.938029\ttraining's auc: 0.938029\tvalid_1's auc: 0.765064\tvalid_1's auc: 0.765064\n",
            "Fold 4 started at Wed Jan 15 15:34:36 2020\n",
            "Training until validation scores don't improve for 200 rounds.\n",
            "Early stopping, best iteration is:\n",
            "[1237]\ttraining's auc: 0.933542\ttraining's auc: 0.933542\tvalid_1's auc: 0.760945\tvalid_1's auc: 0.760945\n",
            "Fold 5 started at Wed Jan 15 15:38:31 2020\n",
            "Training until validation scores don't improve for 200 rounds.\n",
            "Early stopping, best iteration is:\n",
            "[1645]\ttraining's auc: 0.951565\ttraining's auc: 0.951565\tvalid_1's auc: 0.757241\tvalid_1's auc: 0.757241\n",
            "Fold 6 started at Wed Jan 15 15:43:37 2020\n",
            "Training until validation scores don't improve for 200 rounds.\n",
            "Early stopping, best iteration is:\n",
            "[2086]\ttraining's auc: 0.965475\ttraining's auc: 0.965475\tvalid_1's auc: 0.767996\tvalid_1's auc: 0.767996\n",
            "Fold 7 started at Wed Jan 15 15:49:57 2020\n",
            "Training until validation scores don't improve for 200 rounds.\n",
            "Early stopping, best iteration is:\n",
            "[2100]\ttraining's auc: 0.964888\ttraining's auc: 0.964888\tvalid_1's auc: 0.77138\tvalid_1's auc: 0.77138\n",
            "Fold 8 started at Wed Jan 15 15:56:17 2020\n",
            "Training until validation scores don't improve for 200 rounds.\n",
            "Early stopping, best iteration is:\n",
            "[1950]\ttraining's auc: 0.960687\ttraining's auc: 0.960687\tvalid_1's auc: 0.768538\tvalid_1's auc: 0.768538\n",
            "Fold 9 started at Wed Jan 15 16:02:14 2020\n",
            "Training until validation scores don't improve for 200 rounds.\n",
            "Early stopping, best iteration is:\n",
            "[1506]\ttraining's auc: 0.947261\ttraining's auc: 0.947261\tvalid_1's auc: 0.760515\tvalid_1's auc: 0.760515\n",
            "Fold 10 started at Wed Jan 15 16:06:55 2020\n",
            "Training until validation scores don't improve for 200 rounds.\n",
            "Early stopping, best iteration is:\n",
            "[1718]\ttraining's auc: 0.95337\ttraining's auc: 0.95337\tvalid_1's auc: 0.751104\tvalid_1's auc: 0.751104\n",
            "CV mean score: 0.7631, std: 0.0067.\n",
            "goal21 completed!\n",
            "=====\n",
            "target: goal22\n",
            "Fold 1 started at Wed Jan 15 16:12:10 2020\n",
            "Training until validation scores don't improve for 200 rounds.\n",
            "Did not meet early stopping. Best iteration is:\n",
            "[5000]\ttraining's auc: 0.942297\ttraining's auc: 0.942297\tvalid_1's auc: 0.750244\tvalid_1's auc: 0.750244\n",
            "Fold 2 started at Wed Jan 15 16:25:09 2020\n",
            "Training until validation scores don't improve for 200 rounds.\n",
            "Early stopping, best iteration is:\n",
            "[2724]\ttraining's auc: 0.894462\ttraining's auc: 0.894462\tvalid_1's auc: 0.751098\tvalid_1's auc: 0.751098\n",
            "Fold 3 started at Wed Jan 15 16:32:51 2020\n",
            "Training until validation scores don't improve for 200 rounds.\n",
            "Early stopping, best iteration is:\n",
            "[3448]\ttraining's auc: 0.913079\ttraining's auc: 0.913079\tvalid_1's auc: 0.754902\tvalid_1's auc: 0.754902\n",
            "Fold 4 started at Wed Jan 15 16:42:24 2020\n",
            "Training until validation scores don't improve for 200 rounds.\n",
            "Early stopping, best iteration is:\n",
            "[3091]\ttraining's auc: 0.903392\ttraining's auc: 0.903392\tvalid_1's auc: 0.758182\tvalid_1's auc: 0.758182\n",
            "Fold 5 started at Wed Jan 15 16:51:00 2020\n",
            "Training until validation scores don't improve for 200 rounds.\n",
            "Early stopping, best iteration is:\n",
            "[4075]\ttraining's auc: 0.927066\ttraining's auc: 0.927066\tvalid_1's auc: 0.760533\tvalid_1's auc: 0.760533\n",
            "Fold 6 started at Wed Jan 15 17:02:15 2020\n",
            "Training until validation scores don't improve for 200 rounds.\n",
            "Early stopping, best iteration is:\n",
            "[4432]\ttraining's auc: 0.932515\ttraining's auc: 0.932515\tvalid_1's auc: 0.756188\tvalid_1's auc: 0.756188\n",
            "Fold 7 started at Wed Jan 15 17:14:13 2020\n",
            "Training until validation scores don't improve for 200 rounds.\n",
            "Early stopping, best iteration is:\n",
            "[3919]\ttraining's auc: 0.923339\ttraining's auc: 0.923339\tvalid_1's auc: 0.754965\tvalid_1's auc: 0.754965\n",
            "Fold 8 started at Wed Jan 15 17:24:54 2020\n",
            "Training until validation scores don't improve for 200 rounds.\n",
            "Early stopping, best iteration is:\n",
            "[3815]\ttraining's auc: 0.921861\ttraining's auc: 0.921861\tvalid_1's auc: 0.761367\tvalid_1's auc: 0.761367\n",
            "Fold 9 started at Wed Jan 15 17:35:26 2020\n",
            "Training until validation scores don't improve for 200 rounds.\n",
            "Early stopping, best iteration is:\n",
            "[3794]\ttraining's auc: 0.921747\ttraining's auc: 0.921747\tvalid_1's auc: 0.759048\tvalid_1's auc: 0.759048\n",
            "Fold 10 started at Wed Jan 15 17:45:43 2020\n",
            "Training until validation scores don't improve for 200 rounds.\n",
            "Early stopping, best iteration is:\n",
            "[3965]\ttraining's auc: 0.924745\ttraining's auc: 0.924745\tvalid_1's auc: 0.755047\tvalid_1's auc: 0.755047\n",
            "CV mean score: 0.7562, std: 0.0035.\n",
            "goal22 completed!\n",
            "=====\n",
            "target: goal23\n",
            "Fold 1 started at Wed Jan 15 17:56:38 2020\n",
            "Training until validation scores don't improve for 200 rounds.\n",
            "Early stopping, best iteration is:\n",
            "[1304]\ttraining's auc: 0.983805\ttraining's auc: 0.983805\tvalid_1's auc: 0.911581\tvalid_1's auc: 0.911581\n",
            "Fold 2 started at Wed Jan 15 18:00:25 2020\n",
            "Training until validation scores don't improve for 200 rounds.\n",
            "Early stopping, best iteration is:\n",
            "[1374]\ttraining's auc: 0.984533\ttraining's auc: 0.984533\tvalid_1's auc: 0.9075\tvalid_1's auc: 0.9075\n",
            "Fold 3 started at Wed Jan 15 18:04:27 2020\n",
            "Training until validation scores don't improve for 200 rounds.\n",
            "Early stopping, best iteration is:\n",
            "[1221]\ttraining's auc: 0.98273\ttraining's auc: 0.98273\tvalid_1's auc: 0.914057\tvalid_1's auc: 0.914057\n",
            "Fold 4 started at Wed Jan 15 18:08:02 2020\n",
            "Training until validation scores don't improve for 200 rounds.\n",
            "Early stopping, best iteration is:\n",
            "[2103]\ttraining's auc: 0.992689\ttraining's auc: 0.992689\tvalid_1's auc: 0.906896\tvalid_1's auc: 0.906896\n",
            "Fold 5 started at Wed Jan 15 18:14:06 2020\n",
            "Training until validation scores don't improve for 200 rounds.\n",
            "Early stopping, best iteration is:\n",
            "[1919]\ttraining's auc: 0.991208\ttraining's auc: 0.991208\tvalid_1's auc: 0.909831\tvalid_1's auc: 0.909831\n",
            "Fold 6 started at Wed Jan 15 18:19:40 2020\n",
            "Training until validation scores don't improve for 200 rounds.\n",
            "Early stopping, best iteration is:\n",
            "[2109]\ttraining's auc: 0.992608\ttraining's auc: 0.992608\tvalid_1's auc: 0.906552\tvalid_1's auc: 0.906552\n",
            "Fold 7 started at Wed Jan 15 18:25:47 2020\n",
            "Training until validation scores don't improve for 200 rounds.\n",
            "Early stopping, best iteration is:\n",
            "[1530]\ttraining's auc: 0.987215\ttraining's auc: 0.987215\tvalid_1's auc: 0.904074\tvalid_1's auc: 0.904074\n",
            "Fold 8 started at Wed Jan 15 18:30:16 2020\n",
            "Training until validation scores don't improve for 200 rounds.\n",
            "Early stopping, best iteration is:\n",
            "[2100]\ttraining's auc: 0.992401\ttraining's auc: 0.992401\tvalid_1's auc: 0.915184\tvalid_1's auc: 0.915184\n",
            "Fold 9 started at Wed Jan 15 18:36:17 2020\n",
            "Training until validation scores don't improve for 200 rounds.\n",
            "Early stopping, best iteration is:\n",
            "[1556]\ttraining's auc: 0.987989\ttraining's auc: 0.987989\tvalid_1's auc: 0.91004\tvalid_1's auc: 0.91004\n",
            "Fold 10 started at Wed Jan 15 18:40:49 2020\n",
            "Training until validation scores don't improve for 200 rounds.\n",
            "Early stopping, best iteration is:\n",
            "[1793]\ttraining's auc: 0.990088\ttraining's auc: 0.990088\tvalid_1's auc: 0.908692\tvalid_1's auc: 0.908692\n",
            "CV mean score: 0.9094, std: 0.0033.\n",
            "goal23 completed!\n",
            "=====\n",
            "target: goal24\n",
            "Fold 1 started at Wed Jan 15 18:46:04 2020\n",
            "Training until validation scores don't improve for 200 rounds.\n",
            "Early stopping, best iteration is:\n",
            "[626]\ttraining's auc: 0.95185\ttraining's auc: 0.95185\tvalid_1's auc: 0.822001\tvalid_1's auc: 0.822001\n",
            "Fold 2 started at Wed Jan 15 18:48:13 2020\n",
            "Training until validation scores don't improve for 200 rounds.\n",
            "Early stopping, best iteration is:\n",
            "[1099]\ttraining's auc: 0.974\ttraining's auc: 0.974\tvalid_1's auc: 0.804031\tvalid_1's auc: 0.804031\n",
            "Fold 3 started at Wed Jan 15 18:51:41 2020\n",
            "Training until validation scores don't improve for 200 rounds.\n",
            "Early stopping, best iteration is:\n",
            "[1047]\ttraining's auc: 0.971788\ttraining's auc: 0.971788\tvalid_1's auc: 0.82877\tvalid_1's auc: 0.82877\n",
            "Fold 4 started at Wed Jan 15 18:55:04 2020\n",
            "Training until validation scores don't improve for 200 rounds.\n",
            "Early stopping, best iteration is:\n",
            "[972]\ttraining's auc: 0.968313\ttraining's auc: 0.968313\tvalid_1's auc: 0.808124\tvalid_1's auc: 0.808124\n",
            "Fold 5 started at Wed Jan 15 18:58:13 2020\n",
            "Training until validation scores don't improve for 200 rounds.\n",
            "Early stopping, best iteration is:\n",
            "[1411]\ttraining's auc: 0.982117\ttraining's auc: 0.982117\tvalid_1's auc: 0.826247\tvalid_1's auc: 0.826247\n",
            "Fold 6 started at Wed Jan 15 19:02:40 2020\n",
            "Training until validation scores don't improve for 200 rounds.\n",
            "Early stopping, best iteration is:\n",
            "[1607]\ttraining's auc: 0.985406\ttraining's auc: 0.985406\tvalid_1's auc: 0.817658\tvalid_1's auc: 0.817658\n",
            "Fold 7 started at Wed Jan 15 19:07:41 2020\n",
            "Training until validation scores don't improve for 200 rounds.\n",
            "Early stopping, best iteration is:\n",
            "[880]\ttraining's auc: 0.965573\ttraining's auc: 0.965573\tvalid_1's auc: 0.821673\tvalid_1's auc: 0.821673\n",
            "Fold 8 started at Wed Jan 15 19:10:34 2020\n",
            "Training until validation scores don't improve for 200 rounds.\n",
            "Early stopping, best iteration is:\n",
            "[1441]\ttraining's auc: 0.982948\ttraining's auc: 0.982948\tvalid_1's auc: 0.824116\tvalid_1's auc: 0.824116\n",
            "Fold 9 started at Wed Jan 15 19:15:07 2020\n",
            "Training until validation scores don't improve for 200 rounds.\n",
            "Early stopping, best iteration is:\n",
            "[948]\ttraining's auc: 0.968875\ttraining's auc: 0.968875\tvalid_1's auc: 0.818337\tvalid_1's auc: 0.818337\n",
            "Fold 10 started at Wed Jan 15 19:18:12 2020\n",
            "Training until validation scores don't improve for 200 rounds.\n",
            "Early stopping, best iteration is:\n",
            "[997]\ttraining's auc: 0.970729\ttraining's auc: 0.970729\tvalid_1's auc: 0.815959\tvalid_1's auc: 0.815959\n",
            "CV mean score: 0.8187, std: 0.0074.\n",
            "goal24 completed!\n",
            "=====\n",
            "target: goal25\n",
            "Fold 1 started at Wed Jan 15 19:21:26 2020\n",
            "Training until validation scores don't improve for 200 rounds.\n",
            "Early stopping, best iteration is:\n",
            "[762]\ttraining's auc: 0.98813\ttraining's auc: 0.98813\tvalid_1's auc: 0.938131\tvalid_1's auc: 0.938131\n",
            "Fold 2 started at Wed Jan 15 19:23:58 2020\n",
            "Training until validation scores don't improve for 200 rounds.\n",
            "Early stopping, best iteration is:\n",
            "[627]\ttraining's auc: 0.984605\ttraining's auc: 0.984605\tvalid_1's auc: 0.946175\tvalid_1's auc: 0.946175\n",
            "Fold 3 started at Wed Jan 15 19:26:04 2020\n",
            "Training until validation scores don't improve for 200 rounds.\n",
            "Early stopping, best iteration is:\n",
            "[971]\ttraining's auc: 0.991102\ttraining's auc: 0.991102\tvalid_1's auc: 0.940771\tvalid_1's auc: 0.940771\n",
            "Fold 4 started at Wed Jan 15 19:29:12 2020\n",
            "Training until validation scores don't improve for 200 rounds.\n",
            "Early stopping, best iteration is:\n",
            "[777]\ttraining's auc: 0.988583\ttraining's auc: 0.988583\tvalid_1's auc: 0.94569\tvalid_1's auc: 0.94569\n",
            "Fold 5 started at Wed Jan 15 19:31:46 2020\n",
            "Training until validation scores don't improve for 200 rounds.\n",
            "Early stopping, best iteration is:\n",
            "[993]\ttraining's auc: 0.991518\ttraining's auc: 0.991518\tvalid_1's auc: 0.937074\tvalid_1's auc: 0.937074\n",
            "Fold 6 started at Wed Jan 15 19:34:59 2020\n",
            "Training until validation scores don't improve for 200 rounds.\n",
            "Early stopping, best iteration is:\n",
            "[606]\ttraining's auc: 0.984175\ttraining's auc: 0.984175\tvalid_1's auc: 0.948221\tvalid_1's auc: 0.948221\n",
            "Fold 7 started at Wed Jan 15 19:37:02 2020\n",
            "Training until validation scores don't improve for 200 rounds.\n",
            "Early stopping, best iteration is:\n",
            "[761]\ttraining's auc: 0.987814\ttraining's auc: 0.987814\tvalid_1's auc: 0.951293\tvalid_1's auc: 0.951293\n",
            "Fold 8 started at Wed Jan 15 19:39:33 2020\n",
            "Training until validation scores don't improve for 200 rounds.\n",
            "Early stopping, best iteration is:\n",
            "[839]\ttraining's auc: 0.989312\ttraining's auc: 0.989312\tvalid_1's auc: 0.94569\tvalid_1's auc: 0.94569\n",
            "Fold 9 started at Wed Jan 15 19:42:18 2020\n",
            "Training until validation scores don't improve for 200 rounds.\n",
            "Early stopping, best iteration is:\n",
            "[858]\ttraining's auc: 0.989577\ttraining's auc: 0.989577\tvalid_1's auc: 0.936807\tvalid_1's auc: 0.936807\n",
            "Fold 10 started at Wed Jan 15 19:45:05 2020\n",
            "Training until validation scores don't improve for 200 rounds.\n",
            "Early stopping, best iteration is:\n",
            "[975]\ttraining's auc: 0.991552\ttraining's auc: 0.991552\tvalid_1's auc: 0.948146\tvalid_1's auc: 0.948146\n",
            "CV mean score: 0.9438, std: 0.0049.\n",
            "goal25 completed!\n",
            "=====\n"
          ],
          "name": "stdout"
        },
        {
          "output_type": "error",
          "ename": "NameError",
          "evalue": "ignored",
          "traceback": [
            "\u001b[0;31m---------------------------------------------------------------------------\u001b[0m",
            "\u001b[0;31mNameError\u001b[0m                                 Traceback (most recent call last)",
            "\u001b[0;32m<ipython-input-10-e7a80f8add28>\u001b[0m in \u001b[0;36m<module>\u001b[0;34m()\u001b[0m\n\u001b[1;32m     40\u001b[0m     \u001b[0mprint\u001b[0m\u001b[0;34m(\u001b[0m\u001b[0;34m'='\u001b[0m\u001b[0;34m*\u001b[0m\u001b[0;36m5\u001b[0m\u001b[0;34m)\u001b[0m\u001b[0;34m\u001b[0m\u001b[0;34m\u001b[0m\u001b[0m\n\u001b[1;32m     41\u001b[0m \u001b[0;34m\u001b[0m\u001b[0m\n\u001b[0;32m---> 42\u001b[0;31m \u001b[0mdf\u001b[0m\u001b[0;34m.\u001b[0m\u001b[0mto_csv\u001b[0m\u001b[0;34m(\u001b[0m \u001b[0mos\u001b[0m\u001b[0;34m.\u001b[0m\u001b[0mpath\u001b[0m\u001b[0;34m.\u001b[0m\u001b[0mjoin\u001b[0m\u001b[0;34m(\u001b[0m\u001b[0mcolab_subm_path\u001b[0m\u001b[0;34m,\u001b[0m \u001b[0;34m'subm2_3.csv'\u001b[0m\u001b[0;34m)\u001b[0m \u001b[0;34m)\u001b[0m\u001b[0;34m\u001b[0m\u001b[0;34m\u001b[0m\u001b[0m\n\u001b[0m",
            "\u001b[0;31mNameError\u001b[0m: name 'df' is not defined"
          ]
        }
      ]
    },
    {
      "cell_type": "code",
      "metadata": {
        "id": "gQIhZtDqM-12",
        "colab_type": "code",
        "colab": {}
      },
      "source": [
        "df_res.to_csv( os.path.join(colab_subm_path, 'subm2_3.csv') )"
      ],
      "execution_count": 0,
      "outputs": []
    },
    {
      "cell_type": "markdown",
      "metadata": {
        "id": "LUm8FCbDGCdw",
        "colab_type": "text"
      },
      "source": [
        "## 2.4  0.740581"
      ]
    },
    {
      "cell_type": "code",
      "metadata": {
        "id": "bcUVrsEiGKEJ",
        "colab_type": "code",
        "colab": {}
      },
      "source": [
        "@contextmanager\n",
        "def timer(name):\n",
        "    t0 = time.time()\n",
        "    yield\n",
        "    print(f'[{name}] done in {time.time() - t0:.0f} s')\n",
        "\n",
        "to_scale = ['NDAYS_FROM_LAST', 'ORDER_OF_BUY', 'field12', 'field13', 'field17', 'DAYS_BEFORE_DEPART', 'field22', 'field25', 'field19', 'USR_CNT',\n",
        "            'field1_field14', 'field26_field27', 'field26']#+['field1', 'field14', 'TICKET_CHILD_1Y', 'field27']\n",
        "drop_cols = ['orderid', 'userid', 'QUARTER']#, 'field1', 'field14', 'TICKET_CHILD_1Y', 'field26', 'field27'] #'indicator_goal21' 'indicator_goal22'\n",
        "\n",
        "def combining_ds_stratagy(scaling=StandardScaler(), cols_to_scale=to_scale, \n",
        "                          cols_to_drop=drop_cols):\n",
        "\n",
        "    train = load_ottrip_without_userid_encoding()\n",
        "    test = load_ottrip_without_userid_encoding(train=False)\n",
        "    # print(f\"Shape of raw data\\ntrain: {train.shape}, test: {test.shape}\")\n",
        "    print('='*5)\n",
        "\n",
        "    goals_cols=['goal21', 'goal22', 'goal23', 'goal24', 'goal25']\n",
        "    th = len(train)\n",
        "    df_all = pd.concat([train.drop(columns=goals_cols+['goal1'],axis=1), test])\n",
        "    print(f\"Shape of combined data: {df_all.shape}\")\n",
        "\n",
        "    # gen features\n",
        "    df_all['userid'] = LabelEncoder().fit_transform(df_all.userid)\n",
        "    df_all['USR_CNT'] = df_all.userid.map(df_all.groupby('userid').size())\n",
        "    df_all = feature_engineering(df_all)\n",
        "\n",
        "    # scaling\n",
        "    df_all[cols_to_scale] = scaling.fit_transform(df_all[cols_to_scale])\n",
        "    df_all = reduce_mem_usage(df_all, verbose=False)\n",
        "\n",
        "    # split df_all\n",
        "    X = df_all[:th].drop(cols_to_drop, axis=1)\n",
        "    X_test = df_all[th:].drop(cols_to_drop, axis=1)\n",
        "    X_test.reset_index(drop=True, inplace=True)\n",
        "    targets = train.loc[:, ['goal1']+goals_cols]\n",
        "\n",
        "    print('='*5)\n",
        "    print(f\"Shape of res data\\nX: {X.shape}, X_test: {X_test.shape}, targets: {targets.shape}\")\n",
        "\n",
        "    return X, X_test, targets"
      ],
      "execution_count": 0,
      "outputs": []
    },
    {
      "cell_type": "code",
      "metadata": {
        "id": "s25CXNtUGLq4",
        "colab_type": "code",
        "outputId": "fc37ff90-e08e-4369-96fd-68ce6799a67e",
        "colab": {
          "base_uri": "https://localhost:8080/",
          "height": 204
        }
      },
      "source": [
        "with timer('Prepare data to train'):\n",
        "    X, X_test, targets = combining_ds_stratagy()"
      ],
      "execution_count": 0,
      "outputs": [
        {
          "output_type": "stream",
          "text": [
            "Mem. usage decreased to 16.08 Mb (74.3% reduction)\n",
            "(196056, 44)\n",
            "Mem. usage decreased to 34.71 Mb (72.0% reduction)\n",
            "(455011, 38)\n",
            "=====\n",
            "Shape of combined data: (651067, 38)\n",
            "Mem. usage decreased to 201.17 Mb (8.2% reduction)\n",
            "=====\n",
            "Shape of res data\n",
            "X: (196056, 70), X_test: (455011, 70), targets: (196056, 6)\n",
            "[Prepare data to train] done in 302 s\n"
          ],
          "name": "stdout"
        }
      ]
    },
    {
      "cell_type": "code",
      "metadata": {
        "id": "A8JeK_KuGLji",
        "colab_type": "code",
        "colab": {}
      },
      "source": [
        "opt_parameters={'bagging_fraction': 0.9654895756771754, 'bagging_freq': 48, \n",
        "                'colsample_bytree': 0.6316618472598627, \n",
        "                'feature_fraction': 0.563032101936602, 'lambda_l1': 2.3387198763414423, \n",
        "                'lambda_l2': 1.1374415101532467, 'learning_rate': 0.01, 'max_bin': 44, 'max_depth': 24, \n",
        "                'min_child_samples': 428, 'min_child_weight': 1, 'min_data_in_leaf': 21, \n",
        "                'num_leaves': 83, 'reg_alpha': 5, #'is_unbalanced': True, \n",
        "                'reg_lambda': 5, 'subsample': 0.4380014780786996}\n",
        "\n",
        "#'n_estimators': 2822"
      ],
      "execution_count": 0,
      "outputs": []
    },
    {
      "cell_type": "code",
      "metadata": {
        "id": "NcZhPZq1GLcB",
        "colab_type": "code",
        "outputId": "e1d93581-3369-46ee-9489-cb13533a2e3e",
        "colab": {
          "base_uri": "https://localhost:8080/",
          "height": 1000
        }
      },
      "source": [
        "goals_cols=['goal21', 'goal22', 'goal23', 'goal24', 'goal25']\n",
        "df_res = pd.DataFrame()\n",
        "df_scores = pd.DataFrame(index=goals_cols, columns=['avg', 'std'])\n",
        "\n",
        "for col in goals_cols:\n",
        "\n",
        "    print(f'target: {col}')\n",
        "    Y = targets[col]\n",
        "\n",
        "    n_fold = 10\n",
        "    folds = KFold(n_splits=n_fold, shuffle=True, random_state=SEED)\n",
        "\n",
        "    res_dict=train_model_classification(X=X, X_test=X_test, y=Y, params=opt_parameters, folds=folds, model_type='lgb', eval_metric='auc', \n",
        "                                  columns=None, plot_feature_importance=False, model=None,\n",
        "                                  verbose=10000, early_stopping_rounds=200, n_estimators=2822)\n",
        "  \n",
        "    df_res[col] = res_dict['prediction'][:, 1]\n",
        "    df_scores.ix[col, 'avg'] = np.round(np.mean(res_dict['scores']), 4)\n",
        "    df_scores.ix[col, 'std'] = np.round(np.std(res_dict['scores']), 4)\n",
        "    df_res.to_csv( os.path.join(colab_subm_path, f'{col}_subm2_4_opt_params.csv') )\n",
        "    print(f'{col} completed!')\n",
        "    print('='*5)"
      ],
      "execution_count": 0,
      "outputs": [
        {
          "output_type": "stream",
          "text": [
            "target: goal21\n",
            "Fold 1 started at Fri Jan 17 12:50:49 2020\n",
            "Training until validation scores don't improve for 200 rounds.\n",
            "Early stopping, best iteration is:\n",
            "[2611]\ttraining's binary_logloss: 0.0918673\ttraining's auc: 0.95942\tvalid_1's binary_logloss: 0.140097\tvalid_1's auc: 0.756332\n",
            "Fold 2 started at Fri Jan 17 12:57:46 2020\n",
            "Training until validation scores don't improve for 200 rounds.\n",
            "Early stopping, best iteration is:\n",
            "[2582]\ttraining's binary_logloss: 0.0918528\ttraining's auc: 0.960685\tvalid_1's binary_logloss: 0.142165\tvalid_1's auc: 0.770626\n",
            "Fold 3 started at Fri Jan 17 13:04:41 2020\n",
            "Training until validation scores don't improve for 200 rounds.\n",
            "Early stopping, best iteration is:\n",
            "[1606]\ttraining's binary_logloss: 0.105915\ttraining's auc: 0.930943\tvalid_1's binary_logloss: 0.133009\tvalid_1's auc: 0.764659\n",
            "Fold 4 started at Fri Jan 17 13:09:17 2020\n",
            "Training until validation scores don't improve for 200 rounds.\n",
            "Early stopping, best iteration is:\n",
            "[2061]\ttraining's binary_logloss: 0.098742\ttraining's auc: 0.947352\tvalid_1's binary_logloss: 0.136658\tvalid_1's auc: 0.766134\n",
            "Fold 5 started at Fri Jan 17 13:15:02 2020\n",
            "Training until validation scores don't improve for 200 rounds.\n",
            "Early stopping, best iteration is:\n",
            "[1932]\ttraining's binary_logloss: 0.100235\ttraining's auc: 0.941153\tvalid_1's binary_logloss: 0.144513\tvalid_1's auc: 0.755728\n",
            "Fold 6 started at Fri Jan 17 13:20:27 2020\n",
            "Training until validation scores don't improve for 200 rounds.\n",
            "Early stopping, best iteration is:\n",
            "[2191]\ttraining's binary_logloss: 0.0969007\ttraining's auc: 0.95087\tvalid_1's binary_logloss: 0.139072\tvalid_1's auc: 0.762894\n",
            "Fold 7 started at Fri Jan 17 13:26:27 2020\n",
            "Training until validation scores don't improve for 200 rounds.\n",
            "Early stopping, best iteration is:\n",
            "[2351]\ttraining's binary_logloss: 0.0950014\ttraining's auc: 0.954447\tvalid_1's binary_logloss: 0.139119\tvalid_1's auc: 0.76584\n",
            "Fold 8 started at Fri Jan 17 13:32:50 2020\n",
            "Training until validation scores don't improve for 200 rounds.\n",
            "Early stopping, best iteration is:\n",
            "[2247]\ttraining's binary_logloss: 0.0963693\ttraining's auc: 0.9523\tvalid_1's binary_logloss: 0.136894\tvalid_1's auc: 0.768472\n",
            "Fold 9 started at Fri Jan 17 13:38:57 2020\n",
            "Training until validation scores don't improve for 200 rounds.\n",
            "Early stopping, best iteration is:\n",
            "[2017]\ttraining's binary_logloss: 0.0994627\ttraining's auc: 0.943549\tvalid_1's binary_logloss: 0.141365\tvalid_1's auc: 0.76115\n",
            "Fold 10 started at Fri Jan 17 13:44:33 2020\n",
            "Training until validation scores don't improve for 200 rounds.\n",
            "Early stopping, best iteration is:\n",
            "[1883]\ttraining's binary_logloss: 0.101292\ttraining's auc: 0.939804\tvalid_1's binary_logloss: 0.140748\tvalid_1's auc: 0.751811\n",
            "CV mean score: 0.7624, std: 0.0058.\n",
            "goal21 completed!\n",
            "=====\n",
            "target: goal22\n",
            "Fold 1 started at Fri Jan 17 13:49:52 2020\n",
            "Training until validation scores don't improve for 200 rounds.\n",
            "Did not meet early stopping. Best iteration is:\n",
            "[2822]\ttraining's binary_logloss: 0.332265\ttraining's auc: 0.873782\tvalid_1's binary_logloss: 0.392521\tvalid_1's auc: 0.744314\n",
            "Fold 2 started at Fri Jan 17 13:56:49 2020\n",
            "Training until validation scores don't improve for 200 rounds.\n",
            "Did not meet early stopping. Best iteration is:\n",
            "[2822]\ttraining's binary_logloss: 0.332423\ttraining's auc: 0.873035\tvalid_1's binary_logloss: 0.396952\tvalid_1's auc: 0.749905\n",
            "Fold 3 started at Fri Jan 17 14:03:45 2020\n",
            "Training until validation scores don't improve for 200 rounds.\n",
            "Did not meet early stopping. Best iteration is:\n",
            "[2822]\ttraining's binary_logloss: 0.33278\ttraining's auc: 0.873098\tvalid_1's binary_logloss: 0.39252\tvalid_1's auc: 0.752884\n",
            "Fold 4 started at Fri Jan 17 14:10:38 2020\n",
            "Training until validation scores don't improve for 200 rounds.\n",
            "Did not meet early stopping. Best iteration is:\n",
            "[2822]\ttraining's binary_logloss: 0.332616\ttraining's auc: 0.873094\tvalid_1's binary_logloss: 0.390191\tvalid_1's auc: 0.755679\n",
            "Fold 5 started at Fri Jan 17 14:17:36 2020\n",
            "Training until validation scores don't improve for 200 rounds.\n",
            "Did not meet early stopping. Best iteration is:\n",
            "[2822]\ttraining's binary_logloss: 0.332526\ttraining's auc: 0.872873\tvalid_1's binary_logloss: 0.394291\tvalid_1's auc: 0.755025\n",
            "Fold 6 started at Fri Jan 17 14:24:35 2020\n",
            "Training until validation scores don't improve for 200 rounds.\n",
            "Did not meet early stopping. Best iteration is:\n",
            "[2822]\ttraining's binary_logloss: 0.33289\ttraining's auc: 0.873209\tvalid_1's binary_logloss: 0.389087\tvalid_1's auc: 0.751579\n",
            "Fold 7 started at Fri Jan 17 14:31:29 2020\n",
            "Training until validation scores don't improve for 200 rounds.\n",
            "Did not meet early stopping. Best iteration is:\n",
            "[2822]\ttraining's binary_logloss: 0.333398\ttraining's auc: 0.87204\tvalid_1's binary_logloss: 0.387847\tvalid_1's auc: 0.750813\n",
            "Fold 8 started at Fri Jan 17 14:38:23 2020\n",
            "Training until validation scores don't improve for 200 rounds.\n",
            "Did not meet early stopping. Best iteration is:\n",
            "[2822]\ttraining's binary_logloss: 0.332946\ttraining's auc: 0.873509\tvalid_1's binary_logloss: 0.390882\tvalid_1's auc: 0.757051\n",
            "Fold 9 started at Fri Jan 17 14:45:15 2020\n",
            "Training until validation scores don't improve for 200 rounds.\n",
            "Did not meet early stopping. Best iteration is:\n",
            "[2822]\ttraining's binary_logloss: 0.332249\ttraining's auc: 0.872349\tvalid_1's binary_logloss: 0.39622\tvalid_1's auc: 0.754317\n",
            "Fold 10 started at Fri Jan 17 14:52:13 2020\n",
            "Training until validation scores don't improve for 200 rounds.\n",
            "Did not meet early stopping. Best iteration is:\n",
            "[2822]\ttraining's binary_logloss: 0.332316\ttraining's auc: 0.872779\tvalid_1's binary_logloss: 0.393951\tvalid_1's auc: 0.753662\n",
            "CV mean score: 0.7525, std: 0.0035.\n",
            "goal22 completed!\n",
            "=====\n",
            "target: goal23\n",
            "Fold 1 started at Fri Jan 17 14:59:12 2020\n",
            "Training until validation scores don't improve for 200 rounds.\n",
            "Early stopping, best iteration is:\n",
            "[1834]\ttraining's binary_logloss: 0.0764833\ttraining's auc: 0.98603\tvalid_1's binary_logloss: 0.107277\tvalid_1's auc: 0.912619\n",
            "Fold 2 started at Fri Jan 17 15:04:01 2020\n",
            "Training until validation scores don't improve for 200 rounds.\n",
            "Early stopping, best iteration is:\n",
            "[1988]\ttraining's binary_logloss: 0.0745924\ttraining's auc: 0.98695\tvalid_1's binary_logloss: 0.109776\tvalid_1's auc: 0.908251\n",
            "Fold 3 started at Fri Jan 17 15:09:13 2020\n",
            "Training until validation scores don't improve for 200 rounds.\n",
            "Early stopping, best iteration is:\n",
            "[1825]\ttraining's binary_logloss: 0.0765788\ttraining's auc: 0.985595\tvalid_1's binary_logloss: 0.108039\tvalid_1's auc: 0.915913\n",
            "Fold 4 started at Fri Jan 17 15:13:58 2020\n",
            "Training until validation scores don't improve for 200 rounds.\n",
            "Early stopping, best iteration is:\n",
            "[2066]\ttraining's binary_logloss: 0.0739255\ttraining's auc: 0.987556\tvalid_1's binary_logloss: 0.105913\tvalid_1's auc: 0.907758\n",
            "Fold 5 started at Fri Jan 17 15:19:23 2020\n",
            "Training until validation scores don't improve for 200 rounds.\n",
            "Early stopping, best iteration is:\n",
            "[1970]\ttraining's binary_logloss: 0.0749514\ttraining's auc: 0.986536\tvalid_1's binary_logloss: 0.105913\tvalid_1's auc: 0.908432\n",
            "Fold 6 started at Fri Jan 17 15:24:35 2020\n",
            "Training until validation scores don't improve for 200 rounds.\n",
            "Early stopping, best iteration is:\n",
            "[2041]\ttraining's binary_logloss: 0.073984\ttraining's auc: 0.987122\tvalid_1's binary_logloss: 0.110174\tvalid_1's auc: 0.907802\n",
            "Fold 7 started at Fri Jan 17 15:29:47 2020\n",
            "Training until validation scores don't improve for 200 rounds.\n",
            "Early stopping, best iteration is:\n",
            "[1974]\ttraining's binary_logloss: 0.0745573\ttraining's auc: 0.98696\tvalid_1's binary_logloss: 0.111005\tvalid_1's auc: 0.904151\n",
            "Fold 8 started at Fri Jan 17 15:34:53 2020\n",
            "Training until validation scores don't improve for 200 rounds.\n",
            "Early stopping, best iteration is:\n",
            "[2489]\ttraining's binary_logloss: 0.0698138\ttraining's auc: 0.990667\tvalid_1's binary_logloss: 0.103247\tvalid_1's auc: 0.914541\n",
            "Fold 9 started at Fri Jan 17 15:41:15 2020\n",
            "Training until validation scores don't improve for 200 rounds.\n",
            "Early stopping, best iteration is:\n",
            "[1946]\ttraining's binary_logloss: 0.0744218\ttraining's auc: 0.98672\tvalid_1's binary_logloss: 0.116672\tvalid_1's auc: 0.908329\n",
            "Fold 10 started at Fri Jan 17 15:46:16 2020\n",
            "Training until validation scores don't improve for 200 rounds.\n",
            "Early stopping, best iteration is:\n",
            "[1308]\ttraining's binary_logloss: 0.0823968\ttraining's auc: 0.978323\tvalid_1's binary_logloss: 0.11734\tvalid_1's auc: 0.908275\n",
            "CV mean score: 0.9096, std: 0.0034.\n",
            "goal23 completed!\n",
            "=====\n",
            "target: goal24\n",
            "Fold 1 started at Fri Jan 17 15:49:50 2020\n",
            "Training until validation scores don't improve for 200 rounds.\n",
            "Early stopping, best iteration is:\n",
            "[1054]\ttraining's binary_logloss: 0.0661299\ttraining's auc: 0.961429\tvalid_1's binary_logloss: 0.0928676\tvalid_1's auc: 0.821393\n",
            "Fold 2 started at Fri Jan 17 15:53:01 2020\n",
            "Training until validation scores don't improve for 200 rounds.\n",
            "Early stopping, best iteration is:\n",
            "[1122]\ttraining's binary_logloss: 0.0652571\ttraining's auc: 0.964109\tvalid_1's binary_logloss: 0.0889901\tvalid_1's auc: 0.802583\n",
            "Fold 3 started at Fri Jan 17 15:56:26 2020\n",
            "Training until validation scores don't improve for 200 rounds.\n",
            "Early stopping, best iteration is:\n",
            "[1660]\ttraining's binary_logloss: 0.0581573\ttraining's auc: 0.977209\tvalid_1's binary_logloss: 0.0912659\tvalid_1's auc: 0.827977\n",
            "Fold 4 started at Fri Jan 17 16:01:11 2020\n",
            "Training until validation scores don't improve for 200 rounds.\n",
            "Early stopping, best iteration is:\n",
            "[967]\ttraining's binary_logloss: 0.067182\ttraining's auc: 0.956911\tvalid_1's binary_logloss: 0.0933218\tvalid_1's auc: 0.812103\n",
            "Fold 5 started at Fri Jan 17 16:04:10 2020\n",
            "Training until validation scores don't improve for 200 rounds.\n",
            "Early stopping, best iteration is:\n",
            "[2136]\ttraining's binary_logloss: 0.0529786\ttraining's auc: 0.985335\tvalid_1's binary_logloss: 0.0882697\tvalid_1's auc: 0.824382\n",
            "Fold 6 started at Fri Jan 17 16:10:12 2020\n",
            "Training until validation scores don't improve for 200 rounds.\n",
            "Early stopping, best iteration is:\n",
            "[2018]\ttraining's binary_logloss: 0.0539575\ttraining's auc: 0.984096\tvalid_1's binary_logloss: 0.0892483\tvalid_1's auc: 0.816694\n",
            "Fold 7 started at Fri Jan 17 16:15:56 2020\n",
            "Training until validation scores don't improve for 200 rounds.\n",
            "Early stopping, best iteration is:\n",
            "[1572]\ttraining's binary_logloss: 0.0586486\ttraining's auc: 0.976276\tvalid_1's binary_logloss: 0.0938667\tvalid_1's auc: 0.823054\n",
            "Fold 8 started at Fri Jan 17 16:20:31 2020\n",
            "Training until validation scores don't improve for 200 rounds.\n",
            "Early stopping, best iteration is:\n",
            "[1213]\ttraining's binary_logloss: 0.0639192\ttraining's auc: 0.965767\tvalid_1's binary_logloss: 0.0920224\tvalid_1's auc: 0.824353\n",
            "Fold 9 started at Fri Jan 17 16:24:09 2020\n",
            "Training until validation scores don't improve for 200 rounds.\n",
            "Early stopping, best iteration is:\n",
            "[1527]\ttraining's binary_logloss: 0.0601031\ttraining's auc: 0.975368\tvalid_1's binary_logloss: 0.0864237\tvalid_1's auc: 0.817916\n",
            "Fold 10 started at Fri Jan 17 16:28:37 2020\n",
            "Training until validation scores don't improve for 200 rounds.\n",
            "Early stopping, best iteration is:\n",
            "[2358]\ttraining's binary_logloss: 0.0509725\ttraining's auc: 0.987482\tvalid_1's binary_logloss: 0.0876467\tvalid_1's auc: 0.817672\n",
            "CV mean score: 0.8188, std: 0.0070.\n",
            "goal24 completed!\n",
            "=====\n",
            "target: goal25\n",
            "Fold 1 started at Fri Jan 17 16:35:13 2020\n",
            "Training until validation scores don't improve for 200 rounds.\n",
            "Early stopping, best iteration is:\n",
            "[737]\ttraining's binary_logloss: 0.0355533\ttraining's auc: 0.982267\tvalid_1's binary_logloss: 0.0497435\tvalid_1's auc: 0.938569\n",
            "Fold 2 started at Fri Jan 17 16:37:33 2020\n",
            "Training until validation scores don't improve for 200 rounds.\n",
            "Early stopping, best iteration is:\n",
            "[1004]\ttraining's binary_logloss: 0.0319821\ttraining's auc: 0.987101\tvalid_1's binary_logloss: 0.0539468\tvalid_1's auc: 0.946244\n",
            "Fold 3 started at Fri Jan 17 16:40:37 2020\n",
            "Training until validation scores don't improve for 200 rounds.\n",
            "Early stopping, best iteration is:\n",
            "[942]\ttraining's binary_logloss: 0.0332931\ttraining's auc: 0.985887\tvalid_1's binary_logloss: 0.0473566\tvalid_1's auc: 0.940827\n",
            "Fold 4 started at Fri Jan 17 16:43:31 2020\n",
            "Training until validation scores don't improve for 200 rounds.\n",
            "Early stopping, best iteration is:\n",
            "[1002]\ttraining's binary_logloss: 0.0328101\ttraining's auc: 0.986911\tvalid_1's binary_logloss: 0.0447949\tvalid_1's auc: 0.946081\n",
            "Fold 5 started at Fri Jan 17 16:46:33 2020\n",
            "Training until validation scores don't improve for 200 rounds.\n",
            "Early stopping, best iteration is:\n",
            "[945]\ttraining's binary_logloss: 0.0328079\ttraining's auc: 0.986509\tvalid_1's binary_logloss: 0.0513542\tvalid_1's auc: 0.935927\n",
            "Fold 6 started at Fri Jan 17 16:49:27 2020\n",
            "Training until validation scores don't improve for 200 rounds.\n",
            "Early stopping, best iteration is:\n",
            "[744]\ttraining's binary_logloss: 0.0356378\ttraining's auc: 0.981866\tvalid_1's binary_logloss: 0.0499076\tvalid_1's auc: 0.949666\n",
            "Fold 7 started at Fri Jan 17 16:51:48 2020\n",
            "Training until validation scores don't improve for 200 rounds.\n",
            "Early stopping, best iteration is:\n",
            "[1151]\ttraining's binary_logloss: 0.0308876\ttraining's auc: 0.989176\tvalid_1's binary_logloss: 0.0493807\tvalid_1's auc: 0.951495\n",
            "Fold 8 started at Fri Jan 17 16:55:16 2020\n",
            "Training until validation scores don't improve for 200 rounds.\n",
            "Early stopping, best iteration is:\n",
            "[1154]\ttraining's binary_logloss: 0.030663\ttraining's auc: 0.989013\tvalid_1's binary_logloss: 0.0506939\tvalid_1's auc: 0.946832\n",
            "Fold 9 started at Fri Jan 17 16:58:46 2020\n",
            "Training until validation scores don't improve for 200 rounds.\n",
            "Early stopping, best iteration is:\n",
            "[861]\ttraining's binary_logloss: 0.0338244\ttraining's auc: 0.984589\tvalid_1's binary_logloss: 0.0533492\tvalid_1's auc: 0.937412\n",
            "Fold 10 started at Fri Jan 17 17:01:25 2020\n",
            "Training until validation scores don't improve for 200 rounds.\n",
            "Early stopping, best iteration is:\n",
            "[955]\ttraining's binary_logloss: 0.0329988\ttraining's auc: 0.986375\tvalid_1's binary_logloss: 0.0485064\tvalid_1's auc: 0.947492\n",
            "CV mean score: 0.9441, std: 0.0052.\n",
            "goal25 completed!\n",
            "=====\n"
          ],
          "name": "stdout"
        }
      ]
    },
    {
      "cell_type": "code",
      "metadata": {
        "id": "bVEKAC4WGLNT",
        "colab_type": "code",
        "outputId": "dad0c140-6afd-4635-d94f-e28cfd934712",
        "colab": {
          "base_uri": "https://localhost:8080/",
          "height": 204
        }
      },
      "source": [
        "df_scores"
      ],
      "execution_count": 0,
      "outputs": [
        {
          "output_type": "execute_result",
          "data": {
            "text/html": [
              "<div>\n",
              "<style scoped>\n",
              "    .dataframe tbody tr th:only-of-type {\n",
              "        vertical-align: middle;\n",
              "    }\n",
              "\n",
              "    .dataframe tbody tr th {\n",
              "        vertical-align: top;\n",
              "    }\n",
              "\n",
              "    .dataframe thead th {\n",
              "        text-align: right;\n",
              "    }\n",
              "</style>\n",
              "<table border=\"1\" class=\"dataframe\">\n",
              "  <thead>\n",
              "    <tr style=\"text-align: right;\">\n",
              "      <th></th>\n",
              "      <th>avg</th>\n",
              "      <th>std</th>\n",
              "    </tr>\n",
              "  </thead>\n",
              "  <tbody>\n",
              "    <tr>\n",
              "      <th>goal21</th>\n",
              "      <td>0.7624</td>\n",
              "      <td>0.0058</td>\n",
              "    </tr>\n",
              "    <tr>\n",
              "      <th>goal22</th>\n",
              "      <td>0.7525</td>\n",
              "      <td>0.0035</td>\n",
              "    </tr>\n",
              "    <tr>\n",
              "      <th>goal23</th>\n",
              "      <td>0.9096</td>\n",
              "      <td>0.0034</td>\n",
              "    </tr>\n",
              "    <tr>\n",
              "      <th>goal24</th>\n",
              "      <td>0.8188</td>\n",
              "      <td>0.007</td>\n",
              "    </tr>\n",
              "    <tr>\n",
              "      <th>goal25</th>\n",
              "      <td>0.9441</td>\n",
              "      <td>0.0052</td>\n",
              "    </tr>\n",
              "  </tbody>\n",
              "</table>\n",
              "</div>"
            ],
            "text/plain": [
              "           avg     std\n",
              "goal21  0.7624  0.0058\n",
              "goal22  0.7525  0.0035\n",
              "goal23  0.9096  0.0034\n",
              "goal24  0.8188   0.007\n",
              "goal25  0.9441  0.0052"
            ]
          },
          "metadata": {
            "tags": []
          },
          "execution_count": 24
        }
      ]
    },
    {
      "cell_type": "code",
      "metadata": {
        "id": "puD5BjJWGLFh",
        "colab_type": "code",
        "outputId": "bb553a90-1ffc-48c8-c6e4-3aadf9667044",
        "colab": {
          "base_uri": "https://localhost:8080/",
          "height": 388
        }
      },
      "source": [
        "t=.2\n",
        "f, axes = plt.subplots(2, 3, figsize=(20, 6), sharex=True)\n",
        "sns.distplot( df_res[\"goal21\"][df_res[\"goal21\"]>t] , color=\"skyblue\", ax=axes[0, 0])\n",
        "sns.distplot( df_res[\"goal22\"][df_res[\"goal22\"]>t] , color=\"olive\", ax=axes[0, 1])\n",
        "sns.distplot( df_res[\"goal23\"][df_res[\"goal23\"]>t] , color=\"gold\", ax=axes[0, 2])\n",
        "sns.distplot( df_res[\"goal24\"][df_res[\"goal24\"]>t] , color=\"teal\", ax=axes[1, 0])\n",
        "sns.distplot( df_res[\"goal25\"][df_res[\"goal25\"]>t] , color=\"red\", ax=axes[1, 1]);"
      ],
      "execution_count": 0,
      "outputs": [
        {
          "output_type": "display_data",
          "data": {
            "image/png": "[encoded data removed]",
            "text/plain": [
              "<Figure size 1440x432 with 6 Axes>"
            ]
          },
          "metadata": {
            "tags": []
          }
        }
      ]
    },
    {
      "cell_type": "code",
      "metadata": {
        "id": "jnJQszUdGK-A",
        "colab_type": "code",
        "colab": {}
      },
      "source": [
        "df_res.to_csv( os.path.join(colab_subm_path, 'subm2_4_opt_params.csv') ) # 0.740581"
      ],
      "execution_count": 0,
      "outputs": []
    },
    {
      "cell_type": "markdown",
      "metadata": {
        "id": "VgL9ZLFnJLSR",
        "colab_type": "text"
      },
      "source": [
        "## 2.5 with different hyperparameters LGB"
      ]
    },
    {
      "cell_type": "code",
      "metadata": {
        "id": "cs5i7ugQJYfd",
        "colab_type": "code",
        "colab": {}
      },
      "source": [
        "colab_train_path = pathlib.Path('/content/drive/My Drive/ott_train')\n",
        "Xtrain = pd.read_pickle(colab_train_path/'train.pkl')\n",
        "Xtest = pd.read_pickle(colab_train_path/'test.pkl')\n",
        "targets = pd.read_pickle(colab_train_path/'targets.pkl')"
      ],
      "execution_count": 0,
      "outputs": []
    },
    {
      "cell_type": "code",
      "metadata": {
        "id": "RdC0M4gFJZvz",
        "colab_type": "code",
        "colab": {}
      },
      "source": [
        "opt_goal22_1={'bagging_fraction': 0.7583949890486377, \n",
        "                     'bagging_freq': 30, \n",
        "                     'colsample_bytree': 0.5957847319300573, \n",
        "                     'feature_fraction': 0.5701469943379747, \n",
        "                     'lambda_l1': 1.6024810478481566, \n",
        "                     'lambda_l2': 0.13008005451818686, \n",
        "                     'learning_rate': 0.01, \n",
        "                     'max_bin': 82, \n",
        "                     'max_depth': 22, \n",
        "                     'min_child_samples': 384, \n",
        "                     'min_child_weight': 0.1, \n",
        "                     'min_data_in_leaf': 15, \n",
        "                    #  'n_estimators': 3420, \n",
        "                     'num_leaves': 160, \n",
        "                     'reg_alpha': 1, \n",
        "                     'reg_lambda': 20, \n",
        "                     'subsample': 0.34621894292890626}\n",
        "\n",
        "\n",
        "opt_goal21_1={'bagging_fraction': 0.9654895756771754, \n",
        "                     'bagging_freq': 48, \n",
        "                     'colsample_bytree': 0.6316618472598627, \n",
        "                     'feature_fraction': 0.563032101936602, \n",
        "                     'lambda_l1': 2.3387198763414423, \n",
        "                     'lambda_l2': 1.1374415101532467, \n",
        "                     'learning_rate': 0.01, \n",
        "                     'max_bin': 44, \n",
        "                     'max_depth': 24, \n",
        "                     'min_child_samples': 428, \n",
        "                     'min_child_weight': 1, \n",
        "                     'min_data_in_leaf': 21,\n",
        "                    #  'n_estimators': 2822, \n",
        "                     'num_leaves': 83, \n",
        "                     'reg_alpha': 5, \n",
        "                     'reg_lambda': 5, \n",
        "                     'subsample': 0.4380014780786996}\n",
        "\n",
        "optuna_goal25_1={'lambda_l1': 0.07339506600611748,\n",
        "                 'lambda_l2': 7.169086661812628e-06,\n",
        "                 'num_leaves': 87,\n",
        "                 'feature_fraction': 0.8319575690963853,\n",
        "                 'bagging_fraction': 0.9962276128702263,\n",
        "                 'bagging_freq': 5,\n",
        "                #  'n_estimators': 3764,\n",
        "                 'min_child_samples': 69 }\n",
        "\n",
        "\n",
        "optuna_goal24_1={'lambda_l1': 9.391821397592286,\n",
        "                 'lambda_l2': 0.00012006755910102027,\n",
        "                 'num_leaves': 191,\n",
        "                 'feature_fraction': 0.6023281072584363,\n",
        "                 'bagging_fraction': 0.9717980271300153,\n",
        "                 'bagging_freq': 1,\n",
        "                #  'n_estimators': 3176,\n",
        "                 'min_child_samples': 72 }\n",
        "\n",
        "\n",
        "params_ = {'boosting': 'gbdt',\n",
        "          'objective':'binary',\n",
        "          'metric': 'auc',\n",
        "          'learning_rate': 0.01, # 0.003! #0.005 #0.006 \n",
        "          'num_leaves': 110, #110 #100 #150 large, but over-fitting\n",
        "          'max_bin': 66,  #60 #50 # large,but slower,over-fitting\n",
        "          'max_depth': 10, # deal with over-fitting\n",
        "          'min_data_in_leaf': 30, # deal with over-fitting\n",
        "          'min_child_samples': 20,\n",
        "          'feature_fraction': 0.5,#0.5 #0.6 #0.8\n",
        "          'bagging_fraction': 0.8,\n",
        "          'bagging_freq': 40,#5  \n",
        "          'bagging_seed': 11,\n",
        "          'lambda_l1': 2,#1.3! #5 #1.2 #1\n",
        "          'lambda_l2': 0.1,\n",
        "           'random_state': SEED }"
      ],
      "execution_count": 0,
      "outputs": []
    },
    {
      "cell_type": "code",
      "metadata": {
        "id": "hJYxWgaJRygU",
        "colab_type": "code",
        "colab": {}
      },
      "source": [
        "Target = namedtuple('Target', 'name params n_estimators')\n",
        "\n",
        "goal21 = Target(name='goal21', params=opt_goal21_1, n_estimators=2822)\n",
        "goal22 = Target(name='goal22', params=opt_goal22_1, n_estimators=3420)\n",
        "goal23 = Target(name='goal23', params=params_, n_estimators=1000)\n",
        "goal24 = Target(name='goal24', params=optuna_goal24_1, n_estimators=3176)\n",
        "goal25 = Target(name='goal25', params=optuna_goal25_1, n_estimators=3764)"
      ],
      "execution_count": 0,
      "outputs": []
    },
    {
      "cell_type": "code",
      "metadata": {
        "id": "qhesgqEJKnpv",
        "colab_type": "code",
        "outputId": "c9e91f6f-33dd-47a7-865d-c216cc04c673",
        "colab": {
          "base_uri": "https://localhost:8080/",
          "height": 1000
        }
      },
      "source": [
        "goals_cols=['goal21', 'goal22', 'goal23', 'goal24', 'goal25']\n",
        "goals_source = [goal21, goal22, goal23, goal24, goal25]\n",
        "df_res = pd.DataFrame()\n",
        "df_scores = pd.DataFrame(index=goals_cols, columns=['avg', 'std'])\n",
        "\n",
        "for Y_source in goals_source:\n",
        "\n",
        "    print(f'target: {Y_source.name}')\n",
        "    Y = targets[Y_source.name]\n",
        "\n",
        "    n_fold = 10\n",
        "    folds = KFold(n_splits=n_fold, shuffle=True, random_state=SEED)\n",
        "\n",
        "    res_dict=train_model_classification(X=Xtrain, X_test=Xtest, y=Y, params=Y_source.params, folds=folds, model_type='lgb', eval_metric='auc', \n",
        "                                  columns=None, plot_feature_importance=False, model=None,\n",
        "                                  verbose=10000, early_stopping_rounds=200, n_estimators=Y_source.n_estimators)\n",
        "  \n",
        "    df_res[Y_source.name] = res_dict['prediction'][:, 1]\n",
        "    df_scores.ix[Y_source.name, 'avg'] = np.round(np.mean(res_dict['scores']), 4)\n",
        "    df_scores.ix[Y_source.name, 'std'] = np.round(np.std(res_dict['scores']), 4)\n",
        "    df_res.to_csv( os.path.join(colab_subm_path, f'{Y_source.name}_subm2_5_different_params.csv') )\n",
        "    print(f'{Y_source.name} completed!')\n",
        "    print('='*5)"
      ],
      "execution_count": 0,
      "outputs": [
        {
          "output_type": "stream",
          "text": [
            "target: goal21\n",
            "Fold 1 started at Sun Jan 19 10:46:42 2020\n",
            "Training until validation scores don't improve for 200 rounds.\n",
            "Early stopping, best iteration is:\n",
            "[2611]\ttraining's binary_logloss: 0.0918673\ttraining's auc: 0.95942\tvalid_1's binary_logloss: 0.140097\tvalid_1's auc: 0.756332\n",
            "Fold 2 started at Sun Jan 19 10:52:08 2020\n",
            "Training until validation scores don't improve for 200 rounds.\n",
            "Early stopping, best iteration is:\n",
            "[2582]\ttraining's binary_logloss: 0.0918528\ttraining's auc: 0.960685\tvalid_1's binary_logloss: 0.142165\tvalid_1's auc: 0.770626\n",
            "Fold 3 started at Sun Jan 19 10:57:30 2020\n",
            "Training until validation scores don't improve for 200 rounds.\n",
            "Early stopping, best iteration is:\n",
            "[1606]\ttraining's binary_logloss: 0.105915\ttraining's auc: 0.930943\tvalid_1's binary_logloss: 0.133009\tvalid_1's auc: 0.764659\n",
            "Fold 4 started at Sun Jan 19 11:01:10 2020\n",
            "Training until validation scores don't improve for 200 rounds.\n",
            "Early stopping, best iteration is:\n",
            "[2061]\ttraining's binary_logloss: 0.098742\ttraining's auc: 0.947352\tvalid_1's binary_logloss: 0.136658\tvalid_1's auc: 0.766134\n",
            "Fold 5 started at Sun Jan 19 11:05:37 2020\n",
            "Training until validation scores don't improve for 200 rounds.\n",
            "Early stopping, best iteration is:\n",
            "[1932]\ttraining's binary_logloss: 0.100235\ttraining's auc: 0.941153\tvalid_1's binary_logloss: 0.144513\tvalid_1's auc: 0.755728\n",
            "Fold 6 started at Sun Jan 19 11:09:49 2020\n",
            "Training until validation scores don't improve for 200 rounds.\n",
            "Early stopping, best iteration is:\n",
            "[2191]\ttraining's binary_logloss: 0.0969007\ttraining's auc: 0.95087\tvalid_1's binary_logloss: 0.139072\tvalid_1's auc: 0.762894\n",
            "Fold 7 started at Sun Jan 19 11:14:29 2020\n",
            "Training until validation scores don't improve for 200 rounds.\n",
            "Early stopping, best iteration is:\n",
            "[2351]\ttraining's binary_logloss: 0.0950014\ttraining's auc: 0.954447\tvalid_1's binary_logloss: 0.139119\tvalid_1's auc: 0.76584\n",
            "Fold 8 started at Sun Jan 19 11:19:29 2020\n",
            "Training until validation scores don't improve for 200 rounds.\n",
            "Early stopping, best iteration is:\n",
            "[2247]\ttraining's binary_logloss: 0.0963693\ttraining's auc: 0.9523\tvalid_1's binary_logloss: 0.136894\tvalid_1's auc: 0.768472\n",
            "Fold 9 started at Sun Jan 19 11:24:18 2020\n",
            "Training until validation scores don't improve for 200 rounds.\n",
            "Early stopping, best iteration is:\n",
            "[2017]\ttraining's binary_logloss: 0.0994627\ttraining's auc: 0.943549\tvalid_1's binary_logloss: 0.141365\tvalid_1's auc: 0.76115\n",
            "Fold 10 started at Sun Jan 19 11:28:35 2020\n",
            "Training until validation scores don't improve for 200 rounds.\n",
            "Early stopping, best iteration is:\n",
            "[1883]\ttraining's binary_logloss: 0.101292\ttraining's auc: 0.939804\tvalid_1's binary_logloss: 0.140748\tvalid_1's auc: 0.751811\n",
            "CV mean score: 0.7624, std: 0.0058.\n",
            "goal21 completed!\n",
            "=====\n",
            "target: goal22\n",
            "Fold 1 started at Sun Jan 19 11:32:46 2020\n",
            "Training until validation scores don't improve for 200 rounds.\n",
            "Early stopping, best iteration is:\n",
            "[2723]\ttraining's binary_logloss: 0.279437\ttraining's auc: 0.942732\tvalid_1's binary_logloss: 0.389706\tvalid_1's auc: 0.750306\n",
            "Fold 2 started at Sun Jan 19 11:39:07 2020\n",
            "Training until validation scores don't improve for 200 rounds.\n",
            "Early stopping, best iteration is:\n",
            "[2794]\ttraining's binary_logloss: 0.276104\ttraining's auc: 0.947499\tvalid_1's binary_logloss: 0.394657\tvalid_1's auc: 0.753935\n",
            "Fold 3 started at Sun Jan 19 11:45:37 2020\n",
            "Training until validation scores don't improve for 200 rounds.\n",
            "Early stopping, best iteration is:\n",
            "[2993]\ttraining's binary_logloss: 0.271771\ttraining's auc: 0.950387\tvalid_1's binary_logloss: 0.390048\tvalid_1's auc: 0.757285\n",
            "Fold 4 started at Sun Jan 19 11:52:33 2020\n",
            "Training until validation scores don't improve for 200 rounds.\n",
            "Early stopping, best iteration is:\n",
            "[2768]\ttraining's binary_logloss: 0.278463\ttraining's auc: 0.944745\tvalid_1's binary_logloss: 0.387443\tvalid_1's auc: 0.760882\n",
            "Fold 5 started at Sun Jan 19 11:58:56 2020\n",
            "Training until validation scores don't improve for 200 rounds.\n",
            "Early stopping, best iteration is:\n",
            "[3120]\ttraining's binary_logloss: 0.267634\ttraining's auc: 0.954615\tvalid_1's binary_logloss: 0.391962\tvalid_1's auc: 0.759714\n",
            "Fold 6 started at Sun Jan 19 12:06:08 2020\n",
            "Training until validation scores don't improve for 200 rounds.\n",
            "Early stopping, best iteration is:\n",
            "[3173]\ttraining's binary_logloss: 0.267043\ttraining's auc: 0.954854\tvalid_1's binary_logloss: 0.386427\tvalid_1's auc: 0.756819\n",
            "Fold 7 started at Sun Jan 19 12:13:29 2020\n",
            "Training until validation scores don't improve for 200 rounds.\n",
            "Early stopping, best iteration is:\n",
            "[2762]\ttraining's binary_logloss: 0.279064\ttraining's auc: 0.944093\tvalid_1's binary_logloss: 0.385477\tvalid_1's auc: 0.755497\n",
            "Fold 8 started at Sun Jan 19 12:19:50 2020\n",
            "Training until validation scores don't improve for 200 rounds.\n",
            "Did not meet early stopping. Best iteration is:\n",
            "[3420]\ttraining's binary_logloss: 0.259837\ttraining's auc: 0.960758\tvalid_1's binary_logloss: 0.388871\tvalid_1's auc: 0.761522\n",
            "Fold 9 started at Sun Jan 19 12:27:21 2020\n",
            "Training until validation scores don't improve for 200 rounds.\n",
            "Early stopping, best iteration is:\n",
            "[2432]\ttraining's binary_logloss: 0.288031\ttraining's auc: 0.934542\tvalid_1's binary_logloss: 0.393825\tvalid_1's auc: 0.759146\n",
            "Fold 10 started at Sun Jan 19 12:33:03 2020\n",
            "Training until validation scores don't improve for 200 rounds.\n",
            "Early stopping, best iteration is:\n",
            "[3042]\ttraining's binary_logloss: 0.269718\ttraining's auc: 0.952541\tvalid_1's binary_logloss: 0.392137\tvalid_1's auc: 0.75685\n",
            "CV mean score: 0.7572, std: 0.0032.\n",
            "goal22 completed!\n",
            "=====\n",
            "target: goal23\n",
            "Fold 1 started at Sun Jan 19 12:40:05 2020\n",
            "Training until validation scores don't improve for 200 rounds.\n",
            "Did not meet early stopping. Best iteration is:\n",
            "[1000]\ttraining's auc: 0.978113\ttraining's auc: 0.978113\tvalid_1's auc: 0.911059\tvalid_1's auc: 0.911059\n",
            "Fold 2 started at Sun Jan 19 12:42:14 2020\n",
            "Training until validation scores don't improve for 200 rounds.\n",
            "Did not meet early stopping. Best iteration is:\n",
            "[1000]\ttraining's auc: 0.977881\ttraining's auc: 0.977881\tvalid_1's auc: 0.906149\tvalid_1's auc: 0.906149\n",
            "Fold 3 started at Sun Jan 19 12:44:23 2020\n",
            "Training until validation scores don't improve for 200 rounds.\n",
            "Did not meet early stopping. Best iteration is:\n",
            "[1000]\ttraining's auc: 0.977807\ttraining's auc: 0.977807\tvalid_1's auc: 0.913267\tvalid_1's auc: 0.913267\n",
            "Fold 4 started at Sun Jan 19 12:46:31 2020\n",
            "Training until validation scores don't improve for 200 rounds.\n",
            "Did not meet early stopping. Best iteration is:\n",
            "[1000]\ttraining's auc: 0.978083\ttraining's auc: 0.978083\tvalid_1's auc: 0.904428\tvalid_1's auc: 0.904428\n",
            "Fold 5 started at Sun Jan 19 12:48:38 2020\n",
            "Training until validation scores don't improve for 200 rounds.\n",
            "Did not meet early stopping. Best iteration is:\n",
            "[1000]\ttraining's auc: 0.977489\ttraining's auc: 0.977489\tvalid_1's auc: 0.907905\tvalid_1's auc: 0.907905\n",
            "Fold 6 started at Sun Jan 19 12:50:46 2020\n",
            "Training until validation scores don't improve for 200 rounds.\n",
            "Did not meet early stopping. Best iteration is:\n",
            "[1000]\ttraining's auc: 0.978147\ttraining's auc: 0.978147\tvalid_1's auc: 0.904981\tvalid_1's auc: 0.904981\n",
            "Fold 7 started at Sun Jan 19 12:52:54 2020\n",
            "Training until validation scores don't improve for 200 rounds.\n",
            "Did not meet early stopping. Best iteration is:\n",
            "[1000]\ttraining's auc: 0.97779\ttraining's auc: 0.97779\tvalid_1's auc: 0.902428\tvalid_1's auc: 0.902428\n",
            "Fold 8 started at Sun Jan 19 12:55:02 2020\n",
            "Training until validation scores don't improve for 200 rounds.\n",
            "Did not meet early stopping. Best iteration is:\n",
            "[1000]\ttraining's auc: 0.978271\ttraining's auc: 0.978271\tvalid_1's auc: 0.912812\tvalid_1's auc: 0.912812\n",
            "Fold 9 started at Sun Jan 19 12:57:11 2020\n",
            "Training until validation scores don't improve for 200 rounds.\n",
            "Did not meet early stopping. Best iteration is:\n",
            "[1000]\ttraining's auc: 0.978223\ttraining's auc: 0.978223\tvalid_1's auc: 0.909258\tvalid_1's auc: 0.909258\n",
            "Fold 10 started at Sun Jan 19 12:59:19 2020\n",
            "Training until validation scores don't improve for 200 rounds.\n",
            "Did not meet early stopping. Best iteration is:\n",
            "[1000]\ttraining's auc: 0.978523\ttraining's auc: 0.978523\tvalid_1's auc: 0.906876\tvalid_1's auc: 0.906876\n",
            "CV mean score: 0.9079, std: 0.0035.\n",
            "goal23 completed!\n",
            "=====\n",
            "target: goal24\n",
            "Fold 1 started at Sun Jan 19 13:01:30 2020\n",
            "Training until validation scores don't improve for 200 rounds.\n",
            "Early stopping, best iteration is:\n",
            "[133]\ttraining's binary_logloss: 0.0610664\ttraining's auc: 0.974415\tvalid_1's binary_logloss: 0.0935576\tvalid_1's auc: 0.815279\n",
            "Fold 2 started at Sun Jan 19 13:02:08 2020\n",
            "Training until validation scores don't improve for 200 rounds.\n",
            "Early stopping, best iteration is:\n",
            "[48]\ttraining's binary_logloss: 0.0782829\ttraining's auc: 0.926265\tvalid_1's binary_logloss: 0.0899242\tvalid_1's auc: 0.795293\n",
            "Fold 3 started at Sun Jan 19 13:02:36 2020\n",
            "Training until validation scores don't improve for 200 rounds.\n",
            "Early stopping, best iteration is:\n",
            "[154]\ttraining's binary_logloss: 0.0585822\ttraining's auc: 0.977971\tvalid_1's binary_logloss: 0.092203\tvalid_1's auc: 0.824479\n",
            "Fold 4 started at Sun Jan 19 13:03:16 2020\n",
            "Training until validation scores don't improve for 200 rounds.\n",
            "Early stopping, best iteration is:\n",
            "[91]\ttraining's binary_logloss: 0.0679054\ttraining's auc: 0.958257\tvalid_1's binary_logloss: 0.0946759\tvalid_1's auc: 0.802096\n",
            "Fold 5 started at Sun Jan 19 13:03:49 2020\n",
            "Training until validation scores don't improve for 200 rounds.\n",
            "Early stopping, best iteration is:\n",
            "[139]\ttraining's binary_logloss: 0.0607585\ttraining's auc: 0.975802\tvalid_1's binary_logloss: 0.0896587\tvalid_1's auc: 0.814969\n",
            "Fold 6 started at Sun Jan 19 13:04:29 2020\n",
            "Training until validation scores don't improve for 200 rounds.\n",
            "Early stopping, best iteration is:\n",
            "[177]\ttraining's binary_logloss: 0.0556126\ttraining's auc: 0.982519\tvalid_1's binary_logloss: 0.0905064\tvalid_1's auc: 0.812591\n",
            "Fold 7 started at Sun Jan 19 13:05:12 2020\n",
            "Training until validation scores don't improve for 200 rounds.\n",
            "Early stopping, best iteration is:\n",
            "[137]\ttraining's binary_logloss: 0.0604119\ttraining's auc: 0.975103\tvalid_1's binary_logloss: 0.0943808\tvalid_1's auc: 0.820144\n",
            "Fold 8 started at Sun Jan 19 13:05:51 2020\n",
            "Training until validation scores don't improve for 200 rounds.\n",
            "Early stopping, best iteration is:\n",
            "[161]\ttraining's binary_logloss: 0.0576815\ttraining's auc: 0.97921\tvalid_1's binary_logloss: 0.0930976\tvalid_1's auc: 0.814154\n",
            "Fold 9 started at Sun Jan 19 13:06:32 2020\n",
            "Training until validation scores don't improve for 200 rounds.\n",
            "Early stopping, best iteration is:\n",
            "[113]\ttraining's binary_logloss: 0.0648172\ttraining's auc: 0.967965\tvalid_1's binary_logloss: 0.0874775\tvalid_1's auc: 0.811534\n",
            "Fold 10 started at Sun Jan 19 13:07:08 2020\n",
            "Training until validation scores don't improve for 200 rounds.\n",
            "Early stopping, best iteration is:\n",
            "[173]\ttraining's binary_logloss: 0.0560893\ttraining's auc: 0.982679\tvalid_1's binary_logloss: 0.0886759\tvalid_1's auc: 0.809193\n",
            "CV mean score: 0.8120, std: 0.0079.\n",
            "goal24 completed!\n",
            "=====\n",
            "target: goal25\n",
            "Fold 1 started at Sun Jan 19 13:07:55 2020\n",
            "Training until validation scores don't improve for 200 rounds.\n",
            "Early stopping, best iteration is:\n",
            "[29]\ttraining's binary_logloss: 0.0388107\ttraining's auc: 0.979198\tvalid_1's binary_logloss: 0.052799\tvalid_1's auc: 0.93291\n",
            "Fold 2 started at Sun Jan 19 13:08:22 2020\n",
            "Training until validation scores don't improve for 200 rounds.\n",
            "Early stopping, best iteration is:\n",
            "[35]\ttraining's binary_logloss: 0.0367344\ttraining's auc: 0.982401\tvalid_1's binary_logloss: 0.0559386\tvalid_1's auc: 0.942659\n",
            "Fold 3 started at Sun Jan 19 13:08:49 2020\n",
            "Training until validation scores don't improve for 200 rounds.\n",
            "Early stopping, best iteration is:\n",
            "[53]\ttraining's binary_logloss: 0.0331888\ttraining's auc: 0.987209\tvalid_1's binary_logloss: 0.0483108\tvalid_1's auc: 0.938829\n",
            "Fold 4 started at Sun Jan 19 13:09:19 2020\n",
            "Training until validation scores don't improve for 200 rounds.\n",
            "Early stopping, best iteration is:\n",
            "[47]\ttraining's binary_logloss: 0.034761\ttraining's auc: 0.985516\tvalid_1's binary_logloss: 0.0471255\tvalid_1's auc: 0.93995\n",
            "Fold 5 started at Sun Jan 19 13:09:48 2020\n",
            "Training until validation scores don't improve for 200 rounds.\n",
            "Early stopping, best iteration is:\n",
            "[60]\ttraining's binary_logloss: 0.0313038\ttraining's auc: 0.989663\tvalid_1's binary_logloss: 0.0531616\tvalid_1's auc: 0.932641\n",
            "Fold 6 started at Sun Jan 19 13:10:18 2020\n",
            "Training until validation scores don't improve for 200 rounds.\n",
            "Early stopping, best iteration is:\n",
            "[27]\ttraining's binary_logloss: 0.0394584\ttraining's auc: 0.978263\tvalid_1's binary_logloss: 0.0527986\tvalid_1's auc: 0.943854\n",
            "Fold 7 started at Sun Jan 19 13:10:45 2020\n",
            "Training until validation scores don't improve for 200 rounds.\n",
            "Early stopping, best iteration is:\n",
            "[69]\ttraining's binary_logloss: 0.0301505\ttraining's auc: 0.991246\tvalid_1's binary_logloss: 0.0516538\tvalid_1's auc: 0.94691\n",
            "Fold 8 started at Sun Jan 19 13:11:16 2020\n",
            "Training until validation scores don't improve for 200 rounds.\n",
            "Early stopping, best iteration is:\n",
            "[56]\ttraining's binary_logloss: 0.0321228\ttraining's auc: 0.988592\tvalid_1's binary_logloss: 0.0535774\tvalid_1's auc: 0.939107\n",
            "Fold 9 started at Sun Jan 19 13:11:46 2020\n",
            "Training until validation scores don't improve for 200 rounds.\n",
            "Early stopping, best iteration is:\n",
            "[29]\ttraining's binary_logloss: 0.0388441\ttraining's auc: 0.978774\tvalid_1's binary_logloss: 0.0560364\tvalid_1's auc: 0.932135\n",
            "Fold 10 started at Sun Jan 19 13:12:13 2020\n",
            "Training until validation scores don't improve for 200 rounds.\n",
            "Early stopping, best iteration is:\n",
            "[36]\ttraining's binary_logloss: 0.0369204\ttraining's auc: 0.982496\tvalid_1's binary_logloss: 0.0499796\tvalid_1's auc: 0.943629\n",
            "CV mean score: 0.9393, std: 0.0050.\n",
            "goal25 completed!\n",
            "=====\n"
          ],
          "name": "stdout"
        }
      ]
    },
    {
      "cell_type": "code",
      "metadata": {
        "id": "5ImlxKCRKnge",
        "colab_type": "code",
        "outputId": "7608ee0c-bf35-4198-f929-6a615a89dd5a",
        "colab": {
          "base_uri": "https://localhost:8080/",
          "height": 34
        }
      },
      "source": [
        "np.array(df_scores.avg).T@ np.array([0.28, 0.27, 0.09, 0.18, 0.18])"
      ],
      "execution_count": 0,
      "outputs": [
        {
          "output_type": "execute_result",
          "data": {
            "text/plain": [
              "0.8148610000000001"
            ]
          },
          "metadata": {
            "tags": []
          },
          "execution_count": 27
        }
      ]
    },
    {
      "cell_type": "code",
      "metadata": {
        "id": "jg2yskw8DcBl",
        "colab_type": "code",
        "outputId": "2d23fa9e-22c9-4efa-c83d-1313e314637b",
        "colab": {
          "base_uri": "https://localhost:8080/",
          "height": 204
        }
      },
      "source": [
        "df_scores"
      ],
      "execution_count": 0,
      "outputs": [
        {
          "output_type": "execute_result",
          "data": {
            "text/html": [
              "<div>\n",
              "<style scoped>\n",
              "    .dataframe tbody tr th:only-of-type {\n",
              "        vertical-align: middle;\n",
              "    }\n",
              "\n",
              "    .dataframe tbody tr th {\n",
              "        vertical-align: top;\n",
              "    }\n",
              "\n",
              "    .dataframe thead th {\n",
              "        text-align: right;\n",
              "    }\n",
              "</style>\n",
              "<table border=\"1\" class=\"dataframe\">\n",
              "  <thead>\n",
              "    <tr style=\"text-align: right;\">\n",
              "      <th></th>\n",
              "      <th>avg</th>\n",
              "      <th>std</th>\n",
              "    </tr>\n",
              "  </thead>\n",
              "  <tbody>\n",
              "    <tr>\n",
              "      <th>goal21</th>\n",
              "      <td>0.7624</td>\n",
              "      <td>0.0058</td>\n",
              "    </tr>\n",
              "    <tr>\n",
              "      <th>goal22</th>\n",
              "      <td>0.7572</td>\n",
              "      <td>0.0032</td>\n",
              "    </tr>\n",
              "    <tr>\n",
              "      <th>goal23</th>\n",
              "      <td>0.9079</td>\n",
              "      <td>0.0035</td>\n",
              "    </tr>\n",
              "    <tr>\n",
              "      <th>goal24</th>\n",
              "      <td>0.812</td>\n",
              "      <td>0.0079</td>\n",
              "    </tr>\n",
              "    <tr>\n",
              "      <th>goal25</th>\n",
              "      <td>0.9393</td>\n",
              "      <td>0.005</td>\n",
              "    </tr>\n",
              "  </tbody>\n",
              "</table>\n",
              "</div>"
            ],
            "text/plain": [
              "           avg     std\n",
              "goal21  0.7624  0.0058\n",
              "goal22  0.7572  0.0032\n",
              "goal23  0.9079  0.0035\n",
              "goal24   0.812  0.0079\n",
              "goal25  0.9393   0.005"
            ]
          },
          "metadata": {
            "tags": []
          },
          "execution_count": 37
        }
      ]
    },
    {
      "cell_type": "code",
      "metadata": {
        "id": "C4D-LM1nKnS_",
        "colab_type": "code",
        "colab": {}
      },
      "source": [
        "df_res.to_csv( os.path.join(colab_subm_path,'subm2_5.csv') )"
      ],
      "execution_count": 0,
      "outputs": []
    },
    {
      "cell_type": "code",
      "metadata": {
        "id": "tmsiT9NiAMW1",
        "colab_type": "code",
        "outputId": "db391673-0caa-4e1a-92f1-da09974754e5",
        "colab": {
          "base_uri": "https://localhost:8080/",
          "height": 296
        }
      },
      "source": [
        "bins = np.linspace(0., 1.0, 11)\n",
        "g21_cut = pd.cut(df_res.goal21, bins)\n",
        "sns.countplot(g21_cut)"
      ],
      "execution_count": 0,
      "outputs": [
        {
          "output_type": "execute_result",
          "data": {
            "text/plain": [
              "<matplotlib.axes._subplots.AxesSubplot at 0x7f780098acc0>"
            ]
          },
          "metadata": {
            "tags": []
          },
          "execution_count": 39
        },
        {
          "output_type": "display_data",
          "data": {
            "image/png": "[encoded data removed]",
            "text/plain": [
              "<Figure size 432x288 with 1 Axes>"
            ]
          },
          "metadata": {
            "tags": []
          }
        }
      ]
    },
    {
      "cell_type": "code",
      "metadata": {
        "id": "N75eefYxJZmN",
        "colab_type": "code",
        "outputId": "56da8d40-8ec0-4129-b700-a984543e2d36",
        "colab": {
          "base_uri": "https://localhost:8080/",
          "height": 419
        }
      },
      "source": [
        "\n",
        "df_res"
      ],
      "execution_count": 0,
      "outputs": [
        {
          "output_type": "execute_result",
          "data": {
            "text/html": [
              "<div>\n",
              "<style scoped>\n",
              "    .dataframe tbody tr th:only-of-type {\n",
              "        vertical-align: middle;\n",
              "    }\n",
              "\n",
              "    .dataframe tbody tr th {\n",
              "        vertical-align: top;\n",
              "    }\n",
              "\n",
              "    .dataframe thead th {\n",
              "        text-align: right;\n",
              "    }\n",
              "</style>\n",
              "<table border=\"1\" class=\"dataframe\">\n",
              "  <thead>\n",
              "    <tr style=\"text-align: right;\">\n",
              "      <th></th>\n",
              "      <th>goal21</th>\n",
              "      <th>goal22</th>\n",
              "      <th>goal23</th>\n",
              "      <th>goal24</th>\n",
              "      <th>goal25</th>\n",
              "    </tr>\n",
              "  </thead>\n",
              "  <tbody>\n",
              "    <tr>\n",
              "      <th>0</th>\n",
              "      <td>0.031965</td>\n",
              "      <td>0.152154</td>\n",
              "      <td>0.000192</td>\n",
              "      <td>0.000136</td>\n",
              "      <td>0.002970</td>\n",
              "    </tr>\n",
              "    <tr>\n",
              "      <th>1</th>\n",
              "      <td>0.007021</td>\n",
              "      <td>0.029539</td>\n",
              "      <td>0.000059</td>\n",
              "      <td>0.015290</td>\n",
              "      <td>0.014993</td>\n",
              "    </tr>\n",
              "    <tr>\n",
              "      <th>2</th>\n",
              "      <td>0.115634</td>\n",
              "      <td>0.001854</td>\n",
              "      <td>0.000054</td>\n",
              "      <td>0.205632</td>\n",
              "      <td>0.089961</td>\n",
              "    </tr>\n",
              "    <tr>\n",
              "      <th>3</th>\n",
              "      <td>0.038684</td>\n",
              "      <td>0.169789</td>\n",
              "      <td>0.000122</td>\n",
              "      <td>0.033159</td>\n",
              "      <td>0.004034</td>\n",
              "    </tr>\n",
              "    <tr>\n",
              "      <th>4</th>\n",
              "      <td>0.011673</td>\n",
              "      <td>0.054704</td>\n",
              "      <td>0.000062</td>\n",
              "      <td>0.006715</td>\n",
              "      <td>0.037602</td>\n",
              "    </tr>\n",
              "    <tr>\n",
              "      <th>...</th>\n",
              "      <td>...</td>\n",
              "      <td>...</td>\n",
              "      <td>...</td>\n",
              "      <td>...</td>\n",
              "      <td>...</td>\n",
              "    </tr>\n",
              "    <tr>\n",
              "      <th>455006</th>\n",
              "      <td>0.077312</td>\n",
              "      <td>0.177069</td>\n",
              "      <td>0.099113</td>\n",
              "      <td>0.025256</td>\n",
              "      <td>0.000439</td>\n",
              "    </tr>\n",
              "    <tr>\n",
              "      <th>455007</th>\n",
              "      <td>0.023484</td>\n",
              "      <td>0.139423</td>\n",
              "      <td>0.048058</td>\n",
              "      <td>0.011652</td>\n",
              "      <td>0.004015</td>\n",
              "    </tr>\n",
              "    <tr>\n",
              "      <th>455008</th>\n",
              "      <td>0.046745</td>\n",
              "      <td>0.245868</td>\n",
              "      <td>0.110432</td>\n",
              "      <td>0.000124</td>\n",
              "      <td>0.000477</td>\n",
              "    </tr>\n",
              "    <tr>\n",
              "      <th>455009</th>\n",
              "      <td>0.041133</td>\n",
              "      <td>0.172840</td>\n",
              "      <td>0.000047</td>\n",
              "      <td>0.102221</td>\n",
              "      <td>0.000592</td>\n",
              "    </tr>\n",
              "    <tr>\n",
              "      <th>455010</th>\n",
              "      <td>0.033494</td>\n",
              "      <td>0.275325</td>\n",
              "      <td>0.134798</td>\n",
              "      <td>0.018742</td>\n",
              "      <td>0.027475</td>\n",
              "    </tr>\n",
              "  </tbody>\n",
              "</table>\n",
              "<p>455011 rows × 5 columns</p>\n",
              "</div>"
            ],
            "text/plain": [
              "          goal21    goal22    goal23    goal24    goal25\n",
              "0       0.031965  0.152154  0.000192  0.000136  0.002970\n",
              "1       0.007021  0.029539  0.000059  0.015290  0.014993\n",
              "2       0.115634  0.001854  0.000054  0.205632  0.089961\n",
              "3       0.038684  0.169789  0.000122  0.033159  0.004034\n",
              "4       0.011673  0.054704  0.000062  0.006715  0.037602\n",
              "...          ...       ...       ...       ...       ...\n",
              "455006  0.077312  0.177069  0.099113  0.025256  0.000439\n",
              "455007  0.023484  0.139423  0.048058  0.011652  0.004015\n",
              "455008  0.046745  0.245868  0.110432  0.000124  0.000477\n",
              "455009  0.041133  0.172840  0.000047  0.102221  0.000592\n",
              "455010  0.033494  0.275325  0.134798  0.018742  0.027475\n",
              "\n",
              "[455011 rows x 5 columns]"
            ]
          },
          "metadata": {
            "tags": []
          },
          "execution_count": 29
        }
      ]
    },
    {
      "cell_type": "markdown",
      "metadata": {
        "colab_type": "text",
        "id": "kVD_JFt5IP8U"
      },
      "source": [
        "# TPOT"
      ]
    },
    {
      "cell_type": "code",
      "metadata": {
        "colab_type": "code",
        "id": "DhltafklJSJx",
        "colab": {}
      },
      "source": [
        "# !pip install tpot"
      ],
      "execution_count": 0,
      "outputs": []
    },
    {
      "cell_type": "code",
      "metadata": {
        "colab_type": "code",
        "id": "N1Zf0IxiFAPM",
        "colab": {}
      },
      "source": [
        "# import joblib\n",
        "import tpot\n",
        "from tpot import TPOTClassifier"
      ],
      "execution_count": 0,
      "outputs": []
    },
    {
      "cell_type": "code",
      "metadata": {
        "colab_type": "code",
        "id": "OcV4XerUIT1E",
        "outputId": "271fac5f-45e0-4ce5-efa5-3485d8eab5b7",
        "colab": {
          "base_uri": "https://localhost:8080/",
          "height": 126
        }
      },
      "source": [
        "# from dask.distributed import Client\n",
        "# client = Client(n_workers=4, threads_per_worker=1, processes=False)\n",
        "# client"
      ],
      "execution_count": 0,
      "outputs": [
        {
          "output_type": "execute_result",
          "data": {
            "text/html": [
              "<table style=\"border: 2px solid white;\">\n",
              "<tr>\n",
              "<td style=\"vertical-align: top; border: 0px solid white\">\n",
              "<h3>Client</h3>\n",
              "<ul>\n",
              "  <li><b>Scheduler: </b>inproc://172.28.0.2/1119/1\n",
              "</ul>\n",
              "</td>\n",
              "<td style=\"vertical-align: top; border: 0px solid white\">\n",
              "<h3>Cluster</h3>\n",
              "<ul>\n",
              "  <li><b>Workers: </b>4</li>\n",
              "  <li><b>Cores: </b>4</li>\n",
              "  <li><b>Memory: </b>27.31 GB</li>\n",
              "</ul>\n",
              "</td>\n",
              "</tr>\n",
              "</table>"
            ],
            "text/plain": [
              "<Client: scheduler='inproc://172.28.0.2/1119/1' processes=4 cores=4>"
            ]
          },
          "metadata": {
            "tags": []
          },
          "execution_count": 19
        }
      ]
    },
    {
      "cell_type": "code",
      "metadata": {
        "colab_type": "code",
        "id": "2QUosg3aIT4B",
        "colab": {}
      },
      "source": [
        "X, X_test, Y, Y_test = train_test_split(features, label, stratify=label, test_size=0.3, random_state=SEED)"
      ],
      "execution_count": 0,
      "outputs": []
    },
    {
      "cell_type": "code",
      "metadata": {
        "colab_type": "code",
        "id": "lQpVaSoQqJoV",
        "colab": {}
      },
      "source": [
        "tpot_config = {\n",
        "    \n",
        "        'sklearn.ensemble.ExtraTreesRegressor': {\n",
        "            'n_estimators': [100],\n",
        "            'max_features': np.arange(0.05, 1.01, 0.05),\n",
        "            'min_samples_split': range(2, 21),\n",
        "            'min_samples_leaf': range(1, 21),\n",
        "            'bootstrap': [True, False]\n",
        "        },\n",
        "\n",
        "        'sklearn.tree.DecisionTreeRegressor': {\n",
        "            'max_depth': range(1, 11),\n",
        "            'min_samples_split': range(2, 21),\n",
        "            'min_samples_leaf': range(1, 21)\n",
        "        },\n",
        "\n",
        "        'sklearn.ensemble.RandomForestRegressor': {\n",
        "            'n_estimators': [100],\n",
        "            'max_features': np.arange(0.05, 1.01, 0.05),\n",
        "            'min_samples_split': range(2, 21),\n",
        "            'min_samples_leaf': range(1, 21),\n",
        "            'bootstrap': [True, False]\n",
        "        },\n",
        "\n",
        "\n",
        "        # Preprocesssors\n",
        "        'sklearn.preprocessing.Binarizer': {\n",
        "            'threshold': np.arange(0.0, 1.01, 0.05)\n",
        "        },\n",
        "\n",
        "        'sklearn.decomposition.FastICA': {\n",
        "            'tol': np.arange(0.0, 1.01, 0.05)\n",
        "        },\n",
        "\n",
        "        'sklearn.cluster.FeatureAgglomeration': {\n",
        "            'linkage': ['ward', 'complete', 'average'],\n",
        "            'affinity': ['euclidean', 'l1', 'l2', 'manhattan', 'cosine']\n",
        "        },\n",
        "\n",
        "        'sklearn.preprocessing.MaxAbsScaler': {\n",
        "        },\n",
        "\n",
        "        'sklearn.preprocessing.MinMaxScaler': {\n",
        "        },\n",
        "\n",
        "        'sklearn.preprocessing.Normalizer': {\n",
        "            'norm': ['l1', 'l2', 'max']\n",
        "        },\n",
        "\n",
        "        'sklearn.kernel_approximation.Nystroem': {\n",
        "            'kernel': ['rbf', 'cosine', 'chi2', 'laplacian', 'polynomial', 'poly', 'linear', 'additive_chi2', 'sigmoid'],\n",
        "            'gamma': np.arange(0.0, 1.01, 0.05),\n",
        "            'n_components': range(1, 11)\n",
        "        },\n",
        "\n",
        "        'sklearn.decomposition.PCA': {\n",
        "            'svd_solver': ['randomized'],\n",
        "            'iterated_power': range(1, 11)\n",
        "        },\n",
        "\n",
        "        'sklearn.preprocessing.PolynomialFeatures': {\n",
        "            'degree': [2],\n",
        "            'include_bias': [False],\n",
        "            'interaction_only': [False]\n",
        "        },\n",
        "\n",
        "        'sklearn.kernel_approximation.RBFSampler': {\n",
        "            'gamma': np.arange(0.0, 1.01, 0.05)\n",
        "        },\n",
        "\n",
        "        'sklearn.preprocessing.RobustScaler': {\n",
        "        },\n",
        "\n",
        "        'sklearn.preprocessing.StandardScaler': {\n",
        "        },\n",
        "\n",
        "        'tpot.builtins.ZeroCount': {\n",
        "        },\n",
        "\n",
        "        'tpot.builtins.OneHotEncoder': {\n",
        "            'minimum_fraction': [0.05, 0.1, 0.15, 0.2, 0.25],\n",
        "            'sparse': [False],\n",
        "            'threshold': [10]\n",
        "        },\n",
        "\n",
        "        # Selectors\n",
        "        'sklearn.feature_selection.SelectFwe': {\n",
        "            'alpha': np.arange(0, 0.05, 0.001),\n",
        "            'score_func': {\n",
        "                'sklearn.feature_selection.f_regression': None\n",
        "            }\n",
        "        },\n",
        "\n",
        "        'sklearn.feature_selection.SelectPercentile': {\n",
        "            'percentile': range(1, 100),\n",
        "            'score_func': {\n",
        "                'sklearn.feature_selection.f_regression': None\n",
        "            }\n",
        "        },\n",
        "\n",
        "        'sklearn.feature_selection.VarianceThreshold': {\n",
        "            'threshold': [0.0001, 0.0005, 0.001, 0.005, 0.01, 0.05, 0.1, 0.2]\n",
        "        },\n",
        "\n",
        "        'sklearn.feature_selection.SelectFromModel': {\n",
        "            'threshold': np.arange(0, 1.01, 0.05),\n",
        "            'estimator': {\n",
        "                'sklearn.ensemble.ExtraTreesRegressor': {\n",
        "                    'n_estimators': [100],\n",
        "                    'max_features': np.arange(0.05, 1.01, 0.05)\n",
        "                }\n",
        "            }\n",
        "        }\n",
        "\n",
        "    }"
      ],
      "execution_count": 0,
      "outputs": []
    },
    {
      "cell_type": "code",
      "metadata": {
        "colab_type": "code",
        "id": "q2bq7dmpqXad",
        "outputId": "a73a2a6a-8fbb-48b8-f1ca-d27b767d0881",
        "colab": {
          "base_uri": "https://localhost:8080/",
          "height": 493,
          "referenced_widgets": [
            "ea43701c0cb44697bb180648cc97de18",
            "ff945c11c1fb438aa4089d39938616ba",
            "79059ecd6a994b658cc0b0d6136df72a",
            "80bf60894cef4be8a2e43d3c0605fa60",
            "a5df86d604604d9d8dfb6a9a927588b3",
            "5934a5a7d55644108e5993725f83ce95",
            "a4f7266640a24787a3deccb699bb2367",
            "21cf21b8ae344c1cb39688f484935ea7"
          ]
        }
      },
      "source": [
        "folds   = 10\n",
        "# Start the TPOT regression\n",
        "best_model = TPOTClassifier(use_dask=False, n_jobs=-1, config_dict=tpot_config, cv=folds, scoring='roc_auc', max_time_mins=60,\n",
        "                               generations=5, population_size=20, verbosity=2, random_state=SEED) #memory='./PipelineCache',       memory='auto',\n",
        "best_model.fit(X, Y)"
      ],
      "execution_count": 0,
      "outputs": [
        {
          "output_type": "display_data",
          "data": {
            "application/vnd.jupyter.widget-view+json": {
              "model_id": "ea43701c0cb44697bb180648cc97de18",
              "version_major": 2,
              "version_minor": 0
            },
            "text/plain": [
              "HBox(children=(FloatProgress(value=0.0, description='Optimization Progress', max=20.0, style=ProgressStyle(des…"
            ]
          },
          "metadata": {
            "tags": []
          }
        },
        {
          "output_type": "stream",
          "text": [
            "\r\n",
            "\r61.60 minutes have elapsed. TPOT will close down.\n",
            "TPOT closed during evaluation in one generation.\n",
            "WARNING: TPOT may not provide a good pipeline if TPOT is stopped/interrupted in a early generation.\n",
            "\r\n",
            "\r\n",
            "TPOT closed prematurely. Will use the current best pipeline.\n",
            "\r\n",
            "Best pipeline: ExtraTreesRegressor(input_matrix, bootstrap=False, max_features=0.15000000000000002, min_samples_leaf=6, min_samples_split=15, n_estimators=100)\n"
          ],
          "name": "stdout"
        },
        {
          "output_type": "execute_result",
          "data": {
            "text/plain": [
              "TPOTClassifier(config_dict={'sklearn.cluster.FeatureAgglomeration': {'affinity': ['euclidean',\n",
              "                                                                                  'l1',\n",
              "                                                                                  'l2',\n",
              "                                                                                  'manhattan',\n",
              "                                                                                  'cosine'],\n",
              "                                                                     'linkage': ['ward',\n",
              "                                                                                 'complete',\n",
              "                                                                                 'average']},\n",
              "                            'sklearn.decomposition.FastICA': {'tol': array([0.  , 0.05, 0.1 , 0.15, 0.2 , 0.25, 0.3 , 0.35, 0.4 , 0.45, 0.5 ,\n",
              "       0.55, 0.6 , 0.65, 0.7 , 0.75, 0.8 , 0.85, 0.9 , 0.95, 1.  ])},\n",
              "                            'sklearn.decomposition.PCA': {'iterated_power...\n",
              "                            'tpot.builtins.ZeroCount': {}},\n",
              "               crossover_rate=0.1, cv=10, disable_update_check=False,\n",
              "               early_stop=None, generations=5, max_eval_time_mins=5,\n",
              "               max_time_mins=60, memory=None, mutation_rate=0.9, n_jobs=-1,\n",
              "               offspring_size=None, periodic_checkpoint_folder=None,\n",
              "               population_size=20, random_state=17, scoring='roc_auc',\n",
              "               subsample=1.0, template=None, use_dask=False, verbosity=2,\n",
              "               warm_start=False)"
            ]
          },
          "metadata": {
            "tags": []
          },
          "execution_count": 128
        }
      ]
    },
    {
      "cell_type": "code",
      "metadata": {
        "colab_type": "code",
        "id": "wW94_DD0rsvt",
        "colab": {}
      },
      "source": [
        "# Export the TPOT pipeline if you want to use it for anything later\n",
        "if os.path.exists('./Exported Pipelines'):\n",
        "    pass\n",
        "else:\n",
        "    os.mkdir('./Exported Pipelines')\n",
        "best_model.export('./Exported Pipelines/' + ticker_input + '-prediction-pipeline.py')\n"
      ],
      "execution_count": 0,
      "outputs": []
    },
    {
      "cell_type": "code",
      "metadata": {
        "colab_type": "code",
        "id": "ta6l27M3IT6m",
        "colab": {}
      },
      "source": [
        "# scale up: Increase the TPOT parameters like population_size, generations\n",
        "tp = TPOTClassifier(\n",
        "    generations=5,\n",
        "    population_size=20,\n",
        "    cv=5,\n",
        "    n_jobs=-1,\n",
        "    random_state=SEED,\n",
        "    verbosity=3, max_time_mins=60, scoring='roc_auc',\n",
        "    config_dict=tpot.config.classifier_config_dict_light,\n",
        "    use_dask=False)"
      ],
      "execution_count": 0,
      "outputs": []
    },
    {
      "cell_type": "code",
      "metadata": {
        "colab_type": "code",
        "id": "3IusIbZnTkWu",
        "colab": {}
      },
      "source": [
        "# perform the fit in this context manager\n",
        "# with joblib.parallel_backend(\"dask\"):\n",
        "#     tp.fit(X, Y)"
      ],
      "execution_count": 0,
      "outputs": []
    },
    {
      "cell_type": "code",
      "metadata": {
        "colab_type": "code",
        "id": "MSg0gOrXIT9p",
        "outputId": "487c42d1-725d-4844-8727-e1a1fd09ccd2",
        "colab": {
          "base_uri": "https://localhost:8080/",
          "height": 321,
          "referenced_widgets": [
            "4effa211e0e04927b762555779af5773",
            "a4220273ab5e42219b88ad4170ca48ba",
            "06f127a8ab964bd1bfef336ed5d9a458",
            "05ae147f4a82477e90d63fc0bd2efd23",
            "24b7a6d00bf8451b8da0fe935ca30650",
            "2328471642d7471e897fa85036e67472",
            "5b0d5656ba644f68b428f2a28e12cc3e",
            "5e5a6186682c492dbc290c9f7370412b"
          ]
        }
      },
      "source": [
        "tp.fit(X, Y)"
      ],
      "execution_count": 0,
      "outputs": [
        {
          "output_type": "stream",
          "text": [
            "31 operators have been imported by TPOT.\n"
          ],
          "name": "stdout"
        },
        {
          "output_type": "display_data",
          "data": {
            "application/vnd.jupyter.widget-view+json": {
              "model_id": "4effa211e0e04927b762555779af5773",
              "version_major": 2,
              "version_minor": 0
            },
            "text/plain": [
              "HBox(children=(FloatProgress(value=0.0, description='Optimization Progress', max=20.0, style=ProgressStyle(des…"
            ]
          },
          "metadata": {
            "tags": []
          }
        },
        {
          "output_type": "stream",
          "text": [
            "\rSkipped pipeline #6 due to time out. Continuing to the next pipeline.\n",
            "\r\n",
            "\r5.10 minutes have elapsed. TPOT will close down.\n",
            "TPOT closed during evaluation in one generation.\n",
            "WARNING: TPOT may not provide a good pipeline if TPOT is stopped/interrupted in a early generation.\n",
            "\r\n",
            "\r\n",
            "TPOT closed prematurely. Will use the current best pipeline.\n",
            "\r"
          ],
          "name": "stdout"
        },
        {
          "output_type": "execute_result",
          "data": {
            "text/plain": [
              "TPOTClassifier(config_dict=None, crossover_rate=0.1, cv=3,\n",
              "               disable_update_check=False, early_stop=None, generations=5,\n",
              "               max_eval_time_mins=5, max_time_mins=5, memory=None,\n",
              "               mutation_rate=0.9, n_jobs=-1, offspring_size=None,\n",
              "               periodic_checkpoint_folder=None, population_size=20,\n",
              "               random_state=17, scoring='roc_auc', subsample=1.0, template=None,\n",
              "               use_dask=False, verbosity=3, warm_start=False)"
            ]
          },
          "metadata": {
            "tags": []
          },
          "execution_count": 87
        }
      ]
    },
    {
      "cell_type": "code",
      "metadata": {
        "colab_type": "code",
        "id": "5TEIUyjC7Cgg",
        "colab": {}
      },
      "source": [
        "# set parameters\n",
        "gens = 2                                              # 100 gens is default, takes 2 days on 32 cores\n",
        "pop_size = 5                                          # population size per gen\n",
        "max_time_mins = None                                  # cap on training time\n",
        "\n",
        "# Instantiate tpot classifier\n",
        "tpot = TPOTClassifier(generations=gens,               # number of generations to run\n",
        "                      population_size=pop_size,       # number of models in a generation\n",
        "                      max_time_mins=max_time_mins,    # maximum time to train\n",
        "                      scoring='roc_auc',              # score with respect to roc_auc\n",
        "                      verbosity=2,                    # verbosity of the model \n",
        "                      n_jobs=-1,                      # this tells the model to use as many cores as it can find!\n",
        "                      random_state=2017)              # random state"
      ],
      "execution_count": 0,
      "outputs": []
    },
    {
      "cell_type": "code",
      "metadata": {
        "colab_type": "code",
        "id": "E0YXrF5I7VYs",
        "outputId": "120f5fe6-7ac4-4d4d-9da9-f102604496a3",
        "colab": {
          "base_uri": "https://localhost:8080/",
          "height": 224,
          "referenced_widgets": [
            "81f55b507d084ed888cd3ad4219c6093",
            "57823476d44c49c883619e583c433378",
            "915409f20fa84b02966d3a519a564276",
            "2fb378c35df04c079be611e5df985ec9",
            "c05d9070741e4b2286692364f41bb507",
            "7121e8647a6745deb573eea2f9a754be",
            "11c4801327544003a1a504d0ac38eb88",
            "f578a356739e4c1ab0bd19d1c42a8ebd"
          ]
        }
      },
      "source": [
        "tpot.fit(X, Y)"
      ],
      "execution_count": 0,
      "outputs": [
        {
          "output_type": "display_data",
          "data": {
            "application/vnd.jupyter.widget-view+json": {
              "model_id": "81f55b507d084ed888cd3ad4219c6093",
              "version_major": 2,
              "version_minor": 0
            },
            "text/plain": [
              "HBox(children=(FloatProgress(value=0.0, description='Optimization Progress', max=15.0, style=ProgressStyle(des…"
            ]
          },
          "metadata": {
            "tags": []
          }
        },
        {
          "output_type": "stream",
          "text": [
            "Generation 1 - Current best internal CV score: 0.6775898058168919\n",
            "Generation 2 - Current best internal CV score: 0.6775898058168919\n",
            "\n",
            "Best pipeline: GradientBoostingClassifier(input_matrix, learning_rate=0.001, max_depth=9, max_features=0.25, min_samples_leaf=8, min_samples_split=10, n_estimators=100, subsample=0.7000000000000001)\n"
          ],
          "name": "stdout"
        },
        {
          "output_type": "execute_result",
          "data": {
            "text/plain": [
              "TPOTClassifier(config_dict=None, crossover_rate=0.1, cv=5,\n",
              "               disable_update_check=False, early_stop=None, generations=2,\n",
              "               max_eval_time_mins=5, max_time_mins=None, memory=None,\n",
              "               mutation_rate=0.9, n_jobs=-1, offspring_size=None,\n",
              "               periodic_checkpoint_folder=None, population_size=5,\n",
              "               random_state=2017, scoring='roc_auc', subsample=1.0,\n",
              "               template=None, use_dask=False, verbosity=2, warm_start=False)"
            ]
          },
          "metadata": {
            "tags": []
          },
          "execution_count": 137
        }
      ]
    },
    {
      "cell_type": "code",
      "metadata": {
        "colab_type": "code",
        "id": "Hm8qSz6y6QOh",
        "outputId": "3ea7ed15-781b-4a0a-bf68-3c1a8f27ee52",
        "colab": {
          "base_uri": "https://localhost:8080/",
          "height": 34
        }
      },
      "source": [
        "print(f\"Test roc auc score:\\t{tpot.score(X_test, Y_test)}\")"
      ],
      "execution_count": 0,
      "outputs": [
        {
          "output_type": "stream",
          "text": [
            "Test roc auc score:\t0.6748026595079117\n"
          ],
          "name": "stdout"
        }
      ]
    },
    {
      "cell_type": "code",
      "metadata": {
        "colab_type": "code",
        "id": "PJOny6u_DUv-",
        "colab": {}
      },
      "source": [
        "from sklearn.linear_model import LogisticRegression\n",
        "from sklearn.model_selection import train_test_split\n",
        "from sklearn.pipeline import make_pipeline, make_union\n",
        "from sklearn.preprocessing import Binarizer, Normalizer\n",
        "from tpot.builtins import StackingEstimator\n",
        "from xgboost import XGBClassifier\n",
        "\n",
        "model = make_pipeline(\n",
        "    StackingEstimator(estimator=LogisticRegression(C=5.0, dual=False, penalty=\"l2\")),\n",
        "    StackingEstimator(estimator=XGBClassifier(learning_rate=1.0, max_depth=1, min_child_weight=12, n_estimators=100, nthread=1, subsample=0.7500000000000001)),\n",
        "    Normalizer(norm=\"max\"),\n",
        "    StackingEstimator(estimator=LogisticRegression(C=0.5, dual=False, penalty=\"l1\")),\n",
        "    StackingEstimator(estimator=LogisticRegression(C=0.5, dual=False, penalty=\"l1\")),\n",
        "    Binarizer(threshold=0.25),\n",
        "    XGBClassifier(learning_rate=0.001, max_depth=1, min_child_weight=10, n_estimators=100, nthread=1, subsample=1.0)\n",
        ")"
      ],
      "execution_count": 0,
      "outputs": []
    },
    {
      "cell_type": "code",
      "metadata": {
        "colab_type": "code",
        "id": "CMdyeK0hDXOg",
        "outputId": "45dcd9bf-ad64-45b2-97da-17db0ceeba4b",
        "colab": {
          "base_uri": "https://localhost:8080/",
          "height": 527
        }
      },
      "source": [
        "model.fit(X, Y)"
      ],
      "execution_count": 0,
      "outputs": [
        {
          "output_type": "execute_result",
          "data": {
            "text/plain": [
              "Pipeline(memory=None,\n",
              "         steps=[('stackingestimator-1',\n",
              "                 StackingEstimator(estimator=LogisticRegression(C=5.0,\n",
              "                                                                class_weight=None,\n",
              "                                                                dual=False,\n",
              "                                                                fit_intercept=True,\n",
              "                                                                intercept_scaling=1,\n",
              "                                                                l1_ratio=None,\n",
              "                                                                max_iter=100,\n",
              "                                                                multi_class='warn',\n",
              "                                                                n_jobs=None,\n",
              "                                                                penalty='l2',\n",
              "                                                                random_state=None,\n",
              "                                                                solver='warn',\n",
              "                                                                tol=0.0001,\n",
              "                                                                verbose=0,\n",
              "                                                                warm_start=False))),\n",
              "                ('stackingestimator-2',\n",
              "                 StackingEst...\n",
              "                 XGBClassifier(base_score=0.5, booster='gbtree',\n",
              "                               colsample_bylevel=1, colsample_bynode=1,\n",
              "                               colsample_bytree=1, gamma=0, learning_rate=0.001,\n",
              "                               max_delta_step=0, max_depth=1,\n",
              "                               min_child_weight=10, missing=None,\n",
              "                               n_estimators=100, n_jobs=1, nthread=1,\n",
              "                               objective='binary:logistic', random_state=0,\n",
              "                               reg_alpha=0, reg_lambda=1, scale_pos_weight=1,\n",
              "                               seed=None, silent=None, subsample=1.0,\n",
              "                               verbosity=1))],\n",
              "         verbose=False)"
            ]
          },
          "metadata": {
            "tags": []
          },
          "execution_count": 141
        }
      ]
    },
    {
      "cell_type": "code",
      "metadata": {
        "colab_type": "code",
        "id": "4FqxdxQTD7d5",
        "colab": {}
      },
      "source": [
        "y_pred = model.predict(X_test)\n",
        "y_prob = model.predict_proba(X_test)[:, 1]"
      ],
      "execution_count": 0,
      "outputs": []
    },
    {
      "cell_type": "code",
      "metadata": {
        "colab_type": "code",
        "id": "IlcFbFYFD7kC",
        "colab": {}
      },
      "source": [
        "# export_best_pipeline = False\n",
        "\n",
        "# if export_best_pipeline:\n",
        "#     tpot.export(TPOT_DIR / 'tpot_idn_pipeline.py')"
      ],
      "execution_count": 0,
      "outputs": []
    },
    {
      "cell_type": "code",
      "metadata": {
        "colab_type": "code",
        "id": "IOWocihBD7pg",
        "colab": {}
      },
      "source": [
        "y_prob_series = pd.Series(y_prob)"
      ],
      "execution_count": 0,
      "outputs": []
    },
    {
      "cell_type": "code",
      "metadata": {
        "colab_type": "code",
        "id": "J-uilY_wFRNB",
        "outputId": "5b3caaab-eb8b-4111-c6c3-3eab807790af",
        "colab": {
          "base_uri": "https://localhost:8080/",
          "height": 284
        }
      },
      "source": [
        "y_prob_series.plot.hist()"
      ],
      "execution_count": 0,
      "outputs": [
        {
          "output_type": "execute_result",
          "data": {
            "text/plain": [
              "<matplotlib.axes._subplots.AxesSubplot at 0x7f23bdd40f28>"
            ]
          },
          "metadata": {
            "tags": []
          },
          "execution_count": 146
        },
        {
          "output_type": "display_data",
          "data": {
            "image/png": "[encoded data removed]",
            "text/plain": [
              "<Figure size 432x288 with 1 Axes>"
            ]
          },
          "metadata": {
            "tags": []
          }
        }
      ]
    },
    {
      "cell_type": "code",
      "metadata": {
        "colab_type": "code",
        "id": "t-ZnPHIrelSd",
        "colab": {}
      },
      "source": [
        "exctracted_best_model = tp.fitted_pipeline_.steps[-1][1]"
      ],
      "execution_count": 0,
      "outputs": []
    },
    {
      "cell_type": "code",
      "metadata": {
        "colab_type": "code",
        "id": "0G-vLchi6r32",
        "outputId": "dfd18abb-650e-48f4-b59a-eb0705054084",
        "colab": {
          "base_uri": "https://localhost:8080/",
          "height": 136
        }
      },
      "source": [
        "exctracted_best_model"
      ],
      "execution_count": 0,
      "outputs": [
        {
          "output_type": "execute_result",
          "data": {
            "text/plain": [
              "XGBClassifier(base_score=0.5, booster='gbtree', colsample_bylevel=1,\n",
              "              colsample_bynode=1, colsample_bytree=1, gamma=0,\n",
              "              learning_rate=0.01, max_delta_step=0, max_depth=10,\n",
              "              min_child_weight=18, missing=None, n_estimators=100, n_jobs=1,\n",
              "              nthread=1, objective='binary:logistic', random_state=17,\n",
              "              reg_alpha=0, reg_lambda=1, scale_pos_weight=1, seed=None,\n",
              "              silent=None, subsample=0.7500000000000001, verbosity=1)"
            ]
          },
          "metadata": {
            "tags": []
          },
          "execution_count": 131
        }
      ]
    },
    {
      "cell_type": "code",
      "metadata": {
        "colab_type": "code",
        "id": "BwUZSqQWeoX_",
        "outputId": "16a04509-825e-4b1f-8173-28798f0e1cb4",
        "colab": {
          "base_uri": "https://localhost:8080/",
          "height": 136
        }
      },
      "source": [
        "exctracted_best_model.fit(X, Y)"
      ],
      "execution_count": 0,
      "outputs": [
        {
          "output_type": "execute_result",
          "data": {
            "text/plain": [
              "XGBClassifier(base_score=0.5, booster='gbtree', colsample_bylevel=1,\n",
              "              colsample_bynode=1, colsample_bytree=1, gamma=0,\n",
              "              learning_rate=0.01, max_delta_step=0, max_depth=10,\n",
              "              min_child_weight=18, missing=None, n_estimators=100, n_jobs=1,\n",
              "              nthread=1, objective='binary:logistic', random_state=17,\n",
              "              reg_alpha=0, reg_lambda=1, scale_pos_weight=1, seed=None,\n",
              "              silent=None, subsample=0.7500000000000001, verbosity=1)"
            ]
          },
          "metadata": {
            "tags": []
          },
          "execution_count": 107
        }
      ]
    },
    {
      "cell_type": "code",
      "metadata": {
        "colab_type": "code",
        "id": "sGjZ06WDflLO",
        "colab": {}
      },
      "source": [
        "predictions = exctracted_best_model.predict(X_test)"
      ],
      "execution_count": 0,
      "outputs": []
    },
    {
      "cell_type": "code",
      "metadata": {
        "colab_type": "code",
        "id": "VOi61sIMIUAq",
        "outputId": "d9bd765b-fb12-4e62-dc33-257ebd91d06d",
        "colab": {
          "base_uri": "https://localhost:8080/",
          "height": 34
        }
      },
      "source": [
        "print(tp.score(X_test, Y_test))\n",
        "# pipeline_optimizer.export('tpot_exported_pipeline.py')"
      ],
      "execution_count": 0,
      "outputs": [
        {
          "output_type": "stream",
          "text": [
            "0.9778635428532567\n"
          ],
          "name": "stdout"
        }
      ]
    },
    {
      "cell_type": "code",
      "metadata": {
        "colab_type": "code",
        "id": "HSy0Cavsao52",
        "outputId": "891ea770-da2e-47f3-ab93-7e79b282d3e0",
        "colab": {
          "base_uri": "https://localhost:8080/",
          "height": 34
        }
      },
      "source": [
        "print(tp.score(X_test, Y_test))"
      ],
      "execution_count": 0,
      "outputs": [
        {
          "output_type": "stream",
          "text": [
            "0.665772723685386\n"
          ],
          "name": "stdout"
        }
      ]
    },
    {
      "cell_type": "markdown",
      "metadata": {
        "colab_type": "text",
        "id": "ZFz3kUoGS1fp"
      },
      "source": [
        "# Make features"
      ]
    },
    {
      "cell_type": "code",
      "metadata": {
        "colab_type": "code",
        "id": "r41i03wVejbF",
        "colab": {}
      },
      "source": [
        "def aggregate_trans(data, group_col, prefix):  \n",
        "    agg_func = {\n",
        "        'NDAYS_FROM_LAST': ['median', 'mean', 'std'], #num_trans\n",
        "        'field12': ['sum', 'mean','median', 'max', 'min', 'std'],\n",
        "        'field13': ['sum', 'mean','median', 'max', 'min', 'std'],\n",
        "        'field17': ['sum', 'mean','median', 'max', 'min', 'std'],\n",
        "        'DAYS_BEFORE_DEPART': ['sum', 'mean','median', 'max', 'min', 'std'],\n",
        "        'field19': ['sum', 'mean','median', 'max', 'min', 'std', 'nunique'],\n",
        "        'field22': ['sum', 'mean','median', 'max', 'min', 'std'],\n",
        "        'field25': ['sum', 'mean','median', 'max', 'min', 'std'],\n",
        "        'field26': ['sum', 'mean','median', 'max', 'min', 'std']\n",
        "        # 'field1': ['sum', 'mean', 'median', 'max', 'min', 'std', 'nunique'],\n",
        "        # 'field14': ['sum', 'mean', 'median', 'max', 'min', 'std', 'nunique']\n",
        "    }    \n",
        "    agg_trans = data.groupby(group_col).agg(agg_func)\n",
        "    agg_trans.columns = [prefix + '_'.join(col).strip() for col in agg_trans.columns.values]\n",
        "    agg_trans.reset_index(inplace=True)\n",
        "    \n",
        "    return agg_trans\n",
        "    "
      ],
      "execution_count": 0,
      "outputs": []
    },
    {
      "cell_type": "code",
      "metadata": {
        "colab_type": "code",
        "id": "t6AzRDvnictH",
        "colab": {}
      },
      "source": [
        "# df = df.merge(aggregate_trans(df, ['YEAR', 'MONTH_BUY'], 'MB_'), how='left', on=['YEAR', 'MONTH_BUY'])\n",
        "# df = df.merge(aggregate_trans(df, ['YEAR', 'HOUR_OF_BUY'], 'HOB_'), how='left', on=['YEAR', 'HOUR_OF_BUY'])\n",
        "# df = df.merge(aggregate_trans(df, ['YEAR', 'DOW_BUY'], 'DOWB_'), how='left', on=['YEAR', 'DOW_BUY'])\n",
        "\n",
        "df = df.merge(aggregate_trans(df, ['YEAR', 'MONTH_DEPART'], 'MD_'), how='left', on=['YEAR', 'MONTH_DEPART'])\n",
        "df = df.merge(aggregate_trans(df, ['YEAR', 'HOUR_DEPART'], 'HD_'), how='left', on=['YEAR', 'HOUR_DEPART'])\n",
        "df = df.merge(aggregate_trans(df, ['YEAR', 'DOW_DEPART'], 'DOWD_'), how='left', on=['YEAR', 'DOW_DEPART'])"
      ],
      "execution_count": 0,
      "outputs": []
    },
    {
      "cell_type": "code",
      "metadata": {
        "colab_type": "code",
        "id": "he8WuDrFfZZO",
        "outputId": "ad257720-804f-4972-d3ca-b3fca5fa88f6",
        "colab": {
          "base_uri": "https://localhost:8080/",
          "height": 34
        }
      },
      "source": [
        "df = df.merge(aggregate_trans(df, ['field26', 'field27'], 'F26F27_'), how='left', on=['field26', 'field27'])\n",
        "df = df.merge(aggregate_trans(df, ['field1', 'field14'], 'F1F14_'), how='left', on=['field1', 'field14'])\n",
        "df.shape"
      ],
      "execution_count": 0,
      "outputs": [
        {
          "output_type": "execute_result",
          "data": {
            "text/plain": [
              "(196056, 305)"
            ]
          },
          "metadata": {
            "tags": []
          },
          "execution_count": 128
        }
      ]
    },
    {
      "cell_type": "code",
      "metadata": {
        "id": "jeb_jNf8fKWG",
        "colab_type": "code",
        "colab": {}
      },
      "source": [
        "def feature_engineering(df):\n",
        "\n",
        "  df['DIFF_H']=abs(df['HOUR_DEPART']-df['HOUR_OF_BUY']).astype('int32')\n",
        "  df['DIFF_M']=abs(df['MONTH_DEPART']-df['MONTH_BUY']).astype('int32')\n",
        "  df['CHILD'] = df.TOTAL_TICKETS- df.TICKET_ADULT\n",
        "\n",
        "  df['f14_id_median'] = df.userid.map(df.groupby('userid')['field14'].median().fillna(-1))\n",
        "  df['f1_id_median'] = df.userid.map(df.groupby('userid')['field1'].median().fillna(-1))\n",
        "  df['f1_id_std'] = df.userid.map(df.groupby('userid')['field1'].std().fillna(-1))\n",
        "  df['f14_id_std'] = df.userid.map(df.groupby('userid')['field14'].std().fillna(-1))\n",
        "  df['f26_id_median'] = df.userid.map(df.groupby('userid')['field26'].median().fillna(-1))\n",
        "  df['f27_id_median'] = df.userid.map(df.groupby('userid')['field27'].median().fillna(-1))\n",
        "  df['f26_id_std'] = df.userid.map(df.groupby('userid')['field26'].std().fillna(-1))\n",
        "  df['f27_id_std'] = df.userid.map(df.groupby('userid')['field27'].std().fillna(-1))\n",
        "  df['DAYS_BEFORE_DEPART_id_median'] = df.userid.map(df.groupby('userid')['DAYS_BEFORE_DEPART'].median().fillna(-1))\n",
        "  df['DAYS_BEFORE_DEPART_id_std'] = df.userid.map(df.groupby('userid')['DAYS_BEFORE_DEPART'].std().fillna(-1))\n",
        "  df['NDAYS_FROM_LAST_id_median'] = df.userid.map(df.groupby('userid')['NDAYS_FROM_LAST'].median().fillna(-1))\n",
        "  df['NDAYS_FROM_LAST_id_std'] = df.userid.map(df.groupby('userid')['NDAYS_FROM_LAST'].std().fillna(-1))\n",
        "  df['ORDER_OF_BUY_id_median'] = df.userid.map(df.groupby('userid')['ORDER_OF_BUY'].median().fillna(-1))\n",
        "  df['ORDER_OF_BUY_id_std'] = df.userid.map(df.groupby('userid')['ORDER_OF_BUY'].std().fillna(-1))\n",
        "  df['field13_id_median'] = df.userid.map(df.groupby('userid')['field13'].median().fillna(-1))\n",
        "  df['field13_id_std'] = df.userid.map(df.groupby('userid')['field13'].std().fillna(-1))\n",
        "  df['field26_id_median'] = df.userid.map(df.groupby('userid')['field26'].median().fillna(-1))\n",
        "  df['field26_id_std'] = df.userid.map(df.groupby('userid')['field26'].std().fillna(-1))\n",
        "  df['field19_id_median'] = df.userid.map(df.groupby('userid')['field19'].median().fillna(-1))\n",
        "  df['field19_id_std'] = df.userid.map(df.groupby('userid')['field19'].std().fillna(-1))\n",
        "\n",
        "  df = add_sem(df, group_col='userid', used_col=['field1'])\n",
        "  df = add_sem(df, group_col='userid', used_col=['field14'])\n",
        "  df = add_sem(df, group_col='userid', used_col=['field26'])\n",
        "  df = add_sem(df, group_col='userid', used_col=['field27'])\n",
        "  df = add_sem(df, group_col='userid', used_col=['field12'])\n",
        "  df = add_sem(df, group_col='userid', used_col=['NDAYS_FROM_LAST'])\n",
        "  df = add_sem(df, group_col='userid', used_col=['field13'])\n",
        "  df = add_sem(df, group_col='userid', used_col=['field22'])\n",
        "  df = add_sem(df, group_col='userid', used_col=['field25'])\n",
        "\n",
        "  make_conj(df, 'field1', 'field14')\n",
        "  make_conj(df, 'field26', 'field27')\n",
        " \n",
        "  return reduce_mem_usage(df)\n"
      ],
      "execution_count": 0,
      "outputs": []
    },
    {
      "cell_type": "code",
      "metadata": {
        "id": "qgBX88kfzXYy",
        "colab_type": "code",
        "outputId": "525a3080-bc77-4ecf-b051-d8be125c1cd9",
        "colab": {
          "base_uri": "https://localhost:8080/",
          "height": 34
        }
      },
      "source": [
        "df = feature_engineering(df)"
      ],
      "execution_count": 0,
      "outputs": [
        {
          "output_type": "stream",
          "text": [
            "Mem. usage decreased to 61.70 Mb (5.4% reduction)\n"
          ],
          "name": "stdout"
        }
      ]
    },
    {
      "cell_type": "code",
      "metadata": {
        "id": "PV5Vn0sqznpJ",
        "colab_type": "code",
        "outputId": "8b7bd539-a812-4bd7-b688-3d5dc9785a0d",
        "colab": {
          "base_uri": "https://localhost:8080/",
          "height": 157
        }
      },
      "source": [
        "df[:3]"
      ],
      "execution_count": 0,
      "outputs": [
        {
          "output_type": "execute_result",
          "data": {
            "text/html": [
              "<div>\n",
              "<style scoped>\n",
              "    .dataframe tbody tr th:only-of-type {\n",
              "        vertical-align: middle;\n",
              "    }\n",
              "\n",
              "    .dataframe tbody tr th {\n",
              "        vertical-align: top;\n",
              "    }\n",
              "\n",
              "    .dataframe thead th {\n",
              "        text-align: right;\n",
              "    }\n",
              "</style>\n",
              "<table border=\"1\" class=\"dataframe\">\n",
              "  <thead>\n",
              "    <tr style=\"text-align: right;\">\n",
              "      <th></th>\n",
              "      <th>orderid</th>\n",
              "      <th>userid</th>\n",
              "      <th>NDAYS_FROM_LAST</th>\n",
              "      <th>field1</th>\n",
              "      <th>MONTH_BUY</th>\n",
              "      <th>MONTH_DEPART</th>\n",
              "      <th>ORDER_OF_BUY</th>\n",
              "      <th>field5</th>\n",
              "      <th>field6</th>\n",
              "      <th>field7</th>\n",
              "      <th>field8</th>\n",
              "      <th>TICKET_CHILD_1Y</th>\n",
              "      <th>field10</th>\n",
              "      <th>HOUR_OF_BUY</th>\n",
              "      <th>field12</th>\n",
              "      <th>field13</th>\n",
              "      <th>field14</th>\n",
              "      <th>TOTAL_TICKETS</th>\n",
              "      <th>DAYS_BEFORE_DEPART</th>\n",
              "      <th>field17</th>\n",
              "      <th>DOW_BUY</th>\n",
              "      <th>field19</th>\n",
              "      <th>DOW_DEPART</th>\n",
              "      <th>YEAR</th>\n",
              "      <th>field22</th>\n",
              "      <th>HOUR_DEPART</th>\n",
              "      <th>TICKET_ADULT</th>\n",
              "      <th>field25</th>\n",
              "      <th>field26</th>\n",
              "      <th>field27</th>\n",
              "      <th>TICKET_CHILD_4Y</th>\n",
              "      <th>QUARTER</th>\n",
              "      <th>indicator_goal21</th>\n",
              "      <th>indicator_goal22</th>\n",
              "      <th>indicator_goal23</th>\n",
              "      <th>indicator_goal24</th>\n",
              "      <th>indicator_goal25</th>\n",
              "      <th>goal21</th>\n",
              "      <th>goal22</th>\n",
              "      <th>goal23</th>\n",
              "      <th>goal24</th>\n",
              "      <th>goal25</th>\n",
              "      <th>goal1</th>\n",
              "      <th>USR_CNT</th>\n",
              "      <th>INDICATOR_CNT</th>\n",
              "      <th>DIFF_H</th>\n",
              "      <th>DIFF_M</th>\n",
              "      <th>CHILD</th>\n",
              "      <th>f14_id_median</th>\n",
              "      <th>f1_id_median</th>\n",
              "      <th>f1_id_std</th>\n",
              "      <th>f14_id_std</th>\n",
              "      <th>f26_id_median</th>\n",
              "      <th>f27_id_median</th>\n",
              "      <th>f26_id_std</th>\n",
              "      <th>f27_id_std</th>\n",
              "      <th>DAYS_BEFORE_DEPART_id_median</th>\n",
              "      <th>DAYS_BEFORE_DEPART_id_std</th>\n",
              "      <th>NDAYS_FROM_LAST_id_median</th>\n",
              "      <th>NDAYS_FROM_LAST_id_std</th>\n",
              "      <th>ORDER_OF_BUY_id_median</th>\n",
              "      <th>ORDER_OF_BUY_id_std</th>\n",
              "      <th>field13_id_median</th>\n",
              "      <th>field13_id_std</th>\n",
              "      <th>field26_id_median</th>\n",
              "      <th>field26_id_std</th>\n",
              "      <th>field19_id_median</th>\n",
              "      <th>field19_id_std</th>\n",
              "      <th>field1_sem</th>\n",
              "      <th>field14_sem</th>\n",
              "      <th>field26_sem</th>\n",
              "      <th>field27_sem</th>\n",
              "      <th>field12_sem</th>\n",
              "      <th>NDAYS_FROM_LAST_sem</th>\n",
              "      <th>field13_sem</th>\n",
              "      <th>field22_sem</th>\n",
              "      <th>field25_sem</th>\n",
              "      <th>field1_field14</th>\n",
              "      <th>field26_field27</th>\n",
              "    </tr>\n",
              "  </thead>\n",
              "  <tbody>\n",
              "    <tr>\n",
              "      <th>0</th>\n",
              "      <td>0</td>\n",
              "      <td>7458</td>\n",
              "      <td>0</td>\n",
              "      <td>-0.626508</td>\n",
              "      <td>11</td>\n",
              "      <td>12</td>\n",
              "      <td>1</td>\n",
              "      <td>1</td>\n",
              "      <td>0</td>\n",
              "      <td>1</td>\n",
              "      <td>1</td>\n",
              "      <td>0</td>\n",
              "      <td>0</td>\n",
              "      <td>9</td>\n",
              "      <td>5</td>\n",
              "      <td>20</td>\n",
              "      <td>-0.661308</td>\n",
              "      <td>1</td>\n",
              "      <td>4</td>\n",
              "      <td>1</td>\n",
              "      <td>4</td>\n",
              "      <td>1</td>\n",
              "      <td>1</td>\n",
              "      <td>1</td>\n",
              "      <td>1</td>\n",
              "      <td>15</td>\n",
              "      <td>1</td>\n",
              "      <td>1</td>\n",
              "      <td>2</td>\n",
              "      <td>1</td>\n",
              "      <td>0</td>\n",
              "      <td>4</td>\n",
              "      <td>1</td>\n",
              "      <td>1</td>\n",
              "      <td>0</td>\n",
              "      <td>1</td>\n",
              "      <td>1</td>\n",
              "      <td>0</td>\n",
              "      <td>1</td>\n",
              "      <td>0</td>\n",
              "      <td>0</td>\n",
              "      <td>0</td>\n",
              "      <td>0</td>\n",
              "      <td>1</td>\n",
              "      <td>0.799805</td>\n",
              "      <td>6</td>\n",
              "      <td>1</td>\n",
              "      <td>0</td>\n",
              "      <td>-0.661308</td>\n",
              "      <td>-0.626508</td>\n",
              "      <td>-1.000000</td>\n",
              "      <td>-1.000000</td>\n",
              "      <td>2.0</td>\n",
              "      <td>1.0</td>\n",
              "      <td>-1.000000</td>\n",
              "      <td>-1.000000</td>\n",
              "      <td>4.0</td>\n",
              "      <td>-1.000000</td>\n",
              "      <td>0.0</td>\n",
              "      <td>-1.000000</td>\n",
              "      <td>1.0</td>\n",
              "      <td>-1.000000</td>\n",
              "      <td>20.0</td>\n",
              "      <td>-1.000000</td>\n",
              "      <td>2.0</td>\n",
              "      <td>-1.000000</td>\n",
              "      <td>1.0</td>\n",
              "      <td>-1.000000</td>\n",
              "      <td>-1.000000</td>\n",
              "      <td>-1.000000</td>\n",
              "      <td>-1.0</td>\n",
              "      <td>-1.0</td>\n",
              "      <td>-1.0</td>\n",
              "      <td>-1.0</td>\n",
              "      <td>-1.0</td>\n",
              "      <td>-1.0</td>\n",
              "      <td>-1.0</td>\n",
              "      <td>106</td>\n",
              "      <td>20</td>\n",
              "    </tr>\n",
              "    <tr>\n",
              "      <th>1</th>\n",
              "      <td>1</td>\n",
              "      <td>33232</td>\n",
              "      <td>144</td>\n",
              "      <td>-0.393794</td>\n",
              "      <td>5</td>\n",
              "      <td>7</td>\n",
              "      <td>2</td>\n",
              "      <td>0</td>\n",
              "      <td>0</td>\n",
              "      <td>0</td>\n",
              "      <td>1</td>\n",
              "      <td>0</td>\n",
              "      <td>0</td>\n",
              "      <td>21</td>\n",
              "      <td>125</td>\n",
              "      <td>3</td>\n",
              "      <td>-0.101043</td>\n",
              "      <td>1</td>\n",
              "      <td>57</td>\n",
              "      <td>1</td>\n",
              "      <td>5</td>\n",
              "      <td>1</td>\n",
              "      <td>6</td>\n",
              "      <td>0</td>\n",
              "      <td>121</td>\n",
              "      <td>15</td>\n",
              "      <td>1</td>\n",
              "      <td>41</td>\n",
              "      <td>3</td>\n",
              "      <td>1</td>\n",
              "      <td>0</td>\n",
              "      <td>2</td>\n",
              "      <td>1</td>\n",
              "      <td>1</td>\n",
              "      <td>0</td>\n",
              "      <td>1</td>\n",
              "      <td>0</td>\n",
              "      <td>0</td>\n",
              "      <td>0</td>\n",
              "      <td>0</td>\n",
              "      <td>0</td>\n",
              "      <td>0</td>\n",
              "      <td>0</td>\n",
              "      <td>2</td>\n",
              "      <td>0.600098</td>\n",
              "      <td>6</td>\n",
              "      <td>2</td>\n",
              "      <td>0</td>\n",
              "      <td>-0.171076</td>\n",
              "      <td>-0.393794</td>\n",
              "      <td>0.000000</td>\n",
              "      <td>0.099042</td>\n",
              "      <td>7.5</td>\n",
              "      <td>2.0</td>\n",
              "      <td>6.363961</td>\n",
              "      <td>1.414214</td>\n",
              "      <td>48.5</td>\n",
              "      <td>12.020815</td>\n",
              "      <td>72.0</td>\n",
              "      <td>101.823376</td>\n",
              "      <td>1.5</td>\n",
              "      <td>0.707107</td>\n",
              "      <td>23.5</td>\n",
              "      <td>28.991378</td>\n",
              "      <td>7.5</td>\n",
              "      <td>6.363961</td>\n",
              "      <td>1.5</td>\n",
              "      <td>0.707107</td>\n",
              "      <td>0.000000</td>\n",
              "      <td>0.070033</td>\n",
              "      <td>4.5</td>\n",
              "      <td>1.0</td>\n",
              "      <td>46.0</td>\n",
              "      <td>72.0</td>\n",
              "      <td>20.5</td>\n",
              "      <td>18.5</td>\n",
              "      <td>5.5</td>\n",
              "      <td>69</td>\n",
              "      <td>21</td>\n",
              "    </tr>\n",
              "    <tr>\n",
              "      <th>2</th>\n",
              "      <td>2</td>\n",
              "      <td>83136</td>\n",
              "      <td>134</td>\n",
              "      <td>-0.548937</td>\n",
              "      <td>2</td>\n",
              "      <td>3</td>\n",
              "      <td>2</td>\n",
              "      <td>0</td>\n",
              "      <td>0</td>\n",
              "      <td>1</td>\n",
              "      <td>1</td>\n",
              "      <td>0</td>\n",
              "      <td>1</td>\n",
              "      <td>7</td>\n",
              "      <td>4</td>\n",
              "      <td>3</td>\n",
              "      <td>-0.661308</td>\n",
              "      <td>1</td>\n",
              "      <td>4</td>\n",
              "      <td>1</td>\n",
              "      <td>2</td>\n",
              "      <td>3</td>\n",
              "      <td>6</td>\n",
              "      <td>0</td>\n",
              "      <td>17</td>\n",
              "      <td>14</td>\n",
              "      <td>1</td>\n",
              "      <td>1</td>\n",
              "      <td>11</td>\n",
              "      <td>7</td>\n",
              "      <td>0</td>\n",
              "      <td>1</td>\n",
              "      <td>1</td>\n",
              "      <td>1</td>\n",
              "      <td>0</td>\n",
              "      <td>1</td>\n",
              "      <td>1</td>\n",
              "      <td>0</td>\n",
              "      <td>0</td>\n",
              "      <td>0</td>\n",
              "      <td>0</td>\n",
              "      <td>0</td>\n",
              "      <td>0</td>\n",
              "      <td>2</td>\n",
              "      <td>0.799805</td>\n",
              "      <td>7</td>\n",
              "      <td>1</td>\n",
              "      <td>0</td>\n",
              "      <td>-0.661308</td>\n",
              "      <td>-0.587722</td>\n",
              "      <td>0.054851</td>\n",
              "      <td>0.000000</td>\n",
              "      <td>11.0</td>\n",
              "      <td>7.0</td>\n",
              "      <td>0.000000</td>\n",
              "      <td>0.000000</td>\n",
              "      <td>3.5</td>\n",
              "      <td>0.707107</td>\n",
              "      <td>67.0</td>\n",
              "      <td>94.752309</td>\n",
              "      <td>1.5</td>\n",
              "      <td>0.707107</td>\n",
              "      <td>4.0</td>\n",
              "      <td>1.414214</td>\n",
              "      <td>11.0</td>\n",
              "      <td>0.000000</td>\n",
              "      <td>2.0</td>\n",
              "      <td>1.414214</td>\n",
              "      <td>0.038786</td>\n",
              "      <td>0.000000</td>\n",
              "      <td>0.0</td>\n",
              "      <td>0.0</td>\n",
              "      <td>5.0</td>\n",
              "      <td>67.0</td>\n",
              "      <td>1.0</td>\n",
              "      <td>8.0</td>\n",
              "      <td>0.0</td>\n",
              "      <td>95</td>\n",
              "      <td>1</td>\n",
              "    </tr>\n",
              "  </tbody>\n",
              "</table>\n",
              "</div>"
            ],
            "text/plain": [
              "   orderid  userid  NDAYS_FROM_LAST    field1  MONTH_BUY  MONTH_DEPART  \\\n",
              "0        0    7458                0 -0.626508         11            12   \n",
              "1        1   33232              144 -0.393794          5             7   \n",
              "2        2   83136              134 -0.548937          2             3   \n",
              "\n",
              "   ORDER_OF_BUY  field5  field6  field7  field8  TICKET_CHILD_1Y  field10  \\\n",
              "0             1       1       0       1       1                0        0   \n",
              "1             2       0       0       0       1                0        0   \n",
              "2             2       0       0       1       1                0        1   \n",
              "\n",
              "   HOUR_OF_BUY  field12  field13   field14  TOTAL_TICKETS  DAYS_BEFORE_DEPART  \\\n",
              "0            9        5       20 -0.661308              1                   4   \n",
              "1           21      125        3 -0.101043              1                  57   \n",
              "2            7        4        3 -0.661308              1                   4   \n",
              "\n",
              "   field17  DOW_BUY  field19  DOW_DEPART  YEAR  field22  HOUR_DEPART  \\\n",
              "0        1        4        1           1     1        1           15   \n",
              "1        1        5        1           6     0      121           15   \n",
              "2        1        2        3           6     0       17           14   \n",
              "\n",
              "   TICKET_ADULT  field25  field26  field27  TICKET_CHILD_4Y  QUARTER  \\\n",
              "0             1        1        2        1                0        4   \n",
              "1             1       41        3        1                0        2   \n",
              "2             1        1       11        7                0        1   \n",
              "\n",
              "   indicator_goal21  indicator_goal22  indicator_goal23  indicator_goal24  \\\n",
              "0                 1                 1                 0                 1   \n",
              "1                 1                 1                 0                 1   \n",
              "2                 1                 1                 0                 1   \n",
              "\n",
              "   indicator_goal25  goal21  goal22  goal23  goal24  goal25  goal1  USR_CNT  \\\n",
              "0                 1       0       1       0       0       0      0        1   \n",
              "1                 0       0       0       0       0       0      0        2   \n",
              "2                 1       0       0       0       0       0      0        2   \n",
              "\n",
              "   INDICATOR_CNT  DIFF_H  DIFF_M  CHILD  f14_id_median  f1_id_median  \\\n",
              "0       0.799805       6       1      0      -0.661308     -0.626508   \n",
              "1       0.600098       6       2      0      -0.171076     -0.393794   \n",
              "2       0.799805       7       1      0      -0.661308     -0.587722   \n",
              "\n",
              "   f1_id_std  f14_id_std  f26_id_median  f27_id_median  f26_id_std  \\\n",
              "0  -1.000000   -1.000000            2.0            1.0   -1.000000   \n",
              "1   0.000000    0.099042            7.5            2.0    6.363961   \n",
              "2   0.054851    0.000000           11.0            7.0    0.000000   \n",
              "\n",
              "   f27_id_std  DAYS_BEFORE_DEPART_id_median  DAYS_BEFORE_DEPART_id_std  \\\n",
              "0   -1.000000                           4.0                  -1.000000   \n",
              "1    1.414214                          48.5                  12.020815   \n",
              "2    0.000000                           3.5                   0.707107   \n",
              "\n",
              "   NDAYS_FROM_LAST_id_median  NDAYS_FROM_LAST_id_std  ORDER_OF_BUY_id_median  \\\n",
              "0                        0.0               -1.000000                     1.0   \n",
              "1                       72.0              101.823376                     1.5   \n",
              "2                       67.0               94.752309                     1.5   \n",
              "\n",
              "   ORDER_OF_BUY_id_std  field13_id_median  field13_id_std  field26_id_median  \\\n",
              "0            -1.000000               20.0       -1.000000                2.0   \n",
              "1             0.707107               23.5       28.991378                7.5   \n",
              "2             0.707107                4.0        1.414214               11.0   \n",
              "\n",
              "   field26_id_std  field19_id_median  field19_id_std  field1_sem  field14_sem  \\\n",
              "0       -1.000000                1.0       -1.000000   -1.000000    -1.000000   \n",
              "1        6.363961                1.5        0.707107    0.000000     0.070033   \n",
              "2        0.000000                2.0        1.414214    0.038786     0.000000   \n",
              "\n",
              "   field26_sem  field27_sem  field12_sem  NDAYS_FROM_LAST_sem  field13_sem  \\\n",
              "0         -1.0         -1.0         -1.0                 -1.0         -1.0   \n",
              "1          4.5          1.0         46.0                 72.0         20.5   \n",
              "2          0.0          0.0          5.0                 67.0          1.0   \n",
              "\n",
              "   field22_sem  field25_sem  field1_field14  field26_field27  \n",
              "0         -1.0         -1.0             106               20  \n",
              "1         18.5          5.5              69               21  \n",
              "2          8.0          0.0              95                1  "
            ]
          },
          "metadata": {
            "tags": []
          },
          "execution_count": 12
        }
      ]
    },
    {
      "cell_type": "code",
      "metadata": {
        "id": "_RrUK7DYmZTJ",
        "colab_type": "code",
        "outputId": "d63ca9b7-39a7-4756-eea5-b380cc9f6534",
        "colab": {
          "base_uri": "https://localhost:8080/",
          "height": 419
        }
      },
      "source": [
        "gr = ['YEAR', 'MONTH_DEPART', 'DOW_DEPART', 'field27']\n",
        "gr2 = ['field1', 'field14']\n",
        "gr3 = ['field26', 'field27']\n",
        "# df.groupby(gr3)['indicator_goal21'].sum()\n",
        "pd.concat([df.userid.map(df.groupby('userid')[ig].mean()) for ig in indicator_cols], axis=1)"
      ],
      "execution_count": 0,
      "outputs": [
        {
          "output_type": "execute_result",
          "data": {
            "text/html": [
              "<div>\n",
              "<style scoped>\n",
              "    .dataframe tbody tr th:only-of-type {\n",
              "        vertical-align: middle;\n",
              "    }\n",
              "\n",
              "    .dataframe tbody tr th {\n",
              "        vertical-align: top;\n",
              "    }\n",
              "\n",
              "    .dataframe thead th {\n",
              "        text-align: right;\n",
              "    }\n",
              "</style>\n",
              "<table border=\"1\" class=\"dataframe\">\n",
              "  <thead>\n",
              "    <tr style=\"text-align: right;\">\n",
              "      <th></th>\n",
              "      <th>userid</th>\n",
              "      <th>userid</th>\n",
              "      <th>userid</th>\n",
              "      <th>userid</th>\n",
              "      <th>userid</th>\n",
              "    </tr>\n",
              "  </thead>\n",
              "  <tbody>\n",
              "    <tr>\n",
              "      <th>0</th>\n",
              "      <td>1.0</td>\n",
              "      <td>1.0</td>\n",
              "      <td>0.000000</td>\n",
              "      <td>1.000000</td>\n",
              "      <td>1.000000</td>\n",
              "    </tr>\n",
              "    <tr>\n",
              "      <th>1</th>\n",
              "      <td>1.0</td>\n",
              "      <td>1.0</td>\n",
              "      <td>0.000000</td>\n",
              "      <td>1.000000</td>\n",
              "      <td>0.000000</td>\n",
              "    </tr>\n",
              "    <tr>\n",
              "      <th>2</th>\n",
              "      <td>1.0</td>\n",
              "      <td>1.0</td>\n",
              "      <td>0.500000</td>\n",
              "      <td>1.000000</td>\n",
              "      <td>1.000000</td>\n",
              "    </tr>\n",
              "    <tr>\n",
              "      <th>3</th>\n",
              "      <td>1.0</td>\n",
              "      <td>1.0</td>\n",
              "      <td>0.333333</td>\n",
              "      <td>1.000000</td>\n",
              "      <td>1.000000</td>\n",
              "    </tr>\n",
              "    <tr>\n",
              "      <th>4</th>\n",
              "      <td>1.0</td>\n",
              "      <td>1.0</td>\n",
              "      <td>0.000000</td>\n",
              "      <td>0.000000</td>\n",
              "      <td>1.000000</td>\n",
              "    </tr>\n",
              "    <tr>\n",
              "      <th>...</th>\n",
              "      <td>...</td>\n",
              "      <td>...</td>\n",
              "      <td>...</td>\n",
              "      <td>...</td>\n",
              "      <td>...</td>\n",
              "    </tr>\n",
              "    <tr>\n",
              "      <th>196051</th>\n",
              "      <td>1.0</td>\n",
              "      <td>1.0</td>\n",
              "      <td>0.250000</td>\n",
              "      <td>0.250000</td>\n",
              "      <td>0.250000</td>\n",
              "    </tr>\n",
              "    <tr>\n",
              "      <th>196052</th>\n",
              "      <td>1.0</td>\n",
              "      <td>1.0</td>\n",
              "      <td>0.000000</td>\n",
              "      <td>0.500000</td>\n",
              "      <td>0.500000</td>\n",
              "    </tr>\n",
              "    <tr>\n",
              "      <th>196053</th>\n",
              "      <td>1.0</td>\n",
              "      <td>1.0</td>\n",
              "      <td>1.000000</td>\n",
              "      <td>1.000000</td>\n",
              "      <td>1.000000</td>\n",
              "    </tr>\n",
              "    <tr>\n",
              "      <th>196054</th>\n",
              "      <td>1.0</td>\n",
              "      <td>1.0</td>\n",
              "      <td>0.000000</td>\n",
              "      <td>0.666667</td>\n",
              "      <td>0.666667</td>\n",
              "    </tr>\n",
              "    <tr>\n",
              "      <th>196055</th>\n",
              "      <td>1.0</td>\n",
              "      <td>1.0</td>\n",
              "      <td>0.500000</td>\n",
              "      <td>1.000000</td>\n",
              "      <td>1.000000</td>\n",
              "    </tr>\n",
              "  </tbody>\n",
              "</table>\n",
              "<p>196056 rows × 5 columns</p>\n",
              "</div>"
            ],
            "text/plain": [
              "        userid  userid    userid    userid    userid\n",
              "0          1.0     1.0  0.000000  1.000000  1.000000\n",
              "1          1.0     1.0  0.000000  1.000000  0.000000\n",
              "2          1.0     1.0  0.500000  1.000000  1.000000\n",
              "3          1.0     1.0  0.333333  1.000000  1.000000\n",
              "4          1.0     1.0  0.000000  0.000000  1.000000\n",
              "...        ...     ...       ...       ...       ...\n",
              "196051     1.0     1.0  0.250000  0.250000  0.250000\n",
              "196052     1.0     1.0  0.000000  0.500000  0.500000\n",
              "196053     1.0     1.0  1.000000  1.000000  1.000000\n",
              "196054     1.0     1.0  0.000000  0.666667  0.666667\n",
              "196055     1.0     1.0  0.500000  1.000000  1.000000\n",
              "\n",
              "[196056 rows x 5 columns]"
            ]
          },
          "metadata": {
            "tags": []
          },
          "execution_count": 159
        }
      ]
    },
    {
      "cell_type": "code",
      "metadata": {
        "id": "LMaWJMuzu8kW",
        "colab_type": "code",
        "outputId": "89d0ebdf-bc55-403b-f219-d9e9fb328632",
        "colab": {
          "base_uri": "https://localhost:8080/",
          "height": 282
        }
      },
      "source": [
        "df_indicator.query(\"goal24 == 0\")[[x + '_field14' for x in indicator_cols]].iloc[:, 3].hist()\n",
        "df_indicator.query(\"goal24 == 1\")[[x + '_field14' for x in indicator_cols]].iloc[:, 3].hist()"
      ],
      "execution_count": 0,
      "outputs": [
        {
          "output_type": "execute_result",
          "data": {
            "text/plain": [
              "<matplotlib.axes._subplots.AxesSubplot at 0x7f35ea69c588>"
            ]
          },
          "metadata": {
            "tags": []
          },
          "execution_count": 78
        },
        {
          "output_type": "display_data",
          "data": {
            "image/png": "[encoded data removed]",
            "text/plain": [
              "<Figure size 432x288 with 1 Axes>"
            ]
          },
          "metadata": {
            "tags": []
          }
        }
      ]
    },
    {
      "cell_type": "code",
      "metadata": {
        "id": "15GhB5Lfu8sH",
        "colab_type": "code",
        "colab": {}
      },
      "source": [
        "def add_IG_agg(df):\n",
        "\n",
        "  temp_df = df.copy()\n",
        "  temp = pd.concat([temp_df.userid.map(temp_df.groupby('userid')[ig].mean()) for ig in indicator_cols], axis=1)\n",
        "  temp.columns = [x + '_user_avg' for x in indicator_cols]\n",
        "\n",
        "  return (temp)\n",
        "\n",
        "df_indicator = pd.concat([df, add_IG_agg(df)], axis=1)\n",
        "\n",
        "# goal21 CV mean score: 0.7464, std: 0.0030\n",
        "# goal22 CV mean score: 0.7416, std: 0.0026\n",
        "# goal23 CV mean score: 0.9025, std: 0.0023\n",
        "# goal24 CV mean score: 0.8103, std: 0.0045\n",
        "# goal25 CV mean score: 0.9391, std: 0.0016"
      ],
      "execution_count": 0,
      "outputs": []
    },
    {
      "cell_type": "code",
      "metadata": {
        "id": "T30XNcvODONI",
        "colab_type": "code",
        "colab": {}
      },
      "source": [
        "def add_IG_agr(df):\n",
        "\n",
        "  temp_df = df.copy()\n",
        "  temp = pd.concat([temp_df.field1.map(temp_df.groupby('field1')[ig].mean()) for ig in indicator_cols], axis=1)\n",
        "  temp.columns = [x + '_field14' for x in indicator_cols]\n",
        "\n",
        "  return (temp)\n",
        "\n",
        "df_indicator = pd.concat([df, add_IG_agr(df)], axis=1)"
      ],
      "execution_count": 0,
      "outputs": []
    },
    {
      "cell_type": "code",
      "metadata": {
        "id": "_qjyin0F6D4z",
        "colab_type": "code",
        "colab": {}
      },
      "source": [
        "def add_IG_mult(df, gr_col=['DOW_DEPART']):\n",
        "\n",
        "  temp_df = df.copy()\n",
        "  temp_df = add_aggregate(temp_df, group_col=gr_col, used_col='userid', func=unique_cnt, suffix='unique_cnt')\n",
        "  div_col = 'userid_unique_cnt'\n",
        "\n",
        "  temp_df = add_aggregate(temp_df, group_col=gr_col, used_col='indicator_goal21', func=sum, suffix='sum')\n",
        "  temp_df['INDICATOR21_AGG_norm'] = temp_df['indicator_goal21_sum']/temp_df[div_col]\n",
        "  temp_df = add_aggregate(temp_df, group_col=gr_col, used_col='indicator_goal22', func=sum, suffix='sum')\n",
        "  temp_df['INDICATOR22_AGG_norm'] = temp_df['indicator_goal22_sum']/temp_df[div_col]\n",
        "  temp_df = add_aggregate(temp_df, group_col=gr_col, used_col='indicator_goal23', func=sum, suffix='sum')\n",
        "  temp_df['INDICATOR23_AGG_norm'] = temp_df['indicator_goal23_sum']/temp_df[div_col]\n",
        "  temp_df = add_aggregate(temp_df, group_col=gr_col, used_col='indicator_goal24', func=sum, suffix='sum')\n",
        "  temp_df['INDICATOR24_AGG_norm'] = temp_df['indicator_goal24_sum']/temp_df[div_col]\n",
        "  temp_df = add_aggregate(temp_df, group_col=gr_col, used_col='indicator_goal25', func=sum, suffix='sum')\n",
        "  temp_df['INDICATOR25_AGG_norm'] = temp_df['indicator_goal25_sum']/temp_df[div_col]\n",
        "\n",
        "  return (temp_df.filter(regex='AGG_norm'))"
      ],
      "execution_count": 0,
      "outputs": []
    },
    {
      "cell_type": "code",
      "metadata": {
        "id": "LS-p3DCg-Ghw",
        "colab_type": "code",
        "colab": {}
      },
      "source": [
        "df_indicator = pd.concat([df, add_IG_mult(df, gr_col=['DOW_DEPART'])], axis=1)"
      ],
      "execution_count": 0,
      "outputs": []
    },
    {
      "cell_type": "code",
      "metadata": {
        "id": "45vIJ5qd9ApD",
        "colab_type": "code",
        "outputId": "cb6b8f3f-57cd-467e-84be-a673b62704aa",
        "colab": {
          "base_uri": "https://localhost:8080/",
          "height": 157
        }
      },
      "source": [
        "df_indicator[:3]"
      ],
      "execution_count": 0,
      "outputs": [
        {
          "output_type": "execute_result",
          "data": {
            "text/html": [
              "<div>\n",
              "<style scoped>\n",
              "    .dataframe tbody tr th:only-of-type {\n",
              "        vertical-align: middle;\n",
              "    }\n",
              "\n",
              "    .dataframe tbody tr th {\n",
              "        vertical-align: top;\n",
              "    }\n",
              "\n",
              "    .dataframe thead th {\n",
              "        text-align: right;\n",
              "    }\n",
              "</style>\n",
              "<table border=\"1\" class=\"dataframe\">\n",
              "  <thead>\n",
              "    <tr style=\"text-align: right;\">\n",
              "      <th></th>\n",
              "      <th>orderid</th>\n",
              "      <th>userid</th>\n",
              "      <th>NDAYS_FROM_LAST</th>\n",
              "      <th>field1</th>\n",
              "      <th>MONTH_BUY</th>\n",
              "      <th>MONTH_DEPART</th>\n",
              "      <th>ORDER_OF_BUY</th>\n",
              "      <th>field5</th>\n",
              "      <th>field6</th>\n",
              "      <th>field7</th>\n",
              "      <th>field8</th>\n",
              "      <th>TICKET_CHILD_1Y</th>\n",
              "      <th>field10</th>\n",
              "      <th>HOUR_OF_BUY</th>\n",
              "      <th>field12</th>\n",
              "      <th>field13</th>\n",
              "      <th>field14</th>\n",
              "      <th>TOTAL_TICKETS</th>\n",
              "      <th>DAYS_BEFORE_DEPART</th>\n",
              "      <th>field17</th>\n",
              "      <th>DOW_BUY</th>\n",
              "      <th>field19</th>\n",
              "      <th>DOW_DEPART</th>\n",
              "      <th>YEAR</th>\n",
              "      <th>field22</th>\n",
              "      <th>HOUR_DEPART</th>\n",
              "      <th>TICKET_ADULT</th>\n",
              "      <th>field25</th>\n",
              "      <th>field26</th>\n",
              "      <th>field27</th>\n",
              "      <th>TICKET_CHILD_4Y</th>\n",
              "      <th>QUARTER</th>\n",
              "      <th>indicator_goal21</th>\n",
              "      <th>indicator_goal22</th>\n",
              "      <th>indicator_goal23</th>\n",
              "      <th>indicator_goal24</th>\n",
              "      <th>indicator_goal25</th>\n",
              "      <th>goal21</th>\n",
              "      <th>goal22</th>\n",
              "      <th>goal23</th>\n",
              "      <th>goal24</th>\n",
              "      <th>goal25</th>\n",
              "      <th>goal1</th>\n",
              "      <th>USR_CNT</th>\n",
              "      <th>INDICATOR_CNT</th>\n",
              "      <th>DIFF_H</th>\n",
              "      <th>DIFF_M</th>\n",
              "      <th>CHILD</th>\n",
              "      <th>f14_id_median</th>\n",
              "      <th>f1_id_median</th>\n",
              "      <th>f1_id_std</th>\n",
              "      <th>f14_id_std</th>\n",
              "      <th>f26_id_median</th>\n",
              "      <th>f27_id_median</th>\n",
              "      <th>f26_id_std</th>\n",
              "      <th>f27_id_std</th>\n",
              "      <th>DAYS_BEFORE_DEPART_id_median</th>\n",
              "      <th>DAYS_BEFORE_DEPART_id_std</th>\n",
              "      <th>NDAYS_FROM_LAST_id_median</th>\n",
              "      <th>NDAYS_FROM_LAST_id_std</th>\n",
              "      <th>ORDER_OF_BUY_id_median</th>\n",
              "      <th>ORDER_OF_BUY_id_std</th>\n",
              "      <th>field13_id_median</th>\n",
              "      <th>field13_id_std</th>\n",
              "      <th>field26_id_median</th>\n",
              "      <th>field26_id_std</th>\n",
              "      <th>field19_id_median</th>\n",
              "      <th>field19_id_std</th>\n",
              "      <th>field1_sem</th>\n",
              "      <th>field14_sem</th>\n",
              "      <th>field26_sem</th>\n",
              "      <th>field27_sem</th>\n",
              "      <th>field12_sem</th>\n",
              "      <th>NDAYS_FROM_LAST_sem</th>\n",
              "      <th>field13_sem</th>\n",
              "      <th>field22_sem</th>\n",
              "      <th>field25_sem</th>\n",
              "      <th>field1_field14</th>\n",
              "      <th>field26_field27</th>\n",
              "      <th>INDICATOR21_AGG_norm</th>\n",
              "      <th>INDICATOR22_AGG_norm</th>\n",
              "      <th>INDICATOR23_AGG_norm</th>\n",
              "      <th>INDICATOR24_AGG_norm</th>\n",
              "      <th>INDICATOR25_AGG_norm</th>\n",
              "    </tr>\n",
              "  </thead>\n",
              "  <tbody>\n",
              "    <tr>\n",
              "      <th>0</th>\n",
              "      <td>0</td>\n",
              "      <td>7458</td>\n",
              "      <td>0</td>\n",
              "      <td>-0.626508</td>\n",
              "      <td>11</td>\n",
              "      <td>12</td>\n",
              "      <td>1</td>\n",
              "      <td>1</td>\n",
              "      <td>0</td>\n",
              "      <td>1</td>\n",
              "      <td>1</td>\n",
              "      <td>0</td>\n",
              "      <td>0</td>\n",
              "      <td>9</td>\n",
              "      <td>5</td>\n",
              "      <td>20</td>\n",
              "      <td>-0.661308</td>\n",
              "      <td>1</td>\n",
              "      <td>4</td>\n",
              "      <td>1</td>\n",
              "      <td>4</td>\n",
              "      <td>1</td>\n",
              "      <td>1</td>\n",
              "      <td>1</td>\n",
              "      <td>1</td>\n",
              "      <td>15</td>\n",
              "      <td>1</td>\n",
              "      <td>1</td>\n",
              "      <td>2</td>\n",
              "      <td>1</td>\n",
              "      <td>0</td>\n",
              "      <td>4</td>\n",
              "      <td>1</td>\n",
              "      <td>1</td>\n",
              "      <td>0</td>\n",
              "      <td>1</td>\n",
              "      <td>1</td>\n",
              "      <td>0</td>\n",
              "      <td>1</td>\n",
              "      <td>0</td>\n",
              "      <td>0</td>\n",
              "      <td>0</td>\n",
              "      <td>0</td>\n",
              "      <td>1</td>\n",
              "      <td>0.799805</td>\n",
              "      <td>6</td>\n",
              "      <td>1</td>\n",
              "      <td>0</td>\n",
              "      <td>-0.661308</td>\n",
              "      <td>-0.626508</td>\n",
              "      <td>-1.000000</td>\n",
              "      <td>-1.000000</td>\n",
              "      <td>2.0</td>\n",
              "      <td>1.0</td>\n",
              "      <td>-1.000000</td>\n",
              "      <td>-1.000000</td>\n",
              "      <td>4.0</td>\n",
              "      <td>-1.000000</td>\n",
              "      <td>0.0</td>\n",
              "      <td>-1.000000</td>\n",
              "      <td>1.0</td>\n",
              "      <td>-1.000000</td>\n",
              "      <td>20.0</td>\n",
              "      <td>-1.000000</td>\n",
              "      <td>2.0</td>\n",
              "      <td>-1.000000</td>\n",
              "      <td>1.0</td>\n",
              "      <td>-1.000000</td>\n",
              "      <td>-1.000000</td>\n",
              "      <td>-1.000000</td>\n",
              "      <td>-1.0</td>\n",
              "      <td>-1.0</td>\n",
              "      <td>-1.0</td>\n",
              "      <td>-1.0</td>\n",
              "      <td>-1.0</td>\n",
              "      <td>-1.0</td>\n",
              "      <td>-1.0</td>\n",
              "      <td>106</td>\n",
              "      <td>20</td>\n",
              "      <td>1.203539</td>\n",
              "      <td>1.183902</td>\n",
              "      <td>0.428010</td>\n",
              "      <td>0.813552</td>\n",
              "      <td>0.788045</td>\n",
              "    </tr>\n",
              "    <tr>\n",
              "      <th>1</th>\n",
              "      <td>1</td>\n",
              "      <td>33232</td>\n",
              "      <td>144</td>\n",
              "      <td>-0.393794</td>\n",
              "      <td>5</td>\n",
              "      <td>7</td>\n",
              "      <td>2</td>\n",
              "      <td>0</td>\n",
              "      <td>0</td>\n",
              "      <td>0</td>\n",
              "      <td>1</td>\n",
              "      <td>0</td>\n",
              "      <td>0</td>\n",
              "      <td>21</td>\n",
              "      <td>125</td>\n",
              "      <td>3</td>\n",
              "      <td>-0.101043</td>\n",
              "      <td>1</td>\n",
              "      <td>57</td>\n",
              "      <td>1</td>\n",
              "      <td>5</td>\n",
              "      <td>1</td>\n",
              "      <td>6</td>\n",
              "      <td>0</td>\n",
              "      <td>121</td>\n",
              "      <td>15</td>\n",
              "      <td>1</td>\n",
              "      <td>41</td>\n",
              "      <td>3</td>\n",
              "      <td>1</td>\n",
              "      <td>0</td>\n",
              "      <td>2</td>\n",
              "      <td>1</td>\n",
              "      <td>1</td>\n",
              "      <td>0</td>\n",
              "      <td>1</td>\n",
              "      <td>0</td>\n",
              "      <td>0</td>\n",
              "      <td>0</td>\n",
              "      <td>0</td>\n",
              "      <td>0</td>\n",
              "      <td>0</td>\n",
              "      <td>0</td>\n",
              "      <td>2</td>\n",
              "      <td>0.600098</td>\n",
              "      <td>6</td>\n",
              "      <td>2</td>\n",
              "      <td>0</td>\n",
              "      <td>-0.171076</td>\n",
              "      <td>-0.393794</td>\n",
              "      <td>0.000000</td>\n",
              "      <td>0.099042</td>\n",
              "      <td>7.5</td>\n",
              "      <td>2.0</td>\n",
              "      <td>6.363961</td>\n",
              "      <td>1.414214</td>\n",
              "      <td>48.5</td>\n",
              "      <td>12.020815</td>\n",
              "      <td>72.0</td>\n",
              "      <td>101.823376</td>\n",
              "      <td>1.5</td>\n",
              "      <td>0.707107</td>\n",
              "      <td>23.5</td>\n",
              "      <td>28.991378</td>\n",
              "      <td>7.5</td>\n",
              "      <td>6.363961</td>\n",
              "      <td>1.5</td>\n",
              "      <td>0.707107</td>\n",
              "      <td>0.000000</td>\n",
              "      <td>0.070033</td>\n",
              "      <td>4.5</td>\n",
              "      <td>1.0</td>\n",
              "      <td>46.0</td>\n",
              "      <td>72.0</td>\n",
              "      <td>20.5</td>\n",
              "      <td>18.5</td>\n",
              "      <td>5.5</td>\n",
              "      <td>69</td>\n",
              "      <td>21</td>\n",
              "      <td>1.191231</td>\n",
              "      <td>1.169733</td>\n",
              "      <td>0.428602</td>\n",
              "      <td>0.763266</td>\n",
              "      <td>0.774865</td>\n",
              "    </tr>\n",
              "    <tr>\n",
              "      <th>2</th>\n",
              "      <td>2</td>\n",
              "      <td>83136</td>\n",
              "      <td>134</td>\n",
              "      <td>-0.548937</td>\n",
              "      <td>2</td>\n",
              "      <td>3</td>\n",
              "      <td>2</td>\n",
              "      <td>0</td>\n",
              "      <td>0</td>\n",
              "      <td>1</td>\n",
              "      <td>1</td>\n",
              "      <td>0</td>\n",
              "      <td>1</td>\n",
              "      <td>7</td>\n",
              "      <td>4</td>\n",
              "      <td>3</td>\n",
              "      <td>-0.661308</td>\n",
              "      <td>1</td>\n",
              "      <td>4</td>\n",
              "      <td>1</td>\n",
              "      <td>2</td>\n",
              "      <td>3</td>\n",
              "      <td>6</td>\n",
              "      <td>0</td>\n",
              "      <td>17</td>\n",
              "      <td>14</td>\n",
              "      <td>1</td>\n",
              "      <td>1</td>\n",
              "      <td>11</td>\n",
              "      <td>7</td>\n",
              "      <td>0</td>\n",
              "      <td>1</td>\n",
              "      <td>1</td>\n",
              "      <td>1</td>\n",
              "      <td>0</td>\n",
              "      <td>1</td>\n",
              "      <td>1</td>\n",
              "      <td>0</td>\n",
              "      <td>0</td>\n",
              "      <td>0</td>\n",
              "      <td>0</td>\n",
              "      <td>0</td>\n",
              "      <td>0</td>\n",
              "      <td>2</td>\n",
              "      <td>0.799805</td>\n",
              "      <td>7</td>\n",
              "      <td>1</td>\n",
              "      <td>0</td>\n",
              "      <td>-0.661308</td>\n",
              "      <td>-0.587722</td>\n",
              "      <td>0.054851</td>\n",
              "      <td>0.000000</td>\n",
              "      <td>11.0</td>\n",
              "      <td>7.0</td>\n",
              "      <td>0.000000</td>\n",
              "      <td>0.000000</td>\n",
              "      <td>3.5</td>\n",
              "      <td>0.707107</td>\n",
              "      <td>67.0</td>\n",
              "      <td>94.752309</td>\n",
              "      <td>1.5</td>\n",
              "      <td>0.707107</td>\n",
              "      <td>4.0</td>\n",
              "      <td>1.414214</td>\n",
              "      <td>11.0</td>\n",
              "      <td>0.000000</td>\n",
              "      <td>2.0</td>\n",
              "      <td>1.414214</td>\n",
              "      <td>0.038786</td>\n",
              "      <td>0.000000</td>\n",
              "      <td>0.0</td>\n",
              "      <td>0.0</td>\n",
              "      <td>5.0</td>\n",
              "      <td>67.0</td>\n",
              "      <td>1.0</td>\n",
              "      <td>8.0</td>\n",
              "      <td>0.0</td>\n",
              "      <td>95</td>\n",
              "      <td>1</td>\n",
              "      <td>1.191231</td>\n",
              "      <td>1.169733</td>\n",
              "      <td>0.428602</td>\n",
              "      <td>0.763266</td>\n",
              "      <td>0.774865</td>\n",
              "    </tr>\n",
              "  </tbody>\n",
              "</table>\n",
              "</div>"
            ],
            "text/plain": [
              "   orderid  userid  NDAYS_FROM_LAST    field1  MONTH_BUY  MONTH_DEPART  \\\n",
              "0        0    7458                0 -0.626508         11            12   \n",
              "1        1   33232              144 -0.393794          5             7   \n",
              "2        2   83136              134 -0.548937          2             3   \n",
              "\n",
              "   ORDER_OF_BUY  field5  field6  field7  field8  TICKET_CHILD_1Y  field10  \\\n",
              "0             1       1       0       1       1                0        0   \n",
              "1             2       0       0       0       1                0        0   \n",
              "2             2       0       0       1       1                0        1   \n",
              "\n",
              "   HOUR_OF_BUY  field12  field13   field14  TOTAL_TICKETS  DAYS_BEFORE_DEPART  \\\n",
              "0            9        5       20 -0.661308              1                   4   \n",
              "1           21      125        3 -0.101043              1                  57   \n",
              "2            7        4        3 -0.661308              1                   4   \n",
              "\n",
              "   field17  DOW_BUY  field19  DOW_DEPART  YEAR  field22  HOUR_DEPART  \\\n",
              "0        1        4        1           1     1        1           15   \n",
              "1        1        5        1           6     0      121           15   \n",
              "2        1        2        3           6     0       17           14   \n",
              "\n",
              "   TICKET_ADULT  field25  field26  field27  TICKET_CHILD_4Y  QUARTER  \\\n",
              "0             1        1        2        1                0        4   \n",
              "1             1       41        3        1                0        2   \n",
              "2             1        1       11        7                0        1   \n",
              "\n",
              "   indicator_goal21  indicator_goal22  indicator_goal23  indicator_goal24  \\\n",
              "0                 1                 1                 0                 1   \n",
              "1                 1                 1                 0                 1   \n",
              "2                 1                 1                 0                 1   \n",
              "\n",
              "   indicator_goal25  goal21  goal22  goal23  goal24  goal25  goal1  USR_CNT  \\\n",
              "0                 1       0       1       0       0       0      0        1   \n",
              "1                 0       0       0       0       0       0      0        2   \n",
              "2                 1       0       0       0       0       0      0        2   \n",
              "\n",
              "   INDICATOR_CNT  DIFF_H  DIFF_M  CHILD  f14_id_median  f1_id_median  \\\n",
              "0       0.799805       6       1      0      -0.661308     -0.626508   \n",
              "1       0.600098       6       2      0      -0.171076     -0.393794   \n",
              "2       0.799805       7       1      0      -0.661308     -0.587722   \n",
              "\n",
              "   f1_id_std  f14_id_std  f26_id_median  f27_id_median  f26_id_std  \\\n",
              "0  -1.000000   -1.000000            2.0            1.0   -1.000000   \n",
              "1   0.000000    0.099042            7.5            2.0    6.363961   \n",
              "2   0.054851    0.000000           11.0            7.0    0.000000   \n",
              "\n",
              "   f27_id_std  DAYS_BEFORE_DEPART_id_median  DAYS_BEFORE_DEPART_id_std  \\\n",
              "0   -1.000000                           4.0                  -1.000000   \n",
              "1    1.414214                          48.5                  12.020815   \n",
              "2    0.000000                           3.5                   0.707107   \n",
              "\n",
              "   NDAYS_FROM_LAST_id_median  NDAYS_FROM_LAST_id_std  ORDER_OF_BUY_id_median  \\\n",
              "0                        0.0               -1.000000                     1.0   \n",
              "1                       72.0              101.823376                     1.5   \n",
              "2                       67.0               94.752309                     1.5   \n",
              "\n",
              "   ORDER_OF_BUY_id_std  field13_id_median  field13_id_std  field26_id_median  \\\n",
              "0            -1.000000               20.0       -1.000000                2.0   \n",
              "1             0.707107               23.5       28.991378                7.5   \n",
              "2             0.707107                4.0        1.414214               11.0   \n",
              "\n",
              "   field26_id_std  field19_id_median  field19_id_std  field1_sem  field14_sem  \\\n",
              "0       -1.000000                1.0       -1.000000   -1.000000    -1.000000   \n",
              "1        6.363961                1.5        0.707107    0.000000     0.070033   \n",
              "2        0.000000                2.0        1.414214    0.038786     0.000000   \n",
              "\n",
              "   field26_sem  field27_sem  field12_sem  NDAYS_FROM_LAST_sem  field13_sem  \\\n",
              "0         -1.0         -1.0         -1.0                 -1.0         -1.0   \n",
              "1          4.5          1.0         46.0                 72.0         20.5   \n",
              "2          0.0          0.0          5.0                 67.0          1.0   \n",
              "\n",
              "   field22_sem  field25_sem  field1_field14  field26_field27  \\\n",
              "0         -1.0         -1.0             106               20   \n",
              "1         18.5          5.5              69               21   \n",
              "2          8.0          0.0              95                1   \n",
              "\n",
              "   INDICATOR21_AGG_norm  INDICATOR22_AGG_norm  INDICATOR23_AGG_norm  \\\n",
              "0              1.203539              1.183902              0.428010   \n",
              "1              1.191231              1.169733              0.428602   \n",
              "2              1.191231              1.169733              0.428602   \n",
              "\n",
              "   INDICATOR24_AGG_norm  INDICATOR25_AGG_norm  \n",
              "0              0.813552              0.788045  \n",
              "1              0.763266              0.774865  \n",
              "2              0.763266              0.774865  "
            ]
          },
          "metadata": {
            "tags": []
          },
          "execution_count": 23
        }
      ]
    },
    {
      "cell_type": "code",
      "metadata": {
        "id": "wwiKNHBYmZNE",
        "colab_type": "code",
        "outputId": "d1f1c442-0ad2-4b99-bc67-472baf6f2e30",
        "colab": {
          "base_uri": "https://localhost:8080/",
          "height": 514
        }
      },
      "source": [
        "pd.crosstab([df.field27, df.indicator_goal22], df.goal22)"
      ],
      "execution_count": 0,
      "outputs": [
        {
          "output_type": "execute_result",
          "data": {
            "text/html": [
              "<div>\n",
              "<style scoped>\n",
              "    .dataframe tbody tr th:only-of-type {\n",
              "        vertical-align: middle;\n",
              "    }\n",
              "\n",
              "    .dataframe tbody tr th {\n",
              "        vertical-align: top;\n",
              "    }\n",
              "\n",
              "    .dataframe thead th {\n",
              "        text-align: right;\n",
              "    }\n",
              "</style>\n",
              "<table border=\"1\" class=\"dataframe\">\n",
              "  <thead>\n",
              "    <tr style=\"text-align: right;\">\n",
              "      <th></th>\n",
              "      <th>goal22</th>\n",
              "      <th>0</th>\n",
              "      <th>1</th>\n",
              "    </tr>\n",
              "    <tr>\n",
              "      <th>field27</th>\n",
              "      <th>indicator_goal22</th>\n",
              "      <th></th>\n",
              "      <th></th>\n",
              "    </tr>\n",
              "  </thead>\n",
              "  <tbody>\n",
              "    <tr>\n",
              "      <th rowspan=\"2\" valign=\"top\">1</th>\n",
              "      <th>0</th>\n",
              "      <td>3264</td>\n",
              "      <td>0</td>\n",
              "    </tr>\n",
              "    <tr>\n",
              "      <th>1</th>\n",
              "      <td>109765</td>\n",
              "      <td>27352</td>\n",
              "    </tr>\n",
              "    <tr>\n",
              "      <th rowspan=\"2\" valign=\"top\">2</th>\n",
              "      <th>0</th>\n",
              "      <td>31</td>\n",
              "      <td>0</td>\n",
              "    </tr>\n",
              "    <tr>\n",
              "      <th>1</th>\n",
              "      <td>1206</td>\n",
              "      <td>365</td>\n",
              "    </tr>\n",
              "    <tr>\n",
              "      <th rowspan=\"2\" valign=\"top\">3</th>\n",
              "      <th>0</th>\n",
              "      <td>417</td>\n",
              "      <td>0</td>\n",
              "    </tr>\n",
              "    <tr>\n",
              "      <th>1</th>\n",
              "      <td>37409</td>\n",
              "      <td>2435</td>\n",
              "    </tr>\n",
              "    <tr>\n",
              "      <th rowspan=\"2\" valign=\"top\">4</th>\n",
              "      <th>0</th>\n",
              "      <td>143</td>\n",
              "      <td>0</td>\n",
              "    </tr>\n",
              "    <tr>\n",
              "      <th>1</th>\n",
              "      <td>1958</td>\n",
              "      <td>803</td>\n",
              "    </tr>\n",
              "    <tr>\n",
              "      <th rowspan=\"2\" valign=\"top\">5</th>\n",
              "      <th>0</th>\n",
              "      <td>12</td>\n",
              "      <td>0</td>\n",
              "    </tr>\n",
              "    <tr>\n",
              "      <th>1</th>\n",
              "      <td>3342</td>\n",
              "      <td>816</td>\n",
              "    </tr>\n",
              "    <tr>\n",
              "      <th rowspan=\"2\" valign=\"top\">6</th>\n",
              "      <th>0</th>\n",
              "      <td>32</td>\n",
              "      <td>0</td>\n",
              "    </tr>\n",
              "    <tr>\n",
              "      <th>1</th>\n",
              "      <td>1196</td>\n",
              "      <td>349</td>\n",
              "    </tr>\n",
              "    <tr>\n",
              "      <th rowspan=\"2\" valign=\"top\">7</th>\n",
              "      <th>0</th>\n",
              "      <td>91</td>\n",
              "      <td>0</td>\n",
              "    </tr>\n",
              "    <tr>\n",
              "      <th>1</th>\n",
              "      <td>4139</td>\n",
              "      <td>931</td>\n",
              "    </tr>\n",
              "  </tbody>\n",
              "</table>\n",
              "</div>"
            ],
            "text/plain": [
              "goal22                         0      1\n",
              "field27 indicator_goal22               \n",
              "1       0                   3264      0\n",
              "        1                 109765  27352\n",
              "2       0                     31      0\n",
              "        1                   1206    365\n",
              "3       0                    417      0\n",
              "        1                  37409   2435\n",
              "4       0                    143      0\n",
              "        1                   1958    803\n",
              "5       0                     12      0\n",
              "        1                   3342    816\n",
              "6       0                     32      0\n",
              "        1                   1196    349\n",
              "7       0                     91      0\n",
              "        1                   4139    931"
            ]
          },
          "metadata": {
            "tags": []
          },
          "execution_count": 139
        }
      ]
    },
    {
      "cell_type": "markdown",
      "metadata": {
        "id": "NgL_3edRgc80",
        "colab_type": "text"
      },
      "source": [
        "## New features"
      ]
    },
    {
      "cell_type": "code",
      "metadata": {
        "ExecuteTime": {
          "end_time": "2019-12-22T15:58:15.908492Z",
          "start_time": "2019-12-22T15:57:39.301684Z"
        },
        "colab_type": "code",
        "id": "Wd4fyWg0S1fq",
        "outputId": "07465b3d-adf1-4a1e-db9d-ba2f682f1e87",
        "colab": {
          "base_uri": "https://localhost:8080/",
          "height": 34
        }
      },
      "source": [
        "# df['WEEKS_BEFORE_DEPART'] = (df.DAYS_BEFORE_DEPART / 7).astype('float32')\n",
        "# df['WEEKEND_DEPART'] = (df.DOW_DEPART >=5).astype('int16')\n",
        "\n",
        "# df['NDAYS_LAST_NEXT'] = (df.NDAYS_FROM_LAST+df.DAYS_BEFORE_DEPART).astype('int32')\n",
        "# df['TODAY']=(df.DAYS_BEFORE_DEPART==0).astype('int32')\n",
        "df['DIFF_H']=abs(df['HOUR_DEPART']-df['HOUR_OF_BUY']).astype('int32')\n",
        "df['DIFF_M']=abs(df['MONTH_DEPART']-df['MONTH_BUY']).astype('int32')\n",
        "# df['NUM_MONTH_DEPART'] = (df.MONTH_DEPART-12) *(df.YEAR==0) + (df.MONTH_DEPART )*(df.YEAR==1)\n",
        "# df['NUM_MONTH_BUY'] = (df.MONTH_BUY-12) *(df.YEAR==0) + (df.MONTH_BUY )*(df.YEAR==1)\n",
        "# df['DIFF_NUM_MONTH'] = abs(df['NUM_MONTH_DEPART'] - df['NUM_MONTH_BUY'])\n",
        "df['CHILD'] = df.TOTAL_TICKETS- df.TICKET_ADULT\n",
        "\n",
        "# df['DIFF_MONTH_DEPART&MONTH_OF_BUY_norm'] = df['DIFF_MONTH_DEPART&MONTH_OF_BUY']#.values / (np.pi ** np.e)\n",
        "# df['DIFF_HOUR_DEPART&HOUR_OF_BUY_norm'] = df['DIFF_HOUR_DEPART&HOUR_OF_BUY']#.values / (np.pi ** np.e)\n",
        "# df['DIFF_NUM_MONTH_norm'] = df['DIFF_NUM_MONTH']#.values / (np.pi ** np.e)\n",
        "\n",
        "\n",
        "# df['INDICATOR_USR_AVG'] = df.userid.map(df.groupby('userid')[indicator_cols].sum().mean(axis=1))\n",
        "# indicators_group = df.groupby('userid')[indicator_cols]\n",
        "# df_sum=indicators_group.sum().copy()\n",
        "# df_indicators_avg=df_sum.div(indicators_group.sum().sum(axis=1), axis=0)\n",
        "# df_indicators_avg.columns = ['INDICATOR21_TOTAL_AVG', 'INDICATOR22_TOTAL_AVG', 'INDICATOR23_TOTAL_AVG', \n",
        "#                              'INDICATOR24_TOTAL_AVG', 'INDICATOR25_TOTAL_AVG']\n",
        "# df = df.merge(df_indicators_avg, how='left', on='userid')\n",
        "\n",
        "# make_conj(df, 'field1', 'field14')\n",
        "# make_conj(df, 'field26', 'field27')\n",
        "\n",
        "# del indicators_group, df_sum, df_indicators_avg\n",
        "gc.collect()\n",
        "\n",
        "# \"MONTH_DEPART\", \"field12\", percentiles, mean, median and so forth\n",
        "# 'MONTH_BUY', \"DAYS_BEFORE_DEPART\" percentiles, mean median...\n",
        "# 'MONTH_BUY', \"field13\", 'field22', 'field25', 'field26', 'NDAYS_FROM_LAST', 'USR_CNT' percentiles, mean median...\n",
        "# сравнение статистик мес к мес за 2 года\n",
        "# field5==0 YEAR==0 нет goals == 1 -> conj field5 & YEAR, field26&field27\n",
        "# 'field5', \"TICKET_ADULT\" statistics\n",
        "# DOW_BUY: 'field12' 13 22, field25!, NDAYS_LAST_NEXT\n",
        "# HOUR_DEPART: DAYS_BEFORE_DEPART, field12!, 13, 14, field17 field22 field25! 26 NDAYS_FROM_LAST NDAYS_LAST_NEXT\n",
        "# field27: NDAYS_LAST_NEXT, NDAYS_FROM_LAST, field25! 22 field13 field12 DAYS_BEFORE_DEPART"
      ],
      "execution_count": 0,
      "outputs": [
        {
          "output_type": "execute_result",
          "data": {
            "text/plain": [
              "8"
            ]
          },
          "metadata": {
            "tags": []
          },
          "execution_count": 10
        }
      ]
    },
    {
      "cell_type": "code",
      "metadata": {
        "colab_type": "code",
        "id": "p2wdHU0e-hfU",
        "colab": {}
      },
      "source": [
        "df['f14_id_median'] = df.userid.map(df.groupby('userid')['field14'].median().fillna(-1))\n",
        "df['f1_id_median'] = df.userid.map(df.groupby('userid')['field1'].median().fillna(-1))\n",
        "\n",
        "df['f1_id_std'] = df.userid.map(df.groupby('userid')['field1'].std().fillna(-1))\n",
        "df['f14_id_std'] = df.userid.map(df.groupby('userid')['field14'].std().fillna(-1))\n",
        "\n",
        "df['f26_id_median'] = df.userid.map(df.groupby('userid')['field26'].median().fillna(-1))\n",
        "df['f27_id_median'] = df.userid.map(df.groupby('userid')['field27'].median().fillna(-1))\n",
        "\n",
        "df['f26_id_std'] = df.userid.map(df.groupby('userid')['field26'].std().fillna(-1))\n",
        "df['f27_id_std'] = df.userid.map(df.groupby('userid')['field27'].std().fillna(-1))"
      ],
      "execution_count": 0,
      "outputs": []
    },
    {
      "cell_type": "code",
      "metadata": {
        "id": "JssNL3Pg0j1s",
        "colab_type": "code",
        "colab": {}
      },
      "source": [
        "df = add_sem(df, group_col='userid', used_col=['field1'], prefix='f1')\n",
        "df = add_sem(df, group_col='userid', used_col=['field14'], prefix='f14')\n",
        "\n",
        "df = add_sem(df, group_col='userid', used_col=['field26'], prefix='f26')\n",
        "df = add_sem(df, group_col='userid', used_col=['field27'], prefix='f27')"
      ],
      "execution_count": 0,
      "outputs": []
    },
    {
      "cell_type": "code",
      "metadata": {
        "id": "iaL71Ef26zSE",
        "colab_type": "code",
        "colab": {}
      },
      "source": [
        "make_conj(df, 'field1', 'field14')\n",
        "make_conj(df, 'field26', 'field27')"
      ],
      "execution_count": 0,
      "outputs": []
    },
    {
      "cell_type": "code",
      "metadata": {
        "id": "uTY6aBTU-NYN",
        "colab_type": "code",
        "outputId": "22bab148-9727-4c19-dd8e-3183640eb273",
        "colab": {
          "base_uri": "https://localhost:8080/",
          "height": 34
        }
      },
      "source": [
        "from collections import Counter\n",
        "# c = Counter\n",
        "# c(df.query(\"userid == 113896\").HOUR_DEPART).most_common()[0][0]"
      ],
      "execution_count": 0,
      "outputs": [
        {
          "output_type": "execute_result",
          "data": {
            "text/plain": [
              "23"
            ]
          },
          "metadata": {
            "tags": []
          },
          "execution_count": 172
        }
      ]
    },
    {
      "cell_type": "code",
      "metadata": {
        "id": "-XAHy8c6_7yw",
        "colab_type": "code",
        "colab": {}
      },
      "source": [
        "# grouped_mult_id = df.query(\"USR_CNT > 1\").groupby('userid')\n",
        "# funct = lambda x: Counter(x).most_common()[0][0]\n",
        "\n",
        "# df['freq_HOB'] = df.userid.map(grouped_mult_id.HOUR_OF_BUY.apply(funct).fillna(-1)) # CV mean score: 0.6893, std: 0.0046."
      ],
      "execution_count": 0,
      "outputs": []
    },
    {
      "cell_type": "code",
      "metadata": {
        "id": "25oP79ezCP_o",
        "colab_type": "code",
        "colab": {}
      },
      "source": [
        "# df.freq_HOB.fillna(-1, inplace=True)"
      ],
      "execution_count": 0,
      "outputs": []
    },
    {
      "cell_type": "code",
      "metadata": {
        "id": "EpG7atNZDta2",
        "colab_type": "code",
        "colab": {}
      },
      "source": [
        "# df['freq_HD'] = df.userid.map(grouped_mult_id.HOUR_DEPART.apply(funct)).fillna(-1) # CV mean score: 0.6893, std: 0.0048"
      ],
      "execution_count": 0,
      "outputs": []
    },
    {
      "cell_type": "code",
      "metadata": {
        "id": "PdNzv0ghFWiv",
        "colab_type": "code",
        "colab": {}
      },
      "source": [
        "# df['f12_id_median'] = df.userid.map(df.groupby('userid')['field12'].median().fillna(-1))\n",
        "# df['f12_id_std'] = df.userid.map(df.groupby('userid')['field12'].std().fillna(-1)) # CV mean score: 0.6893, std: 0.0052"
      ],
      "execution_count": 0,
      "outputs": []
    },
    {
      "cell_type": "code",
      "metadata": {
        "id": "JjUdcFNqIole",
        "colab_type": "code",
        "colab": {}
      },
      "source": [
        "df = add_sem(df, group_col='userid', used_col=['field12'], prefix='f12') # CV mean score: 0.6901, std: 0.0050"
      ],
      "execution_count": 0,
      "outputs": []
    },
    {
      "cell_type": "code",
      "metadata": {
        "id": "sY7kfNKMKZF0",
        "colab_type": "code",
        "colab": {}
      },
      "source": [
        "df['DAYS_BEFORE_DEPART_id_median'] = df.userid.map(df.groupby('userid')['DAYS_BEFORE_DEPART'].median().fillna(-1))\n",
        "df['DAYS_BEFORE_DEPART_id_std'] = df.userid.map(df.groupby('userid')['DAYS_BEFORE_DEPART'].std().fillna(-1))\n",
        "\n",
        "# CV mean score: 0.6930, std: 0.0051\n",
        "# CV mean score: 0.6933, std: 0.0046 without freq_HOB, freq_HD"
      ],
      "execution_count": 0,
      "outputs": []
    },
    {
      "cell_type": "code",
      "metadata": {
        "id": "McY65t9W2szg",
        "colab_type": "code",
        "colab": {}
      },
      "source": [
        "# df = add_sem(df, group_col='userid', used_col=['DAYS_BEFORE_DEPART'], prefix='DAYS_BEFORE_DEPART')\n",
        "# df.drop(columns='DAYS_BEFORE_DEPART_sem_DAYS_BEFORE_DEPART', axis=1, inplace=True)"
      ],
      "execution_count": 0,
      "outputs": []
    },
    {
      "cell_type": "code",
      "metadata": {
        "id": "hi8K6pU45cpW",
        "colab_type": "code",
        "colab": {}
      },
      "source": [
        "df = add_sem(df, group_col='userid', used_col=['NDAYS_FROM_LAST'], prefix='_') # CV mean score: 0.6947, std: 0.0039"
      ],
      "execution_count": 0,
      "outputs": []
    },
    {
      "cell_type": "code",
      "metadata": {
        "id": "2N9nvaly7LS8",
        "colab_type": "code",
        "colab": {}
      },
      "source": [
        "df['NDAYS_FROM_LAST_id_median'] = df.userid.map(df.groupby('userid')['NDAYS_FROM_LAST'].median().fillna(-1))\n",
        "df['NDAYS_FROM_LAST_id_std'] = df.userid.map(df.groupby('userid')['NDAYS_FROM_LAST'].std().fillna(-1))\n",
        "# CV mean score: 0.6977, std: 0.0049"
      ],
      "execution_count": 0,
      "outputs": []
    },
    {
      "cell_type": "code",
      "metadata": {
        "id": "Kuun3X8W9P7n",
        "colab_type": "code",
        "colab": {}
      },
      "source": [
        "# df = add_sem(df, group_col='userid', used_col=['ORDER_OF_BUY'], prefix='_') # CV mean score: 0.6978, std: 0.0045\n",
        "# df.drop(columns='ORDER_OF_BUY_sem__', axis=1, inplace=True)"
      ],
      "execution_count": 0,
      "outputs": []
    },
    {
      "cell_type": "code",
      "metadata": {
        "id": "6mQIEKho_FJa",
        "colab_type": "code",
        "colab": {}
      },
      "source": [
        "df['ORDER_OF_BUY_id_median'] = df.userid.map(df.groupby('userid')['ORDER_OF_BUY'].median().fillna(-1))\n",
        "df['ORDER_OF_BUY_id_std'] = df.userid.map(df.groupby('userid')['ORDER_OF_BUY'].std().fillna(-1))\n",
        "\n",
        "# CV mean score: 0.6977, std: 0.0049"
      ],
      "execution_count": 0,
      "outputs": []
    },
    {
      "cell_type": "code",
      "metadata": {
        "id": "5kb-Q8wgAz_1",
        "colab_type": "code",
        "colab": {}
      },
      "source": [
        "df = add_sem(df, group_col='userid', used_col=['field13'], prefix='_') # CV mean score: 0.7001, std: 0.0054"
      ],
      "execution_count": 0,
      "outputs": []
    },
    {
      "cell_type": "code",
      "metadata": {
        "id": "kIJo3xbXCziE",
        "colab_type": "code",
        "colab": {}
      },
      "source": [
        "df['field13_id_median'] = df.userid.map(df.groupby('userid')['field13'].median().fillna(-1))\n",
        "df['field13_id_std'] = df.userid.map(df.groupby('userid')['field13'].std().fillna(-1))\n",
        "\n",
        "# CV mean score: 0.7008, std: 0.0053"
      ],
      "execution_count": 0,
      "outputs": []
    },
    {
      "cell_type": "code",
      "metadata": {
        "id": "i5TOleb_EgXr",
        "colab_type": "code",
        "colab": {}
      },
      "source": [
        "# df = add_sem(df, group_col='userid', used_col=['field17'], prefix='_') # CV mean score: 0.7006, std: 0.0050\n",
        "# df.drop(columns='field17_sem__', axis=1, inplace=True)"
      ],
      "execution_count": 0,
      "outputs": []
    },
    {
      "cell_type": "code",
      "metadata": {
        "id": "axCOYzUkGQRn",
        "colab_type": "code",
        "colab": {}
      },
      "source": [
        "# df['field17_id_median'] = df.userid.map(df.groupby('userid')['field17'].median().fillna(-1))\n",
        "# df['field17_id_std'] = df.userid.map(df.groupby('userid')['field17'].std().fillna(-1))\n",
        "# CV mean score: 0.6997, std: 0.0045\n",
        "# df.drop(columns='field17_id_median', axis=1, inplace=True)\n",
        "# df.drop(columns='field17_id_std', axis=1, inplace=True)"
      ],
      "execution_count": 0,
      "outputs": []
    },
    {
      "cell_type": "code",
      "metadata": {
        "id": "qqfnvrR5IKjW",
        "colab_type": "code",
        "colab": {}
      },
      "source": [
        "df = add_sem(df, group_col='userid', used_col=['field22'], prefix='_') # CV mean score: 0.7010, std: 0.0050"
      ],
      "execution_count": 0,
      "outputs": []
    },
    {
      "cell_type": "code",
      "metadata": {
        "id": "a_jaw5Y6JofJ",
        "colab_type": "code",
        "colab": {}
      },
      "source": [
        "# df['field22_id_median'] = df.userid.map(df.groupby('userid')['field22'].median().fillna(-1))\n",
        "# df['field22_id_std'] = df.userid.map(df.groupby('userid')['field22'].std().fillna(-1))\n",
        "\n",
        "# CV mean score: 0.7007, std: 0.0044\n",
        "# df.drop(columns=['field22_id_median', 'field22_id_std'], axis=1, inplace=True)"
      ],
      "execution_count": 0,
      "outputs": []
    },
    {
      "cell_type": "code",
      "metadata": {
        "id": "kKZDPhobL-dV",
        "colab_type": "code",
        "colab": {}
      },
      "source": [
        "df = add_sem(df, group_col='userid', used_col=['field25'], prefix='_') # CV mean score: 0.7014, std: 0.0044"
      ],
      "execution_count": 0,
      "outputs": []
    },
    {
      "cell_type": "code",
      "metadata": {
        "id": "dRdVfaZUPtYk",
        "colab_type": "code",
        "colab": {}
      },
      "source": [
        "# df['field25_id_median'] = df.userid.map(df.groupby('userid')['field25'].median().fillna(-1))\n",
        "# df['field25_id_std'] = df.userid.map(df.groupby('userid')['field25'].std().fillna(-1))\n",
        "# CV mean score: 0.7009, std: 0.0043\n",
        "# df.drop(columns=['field25_id_median', 'field25_id_std'], axis=1, inplace=True)"
      ],
      "execution_count": 0,
      "outputs": []
    },
    {
      "cell_type": "code",
      "metadata": {
        "id": "-mP-RDY5Rjja",
        "colab_type": "code",
        "colab": {}
      },
      "source": [
        "# df = add_sem(df, group_col='userid', used_col=['field26'], prefix='_') # CV mean score: 0.7002, std: 0.0041\n",
        "# df.drop(columns=['field26_sem__'], axis=1, inplace=True)"
      ],
      "execution_count": 0,
      "outputs": []
    },
    {
      "cell_type": "code",
      "metadata": {
        "id": "Hne55RR7Ter3",
        "colab_type": "code",
        "colab": {}
      },
      "source": [
        "df['field26_id_median'] = df.userid.map(df.groupby('userid')['field26'].median().fillna(-1))\n",
        "df['field26_id_std'] = df.userid.map(df.groupby('userid')['field26'].std().fillna(-1))\n",
        "# CV mean score: 0.7007, std: 0.0038"
      ],
      "execution_count": 0,
      "outputs": []
    },
    {
      "cell_type": "code",
      "metadata": {
        "id": "StQHDuecas9m",
        "colab_type": "code",
        "colab": {}
      },
      "source": [
        "# df = add_sem(df, group_col='userid', used_col=['field19'], prefix='_') # CV mean score: 0.7003, std: 0.0049\n",
        "# df.drop(columns=['field19_sem__'], axis=1, inplace=True)"
      ],
      "execution_count": 0,
      "outputs": []
    },
    {
      "cell_type": "code",
      "metadata": {
        "id": "QwfaYqLbcjjE",
        "colab_type": "code",
        "colab": {}
      },
      "source": [
        "df['field19_id_median'] = df.userid.map(df.groupby('userid')['field19'].median().fillna(-1))\n",
        "df['field19_id_std'] = df.userid.map(df.groupby('userid')['field19'].std().fillna(-1))\n",
        "# CV mean score: 0.7016, std: 0.0049"
      ],
      "execution_count": 0,
      "outputs": []
    },
    {
      "cell_type": "code",
      "metadata": {
        "id": "UcFwAtEFO0kL",
        "colab_type": "code",
        "outputId": "8f180459-afa5-48b9-9d8d-b94c71f90190",
        "colab": {
          "base_uri": "https://localhost:8080/",
          "height": 162
        }
      },
      "source": [
        "df[:3]"
      ],
      "execution_count": 0,
      "outputs": [
        {
          "output_type": "execute_result",
          "data": {
            "text/html": [
              "<div>\n",
              "<style scoped>\n",
              "    .dataframe tbody tr th:only-of-type {\n",
              "        vertical-align: middle;\n",
              "    }\n",
              "\n",
              "    .dataframe tbody tr th {\n",
              "        vertical-align: top;\n",
              "    }\n",
              "\n",
              "    .dataframe thead th {\n",
              "        text-align: right;\n",
              "    }\n",
              "</style>\n",
              "<table border=\"1\" class=\"dataframe\">\n",
              "  <thead>\n",
              "    <tr style=\"text-align: right;\">\n",
              "      <th></th>\n",
              "      <th>orderid</th>\n",
              "      <th>userid</th>\n",
              "      <th>NDAYS_FROM_LAST</th>\n",
              "      <th>field1</th>\n",
              "      <th>MONTH_BUY</th>\n",
              "      <th>MONTH_DEPART</th>\n",
              "      <th>ORDER_OF_BUY</th>\n",
              "      <th>field5</th>\n",
              "      <th>field6</th>\n",
              "      <th>field7</th>\n",
              "      <th>field8</th>\n",
              "      <th>TICKET_CHILD_1Y</th>\n",
              "      <th>field10</th>\n",
              "      <th>HOUR_OF_BUY</th>\n",
              "      <th>field12</th>\n",
              "      <th>field13</th>\n",
              "      <th>field14</th>\n",
              "      <th>TOTAL_TICKETS</th>\n",
              "      <th>DAYS_BEFORE_DEPART</th>\n",
              "      <th>field17</th>\n",
              "      <th>DOW_BUY</th>\n",
              "      <th>field19</th>\n",
              "      <th>DOW_DEPART</th>\n",
              "      <th>YEAR</th>\n",
              "      <th>field22</th>\n",
              "      <th>HOUR_DEPART</th>\n",
              "      <th>TICKET_ADULT</th>\n",
              "      <th>field25</th>\n",
              "      <th>field26</th>\n",
              "      <th>field27</th>\n",
              "      <th>TICKET_CHILD_4Y</th>\n",
              "      <th>QUARTER</th>\n",
              "      <th>indicator_goal21</th>\n",
              "      <th>indicator_goal22</th>\n",
              "      <th>indicator_goal23</th>\n",
              "      <th>indicator_goal24</th>\n",
              "      <th>indicator_goal25</th>\n",
              "      <th>goal21</th>\n",
              "      <th>goal22</th>\n",
              "      <th>goal23</th>\n",
              "      <th>goal24</th>\n",
              "      <th>goal25</th>\n",
              "      <th>goal1</th>\n",
              "      <th>USR_CNT</th>\n",
              "      <th>INDICATOR_CNT</th>\n",
              "      <th>DIFF_H</th>\n",
              "      <th>DIFF_M</th>\n",
              "      <th>CHILD</th>\n",
              "      <th>f14_id_median</th>\n",
              "      <th>f1_id_median</th>\n",
              "      <th>f1_id_std</th>\n",
              "      <th>f14_id_std</th>\n",
              "      <th>f26_id_median</th>\n",
              "      <th>f27_id_median</th>\n",
              "      <th>f26_id_std</th>\n",
              "      <th>f27_id_std</th>\n",
              "      <th>field1_sem_f1</th>\n",
              "      <th>field14_sem_f14</th>\n",
              "      <th>field26_sem_f26</th>\n",
              "      <th>field27_sem_f27</th>\n",
              "      <th>field1_field14</th>\n",
              "      <th>field26_field27</th>\n",
              "      <th>field12_sem_f12</th>\n",
              "      <th>DAYS_BEFORE_DEPART_id_median</th>\n",
              "      <th>DAYS_BEFORE_DEPART_id_std</th>\n",
              "      <th>NDAYS_FROM_LAST_sem__</th>\n",
              "      <th>NDAYS_FROM_LAST_id_median</th>\n",
              "      <th>NDAYS_FROM_LAST_id_std</th>\n",
              "      <th>ORDER_OF_BUY_id_median</th>\n",
              "      <th>ORDER_OF_BUY_id_std</th>\n",
              "      <th>field13_sem__</th>\n",
              "      <th>field13_id_median</th>\n",
              "      <th>field13_id_std</th>\n",
              "      <th>field19_id_median</th>\n",
              "      <th>field19_id_std</th>\n",
              "      <th>field22_sem__</th>\n",
              "      <th>field26_id_median</th>\n",
              "      <th>field26_id_std</th>\n",
              "      <th>field25_sem__</th>\n",
              "    </tr>\n",
              "  </thead>\n",
              "  <tbody>\n",
              "    <tr>\n",
              "      <th>0</th>\n",
              "      <td>0</td>\n",
              "      <td>7458</td>\n",
              "      <td>0</td>\n",
              "      <td>-0.626508</td>\n",
              "      <td>11</td>\n",
              "      <td>12</td>\n",
              "      <td>1</td>\n",
              "      <td>1</td>\n",
              "      <td>0</td>\n",
              "      <td>1</td>\n",
              "      <td>1</td>\n",
              "      <td>0</td>\n",
              "      <td>0</td>\n",
              "      <td>9</td>\n",
              "      <td>5</td>\n",
              "      <td>20</td>\n",
              "      <td>-0.661308</td>\n",
              "      <td>1</td>\n",
              "      <td>4</td>\n",
              "      <td>1</td>\n",
              "      <td>4</td>\n",
              "      <td>1</td>\n",
              "      <td>1</td>\n",
              "      <td>1</td>\n",
              "      <td>1</td>\n",
              "      <td>15</td>\n",
              "      <td>1</td>\n",
              "      <td>1</td>\n",
              "      <td>2</td>\n",
              "      <td>1</td>\n",
              "      <td>0</td>\n",
              "      <td>4</td>\n",
              "      <td>1</td>\n",
              "      <td>1</td>\n",
              "      <td>0</td>\n",
              "      <td>1</td>\n",
              "      <td>1</td>\n",
              "      <td>0</td>\n",
              "      <td>1</td>\n",
              "      <td>0</td>\n",
              "      <td>0</td>\n",
              "      <td>0</td>\n",
              "      <td>0</td>\n",
              "      <td>1</td>\n",
              "      <td>0.799805</td>\n",
              "      <td>6</td>\n",
              "      <td>1</td>\n",
              "      <td>0</td>\n",
              "      <td>-0.661308</td>\n",
              "      <td>-0.626508</td>\n",
              "      <td>-1.000000</td>\n",
              "      <td>-1.000000</td>\n",
              "      <td>2.0</td>\n",
              "      <td>1.0</td>\n",
              "      <td>-1.000000</td>\n",
              "      <td>-1.000000</td>\n",
              "      <td>-1.000000</td>\n",
              "      <td>-1.000000</td>\n",
              "      <td>-1.0</td>\n",
              "      <td>-1.0</td>\n",
              "      <td>106</td>\n",
              "      <td>20</td>\n",
              "      <td>-1.0</td>\n",
              "      <td>4.0</td>\n",
              "      <td>-1.000000</td>\n",
              "      <td>-1.0</td>\n",
              "      <td>0.0</td>\n",
              "      <td>-1.000000</td>\n",
              "      <td>1.0</td>\n",
              "      <td>-1.000000</td>\n",
              "      <td>-1.0</td>\n",
              "      <td>20.0</td>\n",
              "      <td>-1.000000</td>\n",
              "      <td>1.0</td>\n",
              "      <td>-1.000000</td>\n",
              "      <td>-1.0</td>\n",
              "      <td>2.0</td>\n",
              "      <td>-1.000000</td>\n",
              "      <td>-1.0</td>\n",
              "    </tr>\n",
              "    <tr>\n",
              "      <th>1</th>\n",
              "      <td>1</td>\n",
              "      <td>33232</td>\n",
              "      <td>144</td>\n",
              "      <td>-0.393794</td>\n",
              "      <td>5</td>\n",
              "      <td>7</td>\n",
              "      <td>2</td>\n",
              "      <td>0</td>\n",
              "      <td>0</td>\n",
              "      <td>0</td>\n",
              "      <td>1</td>\n",
              "      <td>0</td>\n",
              "      <td>0</td>\n",
              "      <td>21</td>\n",
              "      <td>125</td>\n",
              "      <td>3</td>\n",
              "      <td>-0.101043</td>\n",
              "      <td>1</td>\n",
              "      <td>57</td>\n",
              "      <td>1</td>\n",
              "      <td>5</td>\n",
              "      <td>1</td>\n",
              "      <td>6</td>\n",
              "      <td>0</td>\n",
              "      <td>121</td>\n",
              "      <td>15</td>\n",
              "      <td>1</td>\n",
              "      <td>41</td>\n",
              "      <td>3</td>\n",
              "      <td>1</td>\n",
              "      <td>0</td>\n",
              "      <td>2</td>\n",
              "      <td>1</td>\n",
              "      <td>1</td>\n",
              "      <td>0</td>\n",
              "      <td>1</td>\n",
              "      <td>0</td>\n",
              "      <td>0</td>\n",
              "      <td>0</td>\n",
              "      <td>0</td>\n",
              "      <td>0</td>\n",
              "      <td>0</td>\n",
              "      <td>0</td>\n",
              "      <td>2</td>\n",
              "      <td>0.600098</td>\n",
              "      <td>6</td>\n",
              "      <td>2</td>\n",
              "      <td>0</td>\n",
              "      <td>-0.171076</td>\n",
              "      <td>-0.393794</td>\n",
              "      <td>0.000000</td>\n",
              "      <td>0.099042</td>\n",
              "      <td>7.5</td>\n",
              "      <td>2.0</td>\n",
              "      <td>6.363961</td>\n",
              "      <td>1.414214</td>\n",
              "      <td>0.000000</td>\n",
              "      <td>0.070033</td>\n",
              "      <td>4.5</td>\n",
              "      <td>1.0</td>\n",
              "      <td>69</td>\n",
              "      <td>21</td>\n",
              "      <td>46.0</td>\n",
              "      <td>48.5</td>\n",
              "      <td>12.020815</td>\n",
              "      <td>72.0</td>\n",
              "      <td>72.0</td>\n",
              "      <td>101.823376</td>\n",
              "      <td>1.5</td>\n",
              "      <td>0.707107</td>\n",
              "      <td>20.5</td>\n",
              "      <td>23.5</td>\n",
              "      <td>28.991378</td>\n",
              "      <td>1.5</td>\n",
              "      <td>0.707107</td>\n",
              "      <td>18.5</td>\n",
              "      <td>7.5</td>\n",
              "      <td>6.363961</td>\n",
              "      <td>5.5</td>\n",
              "    </tr>\n",
              "    <tr>\n",
              "      <th>2</th>\n",
              "      <td>2</td>\n",
              "      <td>83136</td>\n",
              "      <td>134</td>\n",
              "      <td>-0.548937</td>\n",
              "      <td>2</td>\n",
              "      <td>3</td>\n",
              "      <td>2</td>\n",
              "      <td>0</td>\n",
              "      <td>0</td>\n",
              "      <td>1</td>\n",
              "      <td>1</td>\n",
              "      <td>0</td>\n",
              "      <td>1</td>\n",
              "      <td>7</td>\n",
              "      <td>4</td>\n",
              "      <td>3</td>\n",
              "      <td>-0.661308</td>\n",
              "      <td>1</td>\n",
              "      <td>4</td>\n",
              "      <td>1</td>\n",
              "      <td>2</td>\n",
              "      <td>3</td>\n",
              "      <td>6</td>\n",
              "      <td>0</td>\n",
              "      <td>17</td>\n",
              "      <td>14</td>\n",
              "      <td>1</td>\n",
              "      <td>1</td>\n",
              "      <td>11</td>\n",
              "      <td>7</td>\n",
              "      <td>0</td>\n",
              "      <td>1</td>\n",
              "      <td>1</td>\n",
              "      <td>1</td>\n",
              "      <td>0</td>\n",
              "      <td>1</td>\n",
              "      <td>1</td>\n",
              "      <td>0</td>\n",
              "      <td>0</td>\n",
              "      <td>0</td>\n",
              "      <td>0</td>\n",
              "      <td>0</td>\n",
              "      <td>0</td>\n",
              "      <td>2</td>\n",
              "      <td>0.799805</td>\n",
              "      <td>7</td>\n",
              "      <td>1</td>\n",
              "      <td>0</td>\n",
              "      <td>-0.661308</td>\n",
              "      <td>-0.587722</td>\n",
              "      <td>0.054851</td>\n",
              "      <td>0.000000</td>\n",
              "      <td>11.0</td>\n",
              "      <td>7.0</td>\n",
              "      <td>0.000000</td>\n",
              "      <td>0.000000</td>\n",
              "      <td>0.038786</td>\n",
              "      <td>0.000000</td>\n",
              "      <td>0.0</td>\n",
              "      <td>0.0</td>\n",
              "      <td>95</td>\n",
              "      <td>1</td>\n",
              "      <td>5.0</td>\n",
              "      <td>3.5</td>\n",
              "      <td>0.707107</td>\n",
              "      <td>67.0</td>\n",
              "      <td>67.0</td>\n",
              "      <td>94.752309</td>\n",
              "      <td>1.5</td>\n",
              "      <td>0.707107</td>\n",
              "      <td>1.0</td>\n",
              "      <td>4.0</td>\n",
              "      <td>1.414214</td>\n",
              "      <td>2.0</td>\n",
              "      <td>1.414214</td>\n",
              "      <td>8.0</td>\n",
              "      <td>11.0</td>\n",
              "      <td>0.000000</td>\n",
              "      <td>0.0</td>\n",
              "    </tr>\n",
              "  </tbody>\n",
              "</table>\n",
              "</div>"
            ],
            "text/plain": [
              "   orderid  userid  NDAYS_FROM_LAST    field1  MONTH_BUY  MONTH_DEPART  \\\n",
              "0        0    7458                0 -0.626508         11            12   \n",
              "1        1   33232              144 -0.393794          5             7   \n",
              "2        2   83136              134 -0.548937          2             3   \n",
              "\n",
              "   ORDER_OF_BUY  field5  field6  field7  field8  TICKET_CHILD_1Y  field10  \\\n",
              "0             1       1       0       1       1                0        0   \n",
              "1             2       0       0       0       1                0        0   \n",
              "2             2       0       0       1       1                0        1   \n",
              "\n",
              "   HOUR_OF_BUY  field12  field13   field14  TOTAL_TICKETS  DAYS_BEFORE_DEPART  \\\n",
              "0            9        5       20 -0.661308              1                   4   \n",
              "1           21      125        3 -0.101043              1                  57   \n",
              "2            7        4        3 -0.661308              1                   4   \n",
              "\n",
              "   field17  DOW_BUY  field19  DOW_DEPART  YEAR  field22  HOUR_DEPART  \\\n",
              "0        1        4        1           1     1        1           15   \n",
              "1        1        5        1           6     0      121           15   \n",
              "2        1        2        3           6     0       17           14   \n",
              "\n",
              "   TICKET_ADULT  field25  field26  field27  TICKET_CHILD_4Y  QUARTER  \\\n",
              "0             1        1        2        1                0        4   \n",
              "1             1       41        3        1                0        2   \n",
              "2             1        1       11        7                0        1   \n",
              "\n",
              "   indicator_goal21  indicator_goal22  indicator_goal23  indicator_goal24  \\\n",
              "0                 1                 1                 0                 1   \n",
              "1                 1                 1                 0                 1   \n",
              "2                 1                 1                 0                 1   \n",
              "\n",
              "   indicator_goal25  goal21  goal22  goal23  goal24  goal25  goal1  USR_CNT  \\\n",
              "0                 1       0       1       0       0       0      0        1   \n",
              "1                 0       0       0       0       0       0      0        2   \n",
              "2                 1       0       0       0       0       0      0        2   \n",
              "\n",
              "   INDICATOR_CNT  DIFF_H  DIFF_M  CHILD  f14_id_median  f1_id_median  \\\n",
              "0       0.799805       6       1      0      -0.661308     -0.626508   \n",
              "1       0.600098       6       2      0      -0.171076     -0.393794   \n",
              "2       0.799805       7       1      0      -0.661308     -0.587722   \n",
              "\n",
              "   f1_id_std  f14_id_std  f26_id_median  f27_id_median  f26_id_std  \\\n",
              "0  -1.000000   -1.000000            2.0            1.0   -1.000000   \n",
              "1   0.000000    0.099042            7.5            2.0    6.363961   \n",
              "2   0.054851    0.000000           11.0            7.0    0.000000   \n",
              "\n",
              "   f27_id_std  field1_sem_f1  field14_sem_f14  field26_sem_f26  \\\n",
              "0   -1.000000      -1.000000        -1.000000             -1.0   \n",
              "1    1.414214       0.000000         0.070033              4.5   \n",
              "2    0.000000       0.038786         0.000000              0.0   \n",
              "\n",
              "   field27_sem_f27  field1_field14  field26_field27  field12_sem_f12  \\\n",
              "0             -1.0             106               20             -1.0   \n",
              "1              1.0              69               21             46.0   \n",
              "2              0.0              95                1              5.0   \n",
              "\n",
              "   DAYS_BEFORE_DEPART_id_median  DAYS_BEFORE_DEPART_id_std  \\\n",
              "0                           4.0                  -1.000000   \n",
              "1                          48.5                  12.020815   \n",
              "2                           3.5                   0.707107   \n",
              "\n",
              "   NDAYS_FROM_LAST_sem__  NDAYS_FROM_LAST_id_median  NDAYS_FROM_LAST_id_std  \\\n",
              "0                   -1.0                        0.0               -1.000000   \n",
              "1                   72.0                       72.0              101.823376   \n",
              "2                   67.0                       67.0               94.752309   \n",
              "\n",
              "   ORDER_OF_BUY_id_median  ORDER_OF_BUY_id_std  field13_sem__  \\\n",
              "0                     1.0            -1.000000           -1.0   \n",
              "1                     1.5             0.707107           20.5   \n",
              "2                     1.5             0.707107            1.0   \n",
              "\n",
              "   field13_id_median  field13_id_std  field19_id_median  field19_id_std  \\\n",
              "0               20.0       -1.000000                1.0       -1.000000   \n",
              "1               23.5       28.991378                1.5        0.707107   \n",
              "2                4.0        1.414214                2.0        1.414214   \n",
              "\n",
              "   field22_sem__  field26_id_median  field26_id_std  field25_sem__  \n",
              "0           -1.0                2.0       -1.000000           -1.0  \n",
              "1           18.5                7.5        6.363961            5.5  \n",
              "2            8.0               11.0        0.000000            0.0  "
            ]
          },
          "metadata": {
            "tags": []
          },
          "execution_count": 33
        }
      ]
    },
    {
      "cell_type": "code",
      "metadata": {
        "colab_type": "code",
        "id": "EWCUJm4S8XIm",
        "colab": {}
      },
      "source": [
        "# make_conj(df, 'field1', 'field14')\n",
        "# make_conj(df, 'field26', 'field27')\n",
        "\n",
        "to_scale_f1f14 = ['field1_field14', 'field26_field27']#+['DIFF_NUM_MONTH', 'DIFF_MONTH_DEPART&MONTH_OF_BUY', 'DIFF_HOUR_DEPART&HOUR_OF_BUY',\n",
        "                                                        # 'NDAYS_LAST_NEXT']\n",
        "to_scale = ['NDAYS_FROM_LAST', 'ORDER_OF_BUY', 'field12', 'field13', 'field17', 'DAYS_BEFORE_DEPART', 'field22', 'field25', 'field26', 'field19', 'USR_CNT']+to_scale_f1f14\n",
        "# df[to_scale] = RobustScaler().fit_transform(df[to_scale])\n",
        "df[to_scale] = np.log1p(df[to_scale])"
      ],
      "execution_count": 0,
      "outputs": []
    },
    {
      "cell_type": "code",
      "metadata": {
        "colab_type": "code",
        "id": "trbjrBXxiL5T",
        "colab": {}
      },
      "source": [
        "to_scale = ['field1_field14', 'field26_field27']\n",
        "df[to_scale] = RobustScaler().fit_transform(df[to_scale])"
      ],
      "execution_count": 0,
      "outputs": []
    },
    {
      "cell_type": "code",
      "metadata": {
        "colab_type": "code",
        "id": "kf6-wCG-9tTj",
        "colab": {}
      },
      "source": [
        "# to_log=[x for x in to_ohe_cols if 'field27' not in x and x in df.columns]\n",
        "# df[to_log] = (df[to_log]).transform(np.log1p)\n",
        "\n",
        "df.ORDER_OF_BUY = (df.ORDER_OF_BUY).transform(np.log1p)"
      ],
      "execution_count": 0,
      "outputs": []
    },
    {
      "cell_type": "code",
      "metadata": {
        "colab_type": "code",
        "id": "2dle1UBLX88U",
        "colab": {}
      },
      "source": [
        "# gr_qcut = ['YEAR', 'MONTH_DEPART', 'DOW_DEPART']\n",
        "SEM_GROUP_HOUR_DEPART = ['HOUR_DEPART']\n",
        "SEM_GROUP_DOW_BUY = ['DOW_BUY']\n",
        "SEM_GROUP_HOUR_OF_BUY = ['HOUR_OF_BUY']\n",
        "\n",
        "SEM_USE_COLS = ['field12', 'field13', 'DAYS_BEFORE_DEPART', 'field22', 'field25', 'field26']\n",
        "# qlabels=range(1,6)\n",
        "\n",
        "df = add_sem(df, group_col=SEM_GROUP_HOUR_DEPART, used_col=SEM_USE_COLS, prefix='HOUR_DEPART')\n",
        "df = add_sem(df, group_col=SEM_GROUP_DOW_BUY, used_col=SEM_USE_COLS, prefix='DOW_BUY')\n",
        "df = add_sem(df, group_col=SEM_GROUP_HOUR_OF_BUY, used_col=SEM_USE_COLS, prefix='HOUR_OF_BUY')\n",
        "\n",
        "gr_col=['MONTH_DEPART']\n",
        "df = make_real_feature(df, used_col='NDAYS_FROM_LAST', group_col=gr_col, prefix='MD')\n",
        "df = make_real_feature(df, used_col='field12', group_col=gr_col, prefix='MD')\n",
        "df = make_real_feature(df, used_col='field13', group_col=gr_col, prefix='MD')\n",
        "df = make_real_feature(df, used_col='field17', group_col=gr_col, prefix='MD')\n",
        "df = make_real_feature(df, used_col='DAYS_BEFORE_DEPART', group_col=gr_col, prefix='MD')\n",
        "df = make_real_feature(df, used_col='field22', group_col=gr_col, prefix='MD')\n",
        "df = make_real_feature(df, used_col='field25', group_col=gr_col, prefix='MD')\n",
        "df = make_real_feature(df, used_col='field26', group_col=gr_col, prefix='MD')\n",
        "\n",
        "gr_col=['DOW_DEPART']\n",
        "df = make_real_feature(df, used_col='NDAYS_FROM_LAST', group_col=gr_col, prefix='DD')\n",
        "df = make_real_feature(df, used_col='field12', group_col=gr_col, prefix='DD')\n",
        "df = make_real_feature(df, used_col='field13', group_col=gr_col, prefix='DD')\n",
        "df = make_real_feature(df, used_col='field17', group_col=gr_col, prefix='DD')\n",
        "df = make_real_feature(df, used_col='DAYS_BEFORE_DEPART', group_col=gr_col, prefix='DD')\n",
        "df = make_real_feature(df, used_col='field22', group_col=gr_col, prefix='DD')\n",
        "df = make_real_feature(df, used_col='field25', group_col=gr_col, prefix='DD')\n",
        "df = make_real_feature(df, used_col='field26', group_col=gr_col, prefix='DD')\n",
        "\n",
        "gr_col=['HOUR_DEPART']\n",
        "df = make_real_feature(df, used_col='NDAYS_FROM_LAST', group_col=gr_col, prefix='HD')\n",
        "df = make_real_feature(df, used_col='field12', group_col=gr_col, prefix='HD')\n",
        "df = make_real_feature(df, used_col='field13', group_col=gr_col, prefix='HD')\n",
        "df = make_real_feature(df, used_col='field17', group_col=gr_col, prefix='HD')\n",
        "df = make_real_feature(df, used_col='DAYS_BEFORE_DEPART', group_col=gr_col, prefix='HD')\n",
        "df = make_real_feature(df, used_col='field22', group_col=gr_col, prefix='HD')\n",
        "df = make_real_feature(df, used_col='field25', group_col=gr_col, prefix='HD')\n",
        "df = make_real_feature(df, used_col='field26', group_col=gr_col, prefix='HD')\n",
        "\n",
        "# df = add_quantile(df, group_col=gr_qcut, used_col='NDAYS_FROM_LAST')\n",
        "# df['MONTH_BUY&NDAYS_FROM_LAST_ql'] =df.groupby('MONTH_BUY')['NDAYS_FROM_LAST'].transform(\n",
        "#                       lambda x: pd.qcut(x, len(qlabels), labels=qlabels))\n",
        "\n",
        "# df = add_quantile(df, group_col=gr_qcut, used_col='field12')\n",
        "# df['MONTH_BUY&field12_ql'] =df.groupby('MONTH_BUY')['field12'].transform(\n",
        "#                       lambda x: pd.qcut(x, len(qlabels), labels=qlabels))\n",
        "\n",
        "# df = add_quantile(df, group_col=gr_qcut, used_col='field13')\n",
        "# df['MONTH_BUY&field13_ql'] =df.groupby('MONTH_BUY')['field13'].transform(\n",
        "#                       lambda x: pd.qcut(x, len(qlabels), labels=qlabels))\n",
        "\n",
        "# df = add_quantile(df, group_col=gr_qcut, used_col='field17')\n",
        "# df['MONTH_BUY&field17_ql'] =df.groupby('MONTH_BUY')['field17'].transform(\n",
        "#                       lambda x: pd.qcut(x, len(qlabels), labels=qlabels))\n",
        "\n",
        "\n",
        "# df = add_quantile(df, group_col=gr_qcut, used_col='DAYS_BEFORE_DEPART')\n",
        "# df['MONTH_BUY&DAYS_BEFORE_DEPART_ql'] =df.groupby('MONTH_BUY')['DAYS_BEFORE_DEPART'].transform(\n",
        "#                       lambda x: pd.qcut(x, len(qlabels), labels=qlabels))\n",
        "\n",
        "\n",
        "# df = add_quantile(df, group_col=gr_qcut, used_col='field22')\n",
        "# df['MONTH_BUY&field22_ql'] =df.groupby('MONTH_BUY')['field22'].transform(\n",
        "#                       lambda x: pd.qcut(x, len(qlabels), labels=qlabels))\n",
        "\n",
        "\n",
        "# df = add_quantile(df, group_col=gr_qcut, used_col='field25')\n",
        "# df['MONTH_BUY&field25_ql'] =df.groupby('MONTH_BUY')['field25'].transform(\n",
        "#                       lambda x: pd.qcut(x, len(qlabels), labels=qlabels))\n",
        "\n",
        "# df = add_quantile(df, group_col=gr_qcut, used_col='field26')\n",
        "# df['MONTH_BUY&field26_ql'] =df.groupby('MONTH_BUY')['field26'].transform(\n",
        "#                       lambda x: pd.qcut(x, len(qlabels), labels=qlabels))\n"
      ],
      "execution_count": 0,
      "outputs": []
    },
    {
      "cell_type": "code",
      "metadata": {
        "colab_type": "code",
        "id": "UJrLD8hgiOCY",
        "colab": {}
      },
      "source": [
        "SEM_USE_COLS = ['field1_field14']\n",
        "df = add_sem(df, group_col=SEM_GROUP_HOUR_DEPART, used_col=SEM_USE_COLS, prefix='HOUR_DEPART_f1&f14')\n",
        "df = add_sem(df, group_col=SEM_GROUP_DOW_BUY, used_col=SEM_USE_COLS, prefix='DOW_BUY_f1&f14')\n",
        "df = add_sem(df, group_col=SEM_GROUP_HOUR_OF_BUY, used_col=SEM_USE_COLS, prefix='HOUR_OF_BUY_f1&f14')\n",
        "\n",
        "SEM_USE_COLS = ['field26_field27']\n",
        "df = add_sem(df, group_col=SEM_GROUP_HOUR_DEPART, used_col=SEM_USE_COLS, prefix='HOUR_DEPART_f26&f27')\n",
        "df = add_sem(df, group_col=SEM_GROUP_DOW_BUY, used_col=SEM_USE_COLS, prefix='DOW_BUY_f26&f27')\n",
        "df = add_sem(df, group_col=SEM_GROUP_HOUR_OF_BUY, used_col=SEM_USE_COLS, prefix='HOUR_OF_BUY_f26&f27')\n",
        "\n",
        "gr_col=['field1_field14']\n",
        "prefix = 'MD_f1&f14'\n",
        "df = make_real_feature(df, used_col='NDAYS_FROM_LAST', group_col=gr_col, prefix=prefix)\n",
        "df = make_real_feature(df, used_col='field12', group_col=gr_col, prefix=prefix)\n",
        "df = make_real_feature(df, used_col='field13', group_col=gr_col, prefix=prefix)\n",
        "df = make_real_feature(df, used_col='field17', group_col=gr_col, prefix=prefix)\n",
        "df = make_real_feature(df, used_col='DAYS_BEFORE_DEPART', group_col=gr_col, prefix=prefix)\n",
        "df = make_real_feature(df, used_col='field22', group_col=gr_col, prefix=prefix)\n",
        "df = make_real_feature(df, used_col='field25', group_col=gr_col, prefix=prefix)\n",
        "df = make_real_feature(df, used_col='field26', group_col=gr_col, prefix=prefix)\n",
        "\n",
        "\n",
        "gr_col=['field26_field27']\n",
        "prefix = 'MD_f26&f27'\n",
        "df = make_real_feature(df, used_col='NDAYS_FROM_LAST', group_col=gr_col, prefix=prefix)\n",
        "df = make_real_feature(df, used_col='field12', group_col=gr_col, prefix=prefix)\n",
        "df = make_real_feature(df, used_col='field13', group_col=gr_col, prefix=prefix)\n",
        "df = make_real_feature(df, used_col='field17', group_col=gr_col, prefix=prefix)\n",
        "df = make_real_feature(df, used_col='DAYS_BEFORE_DEPART', group_col=gr_col, prefix=prefix)\n",
        "df = make_real_feature(df, used_col='field22', group_col=gr_col, prefix=prefix)\n",
        "df = make_real_feature(df, used_col='field25', group_col=gr_col, prefix=prefix)\n",
        "df = make_real_feature(df, used_col='field26', group_col=gr_col, prefix=prefix)"
      ],
      "execution_count": 0,
      "outputs": []
    },
    {
      "cell_type": "code",
      "metadata": {
        "colab_type": "code",
        "id": "Mqa_osoOY1fG",
        "colab": {}
      },
      "source": [
        "# df.filter(regex='median|mean|sum|amax|size').columns.tolist()"
      ],
      "execution_count": 0,
      "outputs": []
    },
    {
      "cell_type": "code",
      "metadata": {
        "colab_type": "code",
        "id": "XlGm0kbscGRT",
        "colab": {}
      },
      "source": [
        "gr_col=['MONTH_DEPART']  # 'HOUR_DEPART' \n",
        "df = add_aggregate(df, group_col=gr_col, used_col='userid', func=unique_cnt, suffix='unique_cnt_MD')\n",
        "df = add_aggregate(df, group_col=gr_col, used_col='userid', func=cnt_, suffix='cnt_MD')\n",
        "df = add_aggregate(df, group_col=gr_col, used_col='CHILD', func=sum, suffix='sum_MD')\n",
        "\n",
        "div_col = 'userid_unique_cnt_MD'\n",
        "df = add_aggregate(df, group_col=gr_col, used_col='indicator_goal21', func=sum, suffix='sum_MD')\n",
        "df['INDICATOR21_AGG_norm_MD'] = df['indicator_goal21_sum_MD']/df[div_col]\n",
        "df = add_aggregate(df, group_col=gr_col, used_col='indicator_goal22', func=sum, suffix='sum_MD')\n",
        "df['INDICATOR22_AGG_norm_MD'] = df['indicator_goal22_sum_MD']/df[div_col]\n",
        "df = add_aggregate(df, group_col=gr_col, used_col='indicator_goal23', func=sum, suffix='sum_MD')\n",
        "df['INDICATOR23_AGG_norm_MD'] = df['indicator_goal23_sum_MD']/df[div_col]\n",
        "df = add_aggregate(df, group_col=gr_col, used_col='indicator_goal24', func=sum, suffix='sum_MD')\n",
        "df['INDICATOR24_AGG_norm_MD'] = df['indicator_goal24_sum_MD']/df[div_col]\n",
        "df = add_aggregate(df, group_col=gr_col, used_col='indicator_goal25', func=sum, suffix='sum_MD')\n",
        "df['INDICATOR25_AGG_norm_MD'] = df['indicator_goal25_sum_MD']/df[div_col]\n",
        "\n",
        "gr_col=['DOW_DEPART'] \n",
        "df = add_aggregate(df, group_col=gr_col, used_col='userid', func=unique_cnt, suffix='unique_cnt_DD')\n",
        "df = add_aggregate(df, group_col=gr_col, used_col='userid', func=cnt_, suffix='cnt_DD')\n",
        "df = add_aggregate(df, group_col=gr_col, used_col='CHILD', func=sum, suffix='sum_DD')\n",
        "\n",
        "div_col = 'userid_unique_cnt_DD'\n",
        "df = add_aggregate(df, group_col=gr_col, used_col='indicator_goal21', func=sum, suffix='sum_DD')\n",
        "df['INDICATOR21_AGG_norm_DD'] = df['indicator_goal21_sum_DD']/df[div_col]\n",
        "df = add_aggregate(df, group_col=gr_col, used_col='indicator_goal22', func=sum, suffix='sum_DD')\n",
        "df['INDICATOR22_AGG_norm_DD'] = df['indicator_goal22_sum_DD']/df[div_col]\n",
        "df = add_aggregate(df, group_col=gr_col, used_col='indicator_goal23', func=sum, suffix='sum_DD')\n",
        "df['INDICATOR23_AGG_norm_DD'] = df['indicator_goal23_sum_DD']/df[div_col]\n",
        "df = add_aggregate(df, group_col=gr_col, used_col='indicator_goal24', func=sum, suffix='sum_DD')\n",
        "df['INDICATOR24_AGG_norm_DD'] = df['indicator_goal24_sum_DD']/df[div_col]\n",
        "df = add_aggregate(df, group_col=gr_col, used_col='indicator_goal25', func=sum, suffix='sum_DD')\n",
        "df['INDICATOR25_AGG_norm_DD'] = df['indicator_goal25_sum_DD']/df[div_col]"
      ],
      "execution_count": 0,
      "outputs": []
    },
    {
      "cell_type": "code",
      "metadata": {
        "colab_type": "code",
        "id": "7EzQp4gIY8lV",
        "colab": {}
      },
      "source": [
        "# df['FIELD12_sum/USR_UNIQUE_CNT'] = df['FIELD12_sum']/df['userid_unique_cnt']\n",
        "# df['FIELD12_median/USR_UNIQUE_CNT'] = df['FIELD12_median']/df['userid_unique_cnt']\n",
        "\n",
        "# df['FIELD13_sum/USR_UNIQUE_CNT'] = df['FIELD13_sum']/df['userid_unique_cnt']\n",
        "# df['FIELD13_median/USR_UNIQUE_CNT'] = df['FIELD13_median']/df['userid_unique_cnt']\n",
        "\n",
        "# df['FIELD17_sum/USR_UNIQUE_CNT'] = df['FIELD17_sum']/df['userid_unique_cnt']\n",
        "# df['FIELD17_median/USR_UNIQUE_CNT'] = df['FIELD17_median']/df['userid_unique_cnt']\n",
        "\n",
        "# df['FIELD22_sum/USR_UNIQUE_CNT'] = df['FIELD22_sum']/df['userid_unique_cnt']\n",
        "# df['FIELD22_median/USR_UNIQUE_CNT'] = df['FIELD22_median']/df['userid_unique_cnt']\n",
        "\n",
        "# df['FIELD25_sum/USR_UNIQUE_CNT'] = df['FIELD25_sum']/df['userid_unique_cnt']\n",
        "# df['FIELD25_median/USR_UNIQUE_CNT'] = df['FIELD25_median']/df['userid_unique_cnt']\n",
        "\n",
        "# df['FIELD26_sum/USR_UNIQUE_CNT'] = df['FIELD26_sum']/df['userid_unique_cnt']\n",
        "# df['FIELD26_median/USR_UNIQUE_CNT'] = df['FIELD26_median']/df['userid_unique_cnt']"
      ],
      "execution_count": 0,
      "outputs": []
    },
    {
      "cell_type": "code",
      "metadata": {
        "colab_type": "code",
        "id": "QoBi_eS5ih9H",
        "colab": {}
      },
      "source": [
        "# div_col = 'userid_unique_cnt_DD'\n",
        "# df['FIELD12_sum/USR_UNIQUE_CNT_DD'] = df['FIELD12_sum_DD']/df[div_col]\n",
        "# df['FIELD12_median/USR_UNIQUE_CNT_DD'] = df['FIELD12_median_DD']/df[div_col]\n",
        "\n",
        "# df['FIELD13_sum/USR_UNIQUE_CNT_DD'] = df['FIELD13_sum_DD']/df[div_col]\n",
        "# df['FIELD13_median/USR_UNIQUE_CNT_DD'] = df['FIELD13_median_DD']/df[div_col]\n",
        "\n",
        "# df['FIELD17_sum/USR_UNIQUE_CNT_DD'] = df['FIELD17_sum_DD']/df[div_col]\n",
        "# df['FIELD17_median/USR_UNIQUE_CNT_DD'] = df['FIELD17_median_DD']/df[div_col]\n",
        "\n",
        "# df['FIELD22_sum/USR_UNIQUE_CNT_DD'] = df['FIELD22_sum_DD']/df[div_col]\n",
        "# df['FIELD22_median/USR_UNIQUE_CNT_DD'] = df['FIELD22_median_DD']/df[div_col]\n",
        "\n",
        "# df['FIELD25_sum/USR_UNIQUE_CNT_DD'] = df['FIELD25_sum_DD']/df[div_col]\n",
        "# df['FIELD25_median/USR_UNIQUE_CNT_DD'] = df['FIELD25_median_DD']/df[div_col]\n",
        "\n",
        "# df['FIELD26_sum/USR_UNIQUE_CNT_DD'] = df['FIELD26_sum_DD']/df[div_col]\n",
        "# df['FIELD26_median/USR_UNIQUE_CNT_DD'] = df['FIELD26_median_DD']/df[div_col]"
      ],
      "execution_count": 0,
      "outputs": []
    },
    {
      "cell_type": "code",
      "metadata": {
        "colab_type": "code",
        "id": "mpo3ocNtY587",
        "colab": {}
      },
      "source": [
        "# to_drop = ['FIELD12_sum', 'FIELD12_median', 'FIELD13_sum', 'FIELD13_median', 'FIELD17_sum', 'FIELD17_median', \n",
        "#            'FIELD22_sum', 'FIELD22_median', 'FIELD25_sum', 'FIELD25_median', 'FIELD26_sum', 'FIELD26_median']\n",
        "\n",
        "indic_sum = ['indicator_goal21_sum', 'indicator_goal22_sum', 'indicator_goal23_sum',\n",
        "                 'indicator_goal24_sum', 'indicator_goal25_sum']\n",
        "\n",
        "to_drop=[x+'_MD' for x in indic_sum] + [x+'_DD' for x in indic_sum]\n",
        "\n",
        "df.drop(columns=to_drop, axis=1, inplace=True)"
      ],
      "execution_count": 0,
      "outputs": []
    },
    {
      "cell_type": "code",
      "metadata": {
        "colab_type": "code",
        "id": "lVAT6Wo4Y6nE",
        "colab": {}
      },
      "source": [
        "corr_matrix = df.corr().abs()\n",
        "# Select upper triangle of correlation matrix\n",
        "upper = corr_matrix.where(np.triu(np.ones(corr_matrix.shape), k=1).astype(np.bool))\n",
        "\n",
        "# Find index of feature columns with correlation greater than 0.9\n",
        "to_drop = [column for column in upper.columns if any(upper[column] > 0.9)]"
      ],
      "execution_count": 0,
      "outputs": []
    },
    {
      "cell_type": "code",
      "metadata": {
        "colab_type": "code",
        "id": "nGyleN7pB6Wx",
        "colab": {}
      },
      "source": [
        "def correl(X_train):\n",
        "    cor = X_train.corr()\n",
        "    corrm = np.corrcoef(X_train.transpose())\n",
        "    corr = corrm - np.diagflat(corrm.diagonal())\n",
        "    print(\"max corr:\",corr.max(), \", min corr: \", corr.min())\n",
        "    c1 = cor.stack().sort_values(ascending=False).drop_duplicates()\n",
        "    high_cor = c1[c1.values!=1]\n",
        "    ## change this value to get more correlation results        \n",
        "    thresh = 0.9\n",
        "    display(high_cor[high_cor>thresh])\n",
        "    return high_cor"
      ],
      "execution_count": 0,
      "outputs": []
    },
    {
      "cell_type": "code",
      "metadata": {
        "colab_type": "code",
        "id": "k07MQzHqDkY4",
        "outputId": "eaf95d03-938f-4774-96f4-359543b93e3e",
        "colab": {
          "base_uri": "https://localhost:8080/",
          "height": 238
        }
      },
      "source": [
        "corr_df = correl(df)"
      ],
      "execution_count": 0,
      "outputs": [
        {
          "output_type": "stream",
          "text": [
            "max corr: nan , min corr:  nan\n"
          ],
          "name": "stdout"
        },
        {
          "output_type": "display_data",
          "data": {
            "text/plain": [
              "FIELD26_median_MD_f26&f27    FIELD26_mean_MD_f26&f27    1.000000\n",
              "FIELD25_median_MD_f26&f27    F26F27_field25_median      1.000000\n",
              "F26F27_field17_min           FIELD25_amin_MD_f26&f27    1.000000\n",
              "FIELD12_sum_MD_f26&f27       FIELD25_sum_MD_f26&f27     0.999926\n",
              "FIELD17_sum_MD_f26&f27       FIELD22_sum_MD_f26&f27     0.999899\n",
              "                                                          ...   \n",
              "MD_field17_sum               NUM_MONTH_DEPART           0.900802\n",
              "DOWD_NDAYS_FROM_LAST_median  MD_NDAYS_FROM_LAST_std     0.900788\n",
              "FIELD25_mean_MD_f26&f27      F26F27_field13_mean        0.900405\n",
              "FIELD12_std_MD_f26&f27       FIELD25_std_MD_f26&f27     0.900111\n",
              "MD_field19_median            MD_field13_median          0.900025\n",
              "Length: 1009, dtype: float64"
            ]
          },
          "metadata": {
            "tags": []
          }
        }
      ]
    },
    {
      "cell_type": "code",
      "metadata": {
        "colab_type": "code",
        "id": "J2FgUqKuDkVT",
        "outputId": "36c8b096-b270-4094-c035-70f3eb25739f",
        "colab": {
          "base_uri": "https://localhost:8080/",
          "height": 419
        }
      },
      "source": [
        "corr_df.reset_index()"
      ],
      "execution_count": 0,
      "outputs": [
        {
          "output_type": "execute_result",
          "data": {
            "text/html": [
              "<div>\n",
              "<style scoped>\n",
              "    .dataframe tbody tr th:only-of-type {\n",
              "        vertical-align: middle;\n",
              "    }\n",
              "\n",
              "    .dataframe tbody tr th {\n",
              "        vertical-align: top;\n",
              "    }\n",
              "\n",
              "    .dataframe thead th {\n",
              "        text-align: right;\n",
              "    }\n",
              "</style>\n",
              "<table border=\"1\" class=\"dataframe\">\n",
              "  <thead>\n",
              "    <tr style=\"text-align: right;\">\n",
              "      <th></th>\n",
              "      <th>level_0</th>\n",
              "      <th>level_1</th>\n",
              "      <th>0</th>\n",
              "    </tr>\n",
              "  </thead>\n",
              "  <tbody>\n",
              "    <tr>\n",
              "      <th>0</th>\n",
              "      <td>FIELD26_median_MD_f26&amp;f27</td>\n",
              "      <td>FIELD26_mean_MD_f26&amp;f27</td>\n",
              "      <td>1.000000</td>\n",
              "    </tr>\n",
              "    <tr>\n",
              "      <th>1</th>\n",
              "      <td>FIELD25_median_MD_f26&amp;f27</td>\n",
              "      <td>F26F27_field25_median</td>\n",
              "      <td>1.000000</td>\n",
              "    </tr>\n",
              "    <tr>\n",
              "      <th>2</th>\n",
              "      <td>F26F27_field17_min</td>\n",
              "      <td>FIELD25_amin_MD_f26&amp;f27</td>\n",
              "      <td>1.000000</td>\n",
              "    </tr>\n",
              "    <tr>\n",
              "      <th>3</th>\n",
              "      <td>FIELD12_sum_MD_f26&amp;f27</td>\n",
              "      <td>FIELD25_sum_MD_f26&amp;f27</td>\n",
              "      <td>0.999926</td>\n",
              "    </tr>\n",
              "    <tr>\n",
              "      <th>4</th>\n",
              "      <td>FIELD17_sum_MD_f26&amp;f27</td>\n",
              "      <td>FIELD22_sum_MD_f26&amp;f27</td>\n",
              "      <td>0.999899</td>\n",
              "    </tr>\n",
              "    <tr>\n",
              "      <th>...</th>\n",
              "      <td>...</td>\n",
              "      <td>...</td>\n",
              "      <td>...</td>\n",
              "    </tr>\n",
              "    <tr>\n",
              "      <th>137462</th>\n",
              "      <td>YEAR</td>\n",
              "      <td>HD_NDAYS_FROM_LAST_std</td>\n",
              "      <td>-0.999001</td>\n",
              "    </tr>\n",
              "    <tr>\n",
              "      <th>137463</th>\n",
              "      <td>DOWD_field26_mean</td>\n",
              "      <td>YEAR</td>\n",
              "      <td>-0.999369</td>\n",
              "    </tr>\n",
              "    <tr>\n",
              "      <th>137464</th>\n",
              "      <td>YEAR</td>\n",
              "      <td>DOWD_NDAYS_FROM_LAST_mean</td>\n",
              "      <td>-0.999752</td>\n",
              "    </tr>\n",
              "    <tr>\n",
              "      <th>137465</th>\n",
              "      <td>DOWD_NDAYS_FROM_LAST_std</td>\n",
              "      <td>YEAR</td>\n",
              "      <td>-0.999864</td>\n",
              "    </tr>\n",
              "    <tr>\n",
              "      <th>137466</th>\n",
              "      <td>YEAR</td>\n",
              "      <td>DOWD_field26_median</td>\n",
              "      <td>-1.000000</td>\n",
              "    </tr>\n",
              "  </tbody>\n",
              "</table>\n",
              "<p>137467 rows × 3 columns</p>\n",
              "</div>"
            ],
            "text/plain": [
              "                          level_0                    level_1         0\n",
              "0       FIELD26_median_MD_f26&f27    FIELD26_mean_MD_f26&f27  1.000000\n",
              "1       FIELD25_median_MD_f26&f27      F26F27_field25_median  1.000000\n",
              "2              F26F27_field17_min    FIELD25_amin_MD_f26&f27  1.000000\n",
              "3          FIELD12_sum_MD_f26&f27     FIELD25_sum_MD_f26&f27  0.999926\n",
              "4          FIELD17_sum_MD_f26&f27     FIELD22_sum_MD_f26&f27  0.999899\n",
              "...                           ...                        ...       ...\n",
              "137462                       YEAR     HD_NDAYS_FROM_LAST_std -0.999001\n",
              "137463          DOWD_field26_mean                       YEAR -0.999369\n",
              "137464                       YEAR  DOWD_NDAYS_FROM_LAST_mean -0.999752\n",
              "137465   DOWD_NDAYS_FROM_LAST_std                       YEAR -0.999864\n",
              "137466                       YEAR        DOWD_field26_median -1.000000\n",
              "\n",
              "[137467 rows x 3 columns]"
            ]
          },
          "metadata": {
            "tags": []
          },
          "execution_count": 142
        }
      ]
    },
    {
      "cell_type": "code",
      "metadata": {
        "colab_type": "code",
        "id": "mqLqaOYyHbj7",
        "outputId": "881fe8e7-00a6-430d-9cb4-94b4f99ffba4",
        "colab": {
          "base_uri": "https://localhost:8080/",
          "height": 34
        }
      },
      "source": [
        "df.shape"
      ],
      "execution_count": 0,
      "outputs": [
        {
          "output_type": "execute_result",
          "data": {
            "text/plain": [
              "(196056, 558)"
            ]
          },
          "metadata": {
            "tags": []
          },
          "execution_count": 145
        }
      ]
    },
    {
      "cell_type": "code",
      "metadata": {
        "colab_type": "code",
        "id": "dby2w2IYq1ng",
        "outputId": "c75cb6a5-7ac9-48d7-81ff-7274e7007bfb",
        "colab": {
          "base_uri": "https://localhost:8080/",
          "height": 68
        }
      },
      "source": [
        "print(np.isnan(df).sum().sum())\n",
        "df.fillna(0, inplace=True)\n",
        "print(np.isnan(df).sum().sum())\n",
        "\n",
        "df = reduce_mem_usage(df)"
      ],
      "execution_count": 0,
      "outputs": [
        {
          "output_type": "stream",
          "text": [
            "0\n",
            "0\n",
            "Mem. usage decreased to 293.55 Mb (3.0% reduction)\n"
          ],
          "name": "stdout"
        }
      ]
    },
    {
      "cell_type": "code",
      "metadata": {
        "colab_type": "code",
        "id": "6QTC4u1kZ_0b",
        "outputId": "ed2c9b1b-7768-4fc4-efc3-ff298412fc0d",
        "colab": {
          "base_uri": "https://localhost:8080/",
          "height": 272
        }
      },
      "source": [
        "# Separate into train and test sets\n",
        "X_train, X_test, y_train, y_test =  train_test_split(\n",
        "            df.drop(['orderid', 'userid', 'goal1']+goals_cols, axis=1),\n",
        "            df['goal1'], test_size=0.3, random_state=SEED)\n",
        "\n",
        "# set up the discretisation transformer\n",
        "disc = dsc.DecisionTreeDiscretiser(cv=5,\n",
        "                              scoring='roc_auc',\n",
        "                              variables=['field1_field14'],\n",
        "                              regression=False)\n",
        "\n",
        "# fit the transformer\n",
        "disc.fit(X_train, y_train)\n",
        "\n",
        "# transform the data\n",
        "train_t= disc.transform(X_train)\n",
        "test_t= disc.transform(X_test)\n",
        "\n",
        "disc.binner_dict_"
      ],
      "execution_count": 0,
      "outputs": [
        {
          "output_type": "execute_result",
          "data": {
            "text/plain": [
              "{'field1_field14': GridSearchCV(cv=5, error_score='raise-deprecating',\n",
              "              estimator=DecisionTreeClassifier(class_weight=None,\n",
              "                                               criterion='gini', max_depth=None,\n",
              "                                               max_features=None,\n",
              "                                               max_leaf_nodes=None,\n",
              "                                               min_impurity_decrease=0.0,\n",
              "                                               min_impurity_split=None,\n",
              "                                               min_samples_leaf=1,\n",
              "                                               min_samples_split=2,\n",
              "                                               min_weight_fraction_leaf=0.0,\n",
              "                                               presort=False, random_state=None,\n",
              "                                               splitter='best'),\n",
              "              iid='warn', n_jobs=None, param_grid={'max_depth': [1, 2, 3, 4]},\n",
              "              pre_dispatch='2*n_jobs', refit=True, return_train_score=False,\n",
              "              scoring='roc_auc', verbose=0)}"
            ]
          },
          "metadata": {
            "tags": []
          },
          "execution_count": 61
        }
      ]
    },
    {
      "cell_type": "code",
      "metadata": {
        "colab_type": "code",
        "id": "NYKxyBKuaBhv",
        "outputId": "e7def073-3c34-4cfd-fced-cd45ae41942f",
        "colab": {
          "base_uri": "https://localhost:8080/",
          "height": 413
        }
      },
      "source": [
        "train_t.groupby('field1_field14')['field1_field14'].count().plot.bar()\n",
        "plt.ylabel('returns')"
      ],
      "execution_count": 0,
      "outputs": [
        {
          "output_type": "execute_result",
          "data": {
            "text/plain": [
              "Text(0, 0.5, 'returns')"
            ]
          },
          "metadata": {
            "tags": []
          },
          "execution_count": 65
        },
        {
          "output_type": "display_data",
          "data": {
            "image/png": "[encoded data removed]",
            "text/plain": [
              "<Figure size 432x288 with 1 Axes>"
            ]
          },
          "metadata": {
            "tags": []
          }
        }
      ]
    },
    {
      "cell_type": "code",
      "metadata": {
        "colab_type": "code",
        "id": "LE4XvAzlXRIN",
        "colab": {}
      },
      "source": [
        "df_copy['user_le'] = LabelEncoder().fit_transform(df_copy.userid)"
      ],
      "execution_count": 0,
      "outputs": []
    },
    {
      "cell_type": "code",
      "metadata": {
        "colab_type": "code",
        "id": "QUZwcQizIsj0",
        "colab": {}
      },
      "source": [
        "gr_cols=['YEAR', 'MONTH_DEPART', 'DOW_DEPART', 'HOUR_DEPART']\n",
        "df_grouped=df_copy.groupby(gr_cols).groups"
      ],
      "execution_count": 0,
      "outputs": []
    },
    {
      "cell_type": "code",
      "metadata": {
        "colab_type": "code",
        "id": "myGbDBfwlMIJ",
        "outputId": "d0714bf6-da61-4d57-c9cc-dde2b1e65d9a",
        "colab": {
          "base_uri": "https://localhost:8080/",
          "height": 34
        }
      },
      "source": [
        "list_ind = []\n",
        "for _, v in df_grouped.items():\n",
        "  list_ind.append(np.array(v, dtype='int32'))\n",
        "\n",
        "len(list_ind)"
      ],
      "execution_count": 0,
      "outputs": [
        {
          "output_type": "execute_result",
          "data": {
            "text/plain": [
              "3529"
            ]
          },
          "metadata": {
            "tags": []
          },
          "execution_count": 12
        }
      ]
    },
    {
      "cell_type": "code",
      "metadata": {
        "colab_type": "code",
        "id": "YQ3cMP1jjqF9",
        "colab": {}
      },
      "source": [
        "dict_depart = dict()\n",
        "for label, depart in enumerate(list_ind):\n",
        "  for user_index in depart:\n",
        "      dict_depart[user_index] = label\n",
        "\n",
        "df_copy['DEPART_INDEX'] = df_copy.index.to_series().map(dict_depart)"
      ],
      "execution_count": 0,
      "outputs": []
    },
    {
      "cell_type": "code",
      "metadata": {
        "colab_type": "code",
        "id": "6p_16__egROh",
        "colab": {}
      },
      "source": [
        "user3 = df_copy.query(\"USR_CNT==3\")[\"user_le\"].values\n",
        "user4 = df_copy.query(\"USR_CNT==4\")[\"user_le\"].values\n"
      ],
      "execution_count": 0,
      "outputs": []
    },
    {
      "cell_type": "code",
      "metadata": {
        "colab_type": "code",
        "id": "VkWCxCDqW-0m",
        "colab": {}
      },
      "source": [
        "list_cnt = df_copy.query(\"USR_CNT>2\")[\"USR_CNT\"].unique()"
      ],
      "execution_count": 0,
      "outputs": []
    },
    {
      "cell_type": "code",
      "metadata": {
        "colab_type": "code",
        "id": "5kHUuUJfme5F",
        "colab": {}
      },
      "source": [
        "from tqdm import tqdm_notebook"
      ],
      "execution_count": 0,
      "outputs": []
    },
    {
      "cell_type": "code",
      "metadata": {
        "colab_type": "code",
        "id": "tGF4lJmQX0-k",
        "outputId": "cc1dee0e-7035-4a72-df63-b3ff3ff888d0",
        "colab": {
          "base_uri": "https://localhost:8080/",
          "height": 17,
          "referenced_widgets": [
            "7b55cb4e6e214210b10c8029c1865087",
            "8021ab09e40c4923b4890f4bcd0c6c36",
            "d19909032ea44b1e9b2ccbf2acd256f9",
            "eaaf7ef0f7454176a9559d18405d25d8",
            "81aaed88c6d249c7b803fd9fcf34a50f",
            "4be778b54d034273b954ca424f864fdf",
            "30fb1cd6d6114199a86e03c9bfcf35d3",
            "d5d51edef6384783bfeb29ab6114b362",
            "1f70548058bb414ab4166dd4739c03fe",
            "0343c1400abf49febf308ab4b3717f2e",
            "18cc61da82a148f3b093a3aaab5f8973",
            "5b686f8fd05a47bc834fbc022640d9f2",
            "b30b87d5800d4113ba59566efe260ddc",
            "b32a2c3c452b4d3c90643e00a3a04745",
            "8e72d7fcc2ca44ab8d7d4ec647beb9ee",
            "f09cbf553401488297ad4b6a15ed7c9b",
            "52065473e5ef4f9898259c3f0d7e5540",
            "9cc0da105f3f4ec6920da3306cc78f30",
            "38bc71f00e584dd0bf2591684fa6b80e",
            "4cb8f2270a284f37ac5968db89867d49",
            "84efdf6a11f9474bb45ba2a7f3ec431a",
            "59273e2a60ee45d7a37ec08f60c5f518",
            "da11b212d65940b78f0613e88bcbd437",
            "111b92ab2e434d71afff6fb6c117c6e8",
            "861f9553906747f2957e3d9100bff075",
            "95f05d323a5a4830985c5adefcb63450",
            "a35a06c07dc24b7fbce5d86cc6c4c05a",
            "efb6d619b0674a79b9c10b3ca269cb8d",
            "1195021e8a604282b7ca4f6ae6ab8535",
            "56d0999947934dfc8b5d504aad5de345",
            "d6db17fe034944338089bcd238a6c5f6",
            "3bdb9158d59c4a98a8d898926b517b7e",
            "8dce69b82c154285984b2b12e7f8a515",
            "d08bb9c24d8b470db948e0536793cbfa",
            "03975d2db9ef4e01a96f1c5053c4808f",
            "73aa9a348f37400a8b845d69d42d37da",
            "9ef37fdafbb94dbc88887ee5f6bbf962",
            "213196556199463699244149473ac94f",
            "096ced46c3cb49e5b661a8216d17606b",
            "110ae86436d54fcc9ba80f014a53a593",
            "016766cb4d1e4a14a6fd8ea15735acd4",
            "439b8bab5de44f648ed4b89bb8fa1e55",
            "3caed2ed607e40d191cbde909306d20c",
            "d8e3a978783c409081d2aa7ea53992c1",
            "faa3b19f1598483c89936de38c312d48",
            "b9fc748c224b4f52bbee4082a24b10f8",
            "2cf8c5d1af624ad48cbe03a493b847d4",
            "cd0f4a1108bd45fe8e1fa2ed0eb10e49",
            "30a7418dbf16436489a9e57d0a908ef2",
            "06251dee1348420ea8cc6b334d1b6d61",
            "38d72a5fda164f72b122e410b828065c",
            "eb5fdc56310c41d095fde36f51cf93e1",
            "231e59d566f340adb94077b826b81b25",
            "3d5b923402ad426487af73d6dcd0e2ab",
            "12863cbe8aff41f7b456ed392d736d9c",
            "bc1e20f46e8041febbbaaeb1b5885449",
            "82fc64274d6c4d80b219ecd58318fb43",
            "04b21c24e0d44ffb919b1274c6d518f0",
            "c3e038883eab48fabf44dc2e9989e822",
            "21e92a9355b3482ea2c32c9e775e3041",
            "fc65721705c944e2a9c98f21275a56e2",
            "2fb4cfa4beeb4263bcc36c34d3facfa7",
            "331051b8b7df4c5b97e84b5e26c21afa",
            "f131ae8378ed4d65965aedc7c3481e89",
            "dca2efe329654ff099dfe463889f4c46",
            "3edf737be7c44d1e89d47ae9be472b7a",
            "1bd76b4e71e747b282e70fec1ede3635",
            "d3b5fa303b254b7fa469fa786e4507a9",
            "b53dbb9be92340db965146a6bc686f7e",
            "a1d8c264bb7c44f29e37994d66b30a3d",
            "8803a790a92e4df3a402818b84ffedbc",
            "4e917569a2af4f3b94de9db39a908620",
            "62e06159399749aeadb6296a1c27cf32",
            "fdf21b356d274065abe9ada5dc53fc54",
            "afe485e671fd455aa2d75beb17f0b5c5",
            "2c47bb542ada47bfb3202db46dd8f489",
            "8ddf4d40ee214e359f71c24ac36d8ce2",
            "6ba4663b8b2c4558aa40b7d165764015",
            "33c619146bfa4ac19a7ef948679a67da",
            "a38c11c2f75f4392aec6e68f5396b218",
            "669a5e7d86f1426d9c1391a4cfae085f",
            "3c0e53ea307c41e3b4fd221945df9de7",
            "3f7db1a28d9a4371962771ab681722be",
            "11e403331190477b923fa5bb1e37e20d",
            "8be387b397a343b8874b6920f4bb3396",
            "48463e4446ef49e1915a40c34a7fcc79",
            "c99efd2863b54e88b3d22ee28e998f8d",
            "fd62fe602e2f499cb7c9d16f2bb5f613",
            "7c6c6b80800b409cad66c612d864acd5",
            "2ffe2bcfe71643768fad87cef9fa1a16",
            "dcafbc4fdb254b2592b9d8adea6daf69",
            "59aef30e827b402c8892a109a523a5df",
            "0bb4429c86b941b7ad7dc9a59b149776",
            "f8b7ac1cbbaa42fe8b2022a63c004fc5",
            "a43c9d5fc6b14e0c92b74dbe1f475c49",
            "21eab978ba0c408794a9d69ca007868b",
            "70399b9d61ed407d9ff9528696daafb6",
            "ac2de2fb3b374e888745f9c957af27b5",
            "46429af545744035bebc9b57a1b2c464",
            "deff824f3a424937aeed362d44de9a17",
            "c85a9c5da17645d28a3807bbae9392de",
            "cbea4f1aebe145b884082524fce77071",
            "9f39837ca0cc426fb68f11ff70b533f3",
            "f628a8441fff46bbbd1b7bdd3be55559",
            "c3f872dae539457d94bf19838f1c7e8f",
            "6294ae8f8e0942f88b0829c9bc8c71e4",
            "1690d1eb01564d5d9f3dbabbe02369cf",
            "d207072c157c4e4eb5984e348483f09a",
            "1ac37131cced4a81be8d552c0529d83e",
            "0b7eec48533e4c99bfd0e357289d40cc",
            "ba55542789bd4e89b36cb0fdeda6d15f",
            "7264ee08eaa9471f83b4d42fddbbc008",
            "fde758739fcf495f98758a518f8b9149",
            "be8ef9d8b59e4cbcb0d0eccfbeb6992c",
            "dd41336356bb4c4cbf7ce2e1cfe9ff69",
            "383eaa2fec3b44aaaf00eb52e9281a02",
            "736b9e5281dc4bcebcef478aab6027ec",
            "decf037e5d6b4e74ae6dee88fae367f6",
            "db448454e74d4060ba2bdd7ed163fd6a",
            "fdb2c96e36af486b9b81960637d08cdd",
            "4022865ce7ea41609b7a0be2d6375f7f",
            "8e4d9c62e27c4b8aaec52503eb7b462a",
            "c3262ebc1e9e478f80f60900969981d6",
            "aee91cee42dd4d928d821644e6a471e1",
            "bc9d65162e2a4918862cc0fa46bd72f1",
            "125b810144484e7586ca5734f851cf74",
            "026454dd6217445488dd3632dfee816a",
            "f4ca2772f9cf4c80b6f5f5bc19365468",
            "f2a0d362c51a435c98817b1a63b2dd2a",
            "529b532572ef49b7b48301b17b162e09",
            "45e5fa1a0d8d4346b9251331aaf3d008",
            "3e8b4d806a8842299d792dbbf088e89c",
            "dbf47f9578c24975b7cb1cee56070ec5",
            "22f7fed9f2584744962ede4ef82363f4",
            "a8bf911330654db380ab1889bfdc27ff",
            "e96cf865ab79433d93fd63c3ba4a3b5a",
            "f96eaaf9ceec41bca5b09e908fb7f018",
            "4b405e10a41044a098d9f1d5f3e311b7",
            "13a2d04bb7d6444e88ed9eb3b3de97e6",
            "66a0f2db4d094f798284dabba2f27d96",
            "f17f213d5b4c444a93acf836a3fb29a1",
            "eb7dbf3d3b794ee09b7c2810d7f92d1c",
            "8a54ba7dc17b43899e10fbd10d700669",
            "dfffce4799e040778131d954ec6e90b3",
            "549b024833634960a864c228e2a26ddb",
            "4cbf3ffba5904e59819d9d1e9aef2e77",
            "aab0209cbb024c0d8ee8019d2f2cc336",
            "9ff8bee2d85b44d78722160dfe694b0d",
            "2d987e441b154c33b024a53833ad7535",
            "8ddd3eea18644ed4b8e5d3f6c93a36e2",
            "fd70e76d3fbe43e194f249cd703944f9",
            "56bbe774329543aba33dff0f8177a9e2",
            "9751c0a41083472fac4f475b7386eea3",
            "f90acef480f74a54aece2923de478878",
            "c2f1a4310f3444e58a654db056ef7ca1",
            "5d4b2fb551ae4a5592a804af764f1002",
            "4e3385e272684515bf113b5a158db1fe",
            "232ed8f68a694820b9e736e097c6f8ba",
            "633bafee644d48fc8bfe21376454f480",
            "da3d3a3c9f554677bcec4068f87573f4",
            "80ce5c5aa05e4e69a74149bc13ca44d0",
            "31b06f273968478c91b72e1744fa69df",
            "6e4b3d4fff0346b6ac6bae76defe1929",
            "7f14882022bf46beb6721725f825a747",
            "4ca7ae829c974b23bce3ea9dd8448d7d",
            "cc95958eb54548eaa5331086857bcce0",
            "db5bbc824ba84635b866ebaa6a16ce44",
            "6adc66a271ff429a84f5635e491f3444",
            "84fceada307d4f358f56cd3e33d7ee64",
            "560f0d7bf835496ebf0d44d9b1ec2b9f",
            "bbafc7d5d48f408eadbf982276c2afeb",
            "65c25b361ce346a2b9c94eee1c7d7c7a",
            "091738712a2f417dbce3208f56b664a0",
            "c43461180e6f4f38b2fa1c4439b8a2bc",
            "8c3b0983164a47609fff45a87a1444c6",
            "ff01b8b6f44747c693f594229dd3314f",
            "cf088c8359314ddd95689f671b782f7b",
            "36f2ce886adb4f50b90754683c2db735",
            "db7a232751a0463fb57c52e4cf4c76ed",
            "5c4e7747f7594dd59fbd32561f3e74d5",
            "02337daa5d264b519fb09c012c60c739",
            "27bebac101ef43409671f4ec0624a2c0",
            "83ffc3b85a6344dfa6ae1e6699f3b48f",
            "5145435bdfe64a1baf81711ad2c4a7c4",
            "8d90d4f1503245949ebebae2c8be737e",
            "84d78dbca8554f98bc3f4873e8575171",
            "fe62d40b3e7e43da88d04459bef82e4e",
            "edc0e2c88c8245a39011a7b5f4c7a5f7",
            "f49d886a65de45f1b3d9b32bd05b9490",
            "8a5368781d884001a664dc228aa6c7f3",
            "131f0422850542a1a4570a9462da8547",
            "f81aa3c7b499496f80b4fdb58de6aed8",
            "262eb115e5bb4353a2a583864e8917a8",
            "153f6f98f87446858b05ad80f5cf183f",
            "a1f903b441564ab38e8a8923699bc62c",
            "5b08b08aaa7a45f594d04259f0b7c0c6",
            "455827c04fc44346bc6650354f9bc64c",
            "4930c9db88e34e37820e2e111fb96937",
            "4b765af1bb4b4a85a82e8c4f125619b5",
            "ff15279f2226410d87a14420771507b2",
            "1e1071e8f4894bf69536137350eba62b",
            "e1a22b6629274542bfbf6bbd89ac8f42",
            "fc4cd45113bf42978dea7f7f0cbdd8c5",
            "627cb6dab8784add9aae9942784e0359",
            "0088768bb6a14271b68da37e1a765d26",
            "e494ff5ad3e64bf795b3c9c2d5d9b20c",
            "406ca7a8da2548c6a221f3c60e1c4259",
            "2cf447f7aba841f092d17a64d9e809e5",
            "6a4b0445508f4c8388be5981b38311dd",
            "593f79924e224b84a435527d9652af2f",
            "9b15117587a5402fb1a5b97472acc04e",
            "ab0416ebe08e4179b23d70c415d2c460",
            "e2e0c24b26ec47be8ffeb15d268b1472",
            "28b2101629484daeb95f3f84c2a1d155",
            "764cfbe557104db494b6e5e59ef6266c",
            "a0c4ac97c88d42a59aef74337af68e61",
            "921993ab2c0e44d5ab89aada1b9027a2",
            "e62316dcfa904fca8624256d3838de52",
            "531e810ae3d94d77beaef7b2ed2511b3",
            "1a0e00dffcac4e9bad294e62d0691a06",
            "c2aabc78ee9c4a76b9475cfade0c642b",
            "df00d7444bad47aea6c4df6993a253ee",
            "8adec4314dd34ab0b4b1ca0dd81e80c2",
            "e653911612114b8cb5cd7301cf4325a6",
            "98bd4826acbb4416a495c3df2b9da72f",
            "0b71a785efe74392a149450a8d8ab0aa",
            "7f6230d284f94f9d8e8f5874cfb991d9",
            "6b46ae775ad3418fab1fd793dcd7a86e",
            "5288bb4f2a4e46e5a162eb1ef636ebc0",
            "7f52e5a4f27d4a7db14cf4606bb544f4",
            "59fa3bd3bc1044d28120ed3eee904c42",
            "b14ea08420af445aa67163002f37cf0a",
            "c1428756213b4824bc2ec13c2123b90e",
            "5ac2b64aa3754ee3b81bc0cc076e4529",
            "ec069ca3836d493b9d6433c69db31204",
            "1a01833e5cb3494b887553688645e1f6",
            "a3ebc445779d49bfa48c9270f4c9f58d",
            "a0708710ccf5438da8beae731871f5f8",
            "146cc2c36079461482212217be6e11d3",
            "13091bf6af494196868cf0200ff4c10f",
            "626cd4b7d7234f9c9aad892e831b8eef",
            "6143f8c44a2e49bf8c8a65412ef959f9",
            "9e2719f92e2946a092b2fd1d0b95d247",
            "801f7b2c228c4415b60f031280d4ba92",
            "e64b864e16dd49a58c82ffa1b8af0220",
            "77ade1fa24fd42cbb074a91c50c81120",
            "079d40870dc843d6b3c3c2f4034bed5e",
            "f663c89b49674f42aa752813444a2b37",
            "25c937f300ad4cbdb5927eba52e99752",
            "87cffd9f6dc14ef5912ef1a8329615ab",
            "6b227a44f1954467b350fcde98b74601",
            "c498f3b14c504c7786c69f2b84f3355d",
            "010e1a65d87c479d9c3e3097fc34317d",
            "20a72c2587b5497b988077e075ebd0b5",
            "7452eeea0cff4beea25eda65ca04feed",
            "d3c23809f7604772b199775a1b7f8945",
            "c5da603ee8d54f518281b564963da4fa",
            "f65f7310878241e29d11fc7bb43ea4c5",
            "e0a9c29f9c274b2a8d8c26615c8de74a",
            "1b9e99e2a95b498d9d1dd1634998c369",
            "96ede44f2b4a40cb820a564d7743a10c",
            "fe1de4f3049e4cc9ab72ba38dd4631c7",
            "fbf30875e4034d8488b1fd884a9f2fcf",
            "8a5f772964ce497d921546288ad19003",
            "bd9e86b4fa754077aadede5f5c6375bc",
            "6772daf909a443ce9e4630176b217664",
            "94476456a4604780899e7dcc5dfc9aab",
            "ca810af3bb264dbfb1dd3ee734518fb0",
            "104161bffe6e433c876d8baeab0a60dc",
            "740f40f8a55148f9ad873b35c8cf80f1",
            "17dd97e56b184e6c929fbb63837550e2",
            "bfc0119f46454cad8639611cc5e9c1b0",
            "710bf746892244ca8253b25f57125a24",
            "07c04969b2ca44c9a40ea6565c052456",
            "8c9b8a44aa7c45889722d3b6c80a952c",
            "b5241a62b98c429bac875b928c78218e",
            "abcfe8b8526b441e943aa02f71e30079",
            "2c8cc7ae221c4844ac7436feab6d441d",
            "7755acba60164e5da0f0fb70fb89d849",
            "f9dab08eb38740f48f5f9a6e144407c2",
            "10fbe62a2c994359a0fd0a4b82e259ae",
            "a4773e79d367407fbc248a9ff3b67199",
            "3cd99aaa880d48168f2576f7e6075eac",
            "1818a632269c4941a8f277d48b266e3e",
            "d9de75af5cda4375b97c25e8ba523485",
            "b42f2663c9814f938ff823cc74569d54",
            "5657bf7ff86c49fe979631ff5def2905",
            "b23c0bbbbc204c38aade6332ea28aabd",
            "d76adad7b49840ba9eae72f6a84395b8",
            "01e7bd053f184973b98b26161da56198",
            "8b75fa708062453697f741dd64d91e7a",
            "7cdbe52354394a9f8d687802f1bcd95a",
            "60dcf42f0353454a99308b0da7a539e4",
            "56fc675a55a5470b8d23379b5f7ef70f",
            "5df8ba2cc4d0470db8977e9d82ae033f",
            "672e59702ee8459280b941bf133686ff",
            "0196e164e6d748f493a681c3b01f8653",
            "45bb699780814f41b2606b7529f4c75e",
            "91154b1375904666a5996098b0d8a030",
            "6475ed9cde784ac58162456ba92c7d48",
            "a1e49354e8114f91880ea4e44edf84c8"
          ]
        }
      },
      "source": [
        "%%timeit\n",
        "\n",
        "list_dicts = []\n",
        "for cnt in tqdm_notebook(list_cnt):\n",
        "  list_user_le = df_copy.query(\"USR_CNT == @cnt\")['user_le'].values\n",
        "\n",
        "  for i, user in tqdm_notebook(enumerate(list_user_le)):\n",
        "    dep_ind = df_copy.DEPART_INDEX.where(df_copy.user_le == user).dropna().values.astype('int32')\n",
        "    all_users = df_copy.user_le.where(df_copy.DEPART_INDEX.isin(dep_ind)).dropna().values.astype('int32')\n",
        "\n",
        "    c = collections.Counter(all_users)\n",
        "    d = dict()\n",
        "    tmp = [k for k, _ in c.items() if c[k]==cnt]\n",
        "    if len(tmp)>1:\n",
        "      for value in tmp:\n",
        "        d[value] = str(cnt) + '_' + str(i)\n",
        "\n",
        "  if bool(d):\n",
        "    list_dicts.append(d)\n",
        "\n",
        "import json\n",
        "colab_path = '/content/drive/My Drive/'\n",
        "with open( os.path.join(colab_path,'list_dict.json'), 'w') as fp:\n",
        "    json.dump(list_dicts, fp)"
      ],
      "execution_count": 0,
      "outputs": [
        {
          "output_type": "display_data",
          "data": {
            "application/vnd.jupyter.widget-view+json": {
              "model_id": "7b55cb4e6e214210b10c8029c1865087",
              "version_major": 2,
              "version_minor": 0
            },
            "text/plain": [
              "HBox(children=(IntProgress(value=0, max=69), HTML(value='')))"
            ]
          },
          "metadata": {
            "tags": []
          }
        },
        {
          "output_type": "display_data",
          "data": {
            "application/vnd.jupyter.widget-view+json": {
              "model_id": "1f70548058bb414ab4166dd4739c03fe",
              "version_major": 2,
              "version_minor": 0
            },
            "text/plain": [
              "HBox(children=(IntProgress(value=1, bar_style='info', max=1), HTML(value='')))"
            ]
          },
          "metadata": {
            "tags": []
          }
        },
        {
          "output_type": "display_data",
          "data": {
            "application/vnd.jupyter.widget-view+json": {
              "model_id": "52065473e5ef4f9898259c3f0d7e5540",
              "version_major": 2,
              "version_minor": 0
            },
            "text/plain": [
              "HBox(children=(IntProgress(value=1, bar_style='info', max=1), HTML(value='')))"
            ]
          },
          "metadata": {
            "tags": []
          }
        },
        {
          "output_type": "display_data",
          "data": {
            "application/vnd.jupyter.widget-view+json": {
              "model_id": "861f9553906747f2957e3d9100bff075",
              "version_major": 2,
              "version_minor": 0
            },
            "text/plain": [
              "HBox(children=(IntProgress(value=1, bar_style='info', max=1), HTML(value='')))"
            ]
          },
          "metadata": {
            "tags": []
          }
        },
        {
          "output_type": "display_data",
          "data": {
            "application/vnd.jupyter.widget-view+json": {
              "model_id": "95f05d323a5a4830985c5adefcb63450",
              "version_major": 2,
              "version_minor": 0
            },
            "text/plain": [
              "HBox(children=(IntProgress(value=1, bar_style='info', max=1), HTML(value='')))"
            ]
          },
          "metadata": {
            "tags": []
          }
        },
        {
          "output_type": "display_data",
          "data": {
            "application/vnd.jupyter.widget-view+json": {
              "model_id": "a35a06c07dc24b7fbce5d86cc6c4c05a",
              "version_major": 2,
              "version_minor": 0
            },
            "text/plain": [
              "HBox(children=(IntProgress(value=1, bar_style='info', max=1), HTML(value='')))"
            ]
          },
          "metadata": {
            "tags": []
          }
        },
        {
          "output_type": "display_data",
          "data": {
            "application/vnd.jupyter.widget-view+json": {
              "model_id": "efb6d619b0674a79b9c10b3ca269cb8d",
              "version_major": 2,
              "version_minor": 0
            },
            "text/plain": [
              "HBox(children=(IntProgress(value=1, bar_style='info', max=1), HTML(value='')))"
            ]
          },
          "metadata": {
            "tags": []
          }
        },
        {
          "output_type": "display_data",
          "data": {
            "application/vnd.jupyter.widget-view+json": {
              "model_id": "1195021e8a604282b7ca4f6ae6ab8535",
              "version_major": 2,
              "version_minor": 0
            },
            "text/plain": [
              "HBox(children=(IntProgress(value=1, bar_style='info', max=1), HTML(value='')))"
            ]
          },
          "metadata": {
            "tags": []
          }
        },
        {
          "output_type": "display_data",
          "data": {
            "application/vnd.jupyter.widget-view+json": {
              "model_id": "56d0999947934dfc8b5d504aad5de345",
              "version_major": 2,
              "version_minor": 0
            },
            "text/plain": [
              "HBox(children=(IntProgress(value=1, bar_style='info', max=1), HTML(value='')))"
            ]
          },
          "metadata": {
            "tags": []
          }
        },
        {
          "output_type": "display_data",
          "data": {
            "application/vnd.jupyter.widget-view+json": {
              "model_id": "d6db17fe034944338089bcd238a6c5f6",
              "version_major": 2,
              "version_minor": 0
            },
            "text/plain": [
              "HBox(children=(IntProgress(value=1, bar_style='info', max=1), HTML(value='')))"
            ]
          },
          "metadata": {
            "tags": []
          }
        },
        {
          "output_type": "display_data",
          "data": {
            "application/vnd.jupyter.widget-view+json": {
              "model_id": "3bdb9158d59c4a98a8d898926b517b7e",
              "version_major": 2,
              "version_minor": 0
            },
            "text/plain": [
              "HBox(children=(IntProgress(value=1, bar_style='info', max=1), HTML(value='')))"
            ]
          },
          "metadata": {
            "tags": []
          }
        },
        {
          "output_type": "display_data",
          "data": {
            "application/vnd.jupyter.widget-view+json": {
              "model_id": "8dce69b82c154285984b2b12e7f8a515",
              "version_major": 2,
              "version_minor": 0
            },
            "text/plain": [
              "HBox(children=(IntProgress(value=1, bar_style='info', max=1), HTML(value='')))"
            ]
          },
          "metadata": {
            "tags": []
          }
        },
        {
          "output_type": "display_data",
          "data": {
            "application/vnd.jupyter.widget-view+json": {
              "model_id": "d08bb9c24d8b470db948e0536793cbfa",
              "version_major": 2,
              "version_minor": 0
            },
            "text/plain": [
              "HBox(children=(IntProgress(value=1, bar_style='info', max=1), HTML(value='')))"
            ]
          },
          "metadata": {
            "tags": []
          }
        },
        {
          "output_type": "display_data",
          "data": {
            "application/vnd.jupyter.widget-view+json": {
              "model_id": "03975d2db9ef4e01a96f1c5053c4808f",
              "version_major": 2,
              "version_minor": 0
            },
            "text/plain": [
              "HBox(children=(IntProgress(value=1, bar_style='info', max=1), HTML(value='')))"
            ]
          },
          "metadata": {
            "tags": []
          }
        },
        {
          "output_type": "display_data",
          "data": {
            "application/vnd.jupyter.widget-view+json": {
              "model_id": "73aa9a348f37400a8b845d69d42d37da",
              "version_major": 2,
              "version_minor": 0
            },
            "text/plain": [
              "HBox(children=(IntProgress(value=1, bar_style='info', max=1), HTML(value='')))"
            ]
          },
          "metadata": {
            "tags": []
          }
        },
        {
          "output_type": "display_data",
          "data": {
            "application/vnd.jupyter.widget-view+json": {
              "model_id": "9ef37fdafbb94dbc88887ee5f6bbf962",
              "version_major": 2,
              "version_minor": 0
            },
            "text/plain": [
              "HBox(children=(IntProgress(value=1, bar_style='info', max=1), HTML(value='')))"
            ]
          },
          "metadata": {
            "tags": []
          }
        },
        {
          "output_type": "display_data",
          "data": {
            "application/vnd.jupyter.widget-view+json": {
              "model_id": "213196556199463699244149473ac94f",
              "version_major": 2,
              "version_minor": 0
            },
            "text/plain": [
              "HBox(children=(IntProgress(value=1, bar_style='info', max=1), HTML(value='')))"
            ]
          },
          "metadata": {
            "tags": []
          }
        },
        {
          "output_type": "display_data",
          "data": {
            "application/vnd.jupyter.widget-view+json": {
              "model_id": "096ced46c3cb49e5b661a8216d17606b",
              "version_major": 2,
              "version_minor": 0
            },
            "text/plain": [
              "HBox(children=(IntProgress(value=1, bar_style='info', max=1), HTML(value='')))"
            ]
          },
          "metadata": {
            "tags": []
          }
        },
        {
          "output_type": "display_data",
          "data": {
            "application/vnd.jupyter.widget-view+json": {
              "model_id": "110ae86436d54fcc9ba80f014a53a593",
              "version_major": 2,
              "version_minor": 0
            },
            "text/plain": [
              "HBox(children=(IntProgress(value=1, bar_style='info', max=1), HTML(value='')))"
            ]
          },
          "metadata": {
            "tags": []
          }
        },
        {
          "output_type": "display_data",
          "data": {
            "application/vnd.jupyter.widget-view+json": {
              "model_id": "016766cb4d1e4a14a6fd8ea15735acd4",
              "version_major": 2,
              "version_minor": 0
            },
            "text/plain": [
              "HBox(children=(IntProgress(value=1, bar_style='info', max=1), HTML(value='')))"
            ]
          },
          "metadata": {
            "tags": []
          }
        },
        {
          "output_type": "display_data",
          "data": {
            "application/vnd.jupyter.widget-view+json": {
              "model_id": "439b8bab5de44f648ed4b89bb8fa1e55",
              "version_major": 2,
              "version_minor": 0
            },
            "text/plain": [
              "HBox(children=(IntProgress(value=1, bar_style='info', max=1), HTML(value='')))"
            ]
          },
          "metadata": {
            "tags": []
          }
        },
        {
          "output_type": "display_data",
          "data": {
            "application/vnd.jupyter.widget-view+json": {
              "model_id": "3caed2ed607e40d191cbde909306d20c",
              "version_major": 2,
              "version_minor": 0
            },
            "text/plain": [
              "HBox(children=(IntProgress(value=1, bar_style='info', max=1), HTML(value='')))"
            ]
          },
          "metadata": {
            "tags": []
          }
        },
        {
          "output_type": "display_data",
          "data": {
            "application/vnd.jupyter.widget-view+json": {
              "model_id": "d8e3a978783c409081d2aa7ea53992c1",
              "version_major": 2,
              "version_minor": 0
            },
            "text/plain": [
              "HBox(children=(IntProgress(value=1, bar_style='info', max=1), HTML(value='')))"
            ]
          },
          "metadata": {
            "tags": []
          }
        },
        {
          "output_type": "display_data",
          "data": {
            "application/vnd.jupyter.widget-view+json": {
              "model_id": "faa3b19f1598483c89936de38c312d48",
              "version_major": 2,
              "version_minor": 0
            },
            "text/plain": [
              "HBox(children=(IntProgress(value=1, bar_style='info', max=1), HTML(value='')))"
            ]
          },
          "metadata": {
            "tags": []
          }
        },
        {
          "output_type": "display_data",
          "data": {
            "application/vnd.jupyter.widget-view+json": {
              "model_id": "b9fc748c224b4f52bbee4082a24b10f8",
              "version_major": 2,
              "version_minor": 0
            },
            "text/plain": [
              "HBox(children=(IntProgress(value=1, bar_style='info', max=1), HTML(value='')))"
            ]
          },
          "metadata": {
            "tags": []
          }
        },
        {
          "output_type": "display_data",
          "data": {
            "application/vnd.jupyter.widget-view+json": {
              "model_id": "2cf8c5d1af624ad48cbe03a493b847d4",
              "version_major": 2,
              "version_minor": 0
            },
            "text/plain": [
              "HBox(children=(IntProgress(value=1, bar_style='info', max=1), HTML(value='')))"
            ]
          },
          "metadata": {
            "tags": []
          }
        },
        {
          "output_type": "display_data",
          "data": {
            "application/vnd.jupyter.widget-view+json": {
              "model_id": "cd0f4a1108bd45fe8e1fa2ed0eb10e49",
              "version_major": 2,
              "version_minor": 0
            },
            "text/plain": [
              "HBox(children=(IntProgress(value=1, bar_style='info', max=1), HTML(value='')))"
            ]
          },
          "metadata": {
            "tags": []
          }
        },
        {
          "output_type": "display_data",
          "data": {
            "application/vnd.jupyter.widget-view+json": {
              "model_id": "30a7418dbf16436489a9e57d0a908ef2",
              "version_major": 2,
              "version_minor": 0
            },
            "text/plain": [
              "HBox(children=(IntProgress(value=1, bar_style='info', max=1), HTML(value='')))"
            ]
          },
          "metadata": {
            "tags": []
          }
        },
        {
          "output_type": "display_data",
          "data": {
            "application/vnd.jupyter.widget-view+json": {
              "model_id": "06251dee1348420ea8cc6b334d1b6d61",
              "version_major": 2,
              "version_minor": 0
            },
            "text/plain": [
              "HBox(children=(IntProgress(value=1, bar_style='info', max=1), HTML(value='')))"
            ]
          },
          "metadata": {
            "tags": []
          }
        },
        {
          "output_type": "display_data",
          "data": {
            "application/vnd.jupyter.widget-view+json": {
              "model_id": "38d72a5fda164f72b122e410b828065c",
              "version_major": 2,
              "version_minor": 0
            },
            "text/plain": [
              "HBox(children=(IntProgress(value=1, bar_style='info', max=1), HTML(value='')))"
            ]
          },
          "metadata": {
            "tags": []
          }
        },
        {
          "output_type": "display_data",
          "data": {
            "application/vnd.jupyter.widget-view+json": {
              "model_id": "eb5fdc56310c41d095fde36f51cf93e1",
              "version_major": 2,
              "version_minor": 0
            },
            "text/plain": [
              "HBox(children=(IntProgress(value=1, bar_style='info', max=1), HTML(value='')))"
            ]
          },
          "metadata": {
            "tags": []
          }
        },
        {
          "output_type": "display_data",
          "data": {
            "application/vnd.jupyter.widget-view+json": {
              "model_id": "231e59d566f340adb94077b826b81b25",
              "version_major": 2,
              "version_minor": 0
            },
            "text/plain": [
              "HBox(children=(IntProgress(value=1, bar_style='info', max=1), HTML(value='')))"
            ]
          },
          "metadata": {
            "tags": []
          }
        },
        {
          "output_type": "display_data",
          "data": {
            "application/vnd.jupyter.widget-view+json": {
              "model_id": "3d5b923402ad426487af73d6dcd0e2ab",
              "version_major": 2,
              "version_minor": 0
            },
            "text/plain": [
              "HBox(children=(IntProgress(value=1, bar_style='info', max=1), HTML(value='')))"
            ]
          },
          "metadata": {
            "tags": []
          }
        },
        {
          "output_type": "display_data",
          "data": {
            "application/vnd.jupyter.widget-view+json": {
              "model_id": "12863cbe8aff41f7b456ed392d736d9c",
              "version_major": 2,
              "version_minor": 0
            },
            "text/plain": [
              "HBox(children=(IntProgress(value=1, bar_style='info', max=1), HTML(value='')))"
            ]
          },
          "metadata": {
            "tags": []
          }
        },
        {
          "output_type": "display_data",
          "data": {
            "application/vnd.jupyter.widget-view+json": {
              "model_id": "bc1e20f46e8041febbbaaeb1b5885449",
              "version_major": 2,
              "version_minor": 0
            },
            "text/plain": [
              "HBox(children=(IntProgress(value=1, bar_style='info', max=1), HTML(value='')))"
            ]
          },
          "metadata": {
            "tags": []
          }
        },
        {
          "output_type": "display_data",
          "data": {
            "application/vnd.jupyter.widget-view+json": {
              "model_id": "82fc64274d6c4d80b219ecd58318fb43",
              "version_major": 2,
              "version_minor": 0
            },
            "text/plain": [
              "HBox(children=(IntProgress(value=1, bar_style='info', max=1), HTML(value='')))"
            ]
          },
          "metadata": {
            "tags": []
          }
        },
        {
          "output_type": "display_data",
          "data": {
            "application/vnd.jupyter.widget-view+json": {
              "model_id": "04b21c24e0d44ffb919b1274c6d518f0",
              "version_major": 2,
              "version_minor": 0
            },
            "text/plain": [
              "HBox(children=(IntProgress(value=1, bar_style='info', max=1), HTML(value='')))"
            ]
          },
          "metadata": {
            "tags": []
          }
        },
        {
          "output_type": "display_data",
          "data": {
            "application/vnd.jupyter.widget-view+json": {
              "model_id": "c3e038883eab48fabf44dc2e9989e822",
              "version_major": 2,
              "version_minor": 0
            },
            "text/plain": [
              "HBox(children=(IntProgress(value=1, bar_style='info', max=1), HTML(value='')))"
            ]
          },
          "metadata": {
            "tags": []
          }
        },
        {
          "output_type": "display_data",
          "data": {
            "application/vnd.jupyter.widget-view+json": {
              "model_id": "21e92a9355b3482ea2c32c9e775e3041",
              "version_major": 2,
              "version_minor": 0
            },
            "text/plain": [
              "HBox(children=(IntProgress(value=1, bar_style='info', max=1), HTML(value='')))"
            ]
          },
          "metadata": {
            "tags": []
          }
        },
        {
          "output_type": "display_data",
          "data": {
            "application/vnd.jupyter.widget-view+json": {
              "model_id": "fc65721705c944e2a9c98f21275a56e2",
              "version_major": 2,
              "version_minor": 0
            },
            "text/plain": [
              "HBox(children=(IntProgress(value=1, bar_style='info', max=1), HTML(value='')))"
            ]
          },
          "metadata": {
            "tags": []
          }
        },
        {
          "output_type": "display_data",
          "data": {
            "application/vnd.jupyter.widget-view+json": {
              "model_id": "2fb4cfa4beeb4263bcc36c34d3facfa7",
              "version_major": 2,
              "version_minor": 0
            },
            "text/plain": [
              "HBox(children=(IntProgress(value=1, bar_style='info', max=1), HTML(value='')))"
            ]
          },
          "metadata": {
            "tags": []
          }
        },
        {
          "output_type": "display_data",
          "data": {
            "application/vnd.jupyter.widget-view+json": {
              "model_id": "331051b8b7df4c5b97e84b5e26c21afa",
              "version_major": 2,
              "version_minor": 0
            },
            "text/plain": [
              "HBox(children=(IntProgress(value=1, bar_style='info', max=1), HTML(value='')))"
            ]
          },
          "metadata": {
            "tags": []
          }
        },
        {
          "output_type": "display_data",
          "data": {
            "application/vnd.jupyter.widget-view+json": {
              "model_id": "f131ae8378ed4d65965aedc7c3481e89",
              "version_major": 2,
              "version_minor": 0
            },
            "text/plain": [
              "HBox(children=(IntProgress(value=1, bar_style='info', max=1), HTML(value='')))"
            ]
          },
          "metadata": {
            "tags": []
          }
        },
        {
          "output_type": "display_data",
          "data": {
            "application/vnd.jupyter.widget-view+json": {
              "model_id": "dca2efe329654ff099dfe463889f4c46",
              "version_major": 2,
              "version_minor": 0
            },
            "text/plain": [
              "HBox(children=(IntProgress(value=1, bar_style='info', max=1), HTML(value='')))"
            ]
          },
          "metadata": {
            "tags": []
          }
        },
        {
          "output_type": "display_data",
          "data": {
            "application/vnd.jupyter.widget-view+json": {
              "model_id": "3edf737be7c44d1e89d47ae9be472b7a",
              "version_major": 2,
              "version_minor": 0
            },
            "text/plain": [
              "HBox(children=(IntProgress(value=1, bar_style='info', max=1), HTML(value='')))"
            ]
          },
          "metadata": {
            "tags": []
          }
        },
        {
          "output_type": "display_data",
          "data": {
            "application/vnd.jupyter.widget-view+json": {
              "model_id": "1bd76b4e71e747b282e70fec1ede3635",
              "version_major": 2,
              "version_minor": 0
            },
            "text/plain": [
              "HBox(children=(IntProgress(value=1, bar_style='info', max=1), HTML(value='')))"
            ]
          },
          "metadata": {
            "tags": []
          }
        },
        {
          "output_type": "display_data",
          "data": {
            "application/vnd.jupyter.widget-view+json": {
              "model_id": "d3b5fa303b254b7fa469fa786e4507a9",
              "version_major": 2,
              "version_minor": 0
            },
            "text/plain": [
              "HBox(children=(IntProgress(value=1, bar_style='info', max=1), HTML(value='')))"
            ]
          },
          "metadata": {
            "tags": []
          }
        },
        {
          "output_type": "display_data",
          "data": {
            "application/vnd.jupyter.widget-view+json": {
              "model_id": "b53dbb9be92340db965146a6bc686f7e",
              "version_major": 2,
              "version_minor": 0
            },
            "text/plain": [
              "HBox(children=(IntProgress(value=1, bar_style='info', max=1), HTML(value='')))"
            ]
          },
          "metadata": {
            "tags": []
          }
        },
        {
          "output_type": "display_data",
          "data": {
            "application/vnd.jupyter.widget-view+json": {
              "model_id": "a1d8c264bb7c44f29e37994d66b30a3d",
              "version_major": 2,
              "version_minor": 0
            },
            "text/plain": [
              "HBox(children=(IntProgress(value=1, bar_style='info', max=1), HTML(value='')))"
            ]
          },
          "metadata": {
            "tags": []
          }
        },
        {
          "output_type": "display_data",
          "data": {
            "application/vnd.jupyter.widget-view+json": {
              "model_id": "8803a790a92e4df3a402818b84ffedbc",
              "version_major": 2,
              "version_minor": 0
            },
            "text/plain": [
              "HBox(children=(IntProgress(value=1, bar_style='info', max=1), HTML(value='')))"
            ]
          },
          "metadata": {
            "tags": []
          }
        },
        {
          "output_type": "display_data",
          "data": {
            "application/vnd.jupyter.widget-view+json": {
              "model_id": "4e917569a2af4f3b94de9db39a908620",
              "version_major": 2,
              "version_minor": 0
            },
            "text/plain": [
              "HBox(children=(IntProgress(value=1, bar_style='info', max=1), HTML(value='')))"
            ]
          },
          "metadata": {
            "tags": []
          }
        },
        {
          "output_type": "display_data",
          "data": {
            "application/vnd.jupyter.widget-view+json": {
              "model_id": "62e06159399749aeadb6296a1c27cf32",
              "version_major": 2,
              "version_minor": 0
            },
            "text/plain": [
              "HBox(children=(IntProgress(value=1, bar_style='info', max=1), HTML(value='')))"
            ]
          },
          "metadata": {
            "tags": []
          }
        },
        {
          "output_type": "display_data",
          "data": {
            "application/vnd.jupyter.widget-view+json": {
              "model_id": "fdf21b356d274065abe9ada5dc53fc54",
              "version_major": 2,
              "version_minor": 0
            },
            "text/plain": [
              "HBox(children=(IntProgress(value=1, bar_style='info', max=1), HTML(value='')))"
            ]
          },
          "metadata": {
            "tags": []
          }
        },
        {
          "output_type": "display_data",
          "data": {
            "application/vnd.jupyter.widget-view+json": {
              "model_id": "afe485e671fd455aa2d75beb17f0b5c5",
              "version_major": 2,
              "version_minor": 0
            },
            "text/plain": [
              "HBox(children=(IntProgress(value=1, bar_style='info', max=1), HTML(value='')))"
            ]
          },
          "metadata": {
            "tags": []
          }
        },
        {
          "output_type": "display_data",
          "data": {
            "application/vnd.jupyter.widget-view+json": {
              "model_id": "2c47bb542ada47bfb3202db46dd8f489",
              "version_major": 2,
              "version_minor": 0
            },
            "text/plain": [
              "HBox(children=(IntProgress(value=1, bar_style='info', max=1), HTML(value='')))"
            ]
          },
          "metadata": {
            "tags": []
          }
        },
        {
          "output_type": "display_data",
          "data": {
            "application/vnd.jupyter.widget-view+json": {
              "model_id": "8ddf4d40ee214e359f71c24ac36d8ce2",
              "version_major": 2,
              "version_minor": 0
            },
            "text/plain": [
              "HBox(children=(IntProgress(value=1, bar_style='info', max=1), HTML(value='')))"
            ]
          },
          "metadata": {
            "tags": []
          }
        },
        {
          "output_type": "display_data",
          "data": {
            "application/vnd.jupyter.widget-view+json": {
              "model_id": "6ba4663b8b2c4558aa40b7d165764015",
              "version_major": 2,
              "version_minor": 0
            },
            "text/plain": [
              "HBox(children=(IntProgress(value=1, bar_style='info', max=1), HTML(value='')))"
            ]
          },
          "metadata": {
            "tags": []
          }
        },
        {
          "output_type": "display_data",
          "data": {
            "application/vnd.jupyter.widget-view+json": {
              "model_id": "33c619146bfa4ac19a7ef948679a67da",
              "version_major": 2,
              "version_minor": 0
            },
            "text/plain": [
              "HBox(children=(IntProgress(value=1, bar_style='info', max=1), HTML(value='')))"
            ]
          },
          "metadata": {
            "tags": []
          }
        },
        {
          "output_type": "display_data",
          "data": {
            "application/vnd.jupyter.widget-view+json": {
              "model_id": "a38c11c2f75f4392aec6e68f5396b218",
              "version_major": 2,
              "version_minor": 0
            },
            "text/plain": [
              "HBox(children=(IntProgress(value=1, bar_style='info', max=1), HTML(value='')))"
            ]
          },
          "metadata": {
            "tags": []
          }
        },
        {
          "output_type": "display_data",
          "data": {
            "application/vnd.jupyter.widget-view+json": {
              "model_id": "669a5e7d86f1426d9c1391a4cfae085f",
              "version_major": 2,
              "version_minor": 0
            },
            "text/plain": [
              "HBox(children=(IntProgress(value=1, bar_style='info', max=1), HTML(value='')))"
            ]
          },
          "metadata": {
            "tags": []
          }
        },
        {
          "output_type": "display_data",
          "data": {
            "application/vnd.jupyter.widget-view+json": {
              "model_id": "3c0e53ea307c41e3b4fd221945df9de7",
              "version_major": 2,
              "version_minor": 0
            },
            "text/plain": [
              "HBox(children=(IntProgress(value=1, bar_style='info', max=1), HTML(value='')))"
            ]
          },
          "metadata": {
            "tags": []
          }
        },
        {
          "output_type": "display_data",
          "data": {
            "application/vnd.jupyter.widget-view+json": {
              "model_id": "3f7db1a28d9a4371962771ab681722be",
              "version_major": 2,
              "version_minor": 0
            },
            "text/plain": [
              "HBox(children=(IntProgress(value=1, bar_style='info', max=1), HTML(value='')))"
            ]
          },
          "metadata": {
            "tags": []
          }
        },
        {
          "output_type": "display_data",
          "data": {
            "application/vnd.jupyter.widget-view+json": {
              "model_id": "11e403331190477b923fa5bb1e37e20d",
              "version_major": 2,
              "version_minor": 0
            },
            "text/plain": [
              "HBox(children=(IntProgress(value=1, bar_style='info', max=1), HTML(value='')))"
            ]
          },
          "metadata": {
            "tags": []
          }
        },
        {
          "output_type": "display_data",
          "data": {
            "application/vnd.jupyter.widget-view+json": {
              "model_id": "8be387b397a343b8874b6920f4bb3396",
              "version_major": 2,
              "version_minor": 0
            },
            "text/plain": [
              "HBox(children=(IntProgress(value=1, bar_style='info', max=1), HTML(value='')))"
            ]
          },
          "metadata": {
            "tags": []
          }
        },
        {
          "output_type": "display_data",
          "data": {
            "application/vnd.jupyter.widget-view+json": {
              "model_id": "48463e4446ef49e1915a40c34a7fcc79",
              "version_major": 2,
              "version_minor": 0
            },
            "text/plain": [
              "HBox(children=(IntProgress(value=1, bar_style='info', max=1), HTML(value='')))"
            ]
          },
          "metadata": {
            "tags": []
          }
        },
        {
          "output_type": "display_data",
          "data": {
            "application/vnd.jupyter.widget-view+json": {
              "model_id": "c99efd2863b54e88b3d22ee28e998f8d",
              "version_major": 2,
              "version_minor": 0
            },
            "text/plain": [
              "HBox(children=(IntProgress(value=1, bar_style='info', max=1), HTML(value='')))"
            ]
          },
          "metadata": {
            "tags": []
          }
        },
        {
          "output_type": "display_data",
          "data": {
            "application/vnd.jupyter.widget-view+json": {
              "model_id": "fd62fe602e2f499cb7c9d16f2bb5f613",
              "version_major": 2,
              "version_minor": 0
            },
            "text/plain": [
              "HBox(children=(IntProgress(value=1, bar_style='info', max=1), HTML(value='')))"
            ]
          },
          "metadata": {
            "tags": []
          }
        },
        {
          "output_type": "display_data",
          "data": {
            "application/vnd.jupyter.widget-view+json": {
              "model_id": "7c6c6b80800b409cad66c612d864acd5",
              "version_major": 2,
              "version_minor": 0
            },
            "text/plain": [
              "HBox(children=(IntProgress(value=1, bar_style='info', max=1), HTML(value='')))"
            ]
          },
          "metadata": {
            "tags": []
          }
        },
        {
          "output_type": "display_data",
          "data": {
            "application/vnd.jupyter.widget-view+json": {
              "model_id": "2ffe2bcfe71643768fad87cef9fa1a16",
              "version_major": 2,
              "version_minor": 0
            },
            "text/plain": [
              "HBox(children=(IntProgress(value=1, bar_style='info', max=1), HTML(value='')))"
            ]
          },
          "metadata": {
            "tags": []
          }
        },
        {
          "output_type": "display_data",
          "data": {
            "application/vnd.jupyter.widget-view+json": {
              "model_id": "dcafbc4fdb254b2592b9d8adea6daf69",
              "version_major": 2,
              "version_minor": 0
            },
            "text/plain": [
              "HBox(children=(IntProgress(value=1, bar_style='info', max=1), HTML(value='')))"
            ]
          },
          "metadata": {
            "tags": []
          }
        },
        {
          "output_type": "stream",
          "text": [
            "\n"
          ],
          "name": "stdout"
        },
        {
          "output_type": "display_data",
          "data": {
            "application/vnd.jupyter.widget-view+json": {
              "model_id": "59aef30e827b402c8892a109a523a5df",
              "version_major": 2,
              "version_minor": 0
            },
            "text/plain": [
              "HBox(children=(IntProgress(value=0, max=69), HTML(value='')))"
            ]
          },
          "metadata": {
            "tags": []
          }
        },
        {
          "output_type": "display_data",
          "data": {
            "application/vnd.jupyter.widget-view+json": {
              "model_id": "0bb4429c86b941b7ad7dc9a59b149776",
              "version_major": 2,
              "version_minor": 0
            },
            "text/plain": [
              "HBox(children=(IntProgress(value=1, bar_style='info', max=1), HTML(value='')))"
            ]
          },
          "metadata": {
            "tags": []
          }
        },
        {
          "output_type": "display_data",
          "data": {
            "application/vnd.jupyter.widget-view+json": {
              "model_id": "f8b7ac1cbbaa42fe8b2022a63c004fc5",
              "version_major": 2,
              "version_minor": 0
            },
            "text/plain": [
              "HBox(children=(IntProgress(value=1, bar_style='info', max=1), HTML(value='')))"
            ]
          },
          "metadata": {
            "tags": []
          }
        },
        {
          "output_type": "display_data",
          "data": {
            "application/vnd.jupyter.widget-view+json": {
              "model_id": "a43c9d5fc6b14e0c92b74dbe1f475c49",
              "version_major": 2,
              "version_minor": 0
            },
            "text/plain": [
              "HBox(children=(IntProgress(value=1, bar_style='info', max=1), HTML(value='')))"
            ]
          },
          "metadata": {
            "tags": []
          }
        },
        {
          "output_type": "display_data",
          "data": {
            "application/vnd.jupyter.widget-view+json": {
              "model_id": "21eab978ba0c408794a9d69ca007868b",
              "version_major": 2,
              "version_minor": 0
            },
            "text/plain": [
              "HBox(children=(IntProgress(value=1, bar_style='info', max=1), HTML(value='')))"
            ]
          },
          "metadata": {
            "tags": []
          }
        },
        {
          "output_type": "display_data",
          "data": {
            "application/vnd.jupyter.widget-view+json": {
              "model_id": "70399b9d61ed407d9ff9528696daafb6",
              "version_major": 2,
              "version_minor": 0
            },
            "text/plain": [
              "HBox(children=(IntProgress(value=1, bar_style='info', max=1), HTML(value='')))"
            ]
          },
          "metadata": {
            "tags": []
          }
        },
        {
          "output_type": "display_data",
          "data": {
            "application/vnd.jupyter.widget-view+json": {
              "model_id": "ac2de2fb3b374e888745f9c957af27b5",
              "version_major": 2,
              "version_minor": 0
            },
            "text/plain": [
              "HBox(children=(IntProgress(value=1, bar_style='info', max=1), HTML(value='')))"
            ]
          },
          "metadata": {
            "tags": []
          }
        },
        {
          "output_type": "display_data",
          "data": {
            "application/vnd.jupyter.widget-view+json": {
              "model_id": "46429af545744035bebc9b57a1b2c464",
              "version_major": 2,
              "version_minor": 0
            },
            "text/plain": [
              "HBox(children=(IntProgress(value=1, bar_style='info', max=1), HTML(value='')))"
            ]
          },
          "metadata": {
            "tags": []
          }
        },
        {
          "output_type": "display_data",
          "data": {
            "application/vnd.jupyter.widget-view+json": {
              "model_id": "deff824f3a424937aeed362d44de9a17",
              "version_major": 2,
              "version_minor": 0
            },
            "text/plain": [
              "HBox(children=(IntProgress(value=1, bar_style='info', max=1), HTML(value='')))"
            ]
          },
          "metadata": {
            "tags": []
          }
        },
        {
          "output_type": "display_data",
          "data": {
            "application/vnd.jupyter.widget-view+json": {
              "model_id": "c85a9c5da17645d28a3807bbae9392de",
              "version_major": 2,
              "version_minor": 0
            },
            "text/plain": [
              "HBox(children=(IntProgress(value=1, bar_style='info', max=1), HTML(value='')))"
            ]
          },
          "metadata": {
            "tags": []
          }
        },
        {
          "output_type": "display_data",
          "data": {
            "application/vnd.jupyter.widget-view+json": {
              "model_id": "cbea4f1aebe145b884082524fce77071",
              "version_major": 2,
              "version_minor": 0
            },
            "text/plain": [
              "HBox(children=(IntProgress(value=1, bar_style='info', max=1), HTML(value='')))"
            ]
          },
          "metadata": {
            "tags": []
          }
        },
        {
          "output_type": "display_data",
          "data": {
            "application/vnd.jupyter.widget-view+json": {
              "model_id": "9f39837ca0cc426fb68f11ff70b533f3",
              "version_major": 2,
              "version_minor": 0
            },
            "text/plain": [
              "HBox(children=(IntProgress(value=1, bar_style='info', max=1), HTML(value='')))"
            ]
          },
          "metadata": {
            "tags": []
          }
        },
        {
          "output_type": "display_data",
          "data": {
            "application/vnd.jupyter.widget-view+json": {
              "model_id": "f628a8441fff46bbbd1b7bdd3be55559",
              "version_major": 2,
              "version_minor": 0
            },
            "text/plain": [
              "HBox(children=(IntProgress(value=1, bar_style='info', max=1), HTML(value='')))"
            ]
          },
          "metadata": {
            "tags": []
          }
        },
        {
          "output_type": "display_data",
          "data": {
            "application/vnd.jupyter.widget-view+json": {
              "model_id": "c3f872dae539457d94bf19838f1c7e8f",
              "version_major": 2,
              "version_minor": 0
            },
            "text/plain": [
              "HBox(children=(IntProgress(value=1, bar_style='info', max=1), HTML(value='')))"
            ]
          },
          "metadata": {
            "tags": []
          }
        },
        {
          "output_type": "display_data",
          "data": {
            "application/vnd.jupyter.widget-view+json": {
              "model_id": "6294ae8f8e0942f88b0829c9bc8c71e4",
              "version_major": 2,
              "version_minor": 0
            },
            "text/plain": [
              "HBox(children=(IntProgress(value=1, bar_style='info', max=1), HTML(value='')))"
            ]
          },
          "metadata": {
            "tags": []
          }
        },
        {
          "output_type": "display_data",
          "data": {
            "application/vnd.jupyter.widget-view+json": {
              "model_id": "1690d1eb01564d5d9f3dbabbe02369cf",
              "version_major": 2,
              "version_minor": 0
            },
            "text/plain": [
              "HBox(children=(IntProgress(value=1, bar_style='info', max=1), HTML(value='')))"
            ]
          },
          "metadata": {
            "tags": []
          }
        },
        {
          "output_type": "display_data",
          "data": {
            "application/vnd.jupyter.widget-view+json": {
              "model_id": "d207072c157c4e4eb5984e348483f09a",
              "version_major": 2,
              "version_minor": 0
            },
            "text/plain": [
              "HBox(children=(IntProgress(value=1, bar_style='info', max=1), HTML(value='')))"
            ]
          },
          "metadata": {
            "tags": []
          }
        },
        {
          "output_type": "display_data",
          "data": {
            "application/vnd.jupyter.widget-view+json": {
              "model_id": "1ac37131cced4a81be8d552c0529d83e",
              "version_major": 2,
              "version_minor": 0
            },
            "text/plain": [
              "HBox(children=(IntProgress(value=1, bar_style='info', max=1), HTML(value='')))"
            ]
          },
          "metadata": {
            "tags": []
          }
        },
        {
          "output_type": "display_data",
          "data": {
            "application/vnd.jupyter.widget-view+json": {
              "model_id": "0b7eec48533e4c99bfd0e357289d40cc",
              "version_major": 2,
              "version_minor": 0
            },
            "text/plain": [
              "HBox(children=(IntProgress(value=1, bar_style='info', max=1), HTML(value='')))"
            ]
          },
          "metadata": {
            "tags": []
          }
        },
        {
          "output_type": "display_data",
          "data": {
            "application/vnd.jupyter.widget-view+json": {
              "model_id": "ba55542789bd4e89b36cb0fdeda6d15f",
              "version_major": 2,
              "version_minor": 0
            },
            "text/plain": [
              "HBox(children=(IntProgress(value=1, bar_style='info', max=1), HTML(value='')))"
            ]
          },
          "metadata": {
            "tags": []
          }
        },
        {
          "output_type": "display_data",
          "data": {
            "application/vnd.jupyter.widget-view+json": {
              "model_id": "7264ee08eaa9471f83b4d42fddbbc008",
              "version_major": 2,
              "version_minor": 0
            },
            "text/plain": [
              "HBox(children=(IntProgress(value=1, bar_style='info', max=1), HTML(value='')))"
            ]
          },
          "metadata": {
            "tags": []
          }
        },
        {
          "output_type": "display_data",
          "data": {
            "application/vnd.jupyter.widget-view+json": {
              "model_id": "fde758739fcf495f98758a518f8b9149",
              "version_major": 2,
              "version_minor": 0
            },
            "text/plain": [
              "HBox(children=(IntProgress(value=1, bar_style='info', max=1), HTML(value='')))"
            ]
          },
          "metadata": {
            "tags": []
          }
        },
        {
          "output_type": "display_data",
          "data": {
            "application/vnd.jupyter.widget-view+json": {
              "model_id": "be8ef9d8b59e4cbcb0d0eccfbeb6992c",
              "version_major": 2,
              "version_minor": 0
            },
            "text/plain": [
              "HBox(children=(IntProgress(value=1, bar_style='info', max=1), HTML(value='')))"
            ]
          },
          "metadata": {
            "tags": []
          }
        },
        {
          "output_type": "display_data",
          "data": {
            "application/vnd.jupyter.widget-view+json": {
              "model_id": "dd41336356bb4c4cbf7ce2e1cfe9ff69",
              "version_major": 2,
              "version_minor": 0
            },
            "text/plain": [
              "HBox(children=(IntProgress(value=1, bar_style='info', max=1), HTML(value='')))"
            ]
          },
          "metadata": {
            "tags": []
          }
        },
        {
          "output_type": "display_data",
          "data": {
            "application/vnd.jupyter.widget-view+json": {
              "model_id": "383eaa2fec3b44aaaf00eb52e9281a02",
              "version_major": 2,
              "version_minor": 0
            },
            "text/plain": [
              "HBox(children=(IntProgress(value=1, bar_style='info', max=1), HTML(value='')))"
            ]
          },
          "metadata": {
            "tags": []
          }
        },
        {
          "output_type": "display_data",
          "data": {
            "application/vnd.jupyter.widget-view+json": {
              "model_id": "736b9e5281dc4bcebcef478aab6027ec",
              "version_major": 2,
              "version_minor": 0
            },
            "text/plain": [
              "HBox(children=(IntProgress(value=1, bar_style='info', max=1), HTML(value='')))"
            ]
          },
          "metadata": {
            "tags": []
          }
        },
        {
          "output_type": "display_data",
          "data": {
            "application/vnd.jupyter.widget-view+json": {
              "model_id": "decf037e5d6b4e74ae6dee88fae367f6",
              "version_major": 2,
              "version_minor": 0
            },
            "text/plain": [
              "HBox(children=(IntProgress(value=1, bar_style='info', max=1), HTML(value='')))"
            ]
          },
          "metadata": {
            "tags": []
          }
        },
        {
          "output_type": "display_data",
          "data": {
            "application/vnd.jupyter.widget-view+json": {
              "model_id": "db448454e74d4060ba2bdd7ed163fd6a",
              "version_major": 2,
              "version_minor": 0
            },
            "text/plain": [
              "HBox(children=(IntProgress(value=1, bar_style='info', max=1), HTML(value='')))"
            ]
          },
          "metadata": {
            "tags": []
          }
        },
        {
          "output_type": "display_data",
          "data": {
            "application/vnd.jupyter.widget-view+json": {
              "model_id": "fdb2c96e36af486b9b81960637d08cdd",
              "version_major": 2,
              "version_minor": 0
            },
            "text/plain": [
              "HBox(children=(IntProgress(value=1, bar_style='info', max=1), HTML(value='')))"
            ]
          },
          "metadata": {
            "tags": []
          }
        },
        {
          "output_type": "display_data",
          "data": {
            "application/vnd.jupyter.widget-view+json": {
              "model_id": "4022865ce7ea41609b7a0be2d6375f7f",
              "version_major": 2,
              "version_minor": 0
            },
            "text/plain": [
              "HBox(children=(IntProgress(value=1, bar_style='info', max=1), HTML(value='')))"
            ]
          },
          "metadata": {
            "tags": []
          }
        },
        {
          "output_type": "display_data",
          "data": {
            "application/vnd.jupyter.widget-view+json": {
              "model_id": "8e4d9c62e27c4b8aaec52503eb7b462a",
              "version_major": 2,
              "version_minor": 0
            },
            "text/plain": [
              "HBox(children=(IntProgress(value=1, bar_style='info', max=1), HTML(value='')))"
            ]
          },
          "metadata": {
            "tags": []
          }
        },
        {
          "output_type": "display_data",
          "data": {
            "application/vnd.jupyter.widget-view+json": {
              "model_id": "c3262ebc1e9e478f80f60900969981d6",
              "version_major": 2,
              "version_minor": 0
            },
            "text/plain": [
              "HBox(children=(IntProgress(value=1, bar_style='info', max=1), HTML(value='')))"
            ]
          },
          "metadata": {
            "tags": []
          }
        },
        {
          "output_type": "display_data",
          "data": {
            "application/vnd.jupyter.widget-view+json": {
              "model_id": "aee91cee42dd4d928d821644e6a471e1",
              "version_major": 2,
              "version_minor": 0
            },
            "text/plain": [
              "HBox(children=(IntProgress(value=1, bar_style='info', max=1), HTML(value='')))"
            ]
          },
          "metadata": {
            "tags": []
          }
        },
        {
          "output_type": "display_data",
          "data": {
            "application/vnd.jupyter.widget-view+json": {
              "model_id": "bc9d65162e2a4918862cc0fa46bd72f1",
              "version_major": 2,
              "version_minor": 0
            },
            "text/plain": [
              "HBox(children=(IntProgress(value=1, bar_style='info', max=1), HTML(value='')))"
            ]
          },
          "metadata": {
            "tags": []
          }
        },
        {
          "output_type": "display_data",
          "data": {
            "application/vnd.jupyter.widget-view+json": {
              "model_id": "125b810144484e7586ca5734f851cf74",
              "version_major": 2,
              "version_minor": 0
            },
            "text/plain": [
              "HBox(children=(IntProgress(value=1, bar_style='info', max=1), HTML(value='')))"
            ]
          },
          "metadata": {
            "tags": []
          }
        },
        {
          "output_type": "display_data",
          "data": {
            "application/vnd.jupyter.widget-view+json": {
              "model_id": "026454dd6217445488dd3632dfee816a",
              "version_major": 2,
              "version_minor": 0
            },
            "text/plain": [
              "HBox(children=(IntProgress(value=1, bar_style='info', max=1), HTML(value='')))"
            ]
          },
          "metadata": {
            "tags": []
          }
        },
        {
          "output_type": "display_data",
          "data": {
            "application/vnd.jupyter.widget-view+json": {
              "model_id": "f4ca2772f9cf4c80b6f5f5bc19365468",
              "version_major": 2,
              "version_minor": 0
            },
            "text/plain": [
              "HBox(children=(IntProgress(value=1, bar_style='info', max=1), HTML(value='')))"
            ]
          },
          "metadata": {
            "tags": []
          }
        },
        {
          "output_type": "display_data",
          "data": {
            "application/vnd.jupyter.widget-view+json": {
              "model_id": "f2a0d362c51a435c98817b1a63b2dd2a",
              "version_major": 2,
              "version_minor": 0
            },
            "text/plain": [
              "HBox(children=(IntProgress(value=1, bar_style='info', max=1), HTML(value='')))"
            ]
          },
          "metadata": {
            "tags": []
          }
        },
        {
          "output_type": "display_data",
          "data": {
            "application/vnd.jupyter.widget-view+json": {
              "model_id": "529b532572ef49b7b48301b17b162e09",
              "version_major": 2,
              "version_minor": 0
            },
            "text/plain": [
              "HBox(children=(IntProgress(value=1, bar_style='info', max=1), HTML(value='')))"
            ]
          },
          "metadata": {
            "tags": []
          }
        },
        {
          "output_type": "display_data",
          "data": {
            "application/vnd.jupyter.widget-view+json": {
              "model_id": "45e5fa1a0d8d4346b9251331aaf3d008",
              "version_major": 2,
              "version_minor": 0
            },
            "text/plain": [
              "HBox(children=(IntProgress(value=1, bar_style='info', max=1), HTML(value='')))"
            ]
          },
          "metadata": {
            "tags": []
          }
        },
        {
          "output_type": "display_data",
          "data": {
            "application/vnd.jupyter.widget-view+json": {
              "model_id": "3e8b4d806a8842299d792dbbf088e89c",
              "version_major": 2,
              "version_minor": 0
            },
            "text/plain": [
              "HBox(children=(IntProgress(value=1, bar_style='info', max=1), HTML(value='')))"
            ]
          },
          "metadata": {
            "tags": []
          }
        },
        {
          "output_type": "display_data",
          "data": {
            "application/vnd.jupyter.widget-view+json": {
              "model_id": "dbf47f9578c24975b7cb1cee56070ec5",
              "version_major": 2,
              "version_minor": 0
            },
            "text/plain": [
              "HBox(children=(IntProgress(value=1, bar_style='info', max=1), HTML(value='')))"
            ]
          },
          "metadata": {
            "tags": []
          }
        },
        {
          "output_type": "display_data",
          "data": {
            "application/vnd.jupyter.widget-view+json": {
              "model_id": "22f7fed9f2584744962ede4ef82363f4",
              "version_major": 2,
              "version_minor": 0
            },
            "text/plain": [
              "HBox(children=(IntProgress(value=1, bar_style='info', max=1), HTML(value='')))"
            ]
          },
          "metadata": {
            "tags": []
          }
        },
        {
          "output_type": "display_data",
          "data": {
            "application/vnd.jupyter.widget-view+json": {
              "model_id": "a8bf911330654db380ab1889bfdc27ff",
              "version_major": 2,
              "version_minor": 0
            },
            "text/plain": [
              "HBox(children=(IntProgress(value=1, bar_style='info', max=1), HTML(value='')))"
            ]
          },
          "metadata": {
            "tags": []
          }
        },
        {
          "output_type": "display_data",
          "data": {
            "application/vnd.jupyter.widget-view+json": {
              "model_id": "e96cf865ab79433d93fd63c3ba4a3b5a",
              "version_major": 2,
              "version_minor": 0
            },
            "text/plain": [
              "HBox(children=(IntProgress(value=1, bar_style='info', max=1), HTML(value='')))"
            ]
          },
          "metadata": {
            "tags": []
          }
        },
        {
          "output_type": "display_data",
          "data": {
            "application/vnd.jupyter.widget-view+json": {
              "model_id": "f96eaaf9ceec41bca5b09e908fb7f018",
              "version_major": 2,
              "version_minor": 0
            },
            "text/plain": [
              "HBox(children=(IntProgress(value=1, bar_style='info', max=1), HTML(value='')))"
            ]
          },
          "metadata": {
            "tags": []
          }
        },
        {
          "output_type": "display_data",
          "data": {
            "application/vnd.jupyter.widget-view+json": {
              "model_id": "4b405e10a41044a098d9f1d5f3e311b7",
              "version_major": 2,
              "version_minor": 0
            },
            "text/plain": [
              "HBox(children=(IntProgress(value=1, bar_style='info', max=1), HTML(value='')))"
            ]
          },
          "metadata": {
            "tags": []
          }
        },
        {
          "output_type": "display_data",
          "data": {
            "application/vnd.jupyter.widget-view+json": {
              "model_id": "13a2d04bb7d6444e88ed9eb3b3de97e6",
              "version_major": 2,
              "version_minor": 0
            },
            "text/plain": [
              "HBox(children=(IntProgress(value=1, bar_style='info', max=1), HTML(value='')))"
            ]
          },
          "metadata": {
            "tags": []
          }
        },
        {
          "output_type": "display_data",
          "data": {
            "application/vnd.jupyter.widget-view+json": {
              "model_id": "66a0f2db4d094f798284dabba2f27d96",
              "version_major": 2,
              "version_minor": 0
            },
            "text/plain": [
              "HBox(children=(IntProgress(value=1, bar_style='info', max=1), HTML(value='')))"
            ]
          },
          "metadata": {
            "tags": []
          }
        },
        {
          "output_type": "display_data",
          "data": {
            "application/vnd.jupyter.widget-view+json": {
              "model_id": "f17f213d5b4c444a93acf836a3fb29a1",
              "version_major": 2,
              "version_minor": 0
            },
            "text/plain": [
              "HBox(children=(IntProgress(value=1, bar_style='info', max=1), HTML(value='')))"
            ]
          },
          "metadata": {
            "tags": []
          }
        },
        {
          "output_type": "display_data",
          "data": {
            "application/vnd.jupyter.widget-view+json": {
              "model_id": "eb7dbf3d3b794ee09b7c2810d7f92d1c",
              "version_major": 2,
              "version_minor": 0
            },
            "text/plain": [
              "HBox(children=(IntProgress(value=1, bar_style='info', max=1), HTML(value='')))"
            ]
          },
          "metadata": {
            "tags": []
          }
        },
        {
          "output_type": "display_data",
          "data": {
            "application/vnd.jupyter.widget-view+json": {
              "model_id": "8a54ba7dc17b43899e10fbd10d700669",
              "version_major": 2,
              "version_minor": 0
            },
            "text/plain": [
              "HBox(children=(IntProgress(value=1, bar_style='info', max=1), HTML(value='')))"
            ]
          },
          "metadata": {
            "tags": []
          }
        },
        {
          "output_type": "display_data",
          "data": {
            "application/vnd.jupyter.widget-view+json": {
              "model_id": "dfffce4799e040778131d954ec6e90b3",
              "version_major": 2,
              "version_minor": 0
            },
            "text/plain": [
              "HBox(children=(IntProgress(value=1, bar_style='info', max=1), HTML(value='')))"
            ]
          },
          "metadata": {
            "tags": []
          }
        },
        {
          "output_type": "display_data",
          "data": {
            "application/vnd.jupyter.widget-view+json": {
              "model_id": "549b024833634960a864c228e2a26ddb",
              "version_major": 2,
              "version_minor": 0
            },
            "text/plain": [
              "HBox(children=(IntProgress(value=1, bar_style='info', max=1), HTML(value='')))"
            ]
          },
          "metadata": {
            "tags": []
          }
        },
        {
          "output_type": "display_data",
          "data": {
            "application/vnd.jupyter.widget-view+json": {
              "model_id": "4cbf3ffba5904e59819d9d1e9aef2e77",
              "version_major": 2,
              "version_minor": 0
            },
            "text/plain": [
              "HBox(children=(IntProgress(value=1, bar_style='info', max=1), HTML(value='')))"
            ]
          },
          "metadata": {
            "tags": []
          }
        },
        {
          "output_type": "display_data",
          "data": {
            "application/vnd.jupyter.widget-view+json": {
              "model_id": "aab0209cbb024c0d8ee8019d2f2cc336",
              "version_major": 2,
              "version_minor": 0
            },
            "text/plain": [
              "HBox(children=(IntProgress(value=1, bar_style='info', max=1), HTML(value='')))"
            ]
          },
          "metadata": {
            "tags": []
          }
        },
        {
          "output_type": "display_data",
          "data": {
            "application/vnd.jupyter.widget-view+json": {
              "model_id": "9ff8bee2d85b44d78722160dfe694b0d",
              "version_major": 2,
              "version_minor": 0
            },
            "text/plain": [
              "HBox(children=(IntProgress(value=1, bar_style='info', max=1), HTML(value='')))"
            ]
          },
          "metadata": {
            "tags": []
          }
        },
        {
          "output_type": "display_data",
          "data": {
            "application/vnd.jupyter.widget-view+json": {
              "model_id": "2d987e441b154c33b024a53833ad7535",
              "version_major": 2,
              "version_minor": 0
            },
            "text/plain": [
              "HBox(children=(IntProgress(value=1, bar_style='info', max=1), HTML(value='')))"
            ]
          },
          "metadata": {
            "tags": []
          }
        },
        {
          "output_type": "display_data",
          "data": {
            "application/vnd.jupyter.widget-view+json": {
              "model_id": "8ddd3eea18644ed4b8e5d3f6c93a36e2",
              "version_major": 2,
              "version_minor": 0
            },
            "text/plain": [
              "HBox(children=(IntProgress(value=1, bar_style='info', max=1), HTML(value='')))"
            ]
          },
          "metadata": {
            "tags": []
          }
        },
        {
          "output_type": "display_data",
          "data": {
            "application/vnd.jupyter.widget-view+json": {
              "model_id": "fd70e76d3fbe43e194f249cd703944f9",
              "version_major": 2,
              "version_minor": 0
            },
            "text/plain": [
              "HBox(children=(IntProgress(value=1, bar_style='info', max=1), HTML(value='')))"
            ]
          },
          "metadata": {
            "tags": []
          }
        },
        {
          "output_type": "display_data",
          "data": {
            "application/vnd.jupyter.widget-view+json": {
              "model_id": "56bbe774329543aba33dff0f8177a9e2",
              "version_major": 2,
              "version_minor": 0
            },
            "text/plain": [
              "HBox(children=(IntProgress(value=1, bar_style='info', max=1), HTML(value='')))"
            ]
          },
          "metadata": {
            "tags": []
          }
        },
        {
          "output_type": "display_data",
          "data": {
            "application/vnd.jupyter.widget-view+json": {
              "model_id": "9751c0a41083472fac4f475b7386eea3",
              "version_major": 2,
              "version_minor": 0
            },
            "text/plain": [
              "HBox(children=(IntProgress(value=1, bar_style='info', max=1), HTML(value='')))"
            ]
          },
          "metadata": {
            "tags": []
          }
        },
        {
          "output_type": "display_data",
          "data": {
            "application/vnd.jupyter.widget-view+json": {
              "model_id": "f90acef480f74a54aece2923de478878",
              "version_major": 2,
              "version_minor": 0
            },
            "text/plain": [
              "HBox(children=(IntProgress(value=1, bar_style='info', max=1), HTML(value='')))"
            ]
          },
          "metadata": {
            "tags": []
          }
        },
        {
          "output_type": "display_data",
          "data": {
            "application/vnd.jupyter.widget-view+json": {
              "model_id": "c2f1a4310f3444e58a654db056ef7ca1",
              "version_major": 2,
              "version_minor": 0
            },
            "text/plain": [
              "HBox(children=(IntProgress(value=1, bar_style='info', max=1), HTML(value='')))"
            ]
          },
          "metadata": {
            "tags": []
          }
        },
        {
          "output_type": "display_data",
          "data": {
            "application/vnd.jupyter.widget-view+json": {
              "model_id": "5d4b2fb551ae4a5592a804af764f1002",
              "version_major": 2,
              "version_minor": 0
            },
            "text/plain": [
              "HBox(children=(IntProgress(value=1, bar_style='info', max=1), HTML(value='')))"
            ]
          },
          "metadata": {
            "tags": []
          }
        },
        {
          "output_type": "display_data",
          "data": {
            "application/vnd.jupyter.widget-view+json": {
              "model_id": "4e3385e272684515bf113b5a158db1fe",
              "version_major": 2,
              "version_minor": 0
            },
            "text/plain": [
              "HBox(children=(IntProgress(value=1, bar_style='info', max=1), HTML(value='')))"
            ]
          },
          "metadata": {
            "tags": []
          }
        },
        {
          "output_type": "display_data",
          "data": {
            "application/vnd.jupyter.widget-view+json": {
              "model_id": "232ed8f68a694820b9e736e097c6f8ba",
              "version_major": 2,
              "version_minor": 0
            },
            "text/plain": [
              "HBox(children=(IntProgress(value=1, bar_style='info', max=1), HTML(value='')))"
            ]
          },
          "metadata": {
            "tags": []
          }
        },
        {
          "output_type": "display_data",
          "data": {
            "application/vnd.jupyter.widget-view+json": {
              "model_id": "633bafee644d48fc8bfe21376454f480",
              "version_major": 2,
              "version_minor": 0
            },
            "text/plain": [
              "HBox(children=(IntProgress(value=1, bar_style='info', max=1), HTML(value='')))"
            ]
          },
          "metadata": {
            "tags": []
          }
        },
        {
          "output_type": "display_data",
          "data": {
            "application/vnd.jupyter.widget-view+json": {
              "model_id": "da3d3a3c9f554677bcec4068f87573f4",
              "version_major": 2,
              "version_minor": 0
            },
            "text/plain": [
              "HBox(children=(IntProgress(value=1, bar_style='info', max=1), HTML(value='')))"
            ]
          },
          "metadata": {
            "tags": []
          }
        },
        {
          "output_type": "display_data",
          "data": {
            "application/vnd.jupyter.widget-view+json": {
              "model_id": "80ce5c5aa05e4e69a74149bc13ca44d0",
              "version_major": 2,
              "version_minor": 0
            },
            "text/plain": [
              "HBox(children=(IntProgress(value=1, bar_style='info', max=1), HTML(value='')))"
            ]
          },
          "metadata": {
            "tags": []
          }
        },
        {
          "output_type": "stream",
          "text": [
            "\n"
          ],
          "name": "stdout"
        },
        {
          "output_type": "display_data",
          "data": {
            "application/vnd.jupyter.widget-view+json": {
              "model_id": "31b06f273968478c91b72e1744fa69df",
              "version_major": 2,
              "version_minor": 0
            },
            "text/plain": [
              "HBox(children=(IntProgress(value=0, max=69), HTML(value='')))"
            ]
          },
          "metadata": {
            "tags": []
          }
        },
        {
          "output_type": "display_data",
          "data": {
            "application/vnd.jupyter.widget-view+json": {
              "model_id": "6e4b3d4fff0346b6ac6bae76defe1929",
              "version_major": 2,
              "version_minor": 0
            },
            "text/plain": [
              "HBox(children=(IntProgress(value=1, bar_style='info', max=1), HTML(value='')))"
            ]
          },
          "metadata": {
            "tags": []
          }
        },
        {
          "output_type": "display_data",
          "data": {
            "application/vnd.jupyter.widget-view+json": {
              "model_id": "7f14882022bf46beb6721725f825a747",
              "version_major": 2,
              "version_minor": 0
            },
            "text/plain": [
              "HBox(children=(IntProgress(value=1, bar_style='info', max=1), HTML(value='')))"
            ]
          },
          "metadata": {
            "tags": []
          }
        },
        {
          "output_type": "display_data",
          "data": {
            "application/vnd.jupyter.widget-view+json": {
              "model_id": "4ca7ae829c974b23bce3ea9dd8448d7d",
              "version_major": 2,
              "version_minor": 0
            },
            "text/plain": [
              "HBox(children=(IntProgress(value=1, bar_style='info', max=1), HTML(value='')))"
            ]
          },
          "metadata": {
            "tags": []
          }
        },
        {
          "output_type": "display_data",
          "data": {
            "application/vnd.jupyter.widget-view+json": {
              "model_id": "cc95958eb54548eaa5331086857bcce0",
              "version_major": 2,
              "version_minor": 0
            },
            "text/plain": [
              "HBox(children=(IntProgress(value=1, bar_style='info', max=1), HTML(value='')))"
            ]
          },
          "metadata": {
            "tags": []
          }
        },
        {
          "output_type": "display_data",
          "data": {
            "application/vnd.jupyter.widget-view+json": {
              "model_id": "db5bbc824ba84635b866ebaa6a16ce44",
              "version_major": 2,
              "version_minor": 0
            },
            "text/plain": [
              "HBox(children=(IntProgress(value=1, bar_style='info', max=1), HTML(value='')))"
            ]
          },
          "metadata": {
            "tags": []
          }
        },
        {
          "output_type": "display_data",
          "data": {
            "application/vnd.jupyter.widget-view+json": {
              "model_id": "6adc66a271ff429a84f5635e491f3444",
              "version_major": 2,
              "version_minor": 0
            },
            "text/plain": [
              "HBox(children=(IntProgress(value=1, bar_style='info', max=1), HTML(value='')))"
            ]
          },
          "metadata": {
            "tags": []
          }
        },
        {
          "output_type": "display_data",
          "data": {
            "application/vnd.jupyter.widget-view+json": {
              "model_id": "84fceada307d4f358f56cd3e33d7ee64",
              "version_major": 2,
              "version_minor": 0
            },
            "text/plain": [
              "HBox(children=(IntProgress(value=1, bar_style='info', max=1), HTML(value='')))"
            ]
          },
          "metadata": {
            "tags": []
          }
        },
        {
          "output_type": "display_data",
          "data": {
            "application/vnd.jupyter.widget-view+json": {
              "model_id": "560f0d7bf835496ebf0d44d9b1ec2b9f",
              "version_major": 2,
              "version_minor": 0
            },
            "text/plain": [
              "HBox(children=(IntProgress(value=1, bar_style='info', max=1), HTML(value='')))"
            ]
          },
          "metadata": {
            "tags": []
          }
        },
        {
          "output_type": "display_data",
          "data": {
            "application/vnd.jupyter.widget-view+json": {
              "model_id": "bbafc7d5d48f408eadbf982276c2afeb",
              "version_major": 2,
              "version_minor": 0
            },
            "text/plain": [
              "HBox(children=(IntProgress(value=1, bar_style='info', max=1), HTML(value='')))"
            ]
          },
          "metadata": {
            "tags": []
          }
        },
        {
          "output_type": "display_data",
          "data": {
            "application/vnd.jupyter.widget-view+json": {
              "model_id": "65c25b361ce346a2b9c94eee1c7d7c7a",
              "version_major": 2,
              "version_minor": 0
            },
            "text/plain": [
              "HBox(children=(IntProgress(value=1, bar_style='info', max=1), HTML(value='')))"
            ]
          },
          "metadata": {
            "tags": []
          }
        },
        {
          "output_type": "display_data",
          "data": {
            "application/vnd.jupyter.widget-view+json": {
              "model_id": "091738712a2f417dbce3208f56b664a0",
              "version_major": 2,
              "version_minor": 0
            },
            "text/plain": [
              "HBox(children=(IntProgress(value=1, bar_style='info', max=1), HTML(value='')))"
            ]
          },
          "metadata": {
            "tags": []
          }
        },
        {
          "output_type": "display_data",
          "data": {
            "application/vnd.jupyter.widget-view+json": {
              "model_id": "c43461180e6f4f38b2fa1c4439b8a2bc",
              "version_major": 2,
              "version_minor": 0
            },
            "text/plain": [
              "HBox(children=(IntProgress(value=1, bar_style='info', max=1), HTML(value='')))"
            ]
          },
          "metadata": {
            "tags": []
          }
        },
        {
          "output_type": "display_data",
          "data": {
            "application/vnd.jupyter.widget-view+json": {
              "model_id": "8c3b0983164a47609fff45a87a1444c6",
              "version_major": 2,
              "version_minor": 0
            },
            "text/plain": [
              "HBox(children=(IntProgress(value=1, bar_style='info', max=1), HTML(value='')))"
            ]
          },
          "metadata": {
            "tags": []
          }
        },
        {
          "output_type": "display_data",
          "data": {
            "application/vnd.jupyter.widget-view+json": {
              "model_id": "ff01b8b6f44747c693f594229dd3314f",
              "version_major": 2,
              "version_minor": 0
            },
            "text/plain": [
              "HBox(children=(IntProgress(value=1, bar_style='info', max=1), HTML(value='')))"
            ]
          },
          "metadata": {
            "tags": []
          }
        },
        {
          "output_type": "display_data",
          "data": {
            "application/vnd.jupyter.widget-view+json": {
              "model_id": "cf088c8359314ddd95689f671b782f7b",
              "version_major": 2,
              "version_minor": 0
            },
            "text/plain": [
              "HBox(children=(IntProgress(value=1, bar_style='info', max=1), HTML(value='')))"
            ]
          },
          "metadata": {
            "tags": []
          }
        },
        {
          "output_type": "display_data",
          "data": {
            "application/vnd.jupyter.widget-view+json": {
              "model_id": "36f2ce886adb4f50b90754683c2db735",
              "version_major": 2,
              "version_minor": 0
            },
            "text/plain": [
              "HBox(children=(IntProgress(value=1, bar_style='info', max=1), HTML(value='')))"
            ]
          },
          "metadata": {
            "tags": []
          }
        },
        {
          "output_type": "display_data",
          "data": {
            "application/vnd.jupyter.widget-view+json": {
              "model_id": "db7a232751a0463fb57c52e4cf4c76ed",
              "version_major": 2,
              "version_minor": 0
            },
            "text/plain": [
              "HBox(children=(IntProgress(value=1, bar_style='info', max=1), HTML(value='')))"
            ]
          },
          "metadata": {
            "tags": []
          }
        },
        {
          "output_type": "display_data",
          "data": {
            "application/vnd.jupyter.widget-view+json": {
              "model_id": "5c4e7747f7594dd59fbd32561f3e74d5",
              "version_major": 2,
              "version_minor": 0
            },
            "text/plain": [
              "HBox(children=(IntProgress(value=1, bar_style='info', max=1), HTML(value='')))"
            ]
          },
          "metadata": {
            "tags": []
          }
        },
        {
          "output_type": "display_data",
          "data": {
            "application/vnd.jupyter.widget-view+json": {
              "model_id": "02337daa5d264b519fb09c012c60c739",
              "version_major": 2,
              "version_minor": 0
            },
            "text/plain": [
              "HBox(children=(IntProgress(value=1, bar_style='info', max=1), HTML(value='')))"
            ]
          },
          "metadata": {
            "tags": []
          }
        },
        {
          "output_type": "display_data",
          "data": {
            "application/vnd.jupyter.widget-view+json": {
              "model_id": "27bebac101ef43409671f4ec0624a2c0",
              "version_major": 2,
              "version_minor": 0
            },
            "text/plain": [
              "HBox(children=(IntProgress(value=1, bar_style='info', max=1), HTML(value='')))"
            ]
          },
          "metadata": {
            "tags": []
          }
        },
        {
          "output_type": "display_data",
          "data": {
            "application/vnd.jupyter.widget-view+json": {
              "model_id": "83ffc3b85a6344dfa6ae1e6699f3b48f",
              "version_major": 2,
              "version_minor": 0
            },
            "text/plain": [
              "HBox(children=(IntProgress(value=1, bar_style='info', max=1), HTML(value='')))"
            ]
          },
          "metadata": {
            "tags": []
          }
        },
        {
          "output_type": "display_data",
          "data": {
            "application/vnd.jupyter.widget-view+json": {
              "model_id": "5145435bdfe64a1baf81711ad2c4a7c4",
              "version_major": 2,
              "version_minor": 0
            },
            "text/plain": [
              "HBox(children=(IntProgress(value=1, bar_style='info', max=1), HTML(value='')))"
            ]
          },
          "metadata": {
            "tags": []
          }
        },
        {
          "output_type": "display_data",
          "data": {
            "application/vnd.jupyter.widget-view+json": {
              "model_id": "8d90d4f1503245949ebebae2c8be737e",
              "version_major": 2,
              "version_minor": 0
            },
            "text/plain": [
              "HBox(children=(IntProgress(value=1, bar_style='info', max=1), HTML(value='')))"
            ]
          },
          "metadata": {
            "tags": []
          }
        },
        {
          "output_type": "display_data",
          "data": {
            "application/vnd.jupyter.widget-view+json": {
              "model_id": "84d78dbca8554f98bc3f4873e8575171",
              "version_major": 2,
              "version_minor": 0
            },
            "text/plain": [
              "HBox(children=(IntProgress(value=1, bar_style='info', max=1), HTML(value='')))"
            ]
          },
          "metadata": {
            "tags": []
          }
        },
        {
          "output_type": "display_data",
          "data": {
            "application/vnd.jupyter.widget-view+json": {
              "model_id": "fe62d40b3e7e43da88d04459bef82e4e",
              "version_major": 2,
              "version_minor": 0
            },
            "text/plain": [
              "HBox(children=(IntProgress(value=1, bar_style='info', max=1), HTML(value='')))"
            ]
          },
          "metadata": {
            "tags": []
          }
        },
        {
          "output_type": "display_data",
          "data": {
            "application/vnd.jupyter.widget-view+json": {
              "model_id": "edc0e2c88c8245a39011a7b5f4c7a5f7",
              "version_major": 2,
              "version_minor": 0
            },
            "text/plain": [
              "HBox(children=(IntProgress(value=1, bar_style='info', max=1), HTML(value='')))"
            ]
          },
          "metadata": {
            "tags": []
          }
        },
        {
          "output_type": "display_data",
          "data": {
            "application/vnd.jupyter.widget-view+json": {
              "model_id": "f49d886a65de45f1b3d9b32bd05b9490",
              "version_major": 2,
              "version_minor": 0
            },
            "text/plain": [
              "HBox(children=(IntProgress(value=1, bar_style='info', max=1), HTML(value='')))"
            ]
          },
          "metadata": {
            "tags": []
          }
        },
        {
          "output_type": "display_data",
          "data": {
            "application/vnd.jupyter.widget-view+json": {
              "model_id": "8a5368781d884001a664dc228aa6c7f3",
              "version_major": 2,
              "version_minor": 0
            },
            "text/plain": [
              "HBox(children=(IntProgress(value=1, bar_style='info', max=1), HTML(value='')))"
            ]
          },
          "metadata": {
            "tags": []
          }
        },
        {
          "output_type": "display_data",
          "data": {
            "application/vnd.jupyter.widget-view+json": {
              "model_id": "131f0422850542a1a4570a9462da8547",
              "version_major": 2,
              "version_minor": 0
            },
            "text/plain": [
              "HBox(children=(IntProgress(value=1, bar_style='info', max=1), HTML(value='')))"
            ]
          },
          "metadata": {
            "tags": []
          }
        },
        {
          "output_type": "display_data",
          "data": {
            "application/vnd.jupyter.widget-view+json": {
              "model_id": "f81aa3c7b499496f80b4fdb58de6aed8",
              "version_major": 2,
              "version_minor": 0
            },
            "text/plain": [
              "HBox(children=(IntProgress(value=1, bar_style='info', max=1), HTML(value='')))"
            ]
          },
          "metadata": {
            "tags": []
          }
        },
        {
          "output_type": "display_data",
          "data": {
            "application/vnd.jupyter.widget-view+json": {
              "model_id": "262eb115e5bb4353a2a583864e8917a8",
              "version_major": 2,
              "version_minor": 0
            },
            "text/plain": [
              "HBox(children=(IntProgress(value=1, bar_style='info', max=1), HTML(value='')))"
            ]
          },
          "metadata": {
            "tags": []
          }
        },
        {
          "output_type": "display_data",
          "data": {
            "application/vnd.jupyter.widget-view+json": {
              "model_id": "153f6f98f87446858b05ad80f5cf183f",
              "version_major": 2,
              "version_minor": 0
            },
            "text/plain": [
              "HBox(children=(IntProgress(value=1, bar_style='info', max=1), HTML(value='')))"
            ]
          },
          "metadata": {
            "tags": []
          }
        },
        {
          "output_type": "display_data",
          "data": {
            "application/vnd.jupyter.widget-view+json": {
              "model_id": "a1f903b441564ab38e8a8923699bc62c",
              "version_major": 2,
              "version_minor": 0
            },
            "text/plain": [
              "HBox(children=(IntProgress(value=1, bar_style='info', max=1), HTML(value='')))"
            ]
          },
          "metadata": {
            "tags": []
          }
        },
        {
          "output_type": "display_data",
          "data": {
            "application/vnd.jupyter.widget-view+json": {
              "model_id": "5b08b08aaa7a45f594d04259f0b7c0c6",
              "version_major": 2,
              "version_minor": 0
            },
            "text/plain": [
              "HBox(children=(IntProgress(value=1, bar_style='info', max=1), HTML(value='')))"
            ]
          },
          "metadata": {
            "tags": []
          }
        },
        {
          "output_type": "display_data",
          "data": {
            "application/vnd.jupyter.widget-view+json": {
              "model_id": "455827c04fc44346bc6650354f9bc64c",
              "version_major": 2,
              "version_minor": 0
            },
            "text/plain": [
              "HBox(children=(IntProgress(value=1, bar_style='info', max=1), HTML(value='')))"
            ]
          },
          "metadata": {
            "tags": []
          }
        },
        {
          "output_type": "display_data",
          "data": {
            "application/vnd.jupyter.widget-view+json": {
              "model_id": "4930c9db88e34e37820e2e111fb96937",
              "version_major": 2,
              "version_minor": 0
            },
            "text/plain": [
              "HBox(children=(IntProgress(value=1, bar_style='info', max=1), HTML(value='')))"
            ]
          },
          "metadata": {
            "tags": []
          }
        },
        {
          "output_type": "display_data",
          "data": {
            "application/vnd.jupyter.widget-view+json": {
              "model_id": "4b765af1bb4b4a85a82e8c4f125619b5",
              "version_major": 2,
              "version_minor": 0
            },
            "text/plain": [
              "HBox(children=(IntProgress(value=1, bar_style='info', max=1), HTML(value='')))"
            ]
          },
          "metadata": {
            "tags": []
          }
        },
        {
          "output_type": "display_data",
          "data": {
            "application/vnd.jupyter.widget-view+json": {
              "model_id": "ff15279f2226410d87a14420771507b2",
              "version_major": 2,
              "version_minor": 0
            },
            "text/plain": [
              "HBox(children=(IntProgress(value=1, bar_style='info', max=1), HTML(value='')))"
            ]
          },
          "metadata": {
            "tags": []
          }
        },
        {
          "output_type": "display_data",
          "data": {
            "application/vnd.jupyter.widget-view+json": {
              "model_id": "1e1071e8f4894bf69536137350eba62b",
              "version_major": 2,
              "version_minor": 0
            },
            "text/plain": [
              "HBox(children=(IntProgress(value=1, bar_style='info', max=1), HTML(value='')))"
            ]
          },
          "metadata": {
            "tags": []
          }
        },
        {
          "output_type": "display_data",
          "data": {
            "application/vnd.jupyter.widget-view+json": {
              "model_id": "e1a22b6629274542bfbf6bbd89ac8f42",
              "version_major": 2,
              "version_minor": 0
            },
            "text/plain": [
              "HBox(children=(IntProgress(value=1, bar_style='info', max=1), HTML(value='')))"
            ]
          },
          "metadata": {
            "tags": []
          }
        },
        {
          "output_type": "display_data",
          "data": {
            "application/vnd.jupyter.widget-view+json": {
              "model_id": "fc4cd45113bf42978dea7f7f0cbdd8c5",
              "version_major": 2,
              "version_minor": 0
            },
            "text/plain": [
              "HBox(children=(IntProgress(value=1, bar_style='info', max=1), HTML(value='')))"
            ]
          },
          "metadata": {
            "tags": []
          }
        },
        {
          "output_type": "display_data",
          "data": {
            "application/vnd.jupyter.widget-view+json": {
              "model_id": "627cb6dab8784add9aae9942784e0359",
              "version_major": 2,
              "version_minor": 0
            },
            "text/plain": [
              "HBox(children=(IntProgress(value=1, bar_style='info', max=1), HTML(value='')))"
            ]
          },
          "metadata": {
            "tags": []
          }
        },
        {
          "output_type": "display_data",
          "data": {
            "application/vnd.jupyter.widget-view+json": {
              "model_id": "0088768bb6a14271b68da37e1a765d26",
              "version_major": 2,
              "version_minor": 0
            },
            "text/plain": [
              "HBox(children=(IntProgress(value=1, bar_style='info', max=1), HTML(value='')))"
            ]
          },
          "metadata": {
            "tags": []
          }
        },
        {
          "output_type": "display_data",
          "data": {
            "application/vnd.jupyter.widget-view+json": {
              "model_id": "e494ff5ad3e64bf795b3c9c2d5d9b20c",
              "version_major": 2,
              "version_minor": 0
            },
            "text/plain": [
              "HBox(children=(IntProgress(value=1, bar_style='info', max=1), HTML(value='')))"
            ]
          },
          "metadata": {
            "tags": []
          }
        },
        {
          "output_type": "display_data",
          "data": {
            "application/vnd.jupyter.widget-view+json": {
              "model_id": "406ca7a8da2548c6a221f3c60e1c4259",
              "version_major": 2,
              "version_minor": 0
            },
            "text/plain": [
              "HBox(children=(IntProgress(value=1, bar_style='info', max=1), HTML(value='')))"
            ]
          },
          "metadata": {
            "tags": []
          }
        },
        {
          "output_type": "display_data",
          "data": {
            "application/vnd.jupyter.widget-view+json": {
              "model_id": "2cf447f7aba841f092d17a64d9e809e5",
              "version_major": 2,
              "version_minor": 0
            },
            "text/plain": [
              "HBox(children=(IntProgress(value=1, bar_style='info', max=1), HTML(value='')))"
            ]
          },
          "metadata": {
            "tags": []
          }
        },
        {
          "output_type": "display_data",
          "data": {
            "application/vnd.jupyter.widget-view+json": {
              "model_id": "6a4b0445508f4c8388be5981b38311dd",
              "version_major": 2,
              "version_minor": 0
            },
            "text/plain": [
              "HBox(children=(IntProgress(value=1, bar_style='info', max=1), HTML(value='')))"
            ]
          },
          "metadata": {
            "tags": []
          }
        },
        {
          "output_type": "display_data",
          "data": {
            "application/vnd.jupyter.widget-view+json": {
              "model_id": "593f79924e224b84a435527d9652af2f",
              "version_major": 2,
              "version_minor": 0
            },
            "text/plain": [
              "HBox(children=(IntProgress(value=1, bar_style='info', max=1), HTML(value='')))"
            ]
          },
          "metadata": {
            "tags": []
          }
        },
        {
          "output_type": "display_data",
          "data": {
            "application/vnd.jupyter.widget-view+json": {
              "model_id": "9b15117587a5402fb1a5b97472acc04e",
              "version_major": 2,
              "version_minor": 0
            },
            "text/plain": [
              "HBox(children=(IntProgress(value=1, bar_style='info', max=1), HTML(value='')))"
            ]
          },
          "metadata": {
            "tags": []
          }
        },
        {
          "output_type": "display_data",
          "data": {
            "application/vnd.jupyter.widget-view+json": {
              "model_id": "ab0416ebe08e4179b23d70c415d2c460",
              "version_major": 2,
              "version_minor": 0
            },
            "text/plain": [
              "HBox(children=(IntProgress(value=1, bar_style='info', max=1), HTML(value='')))"
            ]
          },
          "metadata": {
            "tags": []
          }
        },
        {
          "output_type": "display_data",
          "data": {
            "application/vnd.jupyter.widget-view+json": {
              "model_id": "e2e0c24b26ec47be8ffeb15d268b1472",
              "version_major": 2,
              "version_minor": 0
            },
            "text/plain": [
              "HBox(children=(IntProgress(value=1, bar_style='info', max=1), HTML(value='')))"
            ]
          },
          "metadata": {
            "tags": []
          }
        },
        {
          "output_type": "display_data",
          "data": {
            "application/vnd.jupyter.widget-view+json": {
              "model_id": "28b2101629484daeb95f3f84c2a1d155",
              "version_major": 2,
              "version_minor": 0
            },
            "text/plain": [
              "HBox(children=(IntProgress(value=1, bar_style='info', max=1), HTML(value='')))"
            ]
          },
          "metadata": {
            "tags": []
          }
        },
        {
          "output_type": "display_data",
          "data": {
            "application/vnd.jupyter.widget-view+json": {
              "model_id": "764cfbe557104db494b6e5e59ef6266c",
              "version_major": 2,
              "version_minor": 0
            },
            "text/plain": [
              "HBox(children=(IntProgress(value=1, bar_style='info', max=1), HTML(value='')))"
            ]
          },
          "metadata": {
            "tags": []
          }
        },
        {
          "output_type": "display_data",
          "data": {
            "application/vnd.jupyter.widget-view+json": {
              "model_id": "a0c4ac97c88d42a59aef74337af68e61",
              "version_major": 2,
              "version_minor": 0
            },
            "text/plain": [
              "HBox(children=(IntProgress(value=1, bar_style='info', max=1), HTML(value='')))"
            ]
          },
          "metadata": {
            "tags": []
          }
        },
        {
          "output_type": "display_data",
          "data": {
            "application/vnd.jupyter.widget-view+json": {
              "model_id": "921993ab2c0e44d5ab89aada1b9027a2",
              "version_major": 2,
              "version_minor": 0
            },
            "text/plain": [
              "HBox(children=(IntProgress(value=1, bar_style='info', max=1), HTML(value='')))"
            ]
          },
          "metadata": {
            "tags": []
          }
        },
        {
          "output_type": "display_data",
          "data": {
            "application/vnd.jupyter.widget-view+json": {
              "model_id": "e62316dcfa904fca8624256d3838de52",
              "version_major": 2,
              "version_minor": 0
            },
            "text/plain": [
              "HBox(children=(IntProgress(value=1, bar_style='info', max=1), HTML(value='')))"
            ]
          },
          "metadata": {
            "tags": []
          }
        },
        {
          "output_type": "display_data",
          "data": {
            "application/vnd.jupyter.widget-view+json": {
              "model_id": "531e810ae3d94d77beaef7b2ed2511b3",
              "version_major": 2,
              "version_minor": 0
            },
            "text/plain": [
              "HBox(children=(IntProgress(value=1, bar_style='info', max=1), HTML(value='')))"
            ]
          },
          "metadata": {
            "tags": []
          }
        },
        {
          "output_type": "display_data",
          "data": {
            "application/vnd.jupyter.widget-view+json": {
              "model_id": "1a0e00dffcac4e9bad294e62d0691a06",
              "version_major": 2,
              "version_minor": 0
            },
            "text/plain": [
              "HBox(children=(IntProgress(value=1, bar_style='info', max=1), HTML(value='')))"
            ]
          },
          "metadata": {
            "tags": []
          }
        },
        {
          "output_type": "display_data",
          "data": {
            "application/vnd.jupyter.widget-view+json": {
              "model_id": "c2aabc78ee9c4a76b9475cfade0c642b",
              "version_major": 2,
              "version_minor": 0
            },
            "text/plain": [
              "HBox(children=(IntProgress(value=1, bar_style='info', max=1), HTML(value='')))"
            ]
          },
          "metadata": {
            "tags": []
          }
        },
        {
          "output_type": "display_data",
          "data": {
            "application/vnd.jupyter.widget-view+json": {
              "model_id": "df00d7444bad47aea6c4df6993a253ee",
              "version_major": 2,
              "version_minor": 0
            },
            "text/plain": [
              "HBox(children=(IntProgress(value=1, bar_style='info', max=1), HTML(value='')))"
            ]
          },
          "metadata": {
            "tags": []
          }
        },
        {
          "output_type": "display_data",
          "data": {
            "application/vnd.jupyter.widget-view+json": {
              "model_id": "8adec4314dd34ab0b4b1ca0dd81e80c2",
              "version_major": 2,
              "version_minor": 0
            },
            "text/plain": [
              "HBox(children=(IntProgress(value=1, bar_style='info', max=1), HTML(value='')))"
            ]
          },
          "metadata": {
            "tags": []
          }
        },
        {
          "output_type": "display_data",
          "data": {
            "application/vnd.jupyter.widget-view+json": {
              "model_id": "e653911612114b8cb5cd7301cf4325a6",
              "version_major": 2,
              "version_minor": 0
            },
            "text/plain": [
              "HBox(children=(IntProgress(value=1, bar_style='info', max=1), HTML(value='')))"
            ]
          },
          "metadata": {
            "tags": []
          }
        },
        {
          "output_type": "display_data",
          "data": {
            "application/vnd.jupyter.widget-view+json": {
              "model_id": "98bd4826acbb4416a495c3df2b9da72f",
              "version_major": 2,
              "version_minor": 0
            },
            "text/plain": [
              "HBox(children=(IntProgress(value=1, bar_style='info', max=1), HTML(value='')))"
            ]
          },
          "metadata": {
            "tags": []
          }
        },
        {
          "output_type": "display_data",
          "data": {
            "application/vnd.jupyter.widget-view+json": {
              "model_id": "0b71a785efe74392a149450a8d8ab0aa",
              "version_major": 2,
              "version_minor": 0
            },
            "text/plain": [
              "HBox(children=(IntProgress(value=1, bar_style='info', max=1), HTML(value='')))"
            ]
          },
          "metadata": {
            "tags": []
          }
        },
        {
          "output_type": "display_data",
          "data": {
            "application/vnd.jupyter.widget-view+json": {
              "model_id": "7f6230d284f94f9d8e8f5874cfb991d9",
              "version_major": 2,
              "version_minor": 0
            },
            "text/plain": [
              "HBox(children=(IntProgress(value=1, bar_style='info', max=1), HTML(value='')))"
            ]
          },
          "metadata": {
            "tags": []
          }
        },
        {
          "output_type": "display_data",
          "data": {
            "application/vnd.jupyter.widget-view+json": {
              "model_id": "6b46ae775ad3418fab1fd793dcd7a86e",
              "version_major": 2,
              "version_minor": 0
            },
            "text/plain": [
              "HBox(children=(IntProgress(value=1, bar_style='info', max=1), HTML(value='')))"
            ]
          },
          "metadata": {
            "tags": []
          }
        },
        {
          "output_type": "display_data",
          "data": {
            "application/vnd.jupyter.widget-view+json": {
              "model_id": "5288bb4f2a4e46e5a162eb1ef636ebc0",
              "version_major": 2,
              "version_minor": 0
            },
            "text/plain": [
              "HBox(children=(IntProgress(value=1, bar_style='info', max=1), HTML(value='')))"
            ]
          },
          "metadata": {
            "tags": []
          }
        },
        {
          "output_type": "display_data",
          "data": {
            "application/vnd.jupyter.widget-view+json": {
              "model_id": "7f52e5a4f27d4a7db14cf4606bb544f4",
              "version_major": 2,
              "version_minor": 0
            },
            "text/plain": [
              "HBox(children=(IntProgress(value=1, bar_style='info', max=1), HTML(value='')))"
            ]
          },
          "metadata": {
            "tags": []
          }
        },
        {
          "output_type": "display_data",
          "data": {
            "application/vnd.jupyter.widget-view+json": {
              "model_id": "59fa3bd3bc1044d28120ed3eee904c42",
              "version_major": 2,
              "version_minor": 0
            },
            "text/plain": [
              "HBox(children=(IntProgress(value=1, bar_style='info', max=1), HTML(value='')))"
            ]
          },
          "metadata": {
            "tags": []
          }
        },
        {
          "output_type": "stream",
          "text": [
            "\n"
          ],
          "name": "stdout"
        },
        {
          "output_type": "display_data",
          "data": {
            "application/vnd.jupyter.widget-view+json": {
              "model_id": "b14ea08420af445aa67163002f37cf0a",
              "version_major": 2,
              "version_minor": 0
            },
            "text/plain": [
              "HBox(children=(IntProgress(value=0, max=69), HTML(value='')))"
            ]
          },
          "metadata": {
            "tags": []
          }
        },
        {
          "output_type": "display_data",
          "data": {
            "application/vnd.jupyter.widget-view+json": {
              "model_id": "c1428756213b4824bc2ec13c2123b90e",
              "version_major": 2,
              "version_minor": 0
            },
            "text/plain": [
              "HBox(children=(IntProgress(value=1, bar_style='info', max=1), HTML(value='')))"
            ]
          },
          "metadata": {
            "tags": []
          }
        },
        {
          "output_type": "display_data",
          "data": {
            "application/vnd.jupyter.widget-view+json": {
              "model_id": "5ac2b64aa3754ee3b81bc0cc076e4529",
              "version_major": 2,
              "version_minor": 0
            },
            "text/plain": [
              "HBox(children=(IntProgress(value=1, bar_style='info', max=1), HTML(value='')))"
            ]
          },
          "metadata": {
            "tags": []
          }
        },
        {
          "output_type": "display_data",
          "data": {
            "application/vnd.jupyter.widget-view+json": {
              "model_id": "ec069ca3836d493b9d6433c69db31204",
              "version_major": 2,
              "version_minor": 0
            },
            "text/plain": [
              "HBox(children=(IntProgress(value=1, bar_style='info', max=1), HTML(value='')))"
            ]
          },
          "metadata": {
            "tags": []
          }
        },
        {
          "output_type": "display_data",
          "data": {
            "application/vnd.jupyter.widget-view+json": {
              "model_id": "1a01833e5cb3494b887553688645e1f6",
              "version_major": 2,
              "version_minor": 0
            },
            "text/plain": [
              "HBox(children=(IntProgress(value=1, bar_style='info', max=1), HTML(value='')))"
            ]
          },
          "metadata": {
            "tags": []
          }
        },
        {
          "output_type": "display_data",
          "data": {
            "application/vnd.jupyter.widget-view+json": {
              "model_id": "a3ebc445779d49bfa48c9270f4c9f58d",
              "version_major": 2,
              "version_minor": 0
            },
            "text/plain": [
              "HBox(children=(IntProgress(value=1, bar_style='info', max=1), HTML(value='')))"
            ]
          },
          "metadata": {
            "tags": []
          }
        },
        {
          "output_type": "display_data",
          "data": {
            "application/vnd.jupyter.widget-view+json": {
              "model_id": "a0708710ccf5438da8beae731871f5f8",
              "version_major": 2,
              "version_minor": 0
            },
            "text/plain": [
              "HBox(children=(IntProgress(value=1, bar_style='info', max=1), HTML(value='')))"
            ]
          },
          "metadata": {
            "tags": []
          }
        },
        {
          "output_type": "display_data",
          "data": {
            "application/vnd.jupyter.widget-view+json": {
              "model_id": "146cc2c36079461482212217be6e11d3",
              "version_major": 2,
              "version_minor": 0
            },
            "text/plain": [
              "HBox(children=(IntProgress(value=1, bar_style='info', max=1), HTML(value='')))"
            ]
          },
          "metadata": {
            "tags": []
          }
        },
        {
          "output_type": "display_data",
          "data": {
            "application/vnd.jupyter.widget-view+json": {
              "model_id": "13091bf6af494196868cf0200ff4c10f",
              "version_major": 2,
              "version_minor": 0
            },
            "text/plain": [
              "HBox(children=(IntProgress(value=1, bar_style='info', max=1), HTML(value='')))"
            ]
          },
          "metadata": {
            "tags": []
          }
        },
        {
          "output_type": "display_data",
          "data": {
            "application/vnd.jupyter.widget-view+json": {
              "model_id": "626cd4b7d7234f9c9aad892e831b8eef",
              "version_major": 2,
              "version_minor": 0
            },
            "text/plain": [
              "HBox(children=(IntProgress(value=1, bar_style='info', max=1), HTML(value='')))"
            ]
          },
          "metadata": {
            "tags": []
          }
        },
        {
          "output_type": "display_data",
          "data": {
            "application/vnd.jupyter.widget-view+json": {
              "model_id": "6143f8c44a2e49bf8c8a65412ef959f9",
              "version_major": 2,
              "version_minor": 0
            },
            "text/plain": [
              "HBox(children=(IntProgress(value=1, bar_style='info', max=1), HTML(value='')))"
            ]
          },
          "metadata": {
            "tags": []
          }
        },
        {
          "output_type": "display_data",
          "data": {
            "application/vnd.jupyter.widget-view+json": {
              "model_id": "9e2719f92e2946a092b2fd1d0b95d247",
              "version_major": 2,
              "version_minor": 0
            },
            "text/plain": [
              "HBox(children=(IntProgress(value=1, bar_style='info', max=1), HTML(value='')))"
            ]
          },
          "metadata": {
            "tags": []
          }
        },
        {
          "output_type": "display_data",
          "data": {
            "application/vnd.jupyter.widget-view+json": {
              "model_id": "801f7b2c228c4415b60f031280d4ba92",
              "version_major": 2,
              "version_minor": 0
            },
            "text/plain": [
              "HBox(children=(IntProgress(value=1, bar_style='info', max=1), HTML(value='')))"
            ]
          },
          "metadata": {
            "tags": []
          }
        },
        {
          "output_type": "display_data",
          "data": {
            "application/vnd.jupyter.widget-view+json": {
              "model_id": "e64b864e16dd49a58c82ffa1b8af0220",
              "version_major": 2,
              "version_minor": 0
            },
            "text/plain": [
              "HBox(children=(IntProgress(value=1, bar_style='info', max=1), HTML(value='')))"
            ]
          },
          "metadata": {
            "tags": []
          }
        },
        {
          "output_type": "display_data",
          "data": {
            "application/vnd.jupyter.widget-view+json": {
              "model_id": "77ade1fa24fd42cbb074a91c50c81120",
              "version_major": 2,
              "version_minor": 0
            },
            "text/plain": [
              "HBox(children=(IntProgress(value=1, bar_style='info', max=1), HTML(value='')))"
            ]
          },
          "metadata": {
            "tags": []
          }
        },
        {
          "output_type": "display_data",
          "data": {
            "application/vnd.jupyter.widget-view+json": {
              "model_id": "079d40870dc843d6b3c3c2f4034bed5e",
              "version_major": 2,
              "version_minor": 0
            },
            "text/plain": [
              "HBox(children=(IntProgress(value=1, bar_style='info', max=1), HTML(value='')))"
            ]
          },
          "metadata": {
            "tags": []
          }
        },
        {
          "output_type": "display_data",
          "data": {
            "application/vnd.jupyter.widget-view+json": {
              "model_id": "f663c89b49674f42aa752813444a2b37",
              "version_major": 2,
              "version_minor": 0
            },
            "text/plain": [
              "HBox(children=(IntProgress(value=1, bar_style='info', max=1), HTML(value='')))"
            ]
          },
          "metadata": {
            "tags": []
          }
        },
        {
          "output_type": "display_data",
          "data": {
            "application/vnd.jupyter.widget-view+json": {
              "model_id": "25c937f300ad4cbdb5927eba52e99752",
              "version_major": 2,
              "version_minor": 0
            },
            "text/plain": [
              "HBox(children=(IntProgress(value=1, bar_style='info', max=1), HTML(value='')))"
            ]
          },
          "metadata": {
            "tags": []
          }
        },
        {
          "output_type": "display_data",
          "data": {
            "application/vnd.jupyter.widget-view+json": {
              "model_id": "87cffd9f6dc14ef5912ef1a8329615ab",
              "version_major": 2,
              "version_minor": 0
            },
            "text/plain": [
              "HBox(children=(IntProgress(value=1, bar_style='info', max=1), HTML(value='')))"
            ]
          },
          "metadata": {
            "tags": []
          }
        },
        {
          "output_type": "display_data",
          "data": {
            "application/vnd.jupyter.widget-view+json": {
              "model_id": "6b227a44f1954467b350fcde98b74601",
              "version_major": 2,
              "version_minor": 0
            },
            "text/plain": [
              "HBox(children=(IntProgress(value=1, bar_style='info', max=1), HTML(value='')))"
            ]
          },
          "metadata": {
            "tags": []
          }
        },
        {
          "output_type": "display_data",
          "data": {
            "application/vnd.jupyter.widget-view+json": {
              "model_id": "c498f3b14c504c7786c69f2b84f3355d",
              "version_major": 2,
              "version_minor": 0
            },
            "text/plain": [
              "HBox(children=(IntProgress(value=1, bar_style='info', max=1), HTML(value='')))"
            ]
          },
          "metadata": {
            "tags": []
          }
        },
        {
          "output_type": "display_data",
          "data": {
            "application/vnd.jupyter.widget-view+json": {
              "model_id": "010e1a65d87c479d9c3e3097fc34317d",
              "version_major": 2,
              "version_minor": 0
            },
            "text/plain": [
              "HBox(children=(IntProgress(value=1, bar_style='info', max=1), HTML(value='')))"
            ]
          },
          "metadata": {
            "tags": []
          }
        },
        {
          "output_type": "display_data",
          "data": {
            "application/vnd.jupyter.widget-view+json": {
              "model_id": "20a72c2587b5497b988077e075ebd0b5",
              "version_major": 2,
              "version_minor": 0
            },
            "text/plain": [
              "HBox(children=(IntProgress(value=1, bar_style='info', max=1), HTML(value='')))"
            ]
          },
          "metadata": {
            "tags": []
          }
        },
        {
          "output_type": "display_data",
          "data": {
            "application/vnd.jupyter.widget-view+json": {
              "model_id": "7452eeea0cff4beea25eda65ca04feed",
              "version_major": 2,
              "version_minor": 0
            },
            "text/plain": [
              "HBox(children=(IntProgress(value=1, bar_style='info', max=1), HTML(value='')))"
            ]
          },
          "metadata": {
            "tags": []
          }
        },
        {
          "output_type": "display_data",
          "data": {
            "application/vnd.jupyter.widget-view+json": {
              "model_id": "d3c23809f7604772b199775a1b7f8945",
              "version_major": 2,
              "version_minor": 0
            },
            "text/plain": [
              "HBox(children=(IntProgress(value=1, bar_style='info', max=1), HTML(value='')))"
            ]
          },
          "metadata": {
            "tags": []
          }
        },
        {
          "output_type": "display_data",
          "data": {
            "application/vnd.jupyter.widget-view+json": {
              "model_id": "c5da603ee8d54f518281b564963da4fa",
              "version_major": 2,
              "version_minor": 0
            },
            "text/plain": [
              "HBox(children=(IntProgress(value=1, bar_style='info', max=1), HTML(value='')))"
            ]
          },
          "metadata": {
            "tags": []
          }
        },
        {
          "output_type": "display_data",
          "data": {
            "application/vnd.jupyter.widget-view+json": {
              "model_id": "f65f7310878241e29d11fc7bb43ea4c5",
              "version_major": 2,
              "version_minor": 0
            },
            "text/plain": [
              "HBox(children=(IntProgress(value=1, bar_style='info', max=1), HTML(value='')))"
            ]
          },
          "metadata": {
            "tags": []
          }
        },
        {
          "output_type": "display_data",
          "data": {
            "application/vnd.jupyter.widget-view+json": {
              "model_id": "e0a9c29f9c274b2a8d8c26615c8de74a",
              "version_major": 2,
              "version_minor": 0
            },
            "text/plain": [
              "HBox(children=(IntProgress(value=1, bar_style='info', max=1), HTML(value='')))"
            ]
          },
          "metadata": {
            "tags": []
          }
        },
        {
          "output_type": "display_data",
          "data": {
            "application/vnd.jupyter.widget-view+json": {
              "model_id": "1b9e99e2a95b498d9d1dd1634998c369",
              "version_major": 2,
              "version_minor": 0
            },
            "text/plain": [
              "HBox(children=(IntProgress(value=1, bar_style='info', max=1), HTML(value='')))"
            ]
          },
          "metadata": {
            "tags": []
          }
        },
        {
          "output_type": "display_data",
          "data": {
            "application/vnd.jupyter.widget-view+json": {
              "model_id": "96ede44f2b4a40cb820a564d7743a10c",
              "version_major": 2,
              "version_minor": 0
            },
            "text/plain": [
              "HBox(children=(IntProgress(value=1, bar_style='info', max=1), HTML(value='')))"
            ]
          },
          "metadata": {
            "tags": []
          }
        },
        {
          "output_type": "display_data",
          "data": {
            "application/vnd.jupyter.widget-view+json": {
              "model_id": "fe1de4f3049e4cc9ab72ba38dd4631c7",
              "version_major": 2,
              "version_minor": 0
            },
            "text/plain": [
              "HBox(children=(IntProgress(value=1, bar_style='info', max=1), HTML(value='')))"
            ]
          },
          "metadata": {
            "tags": []
          }
        },
        {
          "output_type": "display_data",
          "data": {
            "application/vnd.jupyter.widget-view+json": {
              "model_id": "fbf30875e4034d8488b1fd884a9f2fcf",
              "version_major": 2,
              "version_minor": 0
            },
            "text/plain": [
              "HBox(children=(IntProgress(value=1, bar_style='info', max=1), HTML(value='')))"
            ]
          },
          "metadata": {
            "tags": []
          }
        },
        {
          "output_type": "display_data",
          "data": {
            "application/vnd.jupyter.widget-view+json": {
              "model_id": "8a5f772964ce497d921546288ad19003",
              "version_major": 2,
              "version_minor": 0
            },
            "text/plain": [
              "HBox(children=(IntProgress(value=1, bar_style='info', max=1), HTML(value='')))"
            ]
          },
          "metadata": {
            "tags": []
          }
        },
        {
          "output_type": "display_data",
          "data": {
            "application/vnd.jupyter.widget-view+json": {
              "model_id": "bd9e86b4fa754077aadede5f5c6375bc",
              "version_major": 2,
              "version_minor": 0
            },
            "text/plain": [
              "HBox(children=(IntProgress(value=1, bar_style='info', max=1), HTML(value='')))"
            ]
          },
          "metadata": {
            "tags": []
          }
        },
        {
          "output_type": "display_data",
          "data": {
            "application/vnd.jupyter.widget-view+json": {
              "model_id": "6772daf909a443ce9e4630176b217664",
              "version_major": 2,
              "version_minor": 0
            },
            "text/plain": [
              "HBox(children=(IntProgress(value=1, bar_style='info', max=1), HTML(value='')))"
            ]
          },
          "metadata": {
            "tags": []
          }
        },
        {
          "output_type": "display_data",
          "data": {
            "application/vnd.jupyter.widget-view+json": {
              "model_id": "94476456a4604780899e7dcc5dfc9aab",
              "version_major": 2,
              "version_minor": 0
            },
            "text/plain": [
              "HBox(children=(IntProgress(value=1, bar_style='info', max=1), HTML(value='')))"
            ]
          },
          "metadata": {
            "tags": []
          }
        },
        {
          "output_type": "display_data",
          "data": {
            "application/vnd.jupyter.widget-view+json": {
              "model_id": "ca810af3bb264dbfb1dd3ee734518fb0",
              "version_major": 2,
              "version_minor": 0
            },
            "text/plain": [
              "HBox(children=(IntProgress(value=1, bar_style='info', max=1), HTML(value='')))"
            ]
          },
          "metadata": {
            "tags": []
          }
        },
        {
          "output_type": "display_data",
          "data": {
            "application/vnd.jupyter.widget-view+json": {
              "model_id": "104161bffe6e433c876d8baeab0a60dc",
              "version_major": 2,
              "version_minor": 0
            },
            "text/plain": [
              "HBox(children=(IntProgress(value=1, bar_style='info', max=1), HTML(value='')))"
            ]
          },
          "metadata": {
            "tags": []
          }
        },
        {
          "output_type": "display_data",
          "data": {
            "application/vnd.jupyter.widget-view+json": {
              "model_id": "740f40f8a55148f9ad873b35c8cf80f1",
              "version_major": 2,
              "version_minor": 0
            },
            "text/plain": [
              "HBox(children=(IntProgress(value=1, bar_style='info', max=1), HTML(value='')))"
            ]
          },
          "metadata": {
            "tags": []
          }
        },
        {
          "output_type": "display_data",
          "data": {
            "application/vnd.jupyter.widget-view+json": {
              "model_id": "17dd97e56b184e6c929fbb63837550e2",
              "version_major": 2,
              "version_minor": 0
            },
            "text/plain": [
              "HBox(children=(IntProgress(value=1, bar_style='info', max=1), HTML(value='')))"
            ]
          },
          "metadata": {
            "tags": []
          }
        },
        {
          "output_type": "display_data",
          "data": {
            "application/vnd.jupyter.widget-view+json": {
              "model_id": "bfc0119f46454cad8639611cc5e9c1b0",
              "version_major": 2,
              "version_minor": 0
            },
            "text/plain": [
              "HBox(children=(IntProgress(value=1, bar_style='info', max=1), HTML(value='')))"
            ]
          },
          "metadata": {
            "tags": []
          }
        },
        {
          "output_type": "display_data",
          "data": {
            "application/vnd.jupyter.widget-view+json": {
              "model_id": "710bf746892244ca8253b25f57125a24",
              "version_major": 2,
              "version_minor": 0
            },
            "text/plain": [
              "HBox(children=(IntProgress(value=1, bar_style='info', max=1), HTML(value='')))"
            ]
          },
          "metadata": {
            "tags": []
          }
        },
        {
          "output_type": "display_data",
          "data": {
            "application/vnd.jupyter.widget-view+json": {
              "model_id": "07c04969b2ca44c9a40ea6565c052456",
              "version_major": 2,
              "version_minor": 0
            },
            "text/plain": [
              "HBox(children=(IntProgress(value=1, bar_style='info', max=1), HTML(value='')))"
            ]
          },
          "metadata": {
            "tags": []
          }
        },
        {
          "output_type": "display_data",
          "data": {
            "application/vnd.jupyter.widget-view+json": {
              "model_id": "8c9b8a44aa7c45889722d3b6c80a952c",
              "version_major": 2,
              "version_minor": 0
            },
            "text/plain": [
              "HBox(children=(IntProgress(value=1, bar_style='info', max=1), HTML(value='')))"
            ]
          },
          "metadata": {
            "tags": []
          }
        },
        {
          "output_type": "display_data",
          "data": {
            "application/vnd.jupyter.widget-view+json": {
              "model_id": "b5241a62b98c429bac875b928c78218e",
              "version_major": 2,
              "version_minor": 0
            },
            "text/plain": [
              "HBox(children=(IntProgress(value=1, bar_style='info', max=1), HTML(value='')))"
            ]
          },
          "metadata": {
            "tags": []
          }
        },
        {
          "output_type": "display_data",
          "data": {
            "application/vnd.jupyter.widget-view+json": {
              "model_id": "abcfe8b8526b441e943aa02f71e30079",
              "version_major": 2,
              "version_minor": 0
            },
            "text/plain": [
              "HBox(children=(IntProgress(value=1, bar_style='info', max=1), HTML(value='')))"
            ]
          },
          "metadata": {
            "tags": []
          }
        },
        {
          "output_type": "display_data",
          "data": {
            "application/vnd.jupyter.widget-view+json": {
              "model_id": "2c8cc7ae221c4844ac7436feab6d441d",
              "version_major": 2,
              "version_minor": 0
            },
            "text/plain": [
              "HBox(children=(IntProgress(value=1, bar_style='info', max=1), HTML(value='')))"
            ]
          },
          "metadata": {
            "tags": []
          }
        },
        {
          "output_type": "display_data",
          "data": {
            "application/vnd.jupyter.widget-view+json": {
              "model_id": "7755acba60164e5da0f0fb70fb89d849",
              "version_major": 2,
              "version_minor": 0
            },
            "text/plain": [
              "HBox(children=(IntProgress(value=1, bar_style='info', max=1), HTML(value='')))"
            ]
          },
          "metadata": {
            "tags": []
          }
        },
        {
          "output_type": "display_data",
          "data": {
            "application/vnd.jupyter.widget-view+json": {
              "model_id": "f9dab08eb38740f48f5f9a6e144407c2",
              "version_major": 2,
              "version_minor": 0
            },
            "text/plain": [
              "HBox(children=(IntProgress(value=1, bar_style='info', max=1), HTML(value='')))"
            ]
          },
          "metadata": {
            "tags": []
          }
        },
        {
          "output_type": "display_data",
          "data": {
            "application/vnd.jupyter.widget-view+json": {
              "model_id": "10fbe62a2c994359a0fd0a4b82e259ae",
              "version_major": 2,
              "version_minor": 0
            },
            "text/plain": [
              "HBox(children=(IntProgress(value=1, bar_style='info', max=1), HTML(value='')))"
            ]
          },
          "metadata": {
            "tags": []
          }
        },
        {
          "output_type": "display_data",
          "data": {
            "application/vnd.jupyter.widget-view+json": {
              "model_id": "a4773e79d367407fbc248a9ff3b67199",
              "version_major": 2,
              "version_minor": 0
            },
            "text/plain": [
              "HBox(children=(IntProgress(value=1, bar_style='info', max=1), HTML(value='')))"
            ]
          },
          "metadata": {
            "tags": []
          }
        },
        {
          "output_type": "display_data",
          "data": {
            "application/vnd.jupyter.widget-view+json": {
              "model_id": "3cd99aaa880d48168f2576f7e6075eac",
              "version_major": 2,
              "version_minor": 0
            },
            "text/plain": [
              "HBox(children=(IntProgress(value=1, bar_style='info', max=1), HTML(value='')))"
            ]
          },
          "metadata": {
            "tags": []
          }
        },
        {
          "output_type": "display_data",
          "data": {
            "application/vnd.jupyter.widget-view+json": {
              "model_id": "1818a632269c4941a8f277d48b266e3e",
              "version_major": 2,
              "version_minor": 0
            },
            "text/plain": [
              "HBox(children=(IntProgress(value=1, bar_style='info', max=1), HTML(value='')))"
            ]
          },
          "metadata": {
            "tags": []
          }
        },
        {
          "output_type": "display_data",
          "data": {
            "application/vnd.jupyter.widget-view+json": {
              "model_id": "d9de75af5cda4375b97c25e8ba523485",
              "version_major": 2,
              "version_minor": 0
            },
            "text/plain": [
              "HBox(children=(IntProgress(value=1, bar_style='info', max=1), HTML(value='')))"
            ]
          },
          "metadata": {
            "tags": []
          }
        },
        {
          "output_type": "display_data",
          "data": {
            "application/vnd.jupyter.widget-view+json": {
              "model_id": "b42f2663c9814f938ff823cc74569d54",
              "version_major": 2,
              "version_minor": 0
            },
            "text/plain": [
              "HBox(children=(IntProgress(value=1, bar_style='info', max=1), HTML(value='')))"
            ]
          },
          "metadata": {
            "tags": []
          }
        },
        {
          "output_type": "display_data",
          "data": {
            "application/vnd.jupyter.widget-view+json": {
              "model_id": "5657bf7ff86c49fe979631ff5def2905",
              "version_major": 2,
              "version_minor": 0
            },
            "text/plain": [
              "HBox(children=(IntProgress(value=1, bar_style='info', max=1), HTML(value='')))"
            ]
          },
          "metadata": {
            "tags": []
          }
        },
        {
          "output_type": "display_data",
          "data": {
            "application/vnd.jupyter.widget-view+json": {
              "model_id": "b23c0bbbbc204c38aade6332ea28aabd",
              "version_major": 2,
              "version_minor": 0
            },
            "text/plain": [
              "HBox(children=(IntProgress(value=1, bar_style='info', max=1), HTML(value='')))"
            ]
          },
          "metadata": {
            "tags": []
          }
        },
        {
          "output_type": "display_data",
          "data": {
            "application/vnd.jupyter.widget-view+json": {
              "model_id": "d76adad7b49840ba9eae72f6a84395b8",
              "version_major": 2,
              "version_minor": 0
            },
            "text/plain": [
              "HBox(children=(IntProgress(value=1, bar_style='info', max=1), HTML(value='')))"
            ]
          },
          "metadata": {
            "tags": []
          }
        },
        {
          "output_type": "display_data",
          "data": {
            "application/vnd.jupyter.widget-view+json": {
              "model_id": "01e7bd053f184973b98b26161da56198",
              "version_major": 2,
              "version_minor": 0
            },
            "text/plain": [
              "HBox(children=(IntProgress(value=1, bar_style='info', max=1), HTML(value='')))"
            ]
          },
          "metadata": {
            "tags": []
          }
        },
        {
          "output_type": "display_data",
          "data": {
            "application/vnd.jupyter.widget-view+json": {
              "model_id": "8b75fa708062453697f741dd64d91e7a",
              "version_major": 2,
              "version_minor": 0
            },
            "text/plain": [
              "HBox(children=(IntProgress(value=1, bar_style='info', max=1), HTML(value='')))"
            ]
          },
          "metadata": {
            "tags": []
          }
        },
        {
          "output_type": "display_data",
          "data": {
            "application/vnd.jupyter.widget-view+json": {
              "model_id": "7cdbe52354394a9f8d687802f1bcd95a",
              "version_major": 2,
              "version_minor": 0
            },
            "text/plain": [
              "HBox(children=(IntProgress(value=1, bar_style='info', max=1), HTML(value='')))"
            ]
          },
          "metadata": {
            "tags": []
          }
        },
        {
          "output_type": "display_data",
          "data": {
            "application/vnd.jupyter.widget-view+json": {
              "model_id": "60dcf42f0353454a99308b0da7a539e4",
              "version_major": 2,
              "version_minor": 0
            },
            "text/plain": [
              "HBox(children=(IntProgress(value=1, bar_style='info', max=1), HTML(value='')))"
            ]
          },
          "metadata": {
            "tags": []
          }
        },
        {
          "output_type": "display_data",
          "data": {
            "application/vnd.jupyter.widget-view+json": {
              "model_id": "56fc675a55a5470b8d23379b5f7ef70f",
              "version_major": 2,
              "version_minor": 0
            },
            "text/plain": [
              "HBox(children=(IntProgress(value=1, bar_style='info', max=1), HTML(value='')))"
            ]
          },
          "metadata": {
            "tags": []
          }
        },
        {
          "output_type": "display_data",
          "data": {
            "application/vnd.jupyter.widget-view+json": {
              "model_id": "5df8ba2cc4d0470db8977e9d82ae033f",
              "version_major": 2,
              "version_minor": 0
            },
            "text/plain": [
              "HBox(children=(IntProgress(value=1, bar_style='info', max=1), HTML(value='')))"
            ]
          },
          "metadata": {
            "tags": []
          }
        },
        {
          "output_type": "display_data",
          "data": {
            "application/vnd.jupyter.widget-view+json": {
              "model_id": "672e59702ee8459280b941bf133686ff",
              "version_major": 2,
              "version_minor": 0
            },
            "text/plain": [
              "HBox(children=(IntProgress(value=1, bar_style='info', max=1), HTML(value='')))"
            ]
          },
          "metadata": {
            "tags": []
          }
        },
        {
          "output_type": "display_data",
          "data": {
            "application/vnd.jupyter.widget-view+json": {
              "model_id": "0196e164e6d748f493a681c3b01f8653",
              "version_major": 2,
              "version_minor": 0
            },
            "text/plain": [
              "HBox(children=(IntProgress(value=1, bar_style='info', max=1), HTML(value='')))"
            ]
          },
          "metadata": {
            "tags": []
          }
        },
        {
          "output_type": "display_data",
          "data": {
            "application/vnd.jupyter.widget-view+json": {
              "model_id": "45bb699780814f41b2606b7529f4c75e",
              "version_major": 2,
              "version_minor": 0
            },
            "text/plain": [
              "HBox(children=(IntProgress(value=1, bar_style='info', max=1), HTML(value='')))"
            ]
          },
          "metadata": {
            "tags": []
          }
        },
        {
          "output_type": "display_data",
          "data": {
            "application/vnd.jupyter.widget-view+json": {
              "model_id": "91154b1375904666a5996098b0d8a030",
              "version_major": 2,
              "version_minor": 0
            },
            "text/plain": [
              "HBox(children=(IntProgress(value=1, bar_style='info', max=1), HTML(value='')))"
            ]
          },
          "metadata": {
            "tags": []
          }
        },
        {
          "output_type": "display_data",
          "data": {
            "application/vnd.jupyter.widget-view+json": {
              "model_id": "6475ed9cde784ac58162456ba92c7d48",
              "version_major": 2,
              "version_minor": 0
            },
            "text/plain": [
              "HBox(children=(IntProgress(value=1, bar_style='info', max=1), HTML(value='')))"
            ]
          },
          "metadata": {
            "tags": []
          }
        },
        {
          "output_type": "display_data",
          "data": {
            "application/vnd.jupyter.widget-view+json": {
              "model_id": "a1e49354e8114f91880ea4e44edf84c8",
              "version_major": 2,
              "version_minor": 0
            },
            "text/plain": [
              "HBox(children=(IntProgress(value=1, bar_style='info', max=1), HTML(value='')))"
            ]
          },
          "metadata": {
            "tags": []
          }
        },
        {
          "output_type": "stream",
          "text": [
            "\n",
            "1 loop, best of 3: 9min 48s per loop\n"
          ],
          "name": "stdout"
        }
      ]
    },
    {
      "cell_type": "code",
      "metadata": {
        "colab_type": "code",
        "id": "1MT6KcE-2rbj",
        "colab": {}
      },
      "source": [
        "import collections"
      ],
      "execution_count": 0,
      "outputs": []
    },
    {
      "cell_type": "code",
      "metadata": {
        "colab_type": "code",
        "id": "ljsfU-3bCsv2",
        "colab": {}
      },
      "source": [
        "import json\n",
        "\n",
        "colab_path = '/content/drive/My Drive/'\n",
        "with open( os.path.join(colab_path,'list_dict2.json'), 'w') as fp:\n",
        "    json.dump(list_dicts, fp)"
      ],
      "execution_count": 0,
      "outputs": []
    },
    {
      "cell_type": "code",
      "metadata": {
        "colab_type": "code",
        "id": "gKAO8S9Mbmpc",
        "colab": {}
      },
      "source": [
        "all_users = df_copy.user_le.where(df_copy.DEPART_INDEX.isin(dep_ind)).dropna().values.astype('int32')"
      ],
      "execution_count": 0,
      "outputs": []
    },
    {
      "cell_type": "code",
      "metadata": {
        "colab_type": "code",
        "id": "8zGwHX6oKisJ",
        "outputId": "b76cc422-bc0f-494a-a599-344e0a76c7f9",
        "colab": {
          "base_uri": "https://localhost:8080/",
          "height": 162
        }
      },
      "source": [
        "df_copy.query(\"user_le == 67401 & DEPART_INDEX==3277\")"
      ],
      "execution_count": 0,
      "outputs": [
        {
          "output_type": "execute_result",
          "data": {
            "text/html": [
              "<div>\n",
              "<style scoped>\n",
              "    .dataframe tbody tr th:only-of-type {\n",
              "        vertical-align: middle;\n",
              "    }\n",
              "\n",
              "    .dataframe tbody tr th {\n",
              "        vertical-align: top;\n",
              "    }\n",
              "\n",
              "    .dataframe thead th {\n",
              "        text-align: right;\n",
              "    }\n",
              "</style>\n",
              "<table border=\"1\" class=\"dataframe\">\n",
              "  <thead>\n",
              "    <tr style=\"text-align: right;\">\n",
              "      <th></th>\n",
              "      <th>orderid</th>\n",
              "      <th>userid</th>\n",
              "      <th>NDAYS_FROM_LAST</th>\n",
              "      <th>field1</th>\n",
              "      <th>MONTH_BUY</th>\n",
              "      <th>MONTH_DEPART</th>\n",
              "      <th>ORDER_OF_BUY</th>\n",
              "      <th>field5</th>\n",
              "      <th>field6</th>\n",
              "      <th>field7</th>\n",
              "      <th>field8</th>\n",
              "      <th>TICKET_CHILD_1Y</th>\n",
              "      <th>field10</th>\n",
              "      <th>HOUR_OF_BUY</th>\n",
              "      <th>field12</th>\n",
              "      <th>field13</th>\n",
              "      <th>field14</th>\n",
              "      <th>TOTAL_TICKETS</th>\n",
              "      <th>DAYS_BEFORE_DEPART</th>\n",
              "      <th>field17</th>\n",
              "      <th>DOW_BUY</th>\n",
              "      <th>field19</th>\n",
              "      <th>DOW_DEPART</th>\n",
              "      <th>YEAR</th>\n",
              "      <th>field22</th>\n",
              "      <th>HOUR_DEPART</th>\n",
              "      <th>TICKET_ADULT</th>\n",
              "      <th>field25</th>\n",
              "      <th>field26</th>\n",
              "      <th>field27</th>\n",
              "      <th>TICKET_CHILD_4Y</th>\n",
              "      <th>QUARTER</th>\n",
              "      <th>indicator_goal21</th>\n",
              "      <th>indicator_goal22</th>\n",
              "      <th>indicator_goal23</th>\n",
              "      <th>indicator_goal24</th>\n",
              "      <th>indicator_goal25</th>\n",
              "      <th>goal21</th>\n",
              "      <th>goal22</th>\n",
              "      <th>goal23</th>\n",
              "      <th>goal24</th>\n",
              "      <th>goal25</th>\n",
              "      <th>goal1</th>\n",
              "      <th>USR_CNT</th>\n",
              "      <th>INDICATOR_CNT</th>\n",
              "      <th>NDAYS_LAST_NEXT</th>\n",
              "      <th>TODAY</th>\n",
              "      <th>DIFF_HOUR_DEPART&amp;HOUR_OF_BUY</th>\n",
              "      <th>DIFF_MONTH_DEPART&amp;MONTH_OF_BUY</th>\n",
              "      <th>NUM_MONTH_BUY</th>\n",
              "      <th>NUM_MONTH_DEPART</th>\n",
              "      <th>DIFF_NUM_MONTH</th>\n",
              "      <th>DIFF_HOUR_DEPART&amp;HOUR_OF_BUY_norm</th>\n",
              "      <th>CHILD</th>\n",
              "      <th>field1_field14</th>\n",
              "      <th>user_le</th>\n",
              "      <th>DEPART_INDEX</th>\n",
              "    </tr>\n",
              "  </thead>\n",
              "  <tbody>\n",
              "    <tr>\n",
              "      <th>72219</th>\n",
              "      <td>72219</td>\n",
              "      <td>976fce59d2846df18470ebe89dacbe48fb8606f0c9c0e0...</td>\n",
              "      <td>2</td>\n",
              "      <td>0.381920</td>\n",
              "      <td>10</td>\n",
              "      <td>11</td>\n",
              "      <td>16</td>\n",
              "      <td>0</td>\n",
              "      <td>0</td>\n",
              "      <td>0</td>\n",
              "      <td>1</td>\n",
              "      <td>0</td>\n",
              "      <td>0</td>\n",
              "      <td>14</td>\n",
              "      <td>6</td>\n",
              "      <td>3</td>\n",
              "      <td>1.299621</td>\n",
              "      <td>1</td>\n",
              "      <td>3</td>\n",
              "      <td>1</td>\n",
              "      <td>1</td>\n",
              "      <td>1</td>\n",
              "      <td>4</td>\n",
              "      <td>1</td>\n",
              "      <td>6</td>\n",
              "      <td>12</td>\n",
              "      <td>1</td>\n",
              "      <td>4</td>\n",
              "      <td>3</td>\n",
              "      <td>1</td>\n",
              "      <td>0</td>\n",
              "      <td>4</td>\n",
              "      <td>1</td>\n",
              "      <td>1</td>\n",
              "      <td>0</td>\n",
              "      <td>1</td>\n",
              "      <td>1</td>\n",
              "      <td>0</td>\n",
              "      <td>0</td>\n",
              "      <td>0</td>\n",
              "      <td>0</td>\n",
              "      <td>0</td>\n",
              "      <td>0</td>\n",
              "      <td>110</td>\n",
              "      <td>0.799805</td>\n",
              "      <td>5</td>\n",
              "      <td>0</td>\n",
              "      <td>-2</td>\n",
              "      <td>1</td>\n",
              "      <td>10</td>\n",
              "      <td>11</td>\n",
              "      <td>1</td>\n",
              "      <td>-0.089051</td>\n",
              "      <td>0</td>\n",
              "      <td>226</td>\n",
              "      <td>67401</td>\n",
              "      <td>3277</td>\n",
              "    </tr>\n",
              "    <tr>\n",
              "      <th>78489</th>\n",
              "      <td>78489</td>\n",
              "      <td>976fce59d2846df18470ebe89dacbe48fb8606f0c9c0e0...</td>\n",
              "      <td>4</td>\n",
              "      <td>0.769776</td>\n",
              "      <td>11</td>\n",
              "      <td>11</td>\n",
              "      <td>30</td>\n",
              "      <td>0</td>\n",
              "      <td>0</td>\n",
              "      <td>0</td>\n",
              "      <td>1</td>\n",
              "      <td>0</td>\n",
              "      <td>0</td>\n",
              "      <td>17</td>\n",
              "      <td>6</td>\n",
              "      <td>3</td>\n",
              "      <td>1.859887</td>\n",
              "      <td>1</td>\n",
              "      <td>3</td>\n",
              "      <td>1</td>\n",
              "      <td>1</td>\n",
              "      <td>1</td>\n",
              "      <td>4</td>\n",
              "      <td>1</td>\n",
              "      <td>6</td>\n",
              "      <td>12</td>\n",
              "      <td>1</td>\n",
              "      <td>4</td>\n",
              "      <td>3</td>\n",
              "      <td>1</td>\n",
              "      <td>0</td>\n",
              "      <td>4</td>\n",
              "      <td>1</td>\n",
              "      <td>1</td>\n",
              "      <td>0</td>\n",
              "      <td>1</td>\n",
              "      <td>1</td>\n",
              "      <td>0</td>\n",
              "      <td>0</td>\n",
              "      <td>0</td>\n",
              "      <td>0</td>\n",
              "      <td>0</td>\n",
              "      <td>0</td>\n",
              "      <td>110</td>\n",
              "      <td>0.799805</td>\n",
              "      <td>7</td>\n",
              "      <td>0</td>\n",
              "      <td>-5</td>\n",
              "      <td>0</td>\n",
              "      <td>11</td>\n",
              "      <td>11</td>\n",
              "      <td>0</td>\n",
              "      <td>-0.222626</td>\n",
              "      <td>0</td>\n",
              "      <td>327</td>\n",
              "      <td>67401</td>\n",
              "      <td>3277</td>\n",
              "    </tr>\n",
              "    <tr>\n",
              "      <th>124724</th>\n",
              "      <td>124724</td>\n",
              "      <td>976fce59d2846df18470ebe89dacbe48fb8606f0c9c0e0...</td>\n",
              "      <td>0</td>\n",
              "      <td>0.071634</td>\n",
              "      <td>10</td>\n",
              "      <td>11</td>\n",
              "      <td>20</td>\n",
              "      <td>0</td>\n",
              "      <td>0</td>\n",
              "      <td>0</td>\n",
              "      <td>1</td>\n",
              "      <td>0</td>\n",
              "      <td>0</td>\n",
              "      <td>19</td>\n",
              "      <td>5</td>\n",
              "      <td>3</td>\n",
              "      <td>0.739355</td>\n",
              "      <td>1</td>\n",
              "      <td>2</td>\n",
              "      <td>1</td>\n",
              "      <td>2</td>\n",
              "      <td>1</td>\n",
              "      <td>4</td>\n",
              "      <td>1</td>\n",
              "      <td>99</td>\n",
              "      <td>12</td>\n",
              "      <td>1</td>\n",
              "      <td>22</td>\n",
              "      <td>1</td>\n",
              "      <td>1</td>\n",
              "      <td>0</td>\n",
              "      <td>4</td>\n",
              "      <td>1</td>\n",
              "      <td>1</td>\n",
              "      <td>0</td>\n",
              "      <td>0</td>\n",
              "      <td>1</td>\n",
              "      <td>0</td>\n",
              "      <td>0</td>\n",
              "      <td>0</td>\n",
              "      <td>0</td>\n",
              "      <td>0</td>\n",
              "      <td>0</td>\n",
              "      <td>110</td>\n",
              "      <td>0.600098</td>\n",
              "      <td>2</td>\n",
              "      <td>0</td>\n",
              "      <td>-7</td>\n",
              "      <td>1</td>\n",
              "      <td>10</td>\n",
              "      <td>11</td>\n",
              "      <td>1</td>\n",
              "      <td>-0.311677</td>\n",
              "      <td>0</td>\n",
              "      <td>155</td>\n",
              "      <td>67401</td>\n",
              "      <td>3277</td>\n",
              "    </tr>\n",
              "  </tbody>\n",
              "</table>\n",
              "</div>"
            ],
            "text/plain": [
              "        orderid                                             userid  \\\n",
              "72219     72219  976fce59d2846df18470ebe89dacbe48fb8606f0c9c0e0...   \n",
              "78489     78489  976fce59d2846df18470ebe89dacbe48fb8606f0c9c0e0...   \n",
              "124724   124724  976fce59d2846df18470ebe89dacbe48fb8606f0c9c0e0...   \n",
              "\n",
              "        NDAYS_FROM_LAST    field1  MONTH_BUY  MONTH_DEPART  ORDER_OF_BUY  \\\n",
              "72219                 2  0.381920         10            11            16   \n",
              "78489                 4  0.769776         11            11            30   \n",
              "124724                0  0.071634         10            11            20   \n",
              "\n",
              "        field5  field6  field7  field8  TICKET_CHILD_1Y  field10  HOUR_OF_BUY  \\\n",
              "72219        0       0       0       1                0        0           14   \n",
              "78489        0       0       0       1                0        0           17   \n",
              "124724       0       0       0       1                0        0           19   \n",
              "\n",
              "        field12  field13   field14  TOTAL_TICKETS  DAYS_BEFORE_DEPART  \\\n",
              "72219         6        3  1.299621              1                   3   \n",
              "78489         6        3  1.859887              1                   3   \n",
              "124724        5        3  0.739355              1                   2   \n",
              "\n",
              "        field17  DOW_BUY  field19  DOW_DEPART  YEAR  field22  HOUR_DEPART  \\\n",
              "72219         1        1        1           4     1        6           12   \n",
              "78489         1        1        1           4     1        6           12   \n",
              "124724        1        2        1           4     1       99           12   \n",
              "\n",
              "        TICKET_ADULT  field25  field26  field27  TICKET_CHILD_4Y  QUARTER  \\\n",
              "72219              1        4        3        1                0        4   \n",
              "78489              1        4        3        1                0        4   \n",
              "124724             1       22        1        1                0        4   \n",
              "\n",
              "        indicator_goal21  indicator_goal22  indicator_goal23  \\\n",
              "72219                  1                 1                 0   \n",
              "78489                  1                 1                 0   \n",
              "124724                 1                 1                 0   \n",
              "\n",
              "        indicator_goal24  indicator_goal25  goal21  goal22  goal23  goal24  \\\n",
              "72219                  1                 1       0       0       0       0   \n",
              "78489                  1                 1       0       0       0       0   \n",
              "124724                 0                 1       0       0       0       0   \n",
              "\n",
              "        goal25  goal1  USR_CNT  INDICATOR_CNT  NDAYS_LAST_NEXT  TODAY  \\\n",
              "72219        0      0      110       0.799805                5      0   \n",
              "78489        0      0      110       0.799805                7      0   \n",
              "124724       0      0      110       0.600098                2      0   \n",
              "\n",
              "        DIFF_HOUR_DEPART&HOUR_OF_BUY  DIFF_MONTH_DEPART&MONTH_OF_BUY  \\\n",
              "72219                             -2                               1   \n",
              "78489                             -5                               0   \n",
              "124724                            -7                               1   \n",
              "\n",
              "        NUM_MONTH_BUY  NUM_MONTH_DEPART  DIFF_NUM_MONTH  \\\n",
              "72219              10                11               1   \n",
              "78489              11                11               0   \n",
              "124724             10                11               1   \n",
              "\n",
              "        DIFF_HOUR_DEPART&HOUR_OF_BUY_norm  CHILD  field1_field14  user_le  \\\n",
              "72219                           -0.089051      0             226    67401   \n",
              "78489                           -0.222626      0             327    67401   \n",
              "124724                          -0.311677      0             155    67401   \n",
              "\n",
              "        DEPART_INDEX  \n",
              "72219           3277  \n",
              "78489           3277  \n",
              "124724          3277  "
            ]
          },
          "metadata": {
            "tags": []
          },
          "execution_count": 112
        }
      ]
    },
    {
      "cell_type": "code",
      "metadata": {
        "colab_type": "code",
        "id": "QIR41uPwdQva",
        "outputId": "4c5f8407-875e-4454-b167-d51759b88afb",
        "colab": {
          "base_uri": "https://localhost:8080/",
          "height": 34
        }
      },
      "source": [
        "c = collections.Counter(all_users)\n",
        "d = collections.defaultdict(int)\n",
        "for value in [k for k, _ in c.items() if c[k]==3 and k !=1583 ]:\n",
        "  d[value] = 3\n",
        "\n",
        "d"
      ],
      "execution_count": 0,
      "outputs": [
        {
          "output_type": "execute_result",
          "data": {
            "text/plain": [
              "defaultdict(int, {17807: 3, 43407: 3, 67401: 3})"
            ]
          },
          "metadata": {
            "tags": []
          },
          "execution_count": 96
        }
      ]
    },
    {
      "cell_type": "code",
      "metadata": {
        "colab_type": "code",
        "id": "zeQ81L6TZc9z",
        "outputId": "83a46237-632a-421f-ed24-a849ec09fe1a",
        "colab": {
          "base_uri": "https://localhost:8080/",
          "height": 34
        }
      },
      "source": [
        "c = collections.Counter(all_users)\n",
        "d = dict()\n",
        "for value in [k for k, _ in c.items() if c[k]==3 and k !=1583 ]:\n",
        "  d[value] = 3\n",
        "\n",
        "d"
      ],
      "execution_count": 0,
      "outputs": [
        {
          "output_type": "execute_result",
          "data": {
            "text/plain": [
              "{17807: 3, 43407: 3, 67401: 3}"
            ]
          },
          "metadata": {
            "tags": []
          },
          "execution_count": 108
        }
      ]
    },
    {
      "cell_type": "code",
      "metadata": {
        "colab_type": "code",
        "id": "-LTuM70MZmm-",
        "outputId": "1feeaf2f-7c05-410c-ab94-0ff11392a471",
        "colab": {
          "base_uri": "https://localhost:8080/",
          "height": 34
        }
      },
      "source": [
        "len([k for k, _ in c.items() if c[k]==3 and k !=1583 ]"
      ],
      "execution_count": 0,
      "outputs": [
        {
          "output_type": "execute_result",
          "data": {
            "text/plain": [
              "3"
            ]
          },
          "metadata": {
            "tags": []
          },
          "execution_count": 114
        }
      ]
    },
    {
      "cell_type": "code",
      "metadata": {
        "colab_type": "code",
        "id": "EX4zMLo9SY28",
        "outputId": "a5efd216-773f-459e-80f6-b287b180c81a",
        "colab": {
          "base_uri": "https://localhost:8080/",
          "height": 439
        }
      },
      "source": [
        "df_copy.loc[df_copy.field1_field14.isin(largest_users100), :]"
      ],
      "execution_count": 0,
      "outputs": [
        {
          "output_type": "execute_result",
          "data": {
            "text/html": [
              "<div>\n",
              "<style scoped>\n",
              "    .dataframe tbody tr th:only-of-type {\n",
              "        vertical-align: middle;\n",
              "    }\n",
              "\n",
              "    .dataframe tbody tr th {\n",
              "        vertical-align: top;\n",
              "    }\n",
              "\n",
              "    .dataframe thead th {\n",
              "        text-align: right;\n",
              "    }\n",
              "</style>\n",
              "<table border=\"1\" class=\"dataframe\">\n",
              "  <thead>\n",
              "    <tr style=\"text-align: right;\">\n",
              "      <th></th>\n",
              "      <th>orderid</th>\n",
              "      <th>userid</th>\n",
              "      <th>NDAYS_FROM_LAST</th>\n",
              "      <th>field1</th>\n",
              "      <th>MONTH_BUY</th>\n",
              "      <th>MONTH_DEPART</th>\n",
              "      <th>ORDER_OF_BUY</th>\n",
              "      <th>field5</th>\n",
              "      <th>field6</th>\n",
              "      <th>field7</th>\n",
              "      <th>field8</th>\n",
              "      <th>TICKET_CHILD_1Y</th>\n",
              "      <th>field10</th>\n",
              "      <th>HOUR_OF_BUY</th>\n",
              "      <th>field12</th>\n",
              "      <th>field13</th>\n",
              "      <th>field14</th>\n",
              "      <th>TOTAL_TICKETS</th>\n",
              "      <th>DAYS_BEFORE_DEPART</th>\n",
              "      <th>field17</th>\n",
              "      <th>DOW_BUY</th>\n",
              "      <th>field19</th>\n",
              "      <th>DOW_DEPART</th>\n",
              "      <th>YEAR</th>\n",
              "      <th>field22</th>\n",
              "      <th>HOUR_DEPART</th>\n",
              "      <th>TICKET_ADULT</th>\n",
              "      <th>field25</th>\n",
              "      <th>field26</th>\n",
              "      <th>field27</th>\n",
              "      <th>TICKET_CHILD_4Y</th>\n",
              "      <th>QUARTER</th>\n",
              "      <th>indicator_goal21</th>\n",
              "      <th>indicator_goal22</th>\n",
              "      <th>indicator_goal23</th>\n",
              "      <th>indicator_goal24</th>\n",
              "      <th>indicator_goal25</th>\n",
              "      <th>goal21</th>\n",
              "      <th>goal22</th>\n",
              "      <th>goal23</th>\n",
              "      <th>goal24</th>\n",
              "      <th>goal25</th>\n",
              "      <th>goal1</th>\n",
              "      <th>USR_CNT</th>\n",
              "      <th>INDICATOR_CNT</th>\n",
              "      <th>NDAYS_LAST_NEXT</th>\n",
              "      <th>TODAY</th>\n",
              "      <th>DIFF_HOUR_DEPART&amp;HOUR_OF_BUY</th>\n",
              "      <th>DIFF_MONTH_DEPART&amp;MONTH_OF_BUY</th>\n",
              "      <th>NUM_MONTH_BUY</th>\n",
              "      <th>NUM_MONTH_DEPART</th>\n",
              "      <th>DIFF_NUM_MONTH</th>\n",
              "      <th>field1_field14</th>\n",
              "      <th>DIFF_HOUR_DEPART&amp;HOUR_OF_BUY_norm</th>\n",
              "    </tr>\n",
              "  </thead>\n",
              "  <tbody>\n",
              "    <tr>\n",
              "      <th>0</th>\n",
              "      <td>0</td>\n",
              "      <td>10d654494cbe97bbb25d51ead2600679aff9e097924add...</td>\n",
              "      <td>0</td>\n",
              "      <td>-0.626508</td>\n",
              "      <td>11</td>\n",
              "      <td>12</td>\n",
              "      <td>1</td>\n",
              "      <td>1</td>\n",
              "      <td>0</td>\n",
              "      <td>1</td>\n",
              "      <td>1</td>\n",
              "      <td>0</td>\n",
              "      <td>0</td>\n",
              "      <td>9</td>\n",
              "      <td>5</td>\n",
              "      <td>20</td>\n",
              "      <td>-0.661308</td>\n",
              "      <td>1</td>\n",
              "      <td>4</td>\n",
              "      <td>1</td>\n",
              "      <td>4</td>\n",
              "      <td>1</td>\n",
              "      <td>1</td>\n",
              "      <td>1</td>\n",
              "      <td>1</td>\n",
              "      <td>15</td>\n",
              "      <td>1</td>\n",
              "      <td>1</td>\n",
              "      <td>2</td>\n",
              "      <td>1</td>\n",
              "      <td>0</td>\n",
              "      <td>4</td>\n",
              "      <td>1</td>\n",
              "      <td>1</td>\n",
              "      <td>0</td>\n",
              "      <td>1</td>\n",
              "      <td>1</td>\n",
              "      <td>0</td>\n",
              "      <td>1</td>\n",
              "      <td>0</td>\n",
              "      <td>0</td>\n",
              "      <td>0</td>\n",
              "      <td>0</td>\n",
              "      <td>1</td>\n",
              "      <td>0.799805</td>\n",
              "      <td>4</td>\n",
              "      <td>0</td>\n",
              "      <td>6</td>\n",
              "      <td>1</td>\n",
              "      <td>11</td>\n",
              "      <td>12</td>\n",
              "      <td>1</td>\n",
              "      <td>106</td>\n",
              "      <td>0.267152</td>\n",
              "    </tr>\n",
              "    <tr>\n",
              "      <th>1</th>\n",
              "      <td>1</td>\n",
              "      <td>4aafc0391f72bbcf60537aece62923baf9ce644b64ac36...</td>\n",
              "      <td>144</td>\n",
              "      <td>-0.393794</td>\n",
              "      <td>5</td>\n",
              "      <td>7</td>\n",
              "      <td>2</td>\n",
              "      <td>0</td>\n",
              "      <td>0</td>\n",
              "      <td>0</td>\n",
              "      <td>1</td>\n",
              "      <td>0</td>\n",
              "      <td>0</td>\n",
              "      <td>21</td>\n",
              "      <td>125</td>\n",
              "      <td>3</td>\n",
              "      <td>-0.101043</td>\n",
              "      <td>1</td>\n",
              "      <td>57</td>\n",
              "      <td>1</td>\n",
              "      <td>5</td>\n",
              "      <td>1</td>\n",
              "      <td>6</td>\n",
              "      <td>0</td>\n",
              "      <td>121</td>\n",
              "      <td>15</td>\n",
              "      <td>1</td>\n",
              "      <td>41</td>\n",
              "      <td>3</td>\n",
              "      <td>1</td>\n",
              "      <td>0</td>\n",
              "      <td>2</td>\n",
              "      <td>1</td>\n",
              "      <td>1</td>\n",
              "      <td>0</td>\n",
              "      <td>1</td>\n",
              "      <td>0</td>\n",
              "      <td>0</td>\n",
              "      <td>0</td>\n",
              "      <td>0</td>\n",
              "      <td>0</td>\n",
              "      <td>0</td>\n",
              "      <td>0</td>\n",
              "      <td>2</td>\n",
              "      <td>0.600098</td>\n",
              "      <td>201</td>\n",
              "      <td>0</td>\n",
              "      <td>-6</td>\n",
              "      <td>2</td>\n",
              "      <td>-7</td>\n",
              "      <td>-5</td>\n",
              "      <td>2</td>\n",
              "      <td>69</td>\n",
              "      <td>-0.267152</td>\n",
              "    </tr>\n",
              "    <tr>\n",
              "      <th>2</th>\n",
              "      <td>2</td>\n",
              "      <td>bac8ffef46348f587c8d17137ab01fb24aef21547c647d...</td>\n",
              "      <td>134</td>\n",
              "      <td>-0.548937</td>\n",
              "      <td>2</td>\n",
              "      <td>3</td>\n",
              "      <td>2</td>\n",
              "      <td>0</td>\n",
              "      <td>0</td>\n",
              "      <td>1</td>\n",
              "      <td>1</td>\n",
              "      <td>0</td>\n",
              "      <td>1</td>\n",
              "      <td>7</td>\n",
              "      <td>4</td>\n",
              "      <td>3</td>\n",
              "      <td>-0.661308</td>\n",
              "      <td>1</td>\n",
              "      <td>4</td>\n",
              "      <td>1</td>\n",
              "      <td>2</td>\n",
              "      <td>3</td>\n",
              "      <td>6</td>\n",
              "      <td>0</td>\n",
              "      <td>17</td>\n",
              "      <td>14</td>\n",
              "      <td>1</td>\n",
              "      <td>1</td>\n",
              "      <td>11</td>\n",
              "      <td>7</td>\n",
              "      <td>0</td>\n",
              "      <td>1</td>\n",
              "      <td>1</td>\n",
              "      <td>1</td>\n",
              "      <td>0</td>\n",
              "      <td>1</td>\n",
              "      <td>1</td>\n",
              "      <td>0</td>\n",
              "      <td>0</td>\n",
              "      <td>0</td>\n",
              "      <td>0</td>\n",
              "      <td>0</td>\n",
              "      <td>0</td>\n",
              "      <td>2</td>\n",
              "      <td>0.799805</td>\n",
              "      <td>138</td>\n",
              "      <td>0</td>\n",
              "      <td>7</td>\n",
              "      <td>1</td>\n",
              "      <td>-10</td>\n",
              "      <td>-9</td>\n",
              "      <td>1</td>\n",
              "      <td>95</td>\n",
              "      <td>0.311677</td>\n",
              "    </tr>\n",
              "    <tr>\n",
              "      <th>3</th>\n",
              "      <td>3</td>\n",
              "      <td>0392247b4b87674aba2c32bf2292b105771a6a376871be...</td>\n",
              "      <td>0</td>\n",
              "      <td>-0.238651</td>\n",
              "      <td>10</td>\n",
              "      <td>11</td>\n",
              "      <td>1</td>\n",
              "      <td>1</td>\n",
              "      <td>3</td>\n",
              "      <td>0</td>\n",
              "      <td>1</td>\n",
              "      <td>0</td>\n",
              "      <td>0</td>\n",
              "      <td>19</td>\n",
              "      <td>12</td>\n",
              "      <td>3</td>\n",
              "      <td>-0.521242</td>\n",
              "      <td>2</td>\n",
              "      <td>22</td>\n",
              "      <td>1</td>\n",
              "      <td>3</td>\n",
              "      <td>3</td>\n",
              "      <td>4</td>\n",
              "      <td>1</td>\n",
              "      <td>46</td>\n",
              "      <td>12</td>\n",
              "      <td>2</td>\n",
              "      <td>18</td>\n",
              "      <td>1</td>\n",
              "      <td>1</td>\n",
              "      <td>0</td>\n",
              "      <td>4</td>\n",
              "      <td>1</td>\n",
              "      <td>1</td>\n",
              "      <td>0</td>\n",
              "      <td>1</td>\n",
              "      <td>1</td>\n",
              "      <td>0</td>\n",
              "      <td>0</td>\n",
              "      <td>0</td>\n",
              "      <td>0</td>\n",
              "      <td>0</td>\n",
              "      <td>0</td>\n",
              "      <td>3</td>\n",
              "      <td>0.799805</td>\n",
              "      <td>22</td>\n",
              "      <td>0</td>\n",
              "      <td>-7</td>\n",
              "      <td>1</td>\n",
              "      <td>10</td>\n",
              "      <td>11</td>\n",
              "      <td>1</td>\n",
              "      <td>44</td>\n",
              "      <td>-0.311677</td>\n",
              "    </tr>\n",
              "    <tr>\n",
              "      <th>4</th>\n",
              "      <td>4</td>\n",
              "      <td>d1aeefef311bbeb4bd84876c8d49421f276674527d5578...</td>\n",
              "      <td>0</td>\n",
              "      <td>-0.704079</td>\n",
              "      <td>8</td>\n",
              "      <td>11</td>\n",
              "      <td>1</td>\n",
              "      <td>1</td>\n",
              "      <td>0</td>\n",
              "      <td>1</td>\n",
              "      <td>1</td>\n",
              "      <td>0</td>\n",
              "      <td>1</td>\n",
              "      <td>16</td>\n",
              "      <td>4</td>\n",
              "      <td>3</td>\n",
              "      <td>-0.801375</td>\n",
              "      <td>1</td>\n",
              "      <td>100</td>\n",
              "      <td>1</td>\n",
              "      <td>6</td>\n",
              "      <td>1</td>\n",
              "      <td>1</td>\n",
              "      <td>1</td>\n",
              "      <td>17</td>\n",
              "      <td>22</td>\n",
              "      <td>1</td>\n",
              "      <td>1</td>\n",
              "      <td>1</td>\n",
              "      <td>1</td>\n",
              "      <td>0</td>\n",
              "      <td>3</td>\n",
              "      <td>1</td>\n",
              "      <td>1</td>\n",
              "      <td>0</td>\n",
              "      <td>0</td>\n",
              "      <td>1</td>\n",
              "      <td>0</td>\n",
              "      <td>0</td>\n",
              "      <td>0</td>\n",
              "      <td>0</td>\n",
              "      <td>0</td>\n",
              "      <td>0</td>\n",
              "      <td>1</td>\n",
              "      <td>0.600098</td>\n",
              "      <td>100</td>\n",
              "      <td>0</td>\n",
              "      <td>6</td>\n",
              "      <td>3</td>\n",
              "      <td>8</td>\n",
              "      <td>11</td>\n",
              "      <td>3</td>\n",
              "      <td>118</td>\n",
              "      <td>0.267152</td>\n",
              "    </tr>\n",
              "    <tr>\n",
              "      <th>...</th>\n",
              "      <td>...</td>\n",
              "      <td>...</td>\n",
              "      <td>...</td>\n",
              "      <td>...</td>\n",
              "      <td>...</td>\n",
              "      <td>...</td>\n",
              "      <td>...</td>\n",
              "      <td>...</td>\n",
              "      <td>...</td>\n",
              "      <td>...</td>\n",
              "      <td>...</td>\n",
              "      <td>...</td>\n",
              "      <td>...</td>\n",
              "      <td>...</td>\n",
              "      <td>...</td>\n",
              "      <td>...</td>\n",
              "      <td>...</td>\n",
              "      <td>...</td>\n",
              "      <td>...</td>\n",
              "      <td>...</td>\n",
              "      <td>...</td>\n",
              "      <td>...</td>\n",
              "      <td>...</td>\n",
              "      <td>...</td>\n",
              "      <td>...</td>\n",
              "      <td>...</td>\n",
              "      <td>...</td>\n",
              "      <td>...</td>\n",
              "      <td>...</td>\n",
              "      <td>...</td>\n",
              "      <td>...</td>\n",
              "      <td>...</td>\n",
              "      <td>...</td>\n",
              "      <td>...</td>\n",
              "      <td>...</td>\n",
              "      <td>...</td>\n",
              "      <td>...</td>\n",
              "      <td>...</td>\n",
              "      <td>...</td>\n",
              "      <td>...</td>\n",
              "      <td>...</td>\n",
              "      <td>...</td>\n",
              "      <td>...</td>\n",
              "      <td>...</td>\n",
              "      <td>...</td>\n",
              "      <td>...</td>\n",
              "      <td>...</td>\n",
              "      <td>...</td>\n",
              "      <td>...</td>\n",
              "      <td>...</td>\n",
              "      <td>...</td>\n",
              "      <td>...</td>\n",
              "      <td>...</td>\n",
              "      <td>...</td>\n",
              "    </tr>\n",
              "    <tr>\n",
              "      <th>196050</th>\n",
              "      <td>196050</td>\n",
              "      <td>1516f11203426985c1a03f3c98569c31340f020b945e85...</td>\n",
              "      <td>0</td>\n",
              "      <td>-0.083509</td>\n",
              "      <td>6</td>\n",
              "      <td>6</td>\n",
              "      <td>1</td>\n",
              "      <td>1</td>\n",
              "      <td>0</td>\n",
              "      <td>1</td>\n",
              "      <td>1</td>\n",
              "      <td>0</td>\n",
              "      <td>0</td>\n",
              "      <td>19</td>\n",
              "      <td>18</td>\n",
              "      <td>3</td>\n",
              "      <td>0.459223</td>\n",
              "      <td>1</td>\n",
              "      <td>10</td>\n",
              "      <td>1</td>\n",
              "      <td>1</td>\n",
              "      <td>2</td>\n",
              "      <td>4</td>\n",
              "      <td>1</td>\n",
              "      <td>48</td>\n",
              "      <td>20</td>\n",
              "      <td>1</td>\n",
              "      <td>1</td>\n",
              "      <td>3</td>\n",
              "      <td>1</td>\n",
              "      <td>0</td>\n",
              "      <td>2</td>\n",
              "      <td>1</td>\n",
              "      <td>1</td>\n",
              "      <td>0</td>\n",
              "      <td>1</td>\n",
              "      <td>1</td>\n",
              "      <td>0</td>\n",
              "      <td>0</td>\n",
              "      <td>0</td>\n",
              "      <td>0</td>\n",
              "      <td>0</td>\n",
              "      <td>0</td>\n",
              "      <td>1</td>\n",
              "      <td>0.799805</td>\n",
              "      <td>10</td>\n",
              "      <td>0</td>\n",
              "      <td>1</td>\n",
              "      <td>0</td>\n",
              "      <td>6</td>\n",
              "      <td>6</td>\n",
              "      <td>0</td>\n",
              "      <td>24</td>\n",
              "      <td>0.044525</td>\n",
              "    </tr>\n",
              "    <tr>\n",
              "      <th>196051</th>\n",
              "      <td>196051</td>\n",
              "      <td>e33b0b1abb0038261ea9fb5213b9aad000a7686edab9e4...</td>\n",
              "      <td>30</td>\n",
              "      <td>-0.083509</td>\n",
              "      <td>7</td>\n",
              "      <td>7</td>\n",
              "      <td>2</td>\n",
              "      <td>0</td>\n",
              "      <td>0</td>\n",
              "      <td>0</td>\n",
              "      <td>1</td>\n",
              "      <td>0</td>\n",
              "      <td>1</td>\n",
              "      <td>0</td>\n",
              "      <td>91</td>\n",
              "      <td>511</td>\n",
              "      <td>0.459223</td>\n",
              "      <td>1</td>\n",
              "      <td>4</td>\n",
              "      <td>33</td>\n",
              "      <td>7</td>\n",
              "      <td>2</td>\n",
              "      <td>3</td>\n",
              "      <td>1</td>\n",
              "      <td>1</td>\n",
              "      <td>17</td>\n",
              "      <td>1</td>\n",
              "      <td>1</td>\n",
              "      <td>3</td>\n",
              "      <td>1</td>\n",
              "      <td>0</td>\n",
              "      <td>3</td>\n",
              "      <td>1</td>\n",
              "      <td>1</td>\n",
              "      <td>0</td>\n",
              "      <td>1</td>\n",
              "      <td>0</td>\n",
              "      <td>0</td>\n",
              "      <td>0</td>\n",
              "      <td>0</td>\n",
              "      <td>0</td>\n",
              "      <td>0</td>\n",
              "      <td>0</td>\n",
              "      <td>4</td>\n",
              "      <td>0.600098</td>\n",
              "      <td>34</td>\n",
              "      <td>0</td>\n",
              "      <td>17</td>\n",
              "      <td>0</td>\n",
              "      <td>7</td>\n",
              "      <td>7</td>\n",
              "      <td>0</td>\n",
              "      <td>24</td>\n",
              "      <td>0.756930</td>\n",
              "    </tr>\n",
              "    <tr>\n",
              "      <th>196052</th>\n",
              "      <td>196052</td>\n",
              "      <td>ed64c2d35a57e9e8e8e5bc84f3addf5552e1691a52a75d...</td>\n",
              "      <td>104</td>\n",
              "      <td>-0.548937</td>\n",
              "      <td>11</td>\n",
              "      <td>11</td>\n",
              "      <td>2</td>\n",
              "      <td>0</td>\n",
              "      <td>0</td>\n",
              "      <td>1</td>\n",
              "      <td>1</td>\n",
              "      <td>0</td>\n",
              "      <td>0</td>\n",
              "      <td>8</td>\n",
              "      <td>5</td>\n",
              "      <td>16</td>\n",
              "      <td>-0.521242</td>\n",
              "      <td>1</td>\n",
              "      <td>0</td>\n",
              "      <td>1</td>\n",
              "      <td>5</td>\n",
              "      <td>2</td>\n",
              "      <td>5</td>\n",
              "      <td>1</td>\n",
              "      <td>1</td>\n",
              "      <td>23</td>\n",
              "      <td>1</td>\n",
              "      <td>1</td>\n",
              "      <td>12</td>\n",
              "      <td>3</td>\n",
              "      <td>0</td>\n",
              "      <td>4</td>\n",
              "      <td>1</td>\n",
              "      <td>1</td>\n",
              "      <td>0</td>\n",
              "      <td>0</td>\n",
              "      <td>0</td>\n",
              "      <td>0</td>\n",
              "      <td>0</td>\n",
              "      <td>0</td>\n",
              "      <td>0</td>\n",
              "      <td>0</td>\n",
              "      <td>0</td>\n",
              "      <td>2</td>\n",
              "      <td>0.399902</td>\n",
              "      <td>104</td>\n",
              "      <td>1</td>\n",
              "      <td>15</td>\n",
              "      <td>0</td>\n",
              "      <td>11</td>\n",
              "      <td>11</td>\n",
              "      <td>0</td>\n",
              "      <td>94</td>\n",
              "      <td>0.667879</td>\n",
              "    </tr>\n",
              "    <tr>\n",
              "      <th>196054</th>\n",
              "      <td>196054</td>\n",
              "      <td>ddd567f873d77e2118458a4d4bf51643c95df4bbad7dba...</td>\n",
              "      <td>0</td>\n",
              "      <td>-0.704079</td>\n",
              "      <td>11</td>\n",
              "      <td>1</td>\n",
              "      <td>1</td>\n",
              "      <td>1</td>\n",
              "      <td>0</td>\n",
              "      <td>1</td>\n",
              "      <td>1</td>\n",
              "      <td>0</td>\n",
              "      <td>0</td>\n",
              "      <td>23</td>\n",
              "      <td>12</td>\n",
              "      <td>3</td>\n",
              "      <td>-0.801375</td>\n",
              "      <td>2</td>\n",
              "      <td>53</td>\n",
              "      <td>1</td>\n",
              "      <td>6</td>\n",
              "      <td>2</td>\n",
              "      <td>3</td>\n",
              "      <td>1</td>\n",
              "      <td>51</td>\n",
              "      <td>23</td>\n",
              "      <td>2</td>\n",
              "      <td>1</td>\n",
              "      <td>1</td>\n",
              "      <td>1</td>\n",
              "      <td>0</td>\n",
              "      <td>4</td>\n",
              "      <td>1</td>\n",
              "      <td>1</td>\n",
              "      <td>0</td>\n",
              "      <td>1</td>\n",
              "      <td>1</td>\n",
              "      <td>0</td>\n",
              "      <td>0</td>\n",
              "      <td>0</td>\n",
              "      <td>0</td>\n",
              "      <td>0</td>\n",
              "      <td>0</td>\n",
              "      <td>3</td>\n",
              "      <td>0.799805</td>\n",
              "      <td>53</td>\n",
              "      <td>0</td>\n",
              "      <td>0</td>\n",
              "      <td>-10</td>\n",
              "      <td>11</td>\n",
              "      <td>1</td>\n",
              "      <td>-10</td>\n",
              "      <td>118</td>\n",
              "      <td>0.000000</td>\n",
              "    </tr>\n",
              "    <tr>\n",
              "      <th>196055</th>\n",
              "      <td>196055</td>\n",
              "      <td>cbdabaacfbcc1bae6a29e2ed7b2a64a84f95c5459cb908...</td>\n",
              "      <td>0</td>\n",
              "      <td>-0.005937</td>\n",
              "      <td>8</td>\n",
              "      <td>10</td>\n",
              "      <td>1</td>\n",
              "      <td>1</td>\n",
              "      <td>2</td>\n",
              "      <td>1</td>\n",
              "      <td>1</td>\n",
              "      <td>0</td>\n",
              "      <td>1</td>\n",
              "      <td>19</td>\n",
              "      <td>8</td>\n",
              "      <td>23</td>\n",
              "      <td>-0.661308</td>\n",
              "      <td>4</td>\n",
              "      <td>61</td>\n",
              "      <td>1</td>\n",
              "      <td>7</td>\n",
              "      <td>3</td>\n",
              "      <td>5</td>\n",
              "      <td>1</td>\n",
              "      <td>1</td>\n",
              "      <td>19</td>\n",
              "      <td>4</td>\n",
              "      <td>1</td>\n",
              "      <td>1</td>\n",
              "      <td>1</td>\n",
              "      <td>0</td>\n",
              "      <td>3</td>\n",
              "      <td>1</td>\n",
              "      <td>1</td>\n",
              "      <td>1</td>\n",
              "      <td>1</td>\n",
              "      <td>1</td>\n",
              "      <td>0</td>\n",
              "      <td>0</td>\n",
              "      <td>0</td>\n",
              "      <td>0</td>\n",
              "      <td>0</td>\n",
              "      <td>0</td>\n",
              "      <td>2</td>\n",
              "      <td>1.000000</td>\n",
              "      <td>61</td>\n",
              "      <td>0</td>\n",
              "      <td>0</td>\n",
              "      <td>2</td>\n",
              "      <td>8</td>\n",
              "      <td>10</td>\n",
              "      <td>2</td>\n",
              "      <td>4</td>\n",
              "      <td>0.000000</td>\n",
              "    </tr>\n",
              "  </tbody>\n",
              "</table>\n",
              "<p>167327 rows × 54 columns</p>\n",
              "</div>"
            ],
            "text/plain": [
              "        orderid                                             userid  \\\n",
              "0             0  10d654494cbe97bbb25d51ead2600679aff9e097924add...   \n",
              "1             1  4aafc0391f72bbcf60537aece62923baf9ce644b64ac36...   \n",
              "2             2  bac8ffef46348f587c8d17137ab01fb24aef21547c647d...   \n",
              "3             3  0392247b4b87674aba2c32bf2292b105771a6a376871be...   \n",
              "4             4  d1aeefef311bbeb4bd84876c8d49421f276674527d5578...   \n",
              "...         ...                                                ...   \n",
              "196050   196050  1516f11203426985c1a03f3c98569c31340f020b945e85...   \n",
              "196051   196051  e33b0b1abb0038261ea9fb5213b9aad000a7686edab9e4...   \n",
              "196052   196052  ed64c2d35a57e9e8e8e5bc84f3addf5552e1691a52a75d...   \n",
              "196054   196054  ddd567f873d77e2118458a4d4bf51643c95df4bbad7dba...   \n",
              "196055   196055  cbdabaacfbcc1bae6a29e2ed7b2a64a84f95c5459cb908...   \n",
              "\n",
              "        NDAYS_FROM_LAST    field1  MONTH_BUY  MONTH_DEPART  ORDER_OF_BUY  \\\n",
              "0                     0 -0.626508         11            12             1   \n",
              "1                   144 -0.393794          5             7             2   \n",
              "2                   134 -0.548937          2             3             2   \n",
              "3                     0 -0.238651         10            11             1   \n",
              "4                     0 -0.704079          8            11             1   \n",
              "...                 ...       ...        ...           ...           ...   \n",
              "196050                0 -0.083509          6             6             1   \n",
              "196051               30 -0.083509          7             7             2   \n",
              "196052              104 -0.548937         11            11             2   \n",
              "196054                0 -0.704079         11             1             1   \n",
              "196055                0 -0.005937          8            10             1   \n",
              "\n",
              "        field5  field6  field7  field8  TICKET_CHILD_1Y  field10  HOUR_OF_BUY  \\\n",
              "0            1       0       1       1                0        0            9   \n",
              "1            0       0       0       1                0        0           21   \n",
              "2            0       0       1       1                0        1            7   \n",
              "3            1       3       0       1                0        0           19   \n",
              "4            1       0       1       1                0        1           16   \n",
              "...        ...     ...     ...     ...              ...      ...          ...   \n",
              "196050       1       0       1       1                0        0           19   \n",
              "196051       0       0       0       1                0        1            0   \n",
              "196052       0       0       1       1                0        0            8   \n",
              "196054       1       0       1       1                0        0           23   \n",
              "196055       1       2       1       1                0        1           19   \n",
              "\n",
              "        field12  field13   field14  TOTAL_TICKETS  DAYS_BEFORE_DEPART  \\\n",
              "0             5       20 -0.661308              1                   4   \n",
              "1           125        3 -0.101043              1                  57   \n",
              "2             4        3 -0.661308              1                   4   \n",
              "3            12        3 -0.521242              2                  22   \n",
              "4             4        3 -0.801375              1                 100   \n",
              "...         ...      ...       ...            ...                 ...   \n",
              "196050       18        3  0.459223              1                  10   \n",
              "196051       91      511  0.459223              1                   4   \n",
              "196052        5       16 -0.521242              1                   0   \n",
              "196054       12        3 -0.801375              2                  53   \n",
              "196055        8       23 -0.661308              4                  61   \n",
              "\n",
              "        field17  DOW_BUY  field19  DOW_DEPART  YEAR  field22  HOUR_DEPART  \\\n",
              "0             1        4        1           1     1        1           15   \n",
              "1             1        5        1           6     0      121           15   \n",
              "2             1        2        3           6     0       17           14   \n",
              "3             1        3        3           4     1       46           12   \n",
              "4             1        6        1           1     1       17           22   \n",
              "...         ...      ...      ...         ...   ...      ...          ...   \n",
              "196050        1        1        2           4     1       48           20   \n",
              "196051       33        7        2           3     1        1           17   \n",
              "196052        1        5        2           5     1        1           23   \n",
              "196054        1        6        2           3     1       51           23   \n",
              "196055        1        7        3           5     1        1           19   \n",
              "\n",
              "        TICKET_ADULT  field25  field26  field27  TICKET_CHILD_4Y  QUARTER  \\\n",
              "0                  1        1        2        1                0        4   \n",
              "1                  1       41        3        1                0        2   \n",
              "2                  1        1       11        7                0        1   \n",
              "3                  2       18        1        1                0        4   \n",
              "4                  1        1        1        1                0        3   \n",
              "...              ...      ...      ...      ...              ...      ...   \n",
              "196050             1        1        3        1                0        2   \n",
              "196051             1        1        3        1                0        3   \n",
              "196052             1        1       12        3                0        4   \n",
              "196054             2        1        1        1                0        4   \n",
              "196055             4        1        1        1                0        3   \n",
              "\n",
              "        indicator_goal21  indicator_goal22  indicator_goal23  \\\n",
              "0                      1                 1                 0   \n",
              "1                      1                 1                 0   \n",
              "2                      1                 1                 0   \n",
              "3                      1                 1                 0   \n",
              "4                      1                 1                 0   \n",
              "...                  ...               ...               ...   \n",
              "196050                 1                 1                 0   \n",
              "196051                 1                 1                 0   \n",
              "196052                 1                 1                 0   \n",
              "196054                 1                 1                 0   \n",
              "196055                 1                 1                 1   \n",
              "\n",
              "        indicator_goal24  indicator_goal25  goal21  goal22  goal23  goal24  \\\n",
              "0                      1                 1       0       1       0       0   \n",
              "1                      1                 0       0       0       0       0   \n",
              "2                      1                 1       0       0       0       0   \n",
              "3                      1                 1       0       0       0       0   \n",
              "4                      0                 1       0       0       0       0   \n",
              "...                  ...               ...     ...     ...     ...     ...   \n",
              "196050                 1                 1       0       0       0       0   \n",
              "196051                 1                 0       0       0       0       0   \n",
              "196052                 0                 0       0       0       0       0   \n",
              "196054                 1                 1       0       0       0       0   \n",
              "196055                 1                 1       0       0       0       0   \n",
              "\n",
              "        goal25  goal1  USR_CNT  INDICATOR_CNT  NDAYS_LAST_NEXT  TODAY  \\\n",
              "0            0      0        1       0.799805                4      0   \n",
              "1            0      0        2       0.600098              201      0   \n",
              "2            0      0        2       0.799805              138      0   \n",
              "3            0      0        3       0.799805               22      0   \n",
              "4            0      0        1       0.600098              100      0   \n",
              "...        ...    ...      ...            ...              ...    ...   \n",
              "196050       0      0        1       0.799805               10      0   \n",
              "196051       0      0        4       0.600098               34      0   \n",
              "196052       0      0        2       0.399902              104      1   \n",
              "196054       0      0        3       0.799805               53      0   \n",
              "196055       0      0        2       1.000000               61      0   \n",
              "\n",
              "        DIFF_HOUR_DEPART&HOUR_OF_BUY  DIFF_MONTH_DEPART&MONTH_OF_BUY  \\\n",
              "0                                  6                               1   \n",
              "1                                 -6                               2   \n",
              "2                                  7                               1   \n",
              "3                                 -7                               1   \n",
              "4                                  6                               3   \n",
              "...                              ...                             ...   \n",
              "196050                             1                               0   \n",
              "196051                            17                               0   \n",
              "196052                            15                               0   \n",
              "196054                             0                             -10   \n",
              "196055                             0                               2   \n",
              "\n",
              "        NUM_MONTH_BUY  NUM_MONTH_DEPART  DIFF_NUM_MONTH  field1_field14  \\\n",
              "0                  11                12               1             106   \n",
              "1                  -7                -5               2              69   \n",
              "2                 -10                -9               1              95   \n",
              "3                  10                11               1              44   \n",
              "4                   8                11               3             118   \n",
              "...               ...               ...             ...             ...   \n",
              "196050              6                 6               0              24   \n",
              "196051              7                 7               0              24   \n",
              "196052             11                11               0              94   \n",
              "196054             11                 1             -10             118   \n",
              "196055              8                10               2               4   \n",
              "\n",
              "        DIFF_HOUR_DEPART&HOUR_OF_BUY_norm  \n",
              "0                                0.267152  \n",
              "1                               -0.267152  \n",
              "2                                0.311677  \n",
              "3                               -0.311677  \n",
              "4                                0.267152  \n",
              "...                                   ...  \n",
              "196050                           0.044525  \n",
              "196051                           0.756930  \n",
              "196052                           0.667879  \n",
              "196054                           0.000000  \n",
              "196055                           0.000000  \n",
              "\n",
              "[167327 rows x 54 columns]"
            ]
          },
          "metadata": {
            "tags": []
          },
          "execution_count": 113
        }
      ]
    }
  ]
}